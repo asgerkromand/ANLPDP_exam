{
 "cells": [
  {
   "cell_type": "code",
   "execution_count": 1,
   "metadata": {},
   "outputs": [],
   "source": [
    "import numpy as np\n",
    "import pandas as pd\n",
    "import json\n",
    "import os\n",
    "import random\n",
    "import regex as re\n",
    "\n",
    "import nltk\n",
    "from nltk.corpus import stopwords\n",
    "from sklearn.feature_extraction.text import TfidfVectorizer\n",
    "from rank_bm25 import BM25Okapi\n",
    "\n",
    "import torch\n",
    "from transformers import (\n",
    "    AutoModel,\n",
    "    AutoTokenizer, \n",
    "    AutoModelForCausalLM,\n",
    "    T5ForConditionalGeneration,\n",
    "    pipeline\n",
    ")\n",
    "\n",
    "from utils.data_functions import *"
   ]
  },
  {
   "cell_type": "markdown",
   "metadata": {},
   "source": [
    "## Data"
   ]
  },
  {
   "cell_type": "code",
   "execution_count": 2,
   "metadata": {},
   "outputs": [],
   "source": [
    "# load the devset for evaluation\n",
    "devset = pd.read_csv(\"data/dev_set.csv\").astype(str)\n",
    "\n",
    "# generate the RAG list, i.e. the legal documents to be used for retrieval\n",
    "rag_list = generate_rag_list(\"data/domsdatabasen.retsinformation_newer.json\", \"data/rag_list.csv\")"
   ]
  },
  {
   "cell_type": "markdown",
   "metadata": {},
   "source": [
    "## Sparse retrieval"
   ]
  },
  {
   "cell_type": "code",
   "execution_count": 3,
   "metadata": {},
   "outputs": [
    {
     "name": "stderr",
     "output_type": "stream",
     "text": [
      "100%|██████████| 42593/42593 [00:00<00:00, 133813.61it/s]\n"
     ]
    }
   ],
   "source": [
    "# TF-IDF - get the vectorizer and tfidf matrix, then get context for each question (top 3 paragraphs)\n",
    "vectorizer, tfidf_matrix = tfidf_vectorizer(rag_list)\n",
    "devset['tfidf_context'] = devset['question'].apply(lambda x: tfidf_retrieval(x, tfidf_matrix, rag_list, vectorizer))\n",
    "\n",
    "# BM25 - get the bm25 model and the corpus, then get context for each question (top 3 paragraphs)\n",
    "bm25_model, corpus = bm25_vectorizer(rag_list)\n",
    "devset['bm25_context'] = devset['question'].apply(lambda x: bm25_retrieval(x, bm25_model, corpus))"
   ]
  },
  {
   "cell_type": "markdown",
   "metadata": {},
   "source": [
    "## Dense retrieval"
   ]
  },
  {
   "cell_type": "code",
   "execution_count": 3,
   "metadata": {},
   "outputs": [
    {
     "name": "stderr",
     "output_type": "stream",
     "text": [
      "Some weights of XLMRobertaModel were not initialized from the model checkpoint at vesteinn/DanskBERT and are newly initialized: ['roberta.pooler.dense.bias', 'roberta.pooler.dense.weight']\n",
      "You should probably TRAIN this model on a down-stream task to be able to use it for predictions and inference.\n"
     ]
    }
   ],
   "source": [
    "# load the bert tokenizer and model\n",
    "bert_tokenizer = AutoTokenizer.from_pretrained(\"vesteinn/DanskBERT\")\n",
    "bert_model = AutoModel.from_pretrained(\"vesteinn/DanskBERT\")\n",
    "\n",
    "# load embeddings\n",
    "cls_embeddings, max_embeddings, mean_embeddings = load_embeddings()\n",
    "\n",
    "# get context for each question (top 3 paragraphs)\n",
    "devset['bert_cls_context'] = devset['question'].apply(lambda x: dense_retrieval(question=x, \n",
    "                                                                                embeddings=cls_embeddings, \n",
    "                                                                                corpus=rag_list, \n",
    "                                                                                tokenizer=bert_tokenizer, \n",
    "                                                                                model=bert_model, \n",
    "                                                                                pooling='cls'))\n",
    "\n",
    "devset['bert_max_context'] = devset['question'].apply(lambda x: dense_retrieval(question=x, \n",
    "                                                                                embeddings=max_embeddings, \n",
    "                                                                                corpus=rag_list, \n",
    "                                                                                tokenizer=bert_tokenizer, \n",
    "                                                                                model=bert_model, \n",
    "                                                                                pooling='max'))\n",
    "\n",
    "devset['bert_mean_context'] = devset['question'].apply(lambda x: dense_retrieval(question=x, \n",
    "                                                                                 embeddings=mean_embeddings, \n",
    "                                                                                 corpus=rag_list, \n",
    "                                                                                 tokenizer=bert_tokenizer, \n",
    "                                                                                model=bert_model, \n",
    "                                                                                pooling='mean'))\n"
   ]
  }
 ],
 "metadata": {
  "kernelspec": {
   "display_name": "Python 3",
   "language": "python",
   "name": "python3"
  },
  "language_info": {
   "codemirror_mode": {
    "name": "ipython",
    "version": 3
   },
   "file_extension": ".py",
   "mimetype": "text/x-python",
   "name": "python",
   "nbconvert_exporter": "python",
   "pygments_lexer": "ipython3",
   "version": "3.13.1"
  }
 },
 "nbformat": 4,
 "nbformat_minor": 2
}
