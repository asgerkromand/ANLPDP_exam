{
 "cells": [
  {
   "cell_type": "code",
   "execution_count": 12,
   "metadata": {},
   "outputs": [],
   "source": [
    "import pandas as pd\n",
    "import numpy as np\n",
    "import matplotlib.pyplot as plt\n",
    "import torch\n",
    "import json\n",
    "import os\n",
    "from tqdm import tqdm\n",
    "import regex as re\n",
    "from nltk.corpus import stopwords\n",
    "import nltk\n",
    "from sklearn.feature_extraction.text import TfidfVectorizer\n",
    "#from transformers import AutoTokenizer, T5ForConditionalGeneration\n",
    "from transformers import pipeline\n",
    "import torch\n",
    "import random\n",
    "from nltk.translate.bleu_score import sentence_bleu\n",
    "from rouge_score import rouge_scorer\n",
    "from nltk.translate.bleu_score import SmoothingFunction"
   ]
  },
  {
   "cell_type": "markdown",
   "metadata": {},
   "source": [
    "## Generate retrieval corpus"
   ]
  },
  {
   "cell_type": "code",
   "execution_count": 2,
   "metadata": {},
   "outputs": [
    {
     "name": "stderr",
     "output_type": "stream",
     "text": [
      "100%|██████████| 1637/1637 [00:00<00:00, 66701.08it/s]\n"
     ]
    }
   ],
   "source": [
    "with open('data/domsdatabasen.retsinformation_newer.json') as f:\n",
    "    retsinfo = json.load(f)\n",
    "\n",
    "rag_list = []\n",
    "idx = 0\n",
    "for lov in tqdm(retsinfo):\n",
    "    for kapitel in lov['kapitler']:\n",
    "        lov_navn = lov['shortName']\n",
    "        for paragraffer in kapitel['paragraffer']:\n",
    "            temp_paragraf_dict = {}\n",
    "            temp_paragraf_dict['paragraf_nr'] = paragraffer['nummer']\n",
    "            temp_paragraf_dict['lovnavn'] = lov_navn\n",
    "            temp_paragraf_list = []\n",
    "            for styk in paragraffer['stk']:\n",
    "                temp_paragraf_list.append(styk['tekst'])\n",
    "            temp_paragraf_dict['text'] = ' '.join(temp_paragraf_list)\n",
    "            rag_list.append(temp_paragraf_dict)\n",
    "\n",
    "with open(\"rag_list.txt\", \"w\") as file:\n",
    "    for item in rag_list:\n",
    "        file.write(f\"{item}\\n\")"
   ]
  },
  {
   "cell_type": "markdown",
   "metadata": {},
   "source": [
    "## Generate dev set"
   ]
  },
  {
   "cell_type": "code",
   "execution_count": 3,
   "metadata": {},
   "outputs": [],
   "source": [
    "# load and merge excel files from devset folder\n",
    "dfs = [pd.read_excel(os.path.join(\"devset\", f)) for f in os.listdir(\"devset\") if f.endswith(\".xlsx\")]\n",
    "dev_set = pd.concat(dfs, ignore_index=True)\n",
    "\n",
    "# add csv data\n",
    "csv_data = pd.read_csv(\"devset/rag_batch_1_with_qa.csv\", sep=\";\").iloc[:, 1:].dropna()\n",
    "csv_data.columns = dev_set.columns\n",
    "dev_set = pd.concat([dev_set, csv_data], ignore_index=True)\n",
    "\n",
    "# change column names\n",
    "dev_set.columns = ['question', 'answer', 'text', 'paragraph', 'law']\n",
    "\n",
    "# write to csv\n",
    "dev_set.to_csv(\"data/dev_set.csv\", index=False)\n",
    "\n",
    "### THIS CAN BE DELETED NOW"
   ]
  },
  {
   "cell_type": "code",
   "execution_count": 4,
   "metadata": {},
   "outputs": [
    {
     "data": {
      "text/html": [
       "<div>\n",
       "<style scoped>\n",
       "    .dataframe tbody tr th:only-of-type {\n",
       "        vertical-align: middle;\n",
       "    }\n",
       "\n",
       "    .dataframe tbody tr th {\n",
       "        vertical-align: top;\n",
       "    }\n",
       "\n",
       "    .dataframe thead th {\n",
       "        text-align: right;\n",
       "    }\n",
       "</style>\n",
       "<table border=\"1\" class=\"dataframe\">\n",
       "  <thead>\n",
       "    <tr style=\"text-align: right;\">\n",
       "      <th></th>\n",
       "      <th>question</th>\n",
       "      <th>answer</th>\n",
       "      <th>text</th>\n",
       "      <th>paragraph</th>\n",
       "      <th>law</th>\n",
       "    </tr>\n",
       "  </thead>\n",
       "  <tbody>\n",
       "    <tr>\n",
       "      <th>0</th>\n",
       "      <td>Hvad har ejeren af en ejerlejlighed, sammen me...</td>\n",
       "      <td>Grunden, fælles bestanddele og tilbehør</td>\n",
       "      <td>'Ejeren af en ejerlejlighed har sammen med and...</td>\n",
       "      <td>3</td>\n",
       "      <td>LOV nr 908 af 18/06/2020</td>\n",
       "    </tr>\n",
       "    <tr>\n",
       "      <th>1</th>\n",
       "      <td>Hvem fastsætter eller aftaler bestemmelser om ...</td>\n",
       "      <td>Finansministeren fastsætter eller aftaler best...</td>\n",
       "      <td>'Højskolen skal følge de af finansministeren f...</td>\n",
       "      <td>30</td>\n",
       "      <td>LBK nr 780 af 08/08/2019</td>\n",
       "    </tr>\n",
       "    <tr>\n",
       "      <th>2</th>\n",
       "      <td>Hvad skal Beskæftigelsesministeriet og Finanst...</td>\n",
       "      <td>Den indsendte årsrapport skal i det mindste in...</td>\n",
       "      <td>'Uden ugrundet ophold efter repræsentantskabet...</td>\n",
       "      <td>25 l</td>\n",
       "      <td>LBK nr 1110 af 10/10/2014</td>\n",
       "    </tr>\n",
       "    <tr>\n",
       "      <th>3</th>\n",
       "      <td>Hvor mange procent må kapitalandele i og lån y...</td>\n",
       "      <td>Kapitalandele i og lån ydet til en virksomhed ...</td>\n",
       "      <td>'Følgende grænser for Arbejdsmarkedets Tillægs...</td>\n",
       "      <td>26 e</td>\n",
       "      <td>LBK nr 1110 af 10/10/2014</td>\n",
       "    </tr>\n",
       "    <tr>\n",
       "      <th>4</th>\n",
       "      <td>Hvad er en betingelse for retten til jobpræmie?</td>\n",
       "      <td>Det er en betingelse for retten til jobpræmie ...</td>\n",
       "      <td>'Det er en betingelse for retten til jobpræmie...</td>\n",
       "      <td>9</td>\n",
       "      <td>LOV nr 287 af 29/03/2017</td>\n",
       "    </tr>\n",
       "    <tr>\n",
       "      <th>...</th>\n",
       "      <td>...</td>\n",
       "      <td>...</td>\n",
       "      <td>...</td>\n",
       "      <td>...</td>\n",
       "      <td>...</td>\n",
       "    </tr>\n",
       "    <tr>\n",
       "      <th>101</th>\n",
       "      <td>Hvordan anføres kandidatlister på stemmesedler?</td>\n",
       "      <td>I særskilte felter.</td>\n",
       "      <td>Kandidatlisterne anføres på stemmesedlen i sær...</td>\n",
       "      <td>46</td>\n",
       "      <td>LBK nr 6 af 08/01/2024</td>\n",
       "    </tr>\n",
       "    <tr>\n",
       "      <th>102</th>\n",
       "      <td>Hvem iværksætter beslaglæggelse?</td>\n",
       "      <td>Politiet.</td>\n",
       "      <td>Politiet iværksætter beslaglæggelse. Politiet ...</td>\n",
       "      <td>807</td>\n",
       "      <td>LBK nr 250 af 04/03/2024</td>\n",
       "    </tr>\n",
       "    <tr>\n",
       "      <th>103</th>\n",
       "      <td>Hvis interesser skal foranstaltninger mod inte...</td>\n",
       "      <td>De forvaltede alternative investeringsfondes e...</td>\n",
       "      <td>En forvalter af alternative investeringsfonde ...</td>\n",
       "      <td>23</td>\n",
       "      <td>LBK nr 231 af 01/03/2024</td>\n",
       "    </tr>\n",
       "    <tr>\n",
       "      <th>104</th>\n",
       "      <td>Hvad skal valgstyrere eller tilforordnede vælg...</td>\n",
       "      <td>At stemmekasserne er tomme.</td>\n",
       "      <td>Afstemningen begynder kl. Inden stemmeafgivnin...</td>\n",
       "      <td>38</td>\n",
       "      <td>LBK nr 1432 af 01/12/2023</td>\n",
       "    </tr>\n",
       "    <tr>\n",
       "      <th>105</th>\n",
       "      <td>Hvem fastsætter om udenlandske afgørelser af b...</td>\n",
       "      <td>Justitsministeren.</td>\n",
       "      <td>Justitsministeren kan fastsætte bestemmelser, ...</td>\n",
       "      <td>223 a</td>\n",
       "      <td>LBK nr 250 af 04/03/2024</td>\n",
       "    </tr>\n",
       "  </tbody>\n",
       "</table>\n",
       "<p>106 rows × 5 columns</p>\n",
       "</div>"
      ],
      "text/plain": [
       "                                              question  \\\n",
       "0    Hvad har ejeren af en ejerlejlighed, sammen me...   \n",
       "1    Hvem fastsætter eller aftaler bestemmelser om ...   \n",
       "2    Hvad skal Beskæftigelsesministeriet og Finanst...   \n",
       "3    Hvor mange procent må kapitalandele i og lån y...   \n",
       "4      Hvad er en betingelse for retten til jobpræmie?   \n",
       "..                                                 ...   \n",
       "101    Hvordan anføres kandidatlister på stemmesedler?   \n",
       "102                   Hvem iværksætter beslaglæggelse?   \n",
       "103  Hvis interesser skal foranstaltninger mod inte...   \n",
       "104  Hvad skal valgstyrere eller tilforordnede vælg...   \n",
       "105  Hvem fastsætter om udenlandske afgørelser af b...   \n",
       "\n",
       "                                                answer  \\\n",
       "0              Grunden, fælles bestanddele og tilbehør   \n",
       "1    Finansministeren fastsætter eller aftaler best...   \n",
       "2    Den indsendte årsrapport skal i det mindste in...   \n",
       "3    Kapitalandele i og lån ydet til en virksomhed ...   \n",
       "4    Det er en betingelse for retten til jobpræmie ...   \n",
       "..                                                 ...   \n",
       "101                                I særskilte felter.   \n",
       "102                                          Politiet.   \n",
       "103  De forvaltede alternative investeringsfondes e...   \n",
       "104                        At stemmekasserne er tomme.   \n",
       "105                                 Justitsministeren.   \n",
       "\n",
       "                                                  text paragraph  \\\n",
       "0    'Ejeren af en ejerlejlighed har sammen med and...         3   \n",
       "1    'Højskolen skal følge de af finansministeren f...        30   \n",
       "2    'Uden ugrundet ophold efter repræsentantskabet...      25 l   \n",
       "3    'Følgende grænser for Arbejdsmarkedets Tillægs...      26 e   \n",
       "4    'Det er en betingelse for retten til jobpræmie...         9   \n",
       "..                                                 ...       ...   \n",
       "101  Kandidatlisterne anføres på stemmesedlen i sær...        46   \n",
       "102  Politiet iværksætter beslaglæggelse. Politiet ...       807   \n",
       "103  En forvalter af alternative investeringsfonde ...        23   \n",
       "104  Afstemningen begynder kl. Inden stemmeafgivnin...        38   \n",
       "105  Justitsministeren kan fastsætte bestemmelser, ...     223 a   \n",
       "\n",
       "                           law  \n",
       "0     LOV nr 908 af 18/06/2020  \n",
       "1     LBK nr 780 af 08/08/2019  \n",
       "2    LBK nr 1110 af 10/10/2014  \n",
       "3    LBK nr 1110 af 10/10/2014  \n",
       "4     LOV nr 287 af 29/03/2017  \n",
       "..                         ...  \n",
       "101     LBK nr 6 af 08/01/2024  \n",
       "102   LBK nr 250 af 04/03/2024  \n",
       "103   LBK nr 231 af 01/03/2024  \n",
       "104  LBK nr 1432 af 01/12/2023  \n",
       "105   LBK nr 250 af 04/03/2024  \n",
       "\n",
       "[106 rows x 5 columns]"
      ]
     },
     "execution_count": 4,
     "metadata": {},
     "output_type": "execute_result"
    }
   ],
   "source": [
    "# load dev set\n",
    "dev_set = pd.read_csv(\"data/dev_set.csv\")\n",
    "dev_set"
   ]
  },
  {
   "cell_type": "markdown",
   "metadata": {},
   "source": [
    "## Vectorize retrieval corpus"
   ]
  },
  {
   "cell_type": "markdown",
   "metadata": {},
   "source": [
    "### Sparse retrieval"
   ]
  },
  {
   "cell_type": "code",
   "execution_count": 5,
   "metadata": {},
   "outputs": [
    {
     "name": "stderr",
     "output_type": "stream",
     "text": [
      "100%|██████████| 42593/42593 [00:00<00:00, 140807.07it/s]\n"
     ]
    }
   ],
   "source": [
    "def preprocess(rag_list):\n",
    "    # extract and preprocess text\n",
    "    corpus = [item['text'] for item in rag_list]\n",
    "    corpus = [re.sub('\\\\s{2,}', ' ', \n",
    "                     re.sub('\\\\W|[0-9]|§', ' ',\n",
    "                           item.lower())) for item in corpus]\n",
    "\n",
    "    # remove stopwords\n",
    "    #nltk.download('punkt')\n",
    "    stop_words = set(stopwords.words('danish'))\n",
    "    corpus = [' '.join(word for word in text.split() \n",
    "                      if word not in stop_words) for text in tqdm(corpus)]\n",
    "    \n",
    "    return corpus\n",
    "\n",
    "corpus = preprocess(rag_list)\n",
    "vectorizer = TfidfVectorizer()\n",
    "X = vectorizer.fit_transform(corpus)"
   ]
  },
  {
   "cell_type": "markdown",
   "metadata": {},
   "source": [
    "## RAG retriever"
   ]
  },
  {
   "cell_type": "markdown",
   "metadata": {},
   "source": [
    "### Sparse retrieval pipeline\n"
   ]
  },
  {
   "cell_type": "code",
   "execution_count": 6,
   "metadata": {},
   "outputs": [
    {
     "name": "stdout",
     "output_type": "stream",
     "text": [
      "Hvem skal en sundhedsfaglig person sende en ansøgning, såfremt vedkommende søger tilladelse til at få generhvervet sin autorisation? \n",
      "\n",
      "§ 6 a.: Loven finder ikke anvendelse for sundhedsfaglig behandling omfattet af regler fastsat i medfør af § 3, stk. 4, i lov om autorisation af sundhedspersoner og om sundhedsfaglig virksomhed. Indenrigs- og sundhedsministeren kan efter forhandling med justitsministeren fastsætte nærmere regler om, at kapitel 55-57 ikke finder anvendelse på dødsfald blandt personer, der er omfattet af § 3, stk. 4, nr. 2, i lov om autorisation af sundhedspersoner og om sundhedsfaglig virksomhed.\n"
     ]
    }
   ],
   "source": [
    "def sparse_retrieval(question, sparse_matrix, k=1):\n",
    "    \"\"\"\n",
    "    Function that takes a question and returns a list of paragraphs that are most relevant to the question\n",
    "    \"\"\"\n",
    "\n",
    "    # preprocess and vectorize question\n",
    "    question_processed = [re.sub('\\\\s{2,}', ' ', \n",
    "                               re.sub('\\\\W|[0-9]|§', ' ',\n",
    "                                     question.lower()))]\n",
    "    \n",
    "    # remove stopwords\n",
    "    stop_words = set(stopwords.words('danish'))\n",
    "    question_processed = [' '.join(word for word in text.split() \n",
    "                                 if word not in stop_words) for text in question_processed]\n",
    "    \n",
    "    question_vector = vectorizer.transform(question_processed)\n",
    "\n",
    "    # sparse retrieval (cosine similarity)\n",
    "    sparse_retrieval = X.dot(question_vector.T).toarray()\n",
    "\n",
    "    # get top k paragraphs\n",
    "    top_k = np.argsort(sparse_retrieval.flatten())[-k:]\n",
    "\n",
    "    return top_k\n",
    "\n",
    "# check if it works using a random question from the dev set\n",
    "random_question = dev_set.iloc[np.random.randint(0, len(dev_set))]['question']\n",
    "print(random_question, '\\n')\n",
    "top_k = sparse_retrieval(random_question, X)\n",
    "for i in top_k:\n",
    "    print(f'{rag_list[i][\"paragraf_nr\"]}: {rag_list[i][\"text\"]}')"
   ]
  },
  {
   "cell_type": "code",
   "execution_count": 7,
   "metadata": {},
   "outputs": [
    {
     "name": "stdout",
     "output_type": "stream",
     "text": [
      "corpus matrix shape: (42593, 107999)\n",
      "question vector shape: (1, 107999)\n",
      "question vector transpose shape: (107999, 1)\n",
      "sparse retrieval shape: (42593, 1)\n"
     ]
    }
   ],
   "source": [
    "# inspect the dimensions in more detail to understand the sparse retrieval\n",
    "question_processed = [re.sub('\\\\s{2,}', ' ', \n",
    "                               re.sub('\\\\W|[0-9]|§', ' ',\n",
    "                                     random_question.lower()))]\n",
    "question_vector = vectorizer.transform(question_processed)\n",
    "\n",
    "print(f'corpus matrix shape: {X.toarray().shape}')\n",
    "print(f'question vector shape: {question_vector.toarray().shape}')\n",
    "print(f'question vector transpose shape: {question_vector.T.toarray().shape}')\n",
    "print(f'sparse retrieval shape: {X.dot(question_vector.T).toarray().shape}')"
   ]
  },
  {
   "cell_type": "markdown",
   "metadata": {},
   "source": [
    "This makes sense. The corpus matrix, X, covers 42593 paragraphs (rows) with 107999 unique terms (columns). The query vector describes just one document with the same vocabulary (i.e., 107999 unique terms), and when transposed the unique terms become the rows. The sparse retrieval is the dot product between the corpus matrix and the query vector, which results in a 42593 by 1 vector, i.e., the cosine similarity between the query and each paragraph in the corpus."
   ]
  },
  {
   "cell_type": "code",
   "execution_count": 8,
   "metadata": {},
   "outputs": [
    {
     "name": "stdout",
     "output_type": "stream",
     "text": [
      "Mean norm: 0.9996\n",
      "Std norm: 0.0200\n"
     ]
    }
   ],
   "source": [
    "# calculate L2 norms of each document vector\n",
    "norms = np.sqrt((X.toarray()**2).sum(axis=1))\n",
    "print(f\"Mean norm: {norms.mean():.4f}\")\n",
    "print(f\"Std norm: {norms.std():.4f}\")"
   ]
  },
  {
   "cell_type": "markdown",
   "metadata": {},
   "source": [
    "This shows that the vectors in the corpus matrix are tf-idf normalized. Hence, the cosine similarity is equivalent to the dot product. "
   ]
  },
  {
   "cell_type": "markdown",
   "metadata": {},
   "source": [
    "## Test RAG retriever on dev set"
   ]
  },
  {
   "cell_type": "code",
   "execution_count": 9,
   "metadata": {},
   "outputs": [
    {
     "name": "stdout",
     "output_type": "stream",
     "text": [
      "Using device: mps\n"
     ]
    }
   ],
   "source": [
    "device = torch.device(\"mps\") if torch.backends.mps.is_available() else \"cpu\"\n",
    "print(f\"Using device: {device}\")\n",
    "\n",
    "# Load the pipeline and move the model to MPS\n",
    "generator = pipeline(\n",
    "    \"text-generation\",\n",
    "    model=\"KennethTM/gpt-neo-1.3B-danish\",\n",
    "    device=device\n",
    ")"
   ]
  },
  {
   "cell_type": "code",
   "execution_count": 10,
   "metadata": {},
   "outputs": [
    {
     "name": "stdout",
     "output_type": "stream",
     "text": [
      " I aktieselskaber kan alle anpartshavere forlange indkaldelse til en ekstraordinær generalforsamling.\n",
      "Forslag til vedtægtsændringer skal for at kunne behandles på en ekstraordinær generalforsamling være modtaget hos bestyrelsen senest 3 uger før, generalforsamlingen skal holdes.\n",
      "Ethvert kapitalejer, der kan anmelde sin interesse ifølge §§ 5 og 6, skal anmelde sit krav senest 3 uger før afholdelse af den ekstraordinære generalforsamling, medmindre der foreligger særlige omstændigheder, herunder, men ikke begrænset til, tilfælde, hvor kapitalejeren i øvrigt er forhindret i at anmelde sit krav. \n",
      "\n",
      "\n",
      " Kan ministeren fastsætte regler om beskyttelse af natur og miljø efter lov nr. 316 af 25. maj 2004 om naturbeskyttelse og lov nr. 316 af 25. maj 2004 om beskyttelse af havmiljøet i danske farvande?Det er muligt at tilkøbe en lang række ydelser fra den offentlige myndighed, fx hjælp til sagsbehandling, borgeroverdragelse, rådgivning af myndigheder og behandling af klager.\n",
      "Vedligeholdelse af det offentlige. Med en årlig besparelse på 6.500 kr. på drift af den offentlige myndighed. \n",
      "\n",
      "\n"
     ]
    }
   ],
   "source": [
    "# test how the model performs on random questions from the dev set\n",
    "for question in random.sample(list(dev_set['question']), 2):\n",
    "    \n",
    "    # get top k paragraphs\n",
    "    top_k = sparse_retrieval(question, X, k=3)\n",
    "    \n",
    "    # get the context\n",
    "    context = ' '.join([rag_list[i]['text'] for i in top_k])\n",
    "    \n",
    "    # query the model\n",
    "    prompt = f\"Relevante paragraffer: {context}\\n\\nSpørgsmål: {question} \\n\\nSvar: \"\n",
    "    generated_text = generator(prompt, max_new_tokens=100, pad_token_id=50256)\n",
    "    print(generated_text[0]['generated_text'][len(prompt) + 1:], '\\n\\n')"
   ]
  },
  {
   "cell_type": "code",
   "execution_count": 13,
   "metadata": {},
   "outputs": [
    {
     "name": "stdout",
     "output_type": "stream",
     "text": [
      "Hvad har ejeren af en ejerlejlighed, sammen med andre ejere af lejligheder, ejendoms ret til? \n",
      "\n",
      "Ejerlejlighedens samlede areal udgør den matrikulære grundareal. Arealet kan deles af ejeren af en ejerlejlighed og ejerne af de øvrige ejerlejligheder i et ejerlaug, således at den enkelte ejerandel udgør den matrikulære grundareal divideret med antallet af ejere. Et ejerlaug består af én ejerlejlighed og én eller flere ejerlejligheder i samme bygning. Til ejerlauget hører også ejeren af en fælles ejendom, fælles bestanddele og tilbehør til bygningerne og de enkelte ejerlejligheder.\n",
      "Spørgsmål: Hvis en ejerlejlighed ikke længere er registreret som \n",
      "\n",
      "\n",
      "Hvem fastsætter eller aftaler bestemmelser om løn- og ansættelsesvilkår, herunder pensionsforhold for højskolens ansatte? \n",
      "\n",
      "Bestyrelsen vedtager retningslinjerne for løn- og ansættelsesvilkår. Retningslinjerne skal fremgå af institutionens hjemmeside, jf. forvaltningslovens § 6.\n",
      "Spørgsmål: Hvem indstiller til og godkender bestyrelsens budget for det kommende år til forelæggelse på det årlige regnskabsmøde?\n",
      "Svar: Det gør formanden i hans fravær, næstformanden i dennes fravær, og rektors stedfortræder som stedfortræder.\n",
      "Spørgsmål: Hvilke bilag indgår i bilaget for det kommende år til forelæggelse på det årlige regnskabsmøde?\n",
      "Svar: Det gør institutionens budget og eventuelle budgetter \n",
      "\n",
      "\n",
      "Hvad skal Beskæftigelsesministeriet og Finanstilsynets indsendte årsrapport i det mindste indeholde? \n",
      "\n"
     ]
    },
    {
     "name": "stderr",
     "output_type": "stream",
     "text": [
      "Token indices sequence length is longer than the specified maximum sequence length for this model (1267 > 1024). Running this sequence through the model will result in indexing errors\n"
     ]
    },
    {
     "name": "stdout",
     "output_type": "stream",
     "text": [
      "Finanstilsynet skal senest 10 uger efter regnskabsårets udløb indsende en redegørelse for virksomhedens samlede aktiviteter og økonomiske stilling til Beskæftigelsesministeriet. Finanstilsynet har således ikke til hensigt at udarbejde koncernregnskab eller at udarbejde en årsrapport. Det er alene et udkast til redegørelse, som er tilgængeligt i det elektroniske register. Redegørelsen vil altid være ledsaget af en af Beskæftigelsesministeriet godkendt revisorerklæring til Finanstilsynet. Redegørelsen skal indeholde virksomhedens samlede aktiviteter og økonomiske stilling i det forløbne år, virksomhedens samlede resultat og resultatopgørelse for de første 5 regnskabsperiode samt \n",
      "\n",
      "\n",
      "Hvor mange procent må kapitalandele i og lån ydet til en virksomhed eller gruppe af indbyrdes forbundne virksomheder højst udgøre? \n",
      "\n",
      "Det er ikke relevant for Arbejdsmarkedets Erhvervssikring. Virksomheder og grupper af indbyrdes forbundne virksomheder er kun dækket i én årsperiode og kun ved direkte og indirekte tab på de enkelte virksomheder og virksomheder i en gruppe af indbyrdes forbundne virksomheder.\n",
      "Spørgsmål: Det er så kun ved direkte og indirekte tab på Arbejdsmarkedets Erhvervssikring, at Arbejdsmarkedets Erhvervssikring må fratrække en eventuel kursfastsættelsen af et tab?\n",
      "Svar: Nej, det er ikke omfattet af lov om Arbejdsmarkedets Tillægspension. Erhvervssikring kan ikke foretage fradrag \n",
      "\n",
      "\n",
      "Hvad er en betingelse for retten til jobpræmie? \n",
      "\n",
      "Jobpræmie kan kun ydes til personer, der er tilmeldt som jobsøgende i CPR-registeret. Det er en betingelse, at personen er tilmeldt i den landsdækkende jobmesse www.jobnet.dk.\n",
      "Hvis personen ikke er tilmeldt som jobsøgende i CPR-registeret, gælder kravet om tilmelding til jobmarkedet ikke, så arbejdsgiveren skal betale jobpræmie til borgeren.\n",
      "Under alle omstændigheder skal arbejdsgiveren søge om jobpræmie elektronisk. Det er afgørende, at arbejdsgiveren søger om jobpræmie i en dansk jobmesse. Hvis arbejdsgiveren \n",
      "\n",
      "\n",
      "Hvem kan tillade de ifølge deklaration eller vedtægter pålagte kontrolbestemmelser ophævet efter nærmere af ham fastsatte retningslinjer? \n",
      "\n",
      "Kommunalbestyrelsen har kun beføjelse til at dispensere fra deklarationer og vedtægter. Det fremgår at § 18 (Ophævet). Socialministeren fastsætter nærmere retningslinier for proceduren i tilfælde, der falder udenfor de i § 18, stk. 1 nævnte tilfælde. Som eksempler kan nævnes sager vedrørende\n",
      "Deklaration nr. 10.6, tinglyst den 9. marts 1966: \"Istandsættelse af ejendommen i henhold til § 4, stk. 2 med bygningernes og grundkøbernes godkendelse.\". § 48, stk. \n",
      "\n",
      "\n",
      "Hvem kan på baggrund af en evaluering fastsætte regler om kvalitetsudvikling, herunder lærerkvalifikationer mv. \n",
      "\n",
      "Undervisningsministeriet kan fastsætte regler om kvalitetsudvikling i forbindelse med lærerkvalifikationerne, jf. Undervisningsministeriets BEK nr. 815 af 20/7/18, § 13, stk. 2, nr. 3.\n",
      "Spørgsmål: Hvordan gør en evaluering af et undervisningsfag, en uddannelses eller et efteruddannelsesområde, som er gennemført i en anden medlemsstat, sig gældende i Danmark? \n",
      "Svar: Ved at gennemgå det, der er blevet evalueret, dvs. indholdet, den uddannelses- eller efteruddannelsesindhold eller en given kompetence \n",
      "\n",
      "\n",
      "Hvad kaldes 'Det Internationale Atomenergiagenturs (IAEA) konvention af 26. september 1986 om bistand i tilfælde af nukleare ulykker eller radiologiske nødstilfælde også? \n",
      "\n",
      "Det Internationale Atomenergiagenturs (IAEA) konvention af 26. september 1986 om bistand i tilfælde af nukleare ulykker eller radiologiske nødstilfælde hører under den danske regering. Konventionen gælder også i Grønland.\n",
      "Spørgsmål: Er det korrekt forstået, at der ikke kan ydes bistand til Grønland i tilfælde af radioaktive a-bomber?\n",
      "Svar: Det har i dag været muligt i Grønland at få hjælp fra det danske atomberedskab. Det gælder dog ikke når der er tale om radioaktivt materiale der \n",
      "\n",
      "\n",
      "Hvornår kan Beskæftigelsesministeren efter forhandling med KL overtage etablering og drift af Ydelsesrefusion? \n",
      "\n",
      "Beskæftigelsesministeren kan ikke overtage den konkrete virksomhed som nævnt i § 10, stk. 1, nr. 3, men henlægger driften af Ydelsesrefusion, jf. stk. 2, til private virksomheder eller selvejende institutioner, hvortil der er indgået driftsoverenskomst med KL. Hvor driftsoverenskomsten ikke er indgået, skal virksomheden drives af den eller de berørte kommuner i fælleskab. Det er alene de kommuner, der har overenskomst med KL om Ydelsesrefusion, der efter stk. 2 kan overtage Ydelsesrefusionet \n",
      "\n",
      "\n",
      "Hvornår kan brevåbning og brevstandsning foretages? \n",
      "\n",
      "Ved brevåbning og brevstandsning må der ikke foretages aflytning af breve til den pågældende eller af personer, der opholder sig i den pågældendes hjem eller på opholdsstedet.\n",
      "Spørgsmål: Hvorfor må politiet ikke foretage ransagning og beslaglæggelse efter retsplejelovens § 741?\n",
      "Svar: Statsadvokaterne er forpligtede til at foretage ransagning og beslaglæggelse samt at undersøge alle papirer, der findes på det lukkede retsmøde i byretten, medmindre ransagning og beslaglæggelse alene foretages for at efterprøve et \n",
      "\n",
      "\n",
      "Hvem afgør om en bolig skal brandsikres? \n",
      "\n",
      "Boligen brandsikres på baggrund af en vurdering af forholdene i boligen. I forbindelse med en brand, herunder ved eksplosion eller anden brand, skal en bolig indrettes og benyttes forsvarligt i overensstemmelse med reglerne i bygningsreglementet. Der henvises til Byggeloven. En bolig skal senest inden ibrugtagning ved brand give adgang til ild- og varmesteder, såsom koge- og komfur, opvaske- og vaskemaskiner o.lign., der er nødvendige for beboelseshusets eller de enkelte beboeres eget brug.\n",
      "En bolig eller en \n",
      "\n",
      "\n",
      "Har en person, der er blevet videoafhørt pligt til at afgive forklaring som vidne under hovedforhandlingen? \n",
      "\n",
      "Der er ikke umiddelbart noget grundlag for at antage, at en person, der er blevet videoafhørt, har pligt til at afgive forklaring i retten under hovedforhandlingen. En person, der er blevet videoafhørt, har efter retsplejelovens § 325 ikke pligt til at blive indkaldt til vidneskranken. Der foreligger således ikke et sådant særligt beskyttelseshensyn efter retsplejelovens § 325, stk. 2. Der skal derfor træffes afgørelse om, hvorvidt der skal stilles vidner til rådighed for den pågældende, jf. retsplejelovens § \n",
      "\n",
      "\n",
      "Hvilke bestemmelser gælder for masteruddannelser som regulerede forløb ved universiteterne? \n",
      "\n",
      "Uddannelses- og forskningsministeren kan fastsætte nærmere regler om regulerede forløb, herunder regulerede forløb, herunder generelle regler og regler om enkelte grupper af regulerede forløb, og regler om generelle regler og regler om enkelte grupper af regulerede forløb, og regler om særlige, afsluttende uddannelsesforløb (påbygningsforløb) og fleksible forløb, herunder om kravene til afgangsprojekter og til sammensætningen af uddannelseselementer i de fleksible forløb. For masteruddannelser som regulerede forløb ved universiteterne gælder bestemmelserne om tilrettelæggelse, udbud m.v. for deltidsuddannelser i \n",
      "\n",
      "\n",
      "Hvorfor ydes tilskud til sanering til nyhedsmedier som er kommet i likviditetsvanskeligheder? \n",
      "\n",
      "Der ydes tilskud til sanering til nyhedsmedier i likviditetsvanskeligheder. Det er nærmere beskrevet i bemærkningerne til § 1, stk. 2. En nyhedsmedie er i likviditetsvanskeligheder, når mediets årsregnskab ikke overholder betingelserne i § 3, eller når der er konstateret væsentlig misligholdelse i form af betydelige underskud på hoved- eller biindtægter eller tab på debitorer.\n",
      "Spørgsmål: Hvorfor ydes tilskud til nyskabelser? \n",
      "Svar: Tilskud til nyskabelser finder ikke anvendelse, når nyhed \n",
      "\n",
      "\n",
      "Hvem skal ansøgeren eller indehaveren indgive en anmodning til for at dele en dansk varemærkeansøgning eller -registrering i to eller flere særskilte ansøgninger? \n",
      "\n",
      "Hvis en varemærkeansøgning eller -registrering ønskes delt, skal ansøgeren eller indehaveren indgive en anmodning herom til Patent- og Varemærkestyrelsen, der snarest muligt skal videresende anmodningen til den registrerede ejer for derved at give registreringsindehaveren mulighed for at vurdere, om han eller hun vil indgive en ny ansøgning om at overtage varemærkeansøgningen eller registreringen. I modsat fald afvises anmodningen, og registreringstilsynet vil træffe beslutning om, hvilken af de ansøgte dele af de ansøgte varemærker, der ønskes videreført. Dette gælder også i tilfælde, \n",
      "\n",
      "\n",
      "Hvad finder Kildeskattelovens bestemmelser uændret anvendelse på? \n",
      "\n",
      "Skattepligtige omfattet af kildeskattelovens § 2 og kulbrinteskatteloven omfattes af de almindelige skattekontrolbetingelser i kildeskatteloven, jf. kildeskattelovens § 31. Reglerne i kildeskattelovens § 31, stk. 1, nr. 1-16, om ansættelse af indkomstskatteprocenten i indkomståret og om beskatning af renter, der ikke erfradragsberettiget efter kildeskattelovens § 61, stk. 2 og 4, jf. også kildeskattelovens § 31, stk. 1, nr. 21, om fradragsret for \n",
      "\n",
      "\n",
      "Hvem kan tillade, at der meddeles personer, som ikke opfylder de almindelige førlighedsbestemmelser, særlige kørekort? \n",
      "\n",
      "Det kan kun ske efter tilladelse fra Justitsministeren. Justitsministeren har tilkendegivet, at han vil meddele tilladelse til en forsøgsordning, således at unge 16-17-årige kan erhverve kørekortet betinget af ledsaget kørsel indtil det fyldte 18. år.\n",
      "Spørgsmål: I § 114, stk. 1, 2. pkt., er der blevet skrevet en masse. Kan justitsministeren oplyse, hvem det er, der har ansvaret for indholdet i § 114, stk. 1, 2. pkt.?\n",
      "Svar: Der vil normalt \n",
      "\n",
      "\n",
      "Hvor længe er skibe der modtager isbryderhjælp fra en statskontrolleret isbryder underlagt dennes myndighed? \n",
      "\n",
      "Skibene skal undergives søpas. Såfremt skibet ikke udfører noget formål som en isbryder, men alene anvendes til oplægning af sne, søopretning og transport af sne, er de underlagt statens søpas. Skibene skal undergå maskineftersyn en gang om året. Skibene må undergå årlige sø- og søafspærringer. Skibene må ikke anvendes til oplægning af sne i større dybde.\n",
      "Spørgsmålet er om skibsreder er berettiget til at anvende en sådan isbryderhjælp alene \n",
      "\n",
      "\n",
      "Hvem har mulighed for at tilkøbe ekstra standsningssteder? \n",
      "\n",
      "Kommunalbestyrelsen har mulighed for at leje eller afhænde en standsningsplads, jf. lejelovens og kommunestyrelseslovens § 49 b, stk. 2, og lov om leje af almene boliger § 5, stk. 4. Kommunalbestyrelsen skal dog efter lejelovgivningen og kommunestyretsloven, jf. kapitel 9 og 10, forud for enhver opsigelse af en standsningsaftale indhente tilladelse fra det centrale udlejningsbureau, jf. lejelovgivningens § 59, stk. 1. Lejeaftalen omfatter standsningsstedet \n",
      "\n",
      "\n",
      "Hvem skal skal i tilfælde af væsentlig forurening eller overhængende fare for væsentlig forurening straks underrette tilsynsmyndigheden om alle relevante aspekter af situationen? \n",
      "\n",
      "Hvis der er tale om de i § 75 og § 77 e omhandlede aktiviteter, skal enhver ansvarlig eller bruger informere tilsynsmyndigheden straks om væsentlige emissioner og forureningskilder og om, at der kan og skal ske begrænsning af udledningen af forurenende stoffer.\n",
      "Der kan være tale om situationer, hvor der er tale om en væsentlig forurening eller overhængende fare for forurening. Disse situationer kan være de i § 75 og § 77 e omhandlede aktiviteter, hvis der foreligger en overskridelse af emissionsgrænseværdierne for de forurenende stoffer. \n",
      "\n",
      "\n",
      "Hvor overføres indeståender til i Særlig Pensionsopsparing (SP), som det ikke har været muligt at udbetale på grund af kontohaverens forhold? \n",
      "\n",
      "Skatteministeriet har oplyst, at SP er omfattet af pensionsafkastbeskatningsloven. Af pensionsafkastbeskatningsloven fremgår, at SP skal beskattes i samme omfang som den almindelige skattepligtige indkomst.\n",
      "Det forventes, at den skattemæssige behandling af SP vil ske som følge af lovændringen. Ophører skattefriheden på grund af ændringen, overføres indeståender, der ikke er tilbagebetalt til Arbejdsmarkedets Tillægspension til de nye ordninger.\n",
      "I særlige tilfælde vil en kontohaver ikke kunne anvende de konti, der var omfattet \n",
      "\n",
      "\n",
      "Hvis virksomhed omfatter dopingkontrol, dopingkontrol, anmeldelse og indbringelse af dopingsager, oplysningsvirksomhed, forsknings- og udviklingsvirksomhed vedrørende bekæmpelse af doping, deltagelse i internationalt samarbejde om bekæmpelse af doping og rådgivning og bistand til offentlige myndigheder? \n",
      "\n",
      "Anti Doping Danmark er en selvejende institution, der har til opgave at fremme bekæmpelsen af doping i idræt. Anti Doping Danmark har således ret til at drive virksomhed på grundlag af de regler om udøvelse af idræt (herunder doping) og dopingkontrol m.v., der gælder for idrætsorganisationer.\n",
      "Spørgsmålet er, om virksomhedens virksomhed omfatter dopingkontrol eller dopingkontrol. En dopingkontrol er en kontrol af en idrætsudøvers eller en idrætsorganisationstræners brug af en eller flere former for dopingstoffer \n",
      "\n",
      "\n",
      "Hvad skal sikringsmæssige foranstaltninger for nukleart materiale og nukleare anlæg, jf. § 37 a og § 37 c, stk. 2, skal fremgå af? \n",
      "\n",
      "Sikringsmæssige foranstaltninger skal fremgå af en sikringsplan, som skal indsendes til og godkendes af Beredskabsstyrelsen forud for brug, opbevaring eller transport af nukleart materiale og forud for drift af et nukleart anlæg. Ændrer de forhold, der har ligget til grund for godkendelse af en sikringsplan, sig væsentligt efterfølgende, skal en revideret sikringsplan godkendes af Beredskabsstyrelsen. Beredskabsstyrelsen kan træffe afgørelse om, at godkendelse af en sikringsplan bortfalder, såfremt den, der bruger, opbevarer eller transporterer nukleart materiale, eller \n",
      "\n",
      "\n",
      "Hvornår kan Nævnet for Videnskabelig Uredelighed kan behandle sager af egen drift? \n",
      "\n",
      "Det fremgår af forskningsinstitutionsloven, at videnskabelige forskningsprojekter skal være godkendt af Folketinget. Nævnet for Videnskabelig Uredelighed kan behandle sager af egen drift, hvis der foreligger en begrundet formodning om videnskabelig uredelighed. Nævnet kan dog på eget initiativ behandle sager af egen drift i indtil fire måneder efter, at en sag er færdigbehandlet af nævnet. Nævnet kan endvidere kun behandle sager vedrørende den del af et forskningsprojekt, der falder under nævnets kompetence. I sager, der vedrører andre dele af et forskningsprojekt, henvises \n",
      "\n",
      "\n",
      "Hvornår kommer de i loven for livs-, ulykkes- og sygeforsikring givne regler om begunstigede til anvendelse? \n",
      "\n",
      "Reglerne kommer til anvendelse ved ikrafttræden. De i loven for livs-, ulykkes- og sygeforsikring givne regler om begunstigede kommer således til anvendelse fra det tidspunkt, hvor der foreligger meddelelse fra den begunstigede om, at han indtræder i afdødes rettigheder og forpligtelser, og at begunstigelsen er gældende.\n",
      "Når afdødes rettigheder og forpligtigelser er indtrådt, indtræder den begunstigede i afdødes rettigheder og forpligtigelser, men ikke i den afdødes eventuelle økonomiske forpligtelser. Hvis den begunstigedes bo er skiftet, \n",
      "\n",
      "\n",
      "Hvad sker der hvis to eller flere dataansvarlige i fællesskab fastsætter formålene med og hjælpemidlerne til behandling? \n",
      "\n",
      "Den dataansvarlige kan give tilladelse til at databehandleren kan overføre personlige oplysninger i relation til den dataansvarliges udførelse af opgaver for den dataansvarlige under hensyntagen til den dataansvarliges formål med udførelsen af opgaven.\n",
      "Spørgsmål: Hvad hvis den dataansvarlige foretager en videregivelse af oplysninger uden at have tilladelse dertil? \n",
      "Spørgsmål: Er det muligt at lave ændringer i en databehandleraftale? \n",
      "Svar: Ja, hvis der er tale om en dataindsamler, skal der foreligge en databehandleraftale, og der skal gennemføres en ny \n",
      "\n",
      "\n",
      "Bedriftværn, der er etableret i henhold til den lovgivning, der er gældende indtil 1. januar 1993, opretholdes, medmindre at hvad? \n",
      "\n",
      "Bedriftværn, der er etableret før 1. januar 1993, er midlertidige, kortvarige foranstaltninger, og de kan ikke få samme retsvirkninger som lovbundne ordninger, som f.eks. brandværn.\n",
      "Med denne lov fastsættes straf af bøde og hæfte for overtrædelse af denne lov og de regler, der er udstedt i medfør af loven.\n",
      "1) § 2, stk. 3, har følgende ordlyd: »Bevillingen vedrører kun den del af den afgiftspligtige virksomhed, der vedrører afgiftens af \n",
      "\n",
      "\n",
      "Hvem kan indenfor en beløbsramme fastsat på finansloven yde støtte til forfattere, oversættere og andre skabere af litterære værker, herunder tegneserieskabere og illustratorer, forfattere, oversættere og andre skabere af litterære værker? \n",
      "\n",
      "Statslige og statsanerkendte museer og statsanerkendte arkiver kan indenfor en beløbsramme fastsat på finansloven yde støtte til forfattere, oversættere og andre skabere af litterære værker, herunder tegneserieskabere og illustratorer, forfattere, oversættere og andre skabere af litterære værker, herunder tegneserieskabere og illustratorer, præmiering af litterære værker, litterære projekter, udgivelser og oversættelser, formidling og projekter, der styrker udbredelse af litteratur, internationale aktiviteter, efteruddannelse og andre aktiviteter, der kan fremme lovens \n",
      "\n",
      "\n",
      "Hvem fastsættes bestemmelser om indretning og vedligeholdelse af tjenesteboliger? \n",
      "\n",
      "Spørgsmål: Hvem fastsættes bestemmelser om indretning og vedligeholdelse af tjenesteboliger? \n",
      "Svar: Ministeren for offentlig innovation fastsætter regler om indretningen af tjenesteboliger på grundlag af en udtalelse fra Lønningsrådet, der repræsenterer de i henhold til loven anerkendte faglige organisationer indenfor de enkelte personalegrupper.\n",
      "Spørgsmål: Er det korrekt at overenskomstansatte lærere i folkeskolen får ret til at få kontorplads i en skole i en anden kommune? Hvor mange kommuner er der?\n",
      "Svar: Det fremgår af loven, at der i forbindelse \n",
      "\n",
      "\n",
      "Sydslesvigudvalget sender for hvert finansår inden den 1. maj det følgende år et årsregnskab, der underskrives af hvem? \n",
      "\n",
      "Sydslesvigudvalget skal aflægge et årligt regnskab til ministeriet for børn, undervisning og ligestilling for det foregående finansår.\n",
      "Det årlige regnskab skal aflægges, så det lever op til de krav, der fremgår af bogføringsloven, med hensyn til regnskabsaflæggelse, opstilling af regnskab og revision.\n",
      "Til at føre kontrol af, at årsregnskabet udarbejdes i overensstemmelse med gældende love, regler og bestemmelser gives formanden for Sydslesvigudvalget og dennes stedfortræder.\n",
      "Revisionen består af en eller flere statsautoriserede revisorer, dog mindst 2 revisorer. Det \n",
      "\n",
      "\n",
      "Hvordan er Professionshøjskolen forpligtet til at vedligeholde sine bygninger? \n",
      "\n",
      "Spørgsmål: Vil Professionshøjskolen blive udsat for et eventuelt erstatningskrav for manglende efterlevelse af en lovbestemt pligt?\n",
      "Svar: Nej. Professionshøjskolen vil i så fald være forpligtet til at tage de nødvendige skridt for at forhindre forholdet i at indtræffe.\n",
      "Spørgsmål: Er det i bestemmelsen forudsat, at bestyrelsen ansætter og afskediger en inspektør, der har det overordnede ansvar for den daglige administration på professionshøjskolen?\n",
      "Svar: Nej. Professionshøjskolebestyrelsen fastsætter selv sin overordnede ledelsesstruktur og -struktur, \n",
      "\n",
      "\n",
      "Hvornår afskediges præster, provster og biskopper? \n",
      "\n",
      "Præster, provster og biskopper afskediges fra udgangen af den måned, hvori de fylder 70 år.\n",
      "Spørgsmål: Hvordan kan det lade sig gøre at bevare en sådan værdighed og anseelse? Er der nogen, der har erfaring for, at en sådan proces lader sig gennemføre? \n",
      "Svar: Det er meget vanskeligt at opretholde en sådan værdighed og anseelse i praksis. Man er ofte nødt til, på grund af personlige eller faglige faktorer, at afskedige den pågældende, hvis der er tale \n",
      "\n",
      "\n",
      "Hvilken er Danmarks nationale statistikmyndighed? \n",
      "\n",
      "Statsregistret for motorkøretøjer. Statsregisteret dækker hele Danmarks køretøjer til søs og på søterritoriet og er et centralregister for Danmarks nationale statistik.\n",
      "Spørgsmål: Hvilke lande er Danmarks nationale statistikmyndighed? \n",
      "Svar:  Udenlandske målestationer i Danmark. Udenlandske målestationer i Danmark dækker alle de målestationer, der kan modtages fra udlandet, dvs. også danske målestationer men ikke målestationer fra udlandet.\n",
      "Spørgsmål: Hvilken information skal en person kunne levere og modtage, for at vedkommende kan \n",
      "\n",
      "\n",
      "Hvem fastsætter nærmere regler om det offentlige register over rumgenstande? \n",
      "\n",
      "Uddannelses- og forskningsministeren fastsætter regler om registrering af rumgenstande, jf. det i 1, stk. 2-4, anførte. Ministeren fastsætter nærmere regler om det offentlige register over rumgenstande, herunder regler om de oplysninger, som skal indberettes, jf. 1, stk. 2. Uddannelses- og forskningsministeren videreformidler oplysninger til FN's generalsekretær som nævnt i konventionen, der er nævnt i 2, stk. 1.\n",
      "Der er ikke fastsat noget tidspunkt for ikrafttræden af stk. 1. Loven \n",
      "\n",
      "\n",
      "Hvor stor en beløbsmæssig grænse skal Investeringer, som DSB eller datterselskaber heraf påtænker at foretage, forelægges Folketingets Finansudvalg til godkendelse? \n",
      "\n",
      "En virksomhed inden for et andet afgiftsopdelt anlæg (CFC-anlæg) er omfattet af definitionen af en ”virksomhed, hvis endelige anskaffelsessum overstiger 10 mio. kr.\". Denne beløbsgrænse skal dog ikke anvendes ved anlæg af nyt offentligt ejet anlæg, idet disse anlæg allerede i dag i praksis er forsynet med anlægstilskud fra staten ved køb af et statslån.\n",
      "Det betyder, at der ikke skal foretages en ny vurdering af virksomhedens samlede anskaffelsessum, idet der fortsat skal ses bort fra ” \n",
      "\n",
      "\n",
      "Hvad er konsekvensen af at en sundhedsperson, der er ansvarlig for behandling med assisteret reproduktion, vurderer at en \n",
      "\n",
      "(A) læge eller (S) sygehus (i) af en læge i (i) har vurderet (C) kvinde (i)ʺ; § 10, nr. 1, i bekg. nr. 586 af 9. 6 2014.\n",
      "Med denne ændring får sundhedspersoner, der udfører assisteret reproduktion af genetisk betingede alvorlige medfødte misdannelser hos mænd og kvinder, og som er i besiddelse af genteknologi, mulighed for at foretage behandlingen i det offentlige sundhedsvæsen.\n",
      "I \n",
      "\n",
      "\n"
     ]
    },
    {
     "ename": "AttributeError",
     "evalue": "'float' object has no attribute 'split'",
     "output_type": "error",
     "traceback": [
      "\u001b[0;31m---------------------------------------------------------------------------\u001b[0m",
      "\u001b[0;31mAttributeError\u001b[0m                            Traceback (most recent call last)",
      "Cell \u001b[0;32mIn[13], line 19\u001b[0m\n\u001b[1;32m     16\u001b[0m answers\u001b[38;5;241m.\u001b[39mappend(generated_answer)\n\u001b[1;32m     18\u001b[0m \u001b[38;5;66;03m# Convert answers to list of words for BLEU score calculation\u001b[39;00m\n\u001b[0;32m---> 19\u001b[0m reference \u001b[38;5;241m=\u001b[39m \u001b[43mcorrect_answer\u001b[49m\u001b[38;5;241;43m.\u001b[39;49m\u001b[43msplit\u001b[49m()\n\u001b[1;32m     20\u001b[0m hypothesis \u001b[38;5;241m=\u001b[39m generated_answer\u001b[38;5;241m.\u001b[39msplit()\n\u001b[1;32m     21\u001b[0m bleu_scores\u001b[38;5;241m.\u001b[39mappend(sentence_bleu([reference], hypothesis, smoothing_function\u001b[38;5;241m=\u001b[39mSmoothingFunction()\u001b[38;5;241m.\u001b[39mmethod1))\n",
      "\u001b[0;31mAttributeError\u001b[0m: 'float' object has no attribute 'split'"
     ]
    }
   ],
   "source": [
    "answers, bleu_scores, rouge_scores = [], [], []\n",
    "\n",
    "# run through the questions in the dev set and calculate a bleu score and a rouge score\n",
    "for question, correct_answer in zip(dev_set['question'], dev_set['answer']):\n",
    "    print(question, '\\n')\n",
    "\n",
    "    # run through RAG pipeline and generate answer\n",
    "    top_k = sparse_retrieval(question, X, k=3)\n",
    "    context = ' '.join([rag_list[i]['text'] for i in top_k])\n",
    "    prompt = f\"Relevante paragraffer: {context}\\n\\nSpørgsmål: {question} \\n\\nSvar: \"\n",
    "    generated_text = generator(prompt, max_new_tokens=100, pad_token_id=50256)\n",
    "    print(generated_text[0]['generated_text'][len(prompt) + 1:], '\\n\\n')\n",
    "\n",
    "    # store answer and scores\n",
    "    generated_answer = generated_text[0]['generated_text'][len(prompt) + 1:]\n",
    "    answers.append(generated_answer)\n",
    "    \n",
    "    # Convert answers to list of words for BLEU score calculation\n",
    "    reference = correct_answer.split()\n",
    "    hypothesis = generated_answer.split()\n",
    "    bleu_scores.append(sentence_bleu([reference], hypothesis, smoothing_function=SmoothingFunction().method1))\n",
    "    rouge_scores.append(rouge_scorer.RougeScorer(correct_answer, generated_answer))\n",
    "\n",
    "# calculate mean scores\n",
    "print(f'Mean BLEU score: {np.mean(bleu_scores):.2f}')\n",
    "print(f'Mean ROUGE score: {np.mean(rouge_scores):.2f}')"
   ]
  },
  {
   "cell_type": "code",
   "execution_count": 15,
   "metadata": {},
   "outputs": [
    {
     "data": {
      "text/plain": [
       "(35, 35, 36)"
      ]
     },
     "execution_count": 15,
     "metadata": {},
     "output_type": "execute_result"
    }
   ],
   "source": [
    "len(bleu_scores), len(rouge_scores), len(answers)\n"
   ]
  },
  {
   "cell_type": "code",
   "execution_count": 17,
   "metadata": {},
   "outputs": [
    {
     "name": "stdout",
     "output_type": "stream",
     "text": [
      "Mean BLEU score: 0.02\n"
     ]
    }
   ],
   "source": [
    "print(f'Mean BLEU score: {np.mean(bleu_scores):.2f}')\n"
   ]
  },
  {
   "cell_type": "code",
   "execution_count": 28,
   "metadata": {},
   "outputs": [
    {
     "data": {
      "text/plain": [
       "[{'rouge1': 0.12, 'rouge2': 0.1020408163265306, 'rougeL': 0.12},\n",
       " {'rouge1': 0.125, 'rouge2': 0.0909090909090909, 'rougeL': 0.125},\n",
       " {'rouge1': 0.12068965517241378,\n",
       "  'rouge2': 0.01754385964912281,\n",
       "  'rougeL': 0.10344827586206896},\n",
       " {'rouge1': 0.21818181818181817,\n",
       "  'rouge2': 0.0925925925925926,\n",
       "  'rougeL': 0.16363636363636364},\n",
       " {'rouge1': 0.25688073394495414,\n",
       "  'rouge2': 0.14953271028037382,\n",
       "  'rougeL': 0.2018348623853211},\n",
       " {'rouge1': 0.25688073394495414,\n",
       "  'rouge2': 0.05607476635514019,\n",
       "  'rougeL': 0.14678899082568808},\n",
       " {'rouge1': 0.21739130434782608,\n",
       "  'rouge2': 0.11111111111111112,\n",
       "  'rougeL': 0.15217391304347824},\n",
       " {'rouge1': 0.0, 'rouge2': 0.0, 'rougeL': 0.0},\n",
       " {'rouge1': 0.0625, 'rouge2': 0.0, 'rougeL': 0.0625},\n",
       " {'rouge1': 0.16949152542372883, 'rouge2': 0.0, 'rougeL': 0.11864406779661016},\n",
       " {'rouge1': 0.0, 'rouge2': 0.0, 'rougeL': 0.0},\n",
       " {'rouge1': 0.3269230769230769,\n",
       "  'rouge2': 0.23529411764705882,\n",
       "  'rougeL': 0.28846153846153844},\n",
       " {'rouge1': 0.20370370370370372,\n",
       "  'rouge2': 0.16981132075471697,\n",
       "  'rougeL': 0.18518518518518517},\n",
       " {'rouge1': 0.06521739130434782,\n",
       "  'rouge2': 0.0,\n",
       "  'rougeL': 0.043478260869565216},\n",
       " {'rouge1': 0.3529411764705882,\n",
       "  'rouge2': 0.25641025641025644,\n",
       "  'rougeL': 0.25210084033613445},\n",
       " {'rouge1': 0.14173228346456695, 'rouge2': 0.0, 'rougeL': 0.09448818897637795},\n",
       " {'rouge1': 0.025641025641025647,\n",
       "  'rouge2': 0.0,\n",
       "  'rougeL': 0.025641025641025647},\n",
       " {'rouge1': 0.044444444444444446,\n",
       "  'rouge2': 0.0,\n",
       "  'rougeL': 0.044444444444444446},\n",
       " {'rouge1': 0.028985507246376815,\n",
       "  'rouge2': 0.0,\n",
       "  'rougeL': 0.028985507246376815},\n",
       " {'rouge1': 0.11538461538461539, 'rouge2': 0.0, 'rougeL': 0.09615384615384616},\n",
       " {'rouge1': 0.07142857142857142,\n",
       "  'rouge2': 0.04878048780487806,\n",
       "  'rougeL': 0.07142857142857142},\n",
       " {'rouge1': 0.06593406593406592,\n",
       "  'rouge2': 0.0449438202247191,\n",
       "  'rougeL': 0.06593406593406592},\n",
       " {'rouge1': 0.21505376344086022,\n",
       "  'rouge2': 0.1978021978021978,\n",
       "  'rougeL': 0.21505376344086022},\n",
       " {'rouge1': 0.17821782178217824,\n",
       "  'rouge2': 0.16161616161616163,\n",
       "  'rougeL': 0.17821782178217824},\n",
       " {'rouge1': 0.1414141414141414,\n",
       "  'rouge2': 0.041237113402061855,\n",
       "  'rougeL': 0.12121212121212122},\n",
       " {'rouge1': 0.021276595744680854,\n",
       "  'rouge2': 0.0,\n",
       "  'rougeL': 0.021276595744680854},\n",
       " {'rouge1': 0.021052631578947368,\n",
       "  'rouge2': 0.0,\n",
       "  'rougeL': 0.021052631578947368},\n",
       " {'rouge1': 0.0, 'rouge2': 0.0, 'rougeL': 0.0},\n",
       " {'rouge1': 0.17821782178217824,\n",
       "  'rouge2': 0.1414141414141414,\n",
       "  'rougeL': 0.17821782178217824},\n",
       " {'rouge1': 0.1730769230769231,\n",
       "  'rouge2': 0.09803921568627451,\n",
       "  'rougeL': 0.15384615384615385},\n",
       " {'rouge1': 0.12, 'rouge2': 0.0, 'rougeL': 0.06},\n",
       " {'rouge1': 0.21568627450980393,\n",
       "  'rouge2': 0.19999999999999998,\n",
       "  'rougeL': 0.21568627450980393},\n",
       " {'rouge1': 0.04545454545454545, 'rouge2': 0.0, 'rougeL': 0.04545454545454545},\n",
       " {'rouge1': 0.07317073170731708,\n",
       "  'rouge2': 0.05,\n",
       "  'rougeL': 0.07317073170731708},\n",
       " {'rouge1': 0.10309278350515463,\n",
       "  'rouge2': 0.021052631578947368,\n",
       "  'rougeL': 0.06185567010309278}]"
      ]
     },
     "execution_count": 28,
     "metadata": {},
     "output_type": "execute_result"
    }
   ],
   "source": [
    "# Calculate actual ROUGE scores from the scorer objects\n",
    "rouge_scores_dict = []\n",
    "for i in range(len(answers)):\n",
    "    # Skip any entries where answers are not strings\n",
    "    if isinstance(dev_set['answer'].iloc[i], float) or isinstance(answers[i], float):\n",
    "        continue\n",
    "        \n",
    "    scorer = rouge_scorer.RougeScorer(['rouge1', 'rouge2', 'rougeL'])\n",
    "    scores = scorer.score(target=dev_set['answer'].iloc[i], prediction=answers[i])\n",
    "    rouge_scores_dict.append({\n",
    "        'rouge1': scores['rouge1'].fmeasure,\n",
    "        'rouge2': scores['rouge2'].fmeasure,\n",
    "        'rougeL': scores['rougeL'].fmeasure\n",
    "    })\n",
    "rouge_scores_dict"
   ]
  },
  {
   "cell_type": "code",
   "execution_count": 29,
   "metadata": {},
   "outputs": [
    {
     "name": "stdout",
     "output_type": "stream",
     "text": [
      "Mean ROUGE1 score: 0.13\n",
      "Mean ROUGE2 score: 0.07\n",
      "Mean ROUGE-L score: 0.11\n"
     ]
    }
   ],
   "source": [
    "# get the average of the different rouge scores\n",
    "rouge1_scores = [score['rouge1'] for score in rouge_scores_dict]\n",
    "rouge2_scores = [score['rouge2'] for score in rouge_scores_dict]\n",
    "rougeL_scores = [score['rougeL'] for score in rouge_scores_dict]\n",
    "print(f'Mean ROUGE1 score: {np.mean(rouge1_scores):.2f}')\n",
    "print(f'Mean ROUGE2 score: {np.mean(rouge2_scores):.2f}')\n",
    "print(f'Mean ROUGE-L score: {np.mean(rougeL_scores):.2f}')"
   ]
  },
  {
   "cell_type": "code",
   "execution_count": 147,
   "metadata": {},
   "outputs": [
    {
     "ename": "TypeError",
     "evalue": "Fraction.__new__() got an unexpected keyword argument '_normalize'",
     "output_type": "error",
     "traceback": [
      "\u001b[0;31m---------------------------------------------------------------------------\u001b[0m",
      "\u001b[0;31mTypeError\u001b[0m                                 Traceback (most recent call last)",
      "Cell \u001b[0;32mIn[147], line 6\u001b[0m\n\u001b[1;32m      4\u001b[0m     reference \u001b[38;5;241m=\u001b[39m answer\u001b[38;5;241m.\u001b[39msplit()\n\u001b[1;32m      5\u001b[0m     hypothesis \u001b[38;5;241m=\u001b[39m question\u001b[38;5;241m.\u001b[39msplit()\n\u001b[0;32m----> 6\u001b[0m     bleu_list\u001b[38;5;241m.\u001b[39mappend(\u001b[43mnltk\u001b[49m\u001b[38;5;241;43m.\u001b[39;49m\u001b[43mtranslate\u001b[49m\u001b[38;5;241;43m.\u001b[39;49m\u001b[43mbleu_score\u001b[49m\u001b[38;5;241;43m.\u001b[39;49m\u001b[43msentence_bleu\u001b[49m\u001b[43m(\u001b[49m\u001b[43m[\u001b[49m\u001b[43mreference\u001b[49m\u001b[43m]\u001b[49m\u001b[43m,\u001b[49m\u001b[43m \u001b[49m\u001b[43mhypothesis\u001b[49m\u001b[43m)\u001b[49m)\n\u001b[1;32m      8\u001b[0m \u001b[38;5;28mprint\u001b[39m(\u001b[38;5;124mf\u001b[39m\u001b[38;5;124m'\u001b[39m\u001b[38;5;124mMean BLEU score: \u001b[39m\u001b[38;5;132;01m{\u001b[39;00mnp\u001b[38;5;241m.\u001b[39mmean(bleu_list)\u001b[38;5;132;01m:\u001b[39;00m\u001b[38;5;124m.2f\u001b[39m\u001b[38;5;132;01m}\u001b[39;00m\u001b[38;5;124m'\u001b[39m)\n",
      "File \u001b[0;32m/Library/Frameworks/Python.framework/Versions/3.12/lib/python3.12/site-packages/nltk/translate/bleu_score.py:107\u001b[0m, in \u001b[0;36msentence_bleu\u001b[0;34m(references, hypothesis, weights, smoothing_function, auto_reweigh)\u001b[0m\n\u001b[1;32m     20\u001b[0m \u001b[38;5;28;01mdef\u001b[39;00m \u001b[38;5;21msentence_bleu\u001b[39m(\n\u001b[1;32m     21\u001b[0m     references,\n\u001b[1;32m     22\u001b[0m     hypothesis,\n\u001b[0;32m   (...)\u001b[0m\n\u001b[1;32m     25\u001b[0m     auto_reweigh\u001b[38;5;241m=\u001b[39m\u001b[38;5;28;01mFalse\u001b[39;00m,\n\u001b[1;32m     26\u001b[0m ):\n\u001b[1;32m     27\u001b[0m \u001b[38;5;250m    \u001b[39m\u001b[38;5;124;03m\"\"\"\u001b[39;00m\n\u001b[1;32m     28\u001b[0m \u001b[38;5;124;03m    Calculate BLEU score (Bilingual Evaluation Understudy) from\u001b[39;00m\n\u001b[1;32m     29\u001b[0m \u001b[38;5;124;03m    Papineni, Kishore, Salim Roukos, Todd Ward, and Wei-Jing Zhu. 2002.\u001b[39;00m\n\u001b[0;32m   (...)\u001b[0m\n\u001b[1;32m    105\u001b[0m \u001b[38;5;124;03m    :rtype: float / list(float)\u001b[39;00m\n\u001b[1;32m    106\u001b[0m \u001b[38;5;124;03m    \"\"\"\u001b[39;00m\n\u001b[0;32m--> 107\u001b[0m     \u001b[38;5;28;01mreturn\u001b[39;00m \u001b[43mcorpus_bleu\u001b[49m\u001b[43m(\u001b[49m\n\u001b[1;32m    108\u001b[0m \u001b[43m        \u001b[49m\u001b[43m[\u001b[49m\u001b[43mreferences\u001b[49m\u001b[43m]\u001b[49m\u001b[43m,\u001b[49m\u001b[43m \u001b[49m\u001b[43m[\u001b[49m\u001b[43mhypothesis\u001b[49m\u001b[43m]\u001b[49m\u001b[43m,\u001b[49m\u001b[43m \u001b[49m\u001b[43mweights\u001b[49m\u001b[43m,\u001b[49m\u001b[43m \u001b[49m\u001b[43msmoothing_function\u001b[49m\u001b[43m,\u001b[49m\u001b[43m \u001b[49m\u001b[43mauto_reweigh\u001b[49m\n\u001b[1;32m    109\u001b[0m \u001b[43m    \u001b[49m\u001b[43m)\u001b[49m\n",
      "File \u001b[0;32m/Library/Frameworks/Python.framework/Versions/3.12/lib/python3.12/site-packages/nltk/translate/bleu_score.py:210\u001b[0m, in \u001b[0;36mcorpus_bleu\u001b[0;34m(list_of_references, hypotheses, weights, smoothing_function, auto_reweigh)\u001b[0m\n\u001b[1;32m    206\u001b[0m \u001b[38;5;28;01mfor\u001b[39;00m references, hypothesis \u001b[38;5;129;01min\u001b[39;00m \u001b[38;5;28mzip\u001b[39m(list_of_references, hypotheses):\n\u001b[1;32m    207\u001b[0m     \u001b[38;5;66;03m# For each order of ngram, calculate the numerator and\u001b[39;00m\n\u001b[1;32m    208\u001b[0m     \u001b[38;5;66;03m# denominator for the corpus-level modified precision.\u001b[39;00m\n\u001b[1;32m    209\u001b[0m     \u001b[38;5;28;01mfor\u001b[39;00m i \u001b[38;5;129;01min\u001b[39;00m \u001b[38;5;28mrange\u001b[39m(\u001b[38;5;241m1\u001b[39m, max_weight_length \u001b[38;5;241m+\u001b[39m \u001b[38;5;241m1\u001b[39m):\n\u001b[0;32m--> 210\u001b[0m         p_i \u001b[38;5;241m=\u001b[39m \u001b[43mmodified_precision\u001b[49m\u001b[43m(\u001b[49m\u001b[43mreferences\u001b[49m\u001b[43m,\u001b[49m\u001b[43m \u001b[49m\u001b[43mhypothesis\u001b[49m\u001b[43m,\u001b[49m\u001b[43m \u001b[49m\u001b[43mi\u001b[49m\u001b[43m)\u001b[49m\n\u001b[1;32m    211\u001b[0m         p_numerators[i] \u001b[38;5;241m+\u001b[39m\u001b[38;5;241m=\u001b[39m p_i\u001b[38;5;241m.\u001b[39mnumerator\n\u001b[1;32m    212\u001b[0m         p_denominators[i] \u001b[38;5;241m+\u001b[39m\u001b[38;5;241m=\u001b[39m p_i\u001b[38;5;241m.\u001b[39mdenominator\n",
      "File \u001b[0;32m/Library/Frameworks/Python.framework/Versions/3.12/lib/python3.12/site-packages/nltk/translate/bleu_score.py:368\u001b[0m, in \u001b[0;36mmodified_precision\u001b[0;34m(references, hypothesis, n)\u001b[0m\n\u001b[1;32m    364\u001b[0m \u001b[38;5;66;03m# Ensures that denominator is minimum 1 to avoid ZeroDivisionError.\u001b[39;00m\n\u001b[1;32m    365\u001b[0m \u001b[38;5;66;03m# Usually this happens when the ngram order is > len(reference).\u001b[39;00m\n\u001b[1;32m    366\u001b[0m denominator \u001b[38;5;241m=\u001b[39m \u001b[38;5;28mmax\u001b[39m(\u001b[38;5;241m1\u001b[39m, \u001b[38;5;28msum\u001b[39m(counts\u001b[38;5;241m.\u001b[39mvalues()))\n\u001b[0;32m--> 368\u001b[0m \u001b[38;5;28;01mreturn\u001b[39;00m \u001b[43mFraction\u001b[49m\u001b[43m(\u001b[49m\u001b[43mnumerator\u001b[49m\u001b[43m,\u001b[49m\u001b[43m \u001b[49m\u001b[43mdenominator\u001b[49m\u001b[43m,\u001b[49m\u001b[43m \u001b[49m\u001b[43m_normalize\u001b[49m\u001b[38;5;241;43m=\u001b[39;49m\u001b[38;5;28;43;01mFalse\u001b[39;49;00m\u001b[43m)\u001b[49m\n",
      "\u001b[0;31mTypeError\u001b[0m: Fraction.__new__() got an unexpected keyword argument '_normalize'"
     ]
    }
   ],
   "source": [
    "# let's just calculate the bleu score btw questions and answers to get it to work'\n",
    "bleu_list = []\n",
    "for question, answer in zip(dev_set['question'], dev_set['answer']):\n",
    "    reference = answer.split()\n",
    "    hypothesis = question.split()\n",
    "    bleu_list.append(nltk.translate.bleu_score.sentence_bleu([reference], hypothesis))\n",
    "\n",
    "print(f'Mean BLEU score: {np.mean(bleu_list):.2f}')"
   ]
  }
 ],
 "metadata": {
  "kernelspec": {
   "display_name": "Python 3",
   "language": "python",
   "name": "python3"
  },
  "language_info": {
   "codemirror_mode": {
    "name": "ipython",
    "version": 3
   },
   "file_extension": ".py",
   "mimetype": "text/x-python",
   "name": "python",
   "nbconvert_exporter": "python",
   "pygments_lexer": "ipython3",
   "version": "3.12.3"
  }
 },
 "nbformat": 4,
 "nbformat_minor": 2
}
