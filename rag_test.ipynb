{
 "cells": [
  {
   "cell_type": "code",
   "execution_count": 30,
   "metadata": {},
   "outputs": [
    {
     "name": "stdout",
     "output_type": "stream",
     "text": [
      "The autoreload extension is already loaded. To reload it, use:\n",
      "  %reload_ext autoreload\n"
     ]
    }
   ],
   "source": [
    "# For modules loading\n",
    "%load_ext autoreload\n",
    "%autoreload 2\n",
    "\n",
    "import pandas as pd\n",
    "import numpy as np\n",
    "import matplotlib.pyplot as plt\n",
    "import torch\n",
    "import json\n",
    "from tqdm import tqdm\n",
    "import regex as re\n",
    "from nltk.corpus import stopwords\n",
    "import nltk\n",
    "from sklearn.feature_extraction.text import TfidfVectorizer\n",
    "#from transformers import AutoTokenizer, T5ForConditionalGeneration\n",
    "from transformers import AutoTokenizer, AutoModel, AutoModelForCausalLM, T5ForConditionalGeneration\n",
    "import torch\n",
    "from itertools import cycle\n",
    "import os \n",
    "from transformers import pipeline\n",
    "\n",
    "from rouge_score import rouge_scorer\n",
    "\n",
    "# For BM25\n",
    "import src.bm25_IR"
   ]
  },
  {
   "cell_type": "markdown",
   "metadata": {},
   "source": [
    "## Generate retrieval corpus"
   ]
  },
  {
   "cell_type": "code",
   "execution_count": 31,
   "metadata": {},
   "outputs": [
    {
     "name": "stderr",
     "output_type": "stream",
     "text": [
      "100%|██████████| 1637/1637 [00:00<00:00, 27802.83it/s]\n"
     ]
    }
   ],
   "source": [
    "path_adam = '/Users/adamwagnerhoegh/Documents/Legal data/domsdatabasen.retsinformation_newer.json'\n",
    "path_asger = \"/Users/asgerkromand/Library/CloudStorage/OneDrive-UniversityofCopenhagen/0. SDS/1 deep learning and nlp/ANLPDP_exam/data/domsdatabasen.retsinformation_newer.json\"\n",
    "path_andreas = '' #missing\n",
    "\n",
    "# Define a function that can cycle through paths the above paths try them out, and yield the path\n",
    "def path():\n",
    "    paths = cycle([path_adam, path_asger, path_andreas])\n",
    "    for path in paths:\n",
    "        if path != '':\n",
    "            try:\n",
    "                with open(path, 'r') as f:\n",
    "                    data = json.load(f)\n",
    "                return data\n",
    "            except:\n",
    "                pass\n",
    "        else:\n",
    "            raise FileNotFoundError('No path to data found')\n",
    "\n",
    "retsinfo = path()\n",
    "    \n",
    "rag_list = []\n",
    "idx = 0\n",
    "for lov in tqdm(retsinfo):\n",
    "    for kapitel in lov['kapitler']:\n",
    "        lov_navn = lov['shortName']\n",
    "        for paragraffer in kapitel['paragraffer']:\n",
    "            temp_paragraf_dict = {}\n",
    "            temp_paragraf_dict['paragraf_nr'] = paragraffer['nummer']\n",
    "            temp_paragraf_dict['lovnavn'] = lov_navn\n",
    "            temp_paragraf_list = []\n",
    "            for styk in paragraffer['stk']:\n",
    "                temp_paragraf_list.append(styk['tekst'])\n",
    "            temp_paragraf_dict['text'] = ' '.join(temp_paragraf_list)\n",
    "            rag_list.append(temp_paragraf_dict)\n",
    "\n",
    "with open(\"rag_list.txt\", \"w\") as file:\n",
    "    for item in rag_list:\n",
    "        file.write(f\"{item}\\n\")"
   ]
  },
  {
   "cell_type": "markdown",
   "metadata": {},
   "source": [
    "## Generate dev set"
   ]
  },
  {
   "cell_type": "code",
   "execution_count": 32,
   "metadata": {},
   "outputs": [],
   "source": [
    "# load excel files in dev set folder\n",
    "import os\n",
    "\n",
    "dev_set_folder = \"devset\"\n",
    "\n",
    "dfs = []\n",
    "for file in os.listdir(dev_set_folder):\n",
    "    if file.endswith(\".xlsx\"):\n",
    "        df = pd.read_excel(os.path.join(dev_set_folder, file))\n",
    "        dfs.append(df)\n",
    "\n",
    "# merge all excel\n",
    "dev_set = pd.concat(dfs, ignore_index=True)\n",
    "\n",
    "# add csv\n",
    "rag_batch_1_with_qa = pd.read_csv(\"devset/rag_batch_1_with_qa.csv\", sep=\",\").iloc[:, 1:].dropna()\n",
    "rag_batch_1_with_qa.columns = dev_set.columns\n",
    "dev_set = pd.concat([dev_set, rag_batch_1_with_qa], ignore_index=True)\n",
    "\n",
    "# output dev set\n",
    "dev_set.to_csv(\"devset/dev_set.csv\", index=False)"
   ]
  },
  {
   "cell_type": "code",
   "execution_count": 33,
   "metadata": {},
   "outputs": [
    {
     "data": {
      "text/html": [
       "<div>\n",
       "<style scoped>\n",
       "    .dataframe tbody tr th:only-of-type {\n",
       "        vertical-align: middle;\n",
       "    }\n",
       "\n",
       "    .dataframe tbody tr th {\n",
       "        vertical-align: top;\n",
       "    }\n",
       "\n",
       "    .dataframe thead th {\n",
       "        text-align: right;\n",
       "    }\n",
       "</style>\n",
       "<table border=\"1\" class=\"dataframe\">\n",
       "  <thead>\n",
       "    <tr style=\"text-align: right;\">\n",
       "      <th></th>\n",
       "      <th>question, str</th>\n",
       "      <th>answer, str</th>\n",
       "      <th>text, str</th>\n",
       "      <th>pnumber, str</th>\n",
       "      <th>law number, str</th>\n",
       "    </tr>\n",
       "  </thead>\n",
       "  <tbody>\n",
       "    <tr>\n",
       "      <th>0</th>\n",
       "      <td>Hvad har ejeren af en ejerlejlighed, sammen me...</td>\n",
       "      <td>Grunden, fælles bestanddele og tilbehør.</td>\n",
       "      <td>Ejeren af en ejerlejlighed har sammen med andr...</td>\n",
       "      <td>3</td>\n",
       "      <td>LOV nr 908 af 18/06/2020</td>\n",
       "    </tr>\n",
       "    <tr>\n",
       "      <th>1</th>\n",
       "      <td>Hvem fastsætter eller aftaler bestemmelser om ...</td>\n",
       "      <td>Finansministeren fastsætter eller aftaler best...</td>\n",
       "      <td>Højskolen skal følge de af finansministeren fa...</td>\n",
       "      <td>30</td>\n",
       "      <td>LBK nr 780 af 08/08/2019</td>\n",
       "    </tr>\n",
       "    <tr>\n",
       "      <th>2</th>\n",
       "      <td>Hvad skal Beskæftigelsesministeriet og Finanst...</td>\n",
       "      <td>Den indsendte årsrapport skal i det mindste in...</td>\n",
       "      <td>Uden ugrundet ophold efter repræsentantskabets...</td>\n",
       "      <td>25 l</td>\n",
       "      <td>LBK nr 1110 af 10/10/2014</td>\n",
       "    </tr>\n",
       "    <tr>\n",
       "      <th>3</th>\n",
       "      <td>Hvor mange procent må kapitalandele i og lån y...</td>\n",
       "      <td>Kapitalandele i og lån ydet til en virksomhed ...</td>\n",
       "      <td>Følgende grænser for Arbejdsmarkedets Tillægsp...</td>\n",
       "      <td>26 e</td>\n",
       "      <td>LBK nr 1110 af 10/10/2014</td>\n",
       "    </tr>\n",
       "    <tr>\n",
       "      <th>4</th>\n",
       "      <td>Hvad er en betingelse for retten til jobpræmie?</td>\n",
       "      <td>Det er en betingelse for retten til jobpræmie ...</td>\n",
       "      <td>Det er en betingelse for retten til jobpræmie,...</td>\n",
       "      <td>9</td>\n",
       "      <td>LOV nr 287 af 29/03/2017</td>\n",
       "    </tr>\n",
       "    <tr>\n",
       "      <th>5</th>\n",
       "      <td>Hvem kan tillade de ifølge deklaration eller v...</td>\n",
       "      <td>For ejendomme, der tilhører byggeforeninger (b...</td>\n",
       "      <td>For ejendomme, der tilhører private kan ejeren...</td>\n",
       "      <td>2</td>\n",
       "      <td>LBK nr 978 af 19/10/2009'</td>\n",
       "    </tr>\n",
       "    <tr>\n",
       "      <th>6</th>\n",
       "      <td>Hvem kan på baggrund af en evaluering fastsætt...</td>\n",
       "      <td>Undervisningsministeren kan  på baggrund af en...</td>\n",
       "      <td>Undervisningsministeren kan fastsætte regler o...</td>\n",
       "      <td>10</td>\n",
       "      <td>LBK nr 600 af 21/05/2019</td>\n",
       "    </tr>\n",
       "    <tr>\n",
       "      <th>7</th>\n",
       "      <td>Hvornår kan Beskæftigelsesministeren efter for...</td>\n",
       "      <td>Hvis selskabet groft eller gentagne gange tils...</td>\n",
       "      <td>Tilsidesætter selskabet nævnt i § 10, stk. 1, ...</td>\n",
       "      <td>25</td>\n",
       "      <td>LOV nr 994 af 30/08/2015</td>\n",
       "    </tr>\n",
       "    <tr>\n",
       "      <th>8</th>\n",
       "      <td>Hvornår kan brevåbning og brevstandsning foret...</td>\n",
       "      <td>Hvis der foreligger en særligt bestyrket mista...</td>\n",
       "      <td>Indgreb i meddelelseshemmeligheden må kun fore...</td>\n",
       "      <td>813</td>\n",
       "      <td>LOV nr 964 af 26/06/2020</td>\n",
       "    </tr>\n",
       "    <tr>\n",
       "      <th>9</th>\n",
       "      <td>Hvem afgør om en bolig skal brandsikres?</td>\n",
       "      <td>Boligtilsynet.</td>\n",
       "      <td>Ejeren af en beboelsesbygning, som efter medde...</td>\n",
       "      <td>NaN</td>\n",
       "      <td>LBK nr 1710 af 16/12/2010</td>\n",
       "    </tr>\n",
       "    <tr>\n",
       "      <th>10</th>\n",
       "      <td>Har en person, der er blevet videoafhørt pligt...</td>\n",
       "      <td>En person, der er blevet videoafhørt efter, ha...</td>\n",
       "      <td>En person, der er blevet videoafhørt efter § 3...</td>\n",
       "      <td>146a</td>\n",
       "      <td>LBK nr 1581 af 13/12/2016</td>\n",
       "    </tr>\n",
       "    <tr>\n",
       "      <th>11</th>\n",
       "      <td>Hvilke bestemmelser gælder for masteruddannels...</td>\n",
       "      <td>Bestemmelserne om tilrettelæggelse, udbud m.v....</td>\n",
       "      <td>For akademiuddannelser og diplomuddannelse som...</td>\n",
       "      <td>16</td>\n",
       "      <td>LBK nr 1038 af 30/08/2017</td>\n",
       "    </tr>\n",
       "    <tr>\n",
       "      <th>12</th>\n",
       "      <td>Hvorfor ydes tilskud til sanering til nyhedsme...</td>\n",
       "      <td>For at forhindre en umiddelbart forestående lu...</td>\n",
       "      <td>Tilskud til sanering ydes til nyhedsmedier, so...</td>\n",
       "      <td>10</td>\n",
       "      <td>LOV nr 1604 af 26/12/2013</td>\n",
       "    </tr>\n",
       "    <tr>\n",
       "      <th>13</th>\n",
       "      <td>Hvem skal ansøgeren eller indehaveren indgive ...</td>\n",
       "      <td>Ansøgeren eller indehaveren kan dele en dansk ...</td>\n",
       "      <td>Ansøgeren eller indehaveren kan dele en dansk ...</td>\n",
       "      <td>41</td>\n",
       "      <td>LBK nr 88 af 29/01/2019</td>\n",
       "    </tr>\n",
       "    <tr>\n",
       "      <th>14</th>\n",
       "      <td>Hvad finder Kildeskattelovens bestemmelser uæn...</td>\n",
       "      <td>Dødsboer og mellemperioder vedrørende personer...</td>\n",
       "      <td>Kildeskattelovens bestemmelser finder uændret ...</td>\n",
       "      <td>98</td>\n",
       "      <td>LBK nr 426 af 28/03/2019</td>\n",
       "    </tr>\n",
       "    <tr>\n",
       "      <th>15</th>\n",
       "      <td>Hvem kan tillade, at der meddeles personer, so...</td>\n",
       "      <td>Justitsministeren.</td>\n",
       "      <td>Justitsministeren kan tillade, at der meddeles...</td>\n",
       "      <td>NaN</td>\n",
       "      <td>LBK nr 995 af 26/10/2009</td>\n",
       "    </tr>\n",
       "    <tr>\n",
       "      <th>16</th>\n",
       "      <td>Hvor længe er skibe der modtager isbryderhjælp...</td>\n",
       "      <td>Så længe hjælpen ydes.</td>\n",
       "      <td>Ethvert skib, der modtager isbryderhjælp fra e...</td>\n",
       "      <td>3</td>\n",
       "      <td>LBK nr 969 af 25/07/2017</td>\n",
       "    </tr>\n",
       "    <tr>\n",
       "      <th>17</th>\n",
       "      <td>Hvem har mulighed for at tilkøbe ekstra stands...</td>\n",
       "      <td>Odder Kommune, Syddjurs Kommune og Norddjurs K...</td>\n",
       "      <td>Odder Kommune, Syddjurs Kommune og Norddjurs K...</td>\n",
       "      <td>NaN</td>\n",
       "      <td>LOV nr 432 af 16/05/2012</td>\n",
       "    </tr>\n",
       "    <tr>\n",
       "      <th>18</th>\n",
       "      <td>Hvem skal skal i tilfælde af væsentlig foruren...</td>\n",
       "      <td>Den, som er ansvarlig for forhold eller indret...</td>\n",
       "      <td>Den, som er ansvarlig for forhold eller indret...</td>\n",
       "      <td>52</td>\n",
       "      <td>LBK nr 520 af 01/05/2019</td>\n",
       "    </tr>\n",
       "    <tr>\n",
       "      <th>19</th>\n",
       "      <td>Hvor overføres indeståender til i Særlig Pensi...</td>\n",
       "      <td>Arbejdsmarkedets Tillægspension.</td>\n",
       "      <td>Indeståender i Særlig Pensionsopsparing (SP), ...</td>\n",
       "      <td>17 j</td>\n",
       "      <td>LBK nr 1110 af 10/10/2014</td>\n",
       "    </tr>\n",
       "    <tr>\n",
       "      <th>20</th>\n",
       "      <td>Hvis virksomhed omfatter dopingkontrol, doping...</td>\n",
       "      <td>Anti Doping Danmark.</td>\n",
       "      <td>Anti Doping Danmarks virksomhed omfatter dopin...</td>\n",
       "      <td>3</td>\n",
       "      <td>LBK nr 1168 af 07/10/2015</td>\n",
       "    </tr>\n",
       "    <tr>\n",
       "      <th>21</th>\n",
       "      <td>Hvad skal sikringsmæssige foranstaltninger for...</td>\n",
       "      <td>En sikringsplan, som skal indsendes til og god...</td>\n",
       "      <td>Sikringsmæssige foranstaltninger for nukleart ...</td>\n",
       "      <td>37 b</td>\n",
       "      <td>LBK nr 314 af 03/04/2017</td>\n",
       "    </tr>\n",
       "    <tr>\n",
       "      <th>22</th>\n",
       "      <td>Hvornår kan Nævnet for Videnskabelig Uredeligh...</td>\n",
       "      <td>Hvis der foreligger en begrundet formodning om...</td>\n",
       "      <td>'Nævnet for Videnskabelig Uredelighed kan beha...</td>\n",
       "      <td>12</td>\n",
       "      <td>LOV nr 383 af 26/04/2017</td>\n",
       "    </tr>\n",
       "    <tr>\n",
       "      <th>23</th>\n",
       "      <td>Hvornår kommer de i loven for livs-, ulykkes- ...</td>\n",
       "      <td>I alle tilfælde, hvor den begunstigede er inds...</td>\n",
       "      <td>Sikringsmæssige foranstaltninger for nukleart ...</td>\n",
       "      <td>NaN</td>\n",
       "      <td>LBK nr 1237 af 09/11/2015</td>\n",
       "    </tr>\n",
       "    <tr>\n",
       "      <th>24</th>\n",
       "      <td>Hvad sker der hvis to eller flere dataansvarli...</td>\n",
       "      <td>Så betragtes de som fælles dataansvarlige.</td>\n",
       "      <td>Fastsætter to eller flere dataansvarlige i fæl...</td>\n",
       "      <td>21</td>\n",
       "      <td>LOV nr 410 af 27/04/2017</td>\n",
       "    </tr>\n",
       "    <tr>\n",
       "      <th>25</th>\n",
       "      <td>Bedriftværn, der er etableret i henhold til de...</td>\n",
       "      <td>Medmindre kommunalbestyrelsen efter ansøgning ...</td>\n",
       "      <td>Sikringsmæssige foranstaltninger for nukleart ...</td>\n",
       "      <td>81</td>\n",
       "      <td>LBK nr 314 af 03/04/2017</td>\n",
       "    </tr>\n",
       "    <tr>\n",
       "      <th>26</th>\n",
       "      <td>Hvem kan indenfor en beløbsramme fastsat på fi...</td>\n",
       "      <td>Statens Kunstfond.</td>\n",
       "      <td>Statens Kunstfond kan inden for en beløbsramme...</td>\n",
       "      <td>4</td>\n",
       "      <td>LOV nr 458 af 08/05/2013</td>\n",
       "    </tr>\n",
       "    <tr>\n",
       "      <th>27</th>\n",
       "      <td>Hvem fastsættes bestemmelser om indretning og ...</td>\n",
       "      <td>Ministeren for offentlig innovation efter indh...</td>\n",
       "      <td>Såfremt det af hensyn til udførelsen af tjenes...</td>\n",
       "      <td>14</td>\n",
       "      <td>LBK nr 511 af 18/05/2017</td>\n",
       "    </tr>\n",
       "    <tr>\n",
       "      <th>28</th>\n",
       "      <td>Sydslesvigudvalget sender for hvert finansår i...</td>\n",
       "      <td>Alle medlemmer af udvalget, til ministeren for...</td>\n",
       "      <td>Sydslesvigudvalget udarbejder en årlig beretni...</td>\n",
       "      <td>9</td>\n",
       "      <td>LBK nr 725 af 15/06/2016</td>\n",
       "    </tr>\n",
       "    <tr>\n",
       "      <th>29</th>\n",
       "      <td>Hvordan er Professionshøjskolen forpligtet til...</td>\n",
       "      <td>På et forsvarligt niveau i overensstemmelse me...</td>\n",
       "      <td>Bestyrelsen skal forvalte professionshøjskolen...</td>\n",
       "      <td>16</td>\n",
       "      <td>LBK nr 779 af 08/08/2019</td>\n",
       "    </tr>\n",
       "    <tr>\n",
       "      <th>30</th>\n",
       "      <td>Hvornår afskediges præster, provster og biskop...</td>\n",
       "      <td>Fra udgangen af den måned, hvori de fylder 70 år.</td>\n",
       "      <td>Præster, provster og biskopper afskediges fra ...</td>\n",
       "      <td>43 a</td>\n",
       "      <td>LBK nr 511 af 18/05/2017</td>\n",
       "    </tr>\n",
       "    <tr>\n",
       "      <th>31</th>\n",
       "      <td>Hvilken er Danmarks nationale statistikmyndighed?</td>\n",
       "      <td>Danmarks Statistik.</td>\n",
       "      <td>Danmarks nationale statistikmyndighed er Danma...</td>\n",
       "      <td>1</td>\n",
       "      <td>LBK nr 610 af 30/05/2018</td>\n",
       "    </tr>\n",
       "    <tr>\n",
       "      <th>32</th>\n",
       "      <td>Hvem fastsætter nærmere regler om det offentli...</td>\n",
       "      <td>Uddannelses- og forskningsministeren.</td>\n",
       "      <td>Uddannelses- og forskningsministeren opretter ...</td>\n",
       "      <td>10</td>\n",
       "      <td>LOV nr 409 af 11/05/2016</td>\n",
       "    </tr>\n",
       "  </tbody>\n",
       "</table>\n",
       "</div>"
      ],
      "text/plain": [
       "                                        question, str  \\\n",
       "0   Hvad har ejeren af en ejerlejlighed, sammen me...   \n",
       "1   Hvem fastsætter eller aftaler bestemmelser om ...   \n",
       "2   Hvad skal Beskæftigelsesministeriet og Finanst...   \n",
       "3   Hvor mange procent må kapitalandele i og lån y...   \n",
       "4     Hvad er en betingelse for retten til jobpræmie?   \n",
       "5   Hvem kan tillade de ifølge deklaration eller v...   \n",
       "6   Hvem kan på baggrund af en evaluering fastsætt...   \n",
       "7   Hvornår kan Beskæftigelsesministeren efter for...   \n",
       "8   Hvornår kan brevåbning og brevstandsning foret...   \n",
       "9            Hvem afgør om en bolig skal brandsikres?   \n",
       "10  Har en person, der er blevet videoafhørt pligt...   \n",
       "11  Hvilke bestemmelser gælder for masteruddannels...   \n",
       "12  Hvorfor ydes tilskud til sanering til nyhedsme...   \n",
       "13  Hvem skal ansøgeren eller indehaveren indgive ...   \n",
       "14  Hvad finder Kildeskattelovens bestemmelser uæn...   \n",
       "15  Hvem kan tillade, at der meddeles personer, so...   \n",
       "16  Hvor længe er skibe der modtager isbryderhjælp...   \n",
       "17  Hvem har mulighed for at tilkøbe ekstra stands...   \n",
       "18  Hvem skal skal i tilfælde af væsentlig foruren...   \n",
       "19  Hvor overføres indeståender til i Særlig Pensi...   \n",
       "20  Hvis virksomhed omfatter dopingkontrol, doping...   \n",
       "21  Hvad skal sikringsmæssige foranstaltninger for...   \n",
       "22  Hvornår kan Nævnet for Videnskabelig Uredeligh...   \n",
       "23  Hvornår kommer de i loven for livs-, ulykkes- ...   \n",
       "24  Hvad sker der hvis to eller flere dataansvarli...   \n",
       "25  Bedriftværn, der er etableret i henhold til de...   \n",
       "26  Hvem kan indenfor en beløbsramme fastsat på fi...   \n",
       "27  Hvem fastsættes bestemmelser om indretning og ...   \n",
       "28  Sydslesvigudvalget sender for hvert finansår i...   \n",
       "29  Hvordan er Professionshøjskolen forpligtet til...   \n",
       "30  Hvornår afskediges præster, provster og biskop...   \n",
       "31  Hvilken er Danmarks nationale statistikmyndighed?   \n",
       "32  Hvem fastsætter nærmere regler om det offentli...   \n",
       "\n",
       "                                          answer, str  \\\n",
       "0            Grunden, fælles bestanddele og tilbehør.   \n",
       "1   Finansministeren fastsætter eller aftaler best...   \n",
       "2   Den indsendte årsrapport skal i det mindste in...   \n",
       "3   Kapitalandele i og lån ydet til en virksomhed ...   \n",
       "4   Det er en betingelse for retten til jobpræmie ...   \n",
       "5   For ejendomme, der tilhører byggeforeninger (b...   \n",
       "6   Undervisningsministeren kan  på baggrund af en...   \n",
       "7   Hvis selskabet groft eller gentagne gange tils...   \n",
       "8   Hvis der foreligger en særligt bestyrket mista...   \n",
       "9                                      Boligtilsynet.   \n",
       "10  En person, der er blevet videoafhørt efter, ha...   \n",
       "11  Bestemmelserne om tilrettelæggelse, udbud m.v....   \n",
       "12  For at forhindre en umiddelbart forestående lu...   \n",
       "13  Ansøgeren eller indehaveren kan dele en dansk ...   \n",
       "14  Dødsboer og mellemperioder vedrørende personer...   \n",
       "15                                 Justitsministeren.   \n",
       "16                             Så længe hjælpen ydes.   \n",
       "17  Odder Kommune, Syddjurs Kommune og Norddjurs K...   \n",
       "18  Den, som er ansvarlig for forhold eller indret...   \n",
       "19                   Arbejdsmarkedets Tillægspension.   \n",
       "20                              Anti Doping Danmark.    \n",
       "21  En sikringsplan, som skal indsendes til og god...   \n",
       "22  Hvis der foreligger en begrundet formodning om...   \n",
       "23  I alle tilfælde, hvor den begunstigede er inds...   \n",
       "24         Så betragtes de som fælles dataansvarlige.   \n",
       "25  Medmindre kommunalbestyrelsen efter ansøgning ...   \n",
       "26                                 Statens Kunstfond.   \n",
       "27  Ministeren for offentlig innovation efter indh...   \n",
       "28  Alle medlemmer af udvalget, til ministeren for...   \n",
       "29  På et forsvarligt niveau i overensstemmelse me...   \n",
       "30  Fra udgangen af den måned, hvori de fylder 70 år.   \n",
       "31                                Danmarks Statistik.   \n",
       "32              Uddannelses- og forskningsministeren.   \n",
       "\n",
       "                                            text, str pnumber, str  \\\n",
       "0   Ejeren af en ejerlejlighed har sammen med andr...            3   \n",
       "1   Højskolen skal følge de af finansministeren fa...           30   \n",
       "2   Uden ugrundet ophold efter repræsentantskabets...         25 l   \n",
       "3   Følgende grænser for Arbejdsmarkedets Tillægsp...         26 e   \n",
       "4   Det er en betingelse for retten til jobpræmie,...            9   \n",
       "5   For ejendomme, der tilhører private kan ejeren...            2   \n",
       "6   Undervisningsministeren kan fastsætte regler o...           10   \n",
       "7   Tilsidesætter selskabet nævnt i § 10, stk. 1, ...           25   \n",
       "8   Indgreb i meddelelseshemmeligheden må kun fore...          813   \n",
       "9   Ejeren af en beboelsesbygning, som efter medde...          NaN   \n",
       "10  En person, der er blevet videoafhørt efter § 3...         146a   \n",
       "11  For akademiuddannelser og diplomuddannelse som...           16   \n",
       "12  Tilskud til sanering ydes til nyhedsmedier, so...           10   \n",
       "13  Ansøgeren eller indehaveren kan dele en dansk ...           41   \n",
       "14  Kildeskattelovens bestemmelser finder uændret ...           98   \n",
       "15  Justitsministeren kan tillade, at der meddeles...          NaN   \n",
       "16  Ethvert skib, der modtager isbryderhjælp fra e...            3   \n",
       "17  Odder Kommune, Syddjurs Kommune og Norddjurs K...          NaN   \n",
       "18  Den, som er ansvarlig for forhold eller indret...           52   \n",
       "19  Indeståender i Særlig Pensionsopsparing (SP), ...         17 j   \n",
       "20  Anti Doping Danmarks virksomhed omfatter dopin...            3   \n",
       "21  Sikringsmæssige foranstaltninger for nukleart ...         37 b   \n",
       "22  'Nævnet for Videnskabelig Uredelighed kan beha...           12   \n",
       "23  Sikringsmæssige foranstaltninger for nukleart ...          NaN   \n",
       "24  Fastsætter to eller flere dataansvarlige i fæl...           21   \n",
       "25  Sikringsmæssige foranstaltninger for nukleart ...           81   \n",
       "26  Statens Kunstfond kan inden for en beløbsramme...            4   \n",
       "27  Såfremt det af hensyn til udførelsen af tjenes...           14   \n",
       "28  Sydslesvigudvalget udarbejder en årlig beretni...            9   \n",
       "29  Bestyrelsen skal forvalte professionshøjskolen...           16   \n",
       "30  Præster, provster og biskopper afskediges fra ...         43 a   \n",
       "31  Danmarks nationale statistikmyndighed er Danma...            1   \n",
       "32  Uddannelses- og forskningsministeren opretter ...           10   \n",
       "\n",
       "              law number, str  \n",
       "0    LOV nr 908 af 18/06/2020  \n",
       "1    LBK nr 780 af 08/08/2019  \n",
       "2   LBK nr 1110 af 10/10/2014  \n",
       "3   LBK nr 1110 af 10/10/2014  \n",
       "4    LOV nr 287 af 29/03/2017  \n",
       "5   LBK nr 978 af 19/10/2009'  \n",
       "6    LBK nr 600 af 21/05/2019  \n",
       "7    LOV nr 994 af 30/08/2015  \n",
       "8    LOV nr 964 af 26/06/2020  \n",
       "9   LBK nr 1710 af 16/12/2010  \n",
       "10  LBK nr 1581 af 13/12/2016  \n",
       "11  LBK nr 1038 af 30/08/2017  \n",
       "12  LOV nr 1604 af 26/12/2013  \n",
       "13    LBK nr 88 af 29/01/2019  \n",
       "14   LBK nr 426 af 28/03/2019  \n",
       "15   LBK nr 995 af 26/10/2009  \n",
       "16   LBK nr 969 af 25/07/2017  \n",
       "17   LOV nr 432 af 16/05/2012  \n",
       "18   LBK nr 520 af 01/05/2019  \n",
       "19  LBK nr 1110 af 10/10/2014  \n",
       "20  LBK nr 1168 af 07/10/2015  \n",
       "21   LBK nr 314 af 03/04/2017  \n",
       "22   LOV nr 383 af 26/04/2017  \n",
       "23  LBK nr 1237 af 09/11/2015  \n",
       "24   LOV nr 410 af 27/04/2017  \n",
       "25   LBK nr 314 af 03/04/2017  \n",
       "26   LOV nr 458 af 08/05/2013  \n",
       "27   LBK nr 511 af 18/05/2017  \n",
       "28   LBK nr 725 af 15/06/2016  \n",
       "29   LBK nr 779 af 08/08/2019  \n",
       "30   LBK nr 511 af 18/05/2017  \n",
       "31   LBK nr 610 af 30/05/2018  \n",
       "32   LOV nr 409 af 11/05/2016  "
      ]
     },
     "execution_count": 33,
     "metadata": {},
     "output_type": "execute_result"
    }
   ],
   "source": [
    "dev_set[0:33]"
   ]
  },
  {
   "cell_type": "markdown",
   "metadata": {},
   "source": [
    "## Vectorize retrieval corpus"
   ]
  },
  {
   "cell_type": "markdown",
   "metadata": {},
   "source": [
    "### Sparse retrieval TF-IDF"
   ]
  },
  {
   "cell_type": "code",
   "execution_count": 14,
   "metadata": {},
   "outputs": [
    {
     "name": "stderr",
     "output_type": "stream",
     "text": [
      "100%|██████████| 42593/42593 [00:00<00:00, 64028.83it/s]\n"
     ]
    }
   ],
   "source": [
    "rag_list2 = rag_list\n",
    "\n",
    "def preprocess(rag_list):\n",
    "    # extract and preprocess text\n",
    "    corpus = [item['text'] for item in rag_list]\n",
    "    corpus = [re.sub('\\\\s{2,}', ' ', \n",
    "                     re.sub('\\\\W|[0-9]|§', ' ',\n",
    "                           item.lower())) for item in corpus]\n",
    "\n",
    "    # remove stopwords\n",
    "    #nltk.download('punkt')\n",
    "    stop_words = set(stopwords.words('danish'))\n",
    "    corpus = [' '.join(word for word in text.split() \n",
    "                      if word not in stop_words) for text in tqdm(corpus)]\n",
    "    \n",
    "    return corpus\n",
    "\n",
    "corpus = preprocess(rag_list2)\n",
    "vectorizer = TfidfVectorizer()\n",
    "X = vectorizer.fit_transform(corpus)"
   ]
  },
  {
   "cell_type": "markdown",
   "metadata": {},
   "source": [
    "### Dense retrieval"
   ]
  },
  {
   "cell_type": "code",
   "execution_count": 5,
   "metadata": {},
   "outputs": [],
   "source": [
    "## WRITE LATER"
   ]
  },
  {
   "cell_type": "markdown",
   "metadata": {},
   "source": [
    "## RAG retriever"
   ]
  },
  {
   "cell_type": "markdown",
   "metadata": {},
   "source": [
    "### Sparse retrieval pipeline for TF-IDF\n"
   ]
  },
  {
   "cell_type": "code",
   "execution_count": 15,
   "metadata": {},
   "outputs": [
    {
     "name": "stdout",
     "output_type": "stream",
     "text": [
      "Hvem fastsættes bestemmelser om indretning og vedligeholdelse af tjenesteboliger? \n",
      "\n"
     ]
    },
    {
     "data": {
      "text/plain": [
       "'Såfremt det af hensyn til udførelsen af tjenestepligterne skønnes nødvendigt at knytte tjenestebolig til stillingen, har tjenestemanden pligt til at bebo denne, så længe han beklæder stillingen, og til derefter at fraflytte den. Bestemmelser om indretning, vedligeholdelse og benyttelse af tjenesteboliger og om ind- og udflytning m.v. af sådanne boliger fastsættes af finansministeren efter indhentet udtalelse fra Lønningsrådet.'"
      ]
     },
     "execution_count": 15,
     "metadata": {},
     "output_type": "execute_result"
    }
   ],
   "source": [
    "def sparse_retrieval(question, corpus_embeddings=X, corpus=rag_list, vectorizer=vectorizer, k=1, max_tokens=800):\n",
    "    \"\"\"\n",
    "    Function that takes a question and returns a list of paragraphs that are most relevant to the question\n",
    "    \"\"\"\n",
    "\n",
    "    # preprocess and vectorize question\n",
    "    question_processed = [re.sub('\\\\s{2,}', ' ', \n",
    "                               re.sub('\\\\W|[0-9]|§', ' ',\n",
    "                                     question.lower()))]\n",
    "    \n",
    "    # remove stopwords\n",
    "    stop_words = set(stopwords.words('danish'))\n",
    "    question_processed = [' '.join(word for word in text.split() \n",
    "                                 if word not in stop_words) for text in question_processed]\n",
    "    \n",
    "    # embed question\n",
    "    question_vector = vectorizer.transform(question_processed)\n",
    "\n",
    "    # calculate cosine similarity\n",
    "    sparse_retrieval = corpus_embeddings.dot(question_vector.T).toarray()\n",
    "\n",
    "    # get top k paragraphs\n",
    "    top_k = np.argsort(sparse_retrieval.flatten())[-k:]\n",
    "\n",
    "    # truncate context to approximate token limit\n",
    "    context = '\\n'.join([corpus[i]['text'] for i in top_k])\n",
    "    context_words = context.split()[:max_tokens]\n",
    "    return ' '.join(context_words)\n",
    "\n",
    "    return context\n",
    "\n",
    "# check if it works using a random question from the dev set\n",
    "random_question = dev_set.iloc[np.random.randint(0, len(dev_set))]['question, str']\n",
    "print(random_question, '\\n')\n",
    "sparse_retrieval(random_question, X)"
   ]
  },
  {
   "cell_type": "markdown",
   "metadata": {},
   "source": [
    "### Sparse retrieval pipeline for BM25"
   ]
  },
  {
   "cell_type": "code",
   "execution_count": 16,
   "metadata": {},
   "outputs": [],
   "source": [
    "# Import bm25\n",
    "import src.bm25_IR as bm25"
   ]
  },
  {
   "cell_type": "markdown",
   "metadata": {},
   "source": [
    "**Load in dev data and tokenize**"
   ]
  },
  {
   "cell_type": "code",
   "execution_count": null,
   "metadata": {},
   "outputs": [
    {
     "name": "stdout",
     "output_type": "stream",
     "text": [
      "(104, 5)\n"
     ]
    }
   ],
   "source": [
    "# Path to the dev data\n",
    "dev_data_path = \"./devset/dev_set.csv\"\n",
    "\n",
    "# Import the data\n",
    "bm25_data = bm25.load_csv(dev_data_path)\n",
    "print(bm25_data.shape)\n",
    "\n",
    "# Import corpus (rag_list.txt)\n",
    "corpus_path = \"./rag_list.txt\"\n",
    "with open(corpus_path, 'r') as f:\n",
    "    corpus = f.readlines()\n",
    "\n",
    "## Get corpus, question and answer\n",
    "#corpus = [text for text in corpus]\n",
    "#questions = [qst for qst in bm25_data['question, str']]\n",
    "#answers = [answ for answ in bm25_data['answer, str']]\n",
    "#\n",
    "## Preprocess the data\n",
    "#tokenized_corpus = [bm25.preprocess(text) for text in corpus]\n",
    "#tokenized_questions = [bm25.preprocess(qst) for qst in questions]\n",
    "#tokenized_answers = [bm25.preprocess(answ) for answ in answers]"
   ]
  },
  {
   "cell_type": "code",
   "execution_count": 29,
   "metadata": {},
   "outputs": [
    {
     "data": {
      "text/plain": [
       "[\"'Ejeren af en ejerlejlighed har sammen med andre ejere af lejligheder ejendomsret til grunden, fælles bestanddele og tilbehør m.v. efter et fordelingstal, der fastsættes som en brøkdel. Til lejligheden hører i samme forhold rettigheder og forpligtelser for ejeren som medlem af ejerforeningen. De i stk. 1 og 2 omhandlede rettigheder og forpligtelser kan ikke adskilles fra ejendomsretten til lejligheden.'\",\n",
       " \"'Højskolen skal følge de af finansministeren fastsatte eller aftalte bestemmelser om løn- og ansættelsesvilkår, herunder om pensionsforhold for højskolens ansatte. Tjenestemandslovens § 21, stk. 4, gælder for medlemmer af højskolens bestyrelse.'\",\n",
       " \"'Uden ugrundet ophold efter repræsentantskabets godkendelse af årsrapporten i henhold til § 22, stk. 1, dog senest 4 måneder efter regnskabsårets udløb, indsendes den reviderede og godkendte årsrapport samt udskrift af revisionsprotokollen vedrørende årsrapportens revision til Beskæftigelsesministeriet og Finanstilsynet. Den indsendte årsrapport skal i det mindste indeholde de obligatoriske bestanddele samt den fulde revisionspåtegning. Sammen med indsendelse af årsrapporten efter stk. 1 indsendes et eksemplar af årsrapporten fra samtlige dattervirksomheder af Arbejdsmarkedets Tillægspension.'\",\n",
       " \"'Følgende grænser for Arbejdsmarkedets Tillægspensions aktiver er gældende for medregning af aktiver, der udgør en risiko på en enkelt virksomhed eller en gruppe af indbyrdes forbundne virksomheder: Aktiver omfattet af § 26 b, stk. 1, nr. 3, må højst udgøre 40 pct. Aktiver omfattet af § 26 b, stk. 1, nr. 3, må højst udgøre 40 pct. Aktiver omfattet af § 26 b, stk. 1, nr. 4, må højst udgøre 10 pct. Aktiver omfattet af § 26 b, stk. 1, nr. 7, jf. dog stk. 4, må højst udgøre 10 pct. Aktiver omfattet af § 26 b, stk. 1, nr. 13, må højst udgøre 10 pct. Aktiver omfattet af § 26 b, stk. 1, nr. 6, 8, 9, 11 og 12, må samlet højst udgøre 2 pct., jf. dog stk. 2. Aktiver omfattet af § 26 b, stk. 1, nr. 5, 6 og 8-12, må samlet højst udgøre 5 pct. Lån omfattet af § 26 b, stk. 1, nr. 12, må højst udgøre 1 pct. Kapitalandele i og lån ydet til en virksomhed eller en gruppe af indbyrdes forbundne virksomheder, hvis aktiviteter alene omfatter investeringer i aktiver omfattet af § 26 b, stk. 1, nr. 5 og 10, må samlet højst udgøre 5 pct. Stk. 1, nr. 3-5, og stk. 2 finder ikke anvendelse på investeringer i en dattervirksomhed, der er omfattet af § 26 b, stk. 3, 5, 6, 7 og 11. Stk. 1, nr. 3-5, og stk. 2 finder ikke anvendelse på investeringer i virksomheder, UCITS, kapitalforeninger og udenlandske investeringsinstitutter omfattet af § 26 b, stk. 1, nr. 7, hvis aktivitet efter vedtægterne er begrænset til at foretage investeringer i aktiver omfattet af § 26 b, stk. 1, nr. 1-3. Bestyrelsen fastsætter nærmere bestemmelser om Arbejdsmarkedets Tillægspensions valutakurs- og renterisikoeksponering.'\",\n",
       " \"'Det er en betingelse for retten til jobpræmie, at personen er registreret i CPR-registeret med bopæl i Danmark.'\",\n",
       " \"'For ejendomme, der tilhører private kan ejeren forlange frigørelse mod betaling af det oprindeligt ydede tilskud fra stat og kommune, for så vidt begæring herom fremsættes inden 1. juli 1966. For ejendomme, der tilhører byggeforeninger (boligforeninger), kan indenrigs- og socialministeren tillade de ifølge deklaration eller vedtægter pålagte kontrolbestemmelser ophævet efter nærmere af ham fastsatte retningslinjer. Indestår der i de i stk. 1 og 2 omhandlede ejendomme statslån, der er ydet i medfør af de i § 1, stk. 2, nævnte love, er det en betingelse for frigørelsen, at statslånet forinden indfries.'\",\n",
       " \"Undervisningsministeren kan fastsætte regler om evaluering og om opfølgning på evaluering, som er gennemført efter § 2, stk. 1. Undervisningsministeren kan endvidere bl.a. på baggrund af en evaluering fastsætte regler om kvalitetsudvikling, herunder lærerkvalifikationer m.v.'\",\n",
       " \"Tilsidesætter selskabet nævnt i § 10, stk. 1, groft eller gentagne gange sine forpligtelser efter denne lov eller regler udstedt i medfør heraf, kan beskæftigelsesministeren efter forhandling med KL overtage etablering og drift af Ydelsesrefusion eller henlægge etableringen eller driften til en anden offentlig myndighed eller et andet privat selskab. Anvender beskæftigelsesministeren sin ret efter stk. 1, betaler kommunerne bidrag efter § 20 til Beskæftigelsesministeriet, som heraf betaler selskabets eventuelle udækkede etableringsudgifter og driftsunderskud.'\",\n",
       " \"'Indgreb i meddelelseshemmeligheden må kun foretages, hvis der er bestemte grunde til at antage, at der på den pågældende måde gives meddelelser eller foretages forsendelser til eller fra en mistænkt, der er bestemte grunde til at antage, at der på den pågældende måde gives meddelelser eller foretages forsendelser til eller fra en mistænkt, indgrebet må antages at være af afgørende betydning for efterforskningen og efterforskningen angår en lovovertrædelse, som efter loven kan straffes med fængsel i 6 år eller derover, en forsætlig overtrædelse af straffelovens kapitel 12 eller 13 eller en overtrædelse af straffelovens § 124, stk. 2, § 125, § 127, stk. 1, § 233, stk. 1, eller §§ 236, 266 eller 281 eller en overtrædelse af udlændingelovens § 59, stk. 5. Er betingelserne i stk. 1, nr. 1 og 2, opfyldt, kan telefonaflytning og teleoplysning endvidere foretages, hvis mistanken angår fredskrænkelser som omhandlet i straffelovens § 263, stk. 2. Er betingelserne i stk. 1, nr. 1 og 2, opfyldt, kan teleoplysning endvidere foretages, hvis mistanken angår en krænkelse som nævnt i § 2, stk. 1, nr. 1, i lagtingslov om tilhold, opholdsforbud og bortvisning eller krænkelse som nævnt i § 2, stk. 1, nr. 1, i lagtingslov om tilhold, opholdsforbud og bortvisning eller overtrædelse af straffelovens § 279 a eller § 293, stk. 1, begået ved anvendelse af en telekommunikationstjeneste. Brevåbning og brevstandsning kan desuden foretages, hvis der foreligger en særligt bestyrket mistanke om, at der i forsendelsen findes genstande, som bør konfiskeres, eller som ved en forbrydelse er fravendt nogen, der kan kræve dem tilbage. Aflytning efter § 812, stk. 1, nr. 2, og udvidet teleoplysning efter § 812, stk. 1, nr. 4, kan kun foretages, når mistanken vedrører en forbrydelse, som har medført eller som kan medføre fare for menneskers liv eller velfærd eller for betydelige samfundsværdier.'\",\n",
       " \"'Ejeren af en beboelsesbygning, som efter meddelelse fra kommunalbestyrelsen er omfattet af § 3, skal lade foretage en gennemgang af bygningen for at konstatere, om den opfylder kravene til brandsikring, og derefter afgive indberetning til boligtilsynet, jfr. lov om boligtilsyn, om de foranstaltninger, som er nødvendige for at opfylde kravene. Boligtilsynet afgør, om bygningen skal brandsikres i overensstemmelse med de krav, der er fastsat i medfør af denne lov, eller om kravene under hensyn til bygningens begrænsede levetid kan lempes. Finder boligtilsynet, at en bygnings hele tilstand og indretning er af en sådan beskaffenhed, at det ud fra en sundhedsmæssig og socialhygiejnisk vurdering skønnes urimeligt at brandsikre bygningen efter stk. 2, når herved tillige henses til bygningens begrænsede levetid og de udgifter, der er forbundet med udførelsen af brandsikring, skal tilsynet i stedet meddele forbud mod benyttelse af bygningen efter udløbet af en nærmere fastsat frist, der ikke må overstige 6 måneder. Boligtilsynets beslutninger efter stk. 2 og 3 træffes inden udgangen af maj 1977.'\",\n",
       " \"'En person, der er blevet videoafhørt efter § 340 a eller § 155, stk. 3, har ikke pligt til at afgive forklaring som vidne under hovedforhandlingen. Retten kan helt undtagelsesvis pålægge en person, der er omfattet af stk. 1, at afgive forklaring som vidne under hovedforhandlingen, hvis dette er af afgørende betydning for sagens afgørelse og det ikke er tilstrækkeligt, at personen genafhøres til video.'\",\n",
       " \"For akademiuddannelser og diplomuddannelse som regulerede forløb gælder bestemmelserne om tilrettelæggelse af deltidsuddannelser i lov om åben uddannelse (erhvervsrettet voksenuddannelse) m.v. For masteruddannelser som regulerede forløb ved universiteterne gælder bestemmelserne om tilrettelæggelse, udbud m.v. for deltidsuddannelser i lov om universiteter (universitetsloven).'\",\n",
       " \"'Tilskud til sanering ydes til nyhedsmedier, som er kommet i likviditetsvanskeligheder, med henblik på at forhindre en umiddelbart forestående lukning og medvirke til at sikre mediets videreførelse. Tilskuddet ydes til nyhedsmedier, der opfylder betingelserne i § 3. Kulturministeren fastsætter nærmere regler om saneringsstøtte, ansøgningens indhold, udbetaling af tilskud, regnskabsaflæggelse og revision.'\",\n",
       " \"'Ansøgeren eller indehaveren kan dele en dansk varemærkeansøgning eller -registrering i to eller flere særskilte ansøgninger eller registreringer ved at indgive en anmodning herom til Patent- og Varemærkestyrelsen og for hver udskilt ansøgning eller registrering anføre, hvilke varer eller tjenesteydelser fra den oprindelige ansøgning eller registrering der skal omfattes af de udskilte ansøgninger eller registreringer. For anmodning om deling efter stk. 1 betales et gebyr, jf. § 60 d, stk. 1.'\",\n",
       " \"'Kildeskattelovens bestemmelser finder uændret anvendelse på dødsboer og mellemperioder vedrørende personer, som er afgået ved døden før lovens ikrafttræden, på beskatningen af længstlevende ægtefæller og modtagere af udlæg og begravelsesudlæg efter personer, der er afgået ved døden før denne lovs ikrafttræden, samt på skifte af uskiftede boer, hvor anmodning om skifte er indgivet før denne lovs ikrafttræden.'\",\n",
       " \"'Justitsministeren kan tillade, at der meddeles personer, som ikke opfylder de almindelige førlighedsbestemmelser, særlige kørekort, samt at kørekort til langsomtkørende invalidekøretøjer udstedes til personer, der er fyldt 15 år. Justitsministeren kan fastsætte yderligere betingelser for udstedelse af kørekort til motorkøretøjer, der benyttes erhvervsmæssigt til befordring af personer. Bestemmelsen i § 114, stk. 2, i den gældende kriminallov for Grønland svarer til § 164, stk. 2, i den ny kriminallov for Grønland (lov nr. 306 af 30. april 2008), der træder i kraft den 1. januar 2010.'\",\n",
       " \"'Ethvert skib, der modtager isbryderhjælp fra en statskontrolleret isbryder, er undergivet dennes myndighed, så længe hjælpen ydes.'\",\n",
       " \"'Odder Kommune, Syddjurs Kommune og Norddjurs Kommune har mulighed for at tilkøbe ekstra standsningssteder el.lign.'\",\n",
       " \"'Den, som er ansvarlig for forhold eller indretninger, som kan give anledning til forurening, skal i tilfælde af væsentlig forurening eller overhængende fare for væsentlig forurening straks underrette tilsynsmyndigheden om alle relevante aspekter af situationen. Den, som er ansvarlig for forhold eller indretninger, som kan give anledning til forurening, skal i tilfælde af væsentlig forurening eller overhængende fare for væsentlig forurening straks afværge den overhængende fare for forurening eller forhindre yderligere udledning af forurenende stoffer m.v.'\",\n",
       " \"'Indeståender i Særlig Pensionsopsparing (SP), som det ikke har været muligt at udbetale på grund af kontohaverens forhold, overføres pr. 1. oktober 2010 til Arbejdsmarkedets Tillægspension til forvaltning. En kontohaver eller boet efter en afdød kontohaver, der kan dokumentere et krav på et indestående, kan i perioden fra den 1. maj 2010 til den 1. maj 2015 henvende sig til Arbejdsmarkedets Tillægspension og få udbetalt tilgodehavendet. Overførte indeståender som nævnt i stk. 1, som kontohaver eller boet efter en kontohaver ikke senest den 30. april 2015 har anmodet om at få udbetalt, tilfalder Arbejdsmarkedets Tillægspension.'\",\n",
       " \"'Anti Doping Danmarks virksomhed omfatter dopingkontrol, dopingkontrol, anmeldelse og indbringelse af dopingsager, oplysningsvirksomhed, forsknings- og udviklingsvirksomhed vedrørende bekæmpelse af doping, deltagelse i internationalt samarbejde om bekæmpelse af doping og rådgivning og bistand til offentlige myndigheder i sager inden for Anti Doping Danmarks virkeområde.'\",\n",
       " \"'Sikringsmæssige foranstaltninger for nukleart materiale og nukleare anlæg, jf. § 37 a og § 37 c, stk. 2, skal fremgå af en sikringsplan, som skal indsendes til og godkendes af Beredskabsstyrelsen forud for brug, opbevaring eller transport af nukleart materiale og forud for drift af et nukleart anlæg. Ændrer de forhold, der har ligget til grund for godkendelse af en sikringsplan, sig væsentligt efterfølgende, skal en revideret sikringsplan godkendes af Beredskabsstyrelsen. Beredskabsstyrelsen kan træffe afgørelse om, at godkendelse af en sikringsplan bortfalder, såfremt den, der bruger, opbevarer eller transporterer nukleart materiale, eller den, der driver et nukleart anlæg, ikke inden en nærmere angivet frist har indsendt og opnået godkendelse af en revideret sikringsplan.'\",\n",
       " \"'Sikringsmæssige foranstaltninger for nukleart materiale og nukleare anlæg, jf. § 37 a og § 37 c, stk. 2, skal fremgå af en sikringsplan, som skal indsendes til og godkendes af Beredskabsstyrelsen forud for brug, opbevaring eller transport af nukleart materiale og forud for drift af et nukleart anlæg. Ændrer de forhold, der har ligget til grund for godkendelse af en sikringsplan, sig væsentligt efterfølgende, skal en revideret sikringsplan godkendes af Beredskabsstyrelsen. Beredskabsstyrelsen kan træffe afgørelse om, at godkendelse af en sikringsplan bortfalder, såfremt den, der bruger, opbevarer eller transporterer nukleart materiale, eller den, der driver et nukleart anlæg, ikke inden en nærmere angivet frist har indsendt og opnået godkendelse af en revideret sikringsplan.'\",\n",
       " \"'Sikringsmæssige foranstaltninger for nukleart materiale og nukleare anlæg, jf. § 37 a og § 37 c, stk. 2, skal fremgå af en sikringsplan, som skal indsendes til og godkendes af Beredskabsstyrelsen forud for brug, opbevaring eller transport af nukleart materiale og forud for drift af et nukleart anlæg. Ændrer de forhold, der har ligget til grund for godkendelse af en sikringsplan, sig væsentligt efterfølgende, skal en revideret sikringsplan godkendes af Beredskabsstyrelsen. Beredskabsstyrelsen kan træffe afgørelse om, at godkendelse af en sikringsplan bortfalder, såfremt den, der bruger, opbevarer eller transporterer nukleart materiale, eller den, der driver et nukleart anlæg, ikke inden en nærmere angivet frist har indsendt og opnået godkendelse af en revideret sikringsplan.'\",\n",
       " \"'Fastsætter to eller flere dataansvarlige i fællesskab formålene med og hjælpemidlerne til behandling, betragtes de som fælles dataansvarlige.'\",\n",
       " \"'Sikringsmæssige foranstaltninger for nukleart materiale og nukleare anlæg, jf. § 37 a og § 37 c, stk. 2, skal fremgå af en sikringsplan, som skal indsendes til og godkendes af Beredskabsstyrelsen forud for brug, opbevaring eller transport af nukleart materiale og forud for drift af et nukleart anlæg. Ændrer de forhold, der har ligget til grund for godkendelse af en sikringsplan, sig væsentligt efterfølgende, skal en revideret sikringsplan godkendes af Beredskabsstyrelsen. Beredskabsstyrelsen kan træffe afgørelse om, at godkendelse af en sikringsplan bortfalder, såfremt den, der bruger, opbevarer eller transporterer nukleart materiale, eller den, der driver et nukleart anlæg, ikke inden en nærmere angivet frist har indsendt og opnået godkendelse af en revideret sikringsplan.'\",\n",
       " \"'Statens Kunstfond kan inden for en beløbsramme fastsat på finansloven yde støtte til forfattere, oversættere og andre skabere af litterære værker, herunder tegneserieskabere og illustratorer, forfattere, oversættere og andre skabere af litterære værker, herunder tegneserieskabere og illustratorer, præmiering af litterære værker, litterære projekter, udgivelser og oversættelser, formidling og projekter, der styrker udbredelse af litteratur, internationale aktiviteter, efteruddannelse og andre aktiviteter, der kan fremme lovens formål.'\",\n",
       " 'Såfremt det af hensyn til udførelsen af tjenestepligterne skønnes nødvendigt at knytte tjenestebolig til stillingen, har tjenestemanden pligt til at bebo denne, så længe han beklæder stillingen, og til derefter at fraflytte den. Bestemmelser om indretning og vedligeholdelse af tjenesteboliger og om ind- og udflytning m.v. af sådanne boliger fastsættes af ministeren for offentlig innovation efter indhentet udtalelse fra Lønningsrådet.',\n",
       " 'Sydslesvigudvalget udarbejder en årlig beretning om sin virksomhed, herunder om fordelingen af de bevillinger, som er afsat på finansloven, og modtagne ansøgninger om tilskud. Sydslesvigudvalget sender for hvert finansår inden den 1. maj det følgende år et årsregnskab, der underskrives af alle medlemmer af udvalget, til ministeren for børn, undervisning og ligestilling og Rigsrevisionen.',\n",
       " 'Bestyrelsen skal forvalte professionshøjskolens midler, så de bliver til størst mulig gavn for professionshøjskolens formål. Professionshøjskolen er forpligtet til at vedligeholde sine bygninger på et forsvarligt niveau i overensstemmelse med en flerårig plan godkendt af bestyrelsen og til at sikre en forsvarlig standard af udstyr m.v. til de tilskudsberettigede aktiviteter. Professionshøjskolen skal under størst mulig hensyntagen til sikkerheden anbringe de likvide midler på en eller flere af følgende måder: I fondsaktiver eller gældsbreve, for hvilke den danske stat eller en dansk kommune står som udsteder eller garant, I fondsaktiver eller gældsbreve, for hvilke den danske stat eller en dansk kommune står som udsteder eller garant, i fondsaktiver udstedt af danske realkreditinstitutter, KommuneKredit eller andre danske finansieringsinstitutter under offentligt tilsyn, som indestående i pengeinstitutter hjemmehørende i Danmark eller i et andet land inden for Det Europæiske Økonomiske Samarbejdsområde (EØS) eller i værdipapirer fra et EU/EØS-medlemsland, bortset fra aktier og investeringsforeningsbeviser, som efter deres art og sikkerhed kan sidestilles med de aktiver, der er nævnt i nr. 1 og 2. Bestyrelsen kan uanset bestemmelsen i stk. 3, nr. 4, under størst mulig hensyntagen til sikkerheden i fornødent omfang anbringe likvide midler i andelsbeviser med begrænset hæftelse eller i aktier i det pengeinstitut, som professionshøjskolen bruger som sin sædvanlige bankforbindelse, og i andelsbeviser med begrænset hæftelse i forsyningsvirksomheder m.v., hvis institutionen derved opnår økonomiske fordele.',\n",
       " 'Præster, provster og biskopper afskediges fra udgangen af den måned, hvori de fylder 70 år.',\n",
       " \"'Danmarks nationale statistikmyndighed er Danmarks Statistik. Danmarks Statistik varetager følgende opgaver: Udvikling, indsamling, udarbejdelse og formidling af statistiske oplysninger vedrørende samfundsforhold, Udvikling, indsamling, udarbejdelse og formidling af statistiske oplysninger vedrørende samfundsforhold, udarbejdelse af statistiske ydelser på begæring af ministerier, kommunalbestyrelser, regionsråd og andre offentlige myndigheder og institutioner til brug for lovgivning, analyse og administration mod anvisning af finansiering, ledelse af eller medvirken ved indretning og benyttelse af de offentlige myndigheders og institutioners registre, som kan anvendes til statistiske formål, samordning af den officielle offentligt producerede statistik, statistikfaglige interesser i forbindelse med offentlige digitaliseringstiltag og opgaver vedrørende internationalt statistisk samarbejde. Danmarks Statistik kan ud over de opgaver, der er omtalt i stk. 2, udarbejde statistiske analyser og prognoser, udarbejde statistiske analyser og prognoser, bistå udvalg og kommissioner i statistiske spørgsmål, indsamle og kvalitetssikre oplysninger og stille disse til rådighed for offentlige myndigheder og institutioner som databehandler for andre dataansvarlige offentlige myndigheder og institutioner, stille data til rådighed for statistisk analyse og videnskabelige formål og drive indtægtsdækket og tilskudsfinansieret virksomhed på grundlag af institutionens statistiske produktion og afledte aktiviteter, jf. Finansministeriets budgetvejledning. Offentlige myndigheder eller institutioner, der forbereder indsamling og bearbejdning af statistiske oplysninger, skal underrette Danmarks Statistik herom med henblik på samordning.'\",\n",
       " \"Uddannelses- og forskningsministeren opretter og fører et offentligt register over rumgenstande. Hvis både Danmark og en eller flere stater, som er omfattet af konvention af 14. januar 1975 om registrering af genstande, der sendes ud i det ydre rum, betragtes som opsendende stater, registrerer uddannelses- og forskningsministeren rumgenstanden, når det er bestemt i en aftale mellem de berørte stater. Uddannelses- og forskningsministeren videreformidler oplysninger til FN's generalsekretær som fastsat i konventionen, der er nævnt i stk. 2. Uddannelses- og forskningsministeren fastsætter nærmere regler om det offentlige register over rumgenstande og hvilke oplysninger operatøren skal indberette til brug for registrering.\",\n",
       " \"'DSB kan optage lån, herunder driftskreditter, med sikkerhed i egen formue. Investeringer, som DSB eller datterselskaber heraf påtænker at foretage, og som overstiger en beløbsmæssig grænse på 100 mio. kr., skal forelægges Folketingets Finansudvalg til godkendelse. For investeringer i rullende materiel, der er omfattet af stk. 2, skal transport-, bygnings- og boligministeren godkende virksomhedens beslutninger om udbud og indgåelse af kontrakt herom. DSB fremsender en investerings- og finansieringsplan til transport-, bygnings- og boligministeren én gang årligt. Transport-, bygnings- og boligministeren kan efter godkendelse af Folketingets Finansudvalg garantere for DSB’s og DSB’s datterselskabers forpligtelser.'\",\n",
       " \"'På produktionsgrunduddannelse er fagligheden primært forbundet med praktisk arbejde, værkstedsundervisning og opgaveløsning med henblik på produktion, herunder som erhvervstræning i samarbejde med virksomheder.'\",\n",
       " \"'Transport- og bygningsministeren kan fastsætte nærmere regler om rensning af skorstene og røgkanaler samt om eftersyn i bygninger, hvori der er indrettet ildsteder.'\",\n",
       " \"'Hvor internationale organisationer åbner adgang for, at andre enheder end stater og sammenslutninger af stater kan opnå medlemskab i eget navn, kan regeringen efter anmodning fra Naalakkersuisut beslutte at indgive eller støtte en ansøgning herom fra Grønland, hvor dette er foreneligt med Grønlands forfatningsmæssige status.'\",\n",
       " 'Legemsbesigtigelse og legemsundersøgelse skal foretages så skånsomt, som omstændighederne tillader.',\n",
       " 'Ransagning af husrum, andre lokaliteter eller genstande, som en mistænkt har rådighed over, må kun foretages, hvis den pågældende med rimelig grund er mistænkt for en lovovertrædelse, der er undergivet offentlig påtale, og den pågældende med rimelig grund er mistænkt for en lovovertrædelse, der er undergivet offentlig påtale, og ransagningen må antages at være af væsentlig betydning for efterforskningen. Ved ransagning af den i § 409, stk. 1, nr. 1, nævnte karakter kræves herudover, enten at sagen angår en lovovertrædelse, der efter loven kan medføre anstaltsanbringelse, eller at der er bestemte grunde til at antage, at bevis i sagen eller genstande, der kan beslaglægges, kan findes ved ransagningen. Hvis der under ransagningen hos en mistænkt findes skriftlige meddelelser el.lign., som hidrører fra en person, der efter reglerne i § 143 er udelukket fra at afgive forklaring som vidne i sagen, må der ikke foretages ransagning heraf.',\n",
       " 'Ransagning af husrum, andre lokaliteter eller genstande, som en person, der ikke er mistænkt, har rådighed over, må, jf. dog stk. 2, kun foretages, hvis efterforskningen vedrører en lovovertrædelse, der efter loven kan medføre anstaltsanbringelse, og efterforskningen vedrører en lovovertrædelse, der efter loven kan medføre anstaltsanbringelse, og der er bestemte grunde til at antage, at bevis i sagen eller genstande, der kan beslaglægges, kan findes ved ransagningen. Ransagning må endvidere foretages, hvis den pågældende giver skriftligt samtykke til ransagningen eller der i tilslutning til opdagelsen eller anmeldelsen af en forbrydelse gives samtykke af den pågældende. Hos personer, som efter reglerne i § 143 er udelukket fra at afgive forklaring som vidne i sagen, er skriftlige meddelelser og lign.',\n",
       " 'Ransagning skal foretages så skånsomt, som omstændighederne tillader, herunder så vidt muligt uden at forårsage ødelæggelse eller beskadigelse, og uden at indgrebet på grund af tidspunktet for foretagelsen eller den måde, hvorunder det foretages, giver anledning til unødig opsigt. Hvis den person, som ransagningen foretages hos, eller i dennes fravær andre personer træffes til stede, skal de pågældende gøres bekendt med, at der foretages ransagning, og grundlaget herfor samt opfordres til at overvære ransagningen. Træffes ingen til stede, når der foretages en ransagning hos nogen, tilkaldes så vidt muligt to personer, der bor sammen med den pågældende, eller to andre vidner til at overvære ransagningen. Hvis den person, som ransagningen foretages hos, ikke var til stede under ransagningen, underretter politiet den pågældende herom.',\n",
       " 'Genstande, som en mistænkt har rådighed over, kan beslaglægges, hvis den pågældende med rimelig grund er mistænkt for en lovovertrædelse, der er undergivet offentlig påtale, og den pågældende med rimelig grund er mistænkt for en lovovertrædelse, der er undergivet offentlig påtale, og der er grund til at antage, at genstanden kan tjene som bevis eller bør konfiskeres, jf. dog stk. 2, eller ved lovovertrædelsen er frataget nogen, som kan kræve den tilbage. En mistænkts aktiver kan beslaglægges, såfremt den pågældende med rimelig grund er mistænkt for en lovovertrædelse, der er undergivet offentlig påtale, og den pågældende med rimelig grund er mistænkt for en lovovertrædelse, der er undergivet offentlig påtale, og beslaglæggelse anses for nødvendig for at sikre det offentliges krav på konfiskation efter kriminallovens § 166, stk. 1, 1. pkt., 2. led, og 2. pkt., og stk. 4, § 168, stk. 5, og § 170, 2. pkt., bødekrav, krav på sagsomkostninger eller forurettedes krav på erstatning i sagen. Beslaglæggelse af en mistænkts hele formue eller en del af denne, herunder formue, som den mistænkte senere måtte erhverve, kan foretages, hvis der er rejst tiltale for en grov lovovertrædelse og tiltalte har unddraget sig videre forfølgning i sagen. Skriftlige meddelelser el.lign., som hidrører fra en person, der efter reglerne i § 143 er udelukket fra at afgive forklaring som vidne i sagen, kan ikke beslaglægges hos en mistænkt.',\n",
       " 'Genstande, som en person, der ikke er mistænkt, har rådighed over, kan beslaglægges som led i efterforskningen af en lovovertrædelse, der er undergivet offentlig påtale, hvis der er grund til at antage, at genstanden kan tjene som bevis, bør konfiskeres eller ved lovovertrædelsen er frataget nogen, som kan kræve den tilbage. Hos personer, som efter reglerne i § 143 er udelukket fra at afgive forklaring som vidne i sagen, kan skriftlige meddelelser mellem den mistænkte og den pågældende person samt dennes notater og lign.',\n",
       " 'Fotografier af en mistænkt må kun forevises for personer uden for politiet, hvis den pågældende med rimelig grund er mistænkt for en lovovertrædelse, der er undergivet offentlig påtale, og den pågældende med rimelig grund er mistænkt for en lovovertrædelse, der er undergivet offentlig påtale, og indgrebet må antages at være af væsentlig betydning for efterforskningen. Afgørelse om forevisning af fotografier træffes af politiet.',\n",
       " 'Den Uafhængige Politiklagemyndighed undersøger og træffer afgørelse vedrørende klager over politipersonalets adfærd i tjenesten (adfærdsklager). Rigspolitichefen yder efter anmodning fra Politi-klagemyndigheden bistand til undersøgelsen. Politiet kan på egen hånd foretage uopsættelige undersøgelsesskridt. Med henblik på at sikre et tilstrækkeligt kendskab til de grønlandske forhold i Politiklagemyndighedens sagsbehandling afgiver Rådet for Politiklagesager i Grønland en vejledende udtalelse til brug for sagens oplysning, jf. § 64.',\n",
       " 'Når efterforskningen er afsluttet, sender Politi-klagemyndigheden sagen til statsadvokaten med henblik på afgørelse af tiltalespørgsmålet. Politiklagemyndigheden udarbejder en redegørelse til statsadvokaten om efterforskningen. Statsadvokaten kan anmode Politiklagemyndigheden om at foretage yderligere efterforskning. Politiklagemyndigheden kan påklage statsadvokatens afgørelser efter § 493 d, stk. 1 og 3, til Rigsadvokaten.',\n",
       " 'Kapitalselskaber omfattet af denne lov skal have en selskabskapital, der skal opgøres i danske kroner eller euro, jf. dog stk. 3. Aktieselskaber skal have en selskabskapital svarende til mindst 400.000 kr., og anpartsselskaber skal have en selskabskapital svarende til mindst 40.000 kr. Erhvervsstyrelsen kan fastsætte nærmere regler om betingelserne for at angive selskabskapitalen i en anden valuta end danske kroner eller euro.',\n",
       " 'Kapitalselskaber omfattet af denne lov skal have en selskabskapital, der skal opgøres i danske kroner eller euro, jf. dog stk. 3. Aktieselskaber skal have en selskabskapital svarende til mindst 400.000 kr., og anpartsselskaber skal have en selskabskapital svarende til mindst 40.000 kr. Erhvervsstyrelsen kan fastsætte nærmere regler om betingelserne for at angive selskabskapitalen i en anden valuta end danske kroner eller euro.',\n",
       " 'I denne lov forstås ved: Aktieselskab: Et kapitalselskab, herunder et partnerselskab, hvor kapitalejernes indskudskapital er fordelt på aktier. Aktieselskab: Et kapitalselskab, herunder et partnerselskab, hvor kapitalejernes indskudskapital er fordelt på aktier. Anpartsselskab: Et kapitalselskab, hvor kapitalejernes indskudskapital er fordelt på anparter. Dattervirksomhed: En virksomhed, der er underlagt bestemmende indflydelse af et moderselskab, jf. §§ 6 og 7. Det centrale ledelsesorgan: Bestyrelsen i selskaber, der har en direktion og en bestyrelse, jf. § 111, stk. 1, nr. 1, Bestyrelsen i selskaber, der har en direktion og en bestyrelse, jf. § 111, stk. 1, nr. 1, direktionen i selskaber, der alene har en direktion, jf. § 111, stk. 1, nr. 2, og direktionen i selskaber, der både har en direktion og et tilsynsråd, jf. § 111, stk. 1, nr. 2. Det øverste ledelsesorgan: Bestyrelsen i selskaber, der har en direktion og en bestyrelse, jf. § 111, stk. 1, nr. 1, Bestyrelsen i selskaber, der har en direktion og en bestyrelse, jf. § 111, stk. 1, nr. 1, direktionen i selskaber, der alene har en direktion, jf. § 111, stk. 1, nr. 2, og tilsynsrådet i selskaber, der både har en direktion og et tilsynsråd, jf. § 111, stk. 1, nr. 2. Ejeraftale: Aftale, der regulerer ejer- og ledelsesforhold i selskabet, og som er indgået mellem kapitalejere. Ejerbeviser: Bevis på ejerskab til en kapitalandel, jf. §§ 59 og 60. Ejerbog: Den fortegnelse, som kapitalselskabet skal føre over alle aktionærer eller anpartshavere, jf. § 50. Ejerregister: Det register, som Erhvervsstyrelsen fører over visse kapitalejeres kapitalposter, jf. §§ 58 og 58 a. Fondsandele: Aktier eller anparter, der udstedes i forbindelse med fondsudstedelse, jf. § 165. Grænseoverskridende omdannelse: En transaktion, hvorved et kapitalselskab uden at blive opløst omdanner den retlige form, hvorunder det er registreret i et EU- eller EØS-land, til en af de retlige former i et andet EU- eller EØS-land, der er opført i bilag II til Europa-Parlamentets og Rådets direktiv 2017/1132/EU, og som minimum flytter sit vedtægtsmæssige hjemsted til det pågældende EU- eller EØS-land, samtidig med at kapitalselskabet forbliver den samme juridiske person. Grænseoverskridende fusion: En fusion, hvori der indgår kapitalselskaber, som hører under mindst to forskellige EU- eller EØS-landes lovgivning. Grænseoverskridende spaltning: En spaltning, hvori der indgår kapitalselskaber, som hører under mindst to forskellige EU- eller EØS-landes lovgivning. Hjemsted: Den adresse her i landet, som selskabet kan kontaktes på. Kapitalandel: En aktie eller anpart, jf. §§ 45-49. Kapitalejer: Enhver ejer af en eller flere kapitalandele. Kapitalklasse: En gruppe kapitalandele, hvortil der er knyttet de samme rettigheder eller pligter. Kapitalselskab: Et anpartsselskab eller et aktieselskab, herunder et partnerselskab. Koncern: Et moderselskab og dets dattervirksomheder, jf. § 7. Ledelsen: Alle de organer, som er nævnt i nr. 4 og 5. Moderselskab: Et kapitalselskab, som har en bestemmende indflydelse over en eller flere dattervirksomheder, jf. §§ 6 og 7. Multilateral handelsfacilitet: Definitionen af en multilateral handelsfacilitet i § 3, nr. 3, i lov om kapitalmarkeder finder anvendelse. Partnerselskab: Et kommanditselskab, jf. § 2, stk. 2, i lov om visse erhvervsdrivende virksomheder, hvor kommanditisterne i selskabet har indskudt en bestemt kapital, som er fordelt på aktier, jf. kapitel 21. Reassumption: Midlertidig genoptagelse af boet efter et kapitalselskab, efter at selskabet er slettet i Erhvervsstyrelsens it-system, jf. § 235. Rederiaktieselskab: Et aktieselskab, der driver rederivirksomhed, jf. § 112, stk. 3. Reel ejer: En fysisk person, der i sidste ende direkte eller indirekte ejer eller kontrollerer en tilstrækkelig del af ejerandelene eller stemmerettighederne, eller som udøver kontrol ved hjælp af andre midler, bortset fra ejere af selskaber, hvis ejerandele handles på et reguleret marked eller et tilsvarende marked, som er undergivet oplysningspligt i overensstemmelse med EU-retten eller tilsvarende internationale standarder. Registreringsdato: Den dato, hvor en kapitalejers ret til at deltage i en generalforsamling og afgive stemme i tilknytning til sine kapitalandele fastsættes. Reguleret marked: Definitionen af et reguleret marked i § 3, nr. 2, i lov om kapitalmarkeder finder anvendelse. Repræsenteret kapital: Kapitalandele, der er repræsenteret på generalforsamlingen og enten har stemmeret eller er stemmeløse og tillagt repræsentationsret i vedtægterne. Repræsentationsret: Den ret, som kan tillægges stemmeløse kapitalandele til at møde på generalforsamlingen og til at indgå i opgørelsen af den på generalforsamlingen repræsenterede del af selskabskapitalen. Selskabsdokumenter: De dokumenter og bilag, som et kapitalselskab er forpligtet til at lade udarbejde i henhold til denne lov eller regler fastsat i medfør heraf. Selskabskapital: Det indskud, som kapitalejernes hæftelse er begrænset til i medfør af denne lov, jf. § 4. Statslige aktieselskaber: Et aktieselskab, hvortil den danske stat har samme forbindelse, som et moderselskab har til en dattervirksomhed, jf. §§ 6 og 7. Værdipapircentral: Definition af værdipapircentral i § 3, nr. 10, i lov om kapitalmarkeder finder anvendelse.',\n",
       " 'Et moderselskab udgør sammen med en eller flere dattervirksomheder en koncern.',\n",
       " 'Bestemmende indflydelse er beføjelsen til at styre en dattervirksomheds økonomiske og driftsmæssige beslutninger. Bestemmende indflydelse i forhold til en dattervirksomhed foreligger, når moderselskabet direkte eller indirekte gennem en dattervirksomhed ejer mere end halvdelen af stemmerettighederne i en virksomhed, medmindre det i særlige tilfælde klart kan påvises, at et sådant ejerforhold ikke udgør bestemmende indflydelse. Ejer et moderselskab ikke mere end halvdelen af stemmerettighederne i en virksomhed, foreligger der bestemmende indflydelse, hvis moderselskabet har råderet over mere end halvdelen af stemmerettighederne i kraft af en aftale med andre investorer, råderet over mere end halvdelen af stemmerettighederne i kraft af en aftale med andre investorer, beføjelse til at styre de finansielle og driftsmæssige forhold i en virksomhed i henhold til en vedtægt eller aftale, beføjelse til at udpege eller afsætte flertallet af medlemmerne i det øverste ledelsesorgan og dette organ besidder den bestemmende indflydelse på virksomheden eller råderet over det faktiske flertal af stemmerne på generalforsamlingen eller i et tilsvarende organ og derved besidder den faktiske bestemmende indflydelse over virksomheden. Eksistensen og virkningen af potentielle stemmerettigheder, herunder tegningsretter og købsoptioner på kapitalandele, som aktuelt kan udnyttes eller konverteres, skal tages i betragtning ved vurderingen af, om et selskab har bestemmende indflydelse. Ved opgørelsen af stemmerettigheder i en dattervirksomhed ses der bort fra stemmerettigheder, som knytter sig til kapitalandele, der besiddes af dattervirksomheden selv eller dens dattervirksomheder.',\n",
       " 'Erhvervsstyrelsen kan i indtil 5 år fra registreringstidspunktet kræve, at der indsendes bevis for, at registreringen er lovligt foretaget. Finder Erhvervsstyrelsen, at der er registreret åbenbart urigtige oplysninger, kan styrelsen foretage en administrativ korrektion heraf.',\n",
       " 'Vedtægterne for et kapitalselskab skal indeholde oplysning om: Kapitalselskabets navn og eventuelle binavne, Kapitalselskabets navn og eventuelle binavne, kapitalselskabets formål, selskabskapitalens størrelse og antallet af kapitalandele eller kapitalandelenes pålydende værdi, kapitalandelenes rettigheder, kapitalselskabets ledelsesorganer, herunder oplysning om den valgte ledelsesstruktur, jf. § 111, og i aktieselskaber oplysning om antallet eller mindste og højeste antal medlemmer af de forskellige ledelsesorganer og eventuelle suppleanter samt valgperioden for medlemmerne af det øverste ledelsesorgan, indkaldelse til generalforsamling og kapitalselskabets regnskabsår.',\n",
       " 'Der skal til enhver tid være indbetalt 25 pct. af selskabskapitalen, dog mindst 40.000 kr. Indbetalingen skal ske i forhold til hver enkelt kapitalandel. Ikke indbetalt selskabskapital kan af kapitalselskabets centrale ledelsesorgan kræves indbetalt på anfordring. Kapitalselskabets fordringer på indbetalinger på kapitalandele kan ikke afhændes eller pantsættes. Anføres selskabskapitalens størrelse på breve og andre forretningspapirer, herunder elektroniske meddelelser, og på kapitalselskabets hjemmeside, skal såvel den tegnede som den indbetalte kapital anføres.',\n",
       " 'En kapitalejers rettigheder efter denne lov består, uanset om kapitalandelen er fuldt indbetalt, jf. dog stk. 3. En kapitalejer har pligt til at foretage indbetaling på en kapitalandel, når det centrale ledelsesorgan anmoder herom, jf. § 33, stk. 2. Har en kapitalejer undladt rettidigt at efterkomme det centrale ledelsesorgans krav om indbetaling af udestående beløb på en kapitalandel, kan kapitalejeren ikke udøve sin stemmeret på generalforsamlingen for nogen del af sin kapitalpost i selskabet, og den pågældendes kapitalpost anses ikke for repræsenteret på generalforsamlingen, før beløbet er indbetalt og registreret i kapitalselskabet. En kapitalejer kan ikke uden samtykke fra kapitalselskabets centrale ledelsesorgan bringe fordringer på kapitalselskabet i modregning mod sin forpligtelse til at indbetale udestående beløb. En kapitalejer kan ikke uden samtykke fra kapitalselskabets centrale ledelsesorgan indskyde andre værdier end kontanter til opfyldelse af sin forpligtelse til at indbetale udestående beløb. Overdrager en kapitalejer en ikke fuldt indbetalt kapitalandel, hæfter vedkommende solidarisk med erhververen og senere erhververe for den resterende indbetaling af kapitalandelen.',\n",
       " 'Hvis der ikke i forbindelse med stiftelsen af kapitalselskabet er foretaget valg af kapitalselskabets ledelse og eventuel revisor, skal stifterne senest 2 uger fra underskrivelsen af stiftelsesdokumenterne afholde generalforsamling i kapitalselskabet til valg af kapitalselskabets ledelse og eventuel revisor.',\n",
       " 'En erhverver af en eller flere ihændehaveraktier, som besidder mindre end 5 pct. af selskabskapitalens stemmerettigheder eller mindre end 5 pct. af selskabskapitalen, skal senest 2 uger efter erhvervelsen registreres i Erhvervsstyrelsens it-system, jf. dog stk. 4. Registreringen i henhold til stk. 1 skal indeholde oplysning om dato for erhvervelse, antallet af ihændehaveraktier og erhververens fulde navn, bopæl og cpr-nummer eller for virksomheders vedkommende navn, cvr-nummer og hjemsted. Ved overdragelse af en eller flere ihændehaveraktier, som er registreret i medfør af stk. 1, skal det senest 2 uger efter overdragelsen registreres i Erhvervsstyrelsens it-system, at overdrageren ikke længere besidder aktierne, og datoen for overdragelsen skal registreres, jf. dog stk. 4. Pligten til at foretage registrering efter stk. 1 og 3 gælder ikke, hvis de ihændehaveraktier, der er henholdsvis erhvervet og overdraget, er optaget til handel på et reguleret marked. Oplysninger, som er registreret i medfør af stk. 1 og 3, kan alene videregives til andre offentlige myndigheder. Erhvervsstyrelsen fastsætter nærmere regler om registrering af ejeroplysninger om ihændehaveraktier i styrelsens it-system, herunder hvilke oplysninger erhververen eller overdrageren selv kan eller skal registrere i styrelsens it-system.',\n",
       " 'Kapitalejernes ret til at træffe beslutninger i kapitalselskabet udøves på generalforsamlingen. Kapitalejernes beslutninger på generalforsamlingen kan konkret træffes under fravigelse af lovens og vedtægternes form- og fristkrav, hvis samtlige kapitalejere er enige herom, jf. dog stk. 5. Kapitalejernes beslutninger på generalforsamlingen kan generelt træffes under fravigelse af lovens regler om form og frist, jf. dog stk. 5. Det centrale ledelsesorgan kan bestemme, at andre end de personer, som er opregnet i denne lov, kan overvære generalforsamlingen, medmindre andet er bestemt i vedtægterne. Kapitalejerne i statslige aktieselskaber og i aktieselskaber, som har aktier optaget til handel på et reguleret marked i et land inden for Den Europæiske Union eller i et land, som Unionen har indgået aftale med på det finansielle område, kan ikke træffe beslutninger under fravigelse af lovens regler om form og frist, jf. stk. 2 og 3. Statslige aktieselskabers generalforsamlinger er åbne for pressen.',\n",
       " 'På den ordinære generalforsamling skal der træffes afgørelse om godkendelse af årsrapporten, godkendelse af årsrapporten, anvendelse af overskud eller dækning af underskud i henhold til den godkendte årsrapport, eventuel ændring af beslutning om revision af kapitalselskabets kommende årsregnskaber m.v., hvis kapitalselskabet ikke er omfattet af revisionspligten efter årsregnskabsloven eller anden lovgivning, og andre spørgsmål, som efter kapitalselskabets vedtægter er henlagt til generalforsamlingen. Ordinær generalforsamling skal afholdes i så god tid, at den godkendte årsrapport kan indsendes til Erhvervsstyrelsen, så den er modtaget i styrelsen inden udløbet af fristen i årsregnskabsloven.',\n",
       " 'Ekstraordinær generalforsamling skal afholdes, når det centrale ledelsesorgan, tilsynsrådet eller den generalforsamlingsvalgte revisor har forlangt det. I anpartsselskaber kan enhver anpartshaver forlange, at der afholdes en ekstraordinær generalforsamling. I aktieselskaber kan aktionærer, der ejer 5 pct. af selskabets kapital eller den mindre brøkdel, som vedtægterne måtte bestemme, eller som er tillagt ret hertil i vedtægterne, skriftligt forlange, at der afholdes en ekstraordinær generalforsamling.',\n",
       " 'Et udenlandsk barn under 12 år, der er adopteret ved en dansk adoptionsbevilling, bliver dansk statsborger ved adoptionen, hvis barnet adopteres af et ægtepar eller et samlevende par, hvor mindst én af ægtefællerne eller en af de samlevende er dansk statsborger, eller af en enlig dansk statsborger. Dansk indfødsret erhverves fra det tidspunkt, hvor adoptionens retsvirkninger indtræder. Stk. 1 og 2 finder tilsvarende anvendelse i tilfælde, hvor barnet er adopteret ved en udenlandsk afgørelse, der anerkendes i medfør af adoptionslovens § 28, stk. 2.',\n",
       " 'Ved udbetaling af Særlig Pensionsopsparing efter § 17 j, stk. 2, i lov om Arbejdsmarkedets Tillægspension svares en afgift på 35 pct. af den del af udbetalingen, der ikke overstiger 15.000 kr. Af den del af udbetalingen, der overstiger 15.000 kr., svares en afgift på 50 pct.',\n",
       " 'Der kan gives tilladelse til afholdelse af lokale puljevæddemål på cykelløb på bane, hundevæddeløb på væddeløbsbane, kapflyvning med duer og hestevæddeløb. Tilladelse kan gives for indtil 3 år og for et bestemt antal dage for de enkelte år. Når begivenheden, der indgås væddemål på, finder sted på en afgrænset bane, må indsatsen i væddemålet kun ske inden for banens område og i direkte tilknytning til begivenheden.',\n",
       " 'For tinglysning af ejerskifte af fast ejendom eller andele heraf udgør afgiften 1.750 kr. og 0,6 pct. af afgiftsgrundlaget efter stk. 2 og 4-10. Ved ejerskifte af ejendomme bortset fra de i stk. 4 anførte ejendomme beregnes afgiften af ejerskiftesummen, dog mindst af den senest på tidspunktet for anmeldelse til tinglysning offentliggjorte ejendomsværdi, eller ved ejerskifte af en ideel andel af en fast ejendom den forholdsmæssige andel heraf, jf. den tidligere gældende lov om vurdering af landets faste ejendomme, jf. lovbekendtgørelse nr. 1067 af 30. august 2013 som ændret ved § 1 i lov nr. 1635 af 26. december 2013, lov nr. 1535 af 27. december 2014 og § 1 i lov nr. 61 af 16. januar 2017, jf. ejendomsvurderingslovens §§ 87 og 88. Angives værdien efter stk. 2, 3. pkt., ikke, eller er Tinglysningsretten i tvivl om rigtigheden af værdien, oversender Tinglysningsretten spørgsmålet om ejendommens værdi til told- og skatteforvaltningen til afgørelse, når tinglysningsekspeditionen er afsluttet. Ved ejerskifte af enfamilieshus, flerfamilieshus eller fritidsbolig beregnes afgiften af ejerskiftesummen. Et enfamilieshus efter denne lov er en ejendom, der er indrettet med henblik på beboelse af en familie, herunder en parcelejendom eller ejerlejlighed. Et flerfamilieshus efter denne lov er en ejendom med flere selvstændige beboelseslejligheder med eget køkken, hvor hele ejendommen anvendes til beboelse. En fritidsbolig efter denne lov er en fast ejendom, der ikke anvendes til helårsbeboelse, herunder en ejerlejlighed eller timeshareandel. Ved ejerskifte af de i stk. 4 anførte ejendomme, hvor ejendommen anvendes som blandet beboelses- og erhvervsejendom, beregnes afgiften efter stk. 2, 1. pkt. Foreligger der ved ejerskifte af de i stk. 4 nævnte ejendomme, jf. dog stk. 8, ikke en ejerskiftesum, hvoraf afgiften kan beregnes, beregnes afgiften af den senest på tidspunktet for anmeldelse til tinglysning offentliggjorte ejendomsværdi eller ved ejerskifte af en ideel andel af en ejendom efter stk. 4 af den forholdsmæssige andel heraf. Er ejerskifte af en af de i stk. 4 nævnte ejendomme, jf. dog stk. 8, ikke sket som almindelig fri handel, og udgør ejerskiftesummen et beløb, der er mindre end 85 pct. af den senest på tidspunktet for anmeldelse til tinglysning offentliggjorte ejendomsværdi, beregnes afgiften af 85 pct. af ejendomsværdien. Skatteministeren kan fastsætte regler om pligt til at afgive dokumentation eller oplysninger til brug for beregningen af og kontrollen med afgift efter stk. 2 og 4-10. Skatteministeren kan fastsætte nærmere regler om fremgangsmåden ved vurderingen af værdien efter stk. 3, 6.-8. pkt.',\n",
       " 'Landfogeden skal virke for at etablere et kriminalitetsforebyggende samarbejde mellem politiet, kriminalforsorgen og hver kommune i politikredsen, herunder med inddragelse af skoler og sociale myndigheder. Landfogeden skal virke for at etablere et samarbejde mellem politiet, de sociale myndigheder og social- og behandlingspsykiatrien som led i indsatsen over for socialt udsatte personer.',\n",
       " 'Politiet kan videregive oplysninger om enkeltpersoners rent private forhold til andre myndigheder, hvis videregivelsen må anses for nødvendig af hensyn til det kriminalitetsforebyggende samarbejde (SSP-samarbejdet), det kriminalitetsforebyggende samarbejde (SSP-samarbejdet), politiets samarbejde med de sociale myndigheder og social- og behandlingspsykiatrien som led i indsatsen over for socialt udsatte personer (PSP-samarbejdet) eller samarbejdet mellem kriminalforsorgen, de sociale myndigheder og politiet (KSP-samarbejdet) som led i indsatsen over for dømte, der løslades fra institutioner under kriminalforsorgen, dømte, der løslades fra institutioner under kriminalforsorgen, dømte under 18 år, der løslades fra institutioner m.v. uden for kriminalforsorgen, hvor de er anbragt i henhold til § 3 a, stk. 1, i bekendtgørelse om fuldbyrdelse af frihedsstraf, og personer, der løslades fra varetægtsfængsling eller anden frihedsberøvende foranstaltning efter kapitel 83, hvis de skønnes at være radikaliserede eller i risiko for at blive det. I samme omfang som nævnt i stk. 1 kan en myndighed videregive oplysninger om enkeltpersoner til politiet og andre myndigheder, der indgår i de former for samarbejde, som er nævnt i stk. 1. Inddrages selvejende institutioner, der løser opgaver for det offentlige inden for social-, undervisnings- og beskæftigelsesområdet eller social- og behandlingspsykiatrien, i de former for samarbejde, som er nævnt i stk. 1, kan der i samme omfang som nævnt i stk. 1 og 2 udveksles oplysninger mellem myndighederne og institutionerne. De myndigheder og institutioner, der indgår i de former for samarbejde, som er nævnt i stk. 1, er ikke forpligtet til at videregive oplysninger efter stk. 1-3.',\n",
       " 'Politiet kan videregive fortrolige oplysninger vedrørende personer, der er fyldt 18 år, til forældre eller andre, herunder familiemedlemmer, der har lignende tætte relationer til den pågældende person, hvis videregivelsen må anses for nødvendig som led i en kriminalitetsforebyggende indsats over for personen.',\n",
       " 'Den Uafhængige Politiklagemyndighed (Politiklagemyndigheden), jf. den danske retsplejelovs kapitel 11 a, er en selvstændig myndighed, der behandler klager over politiet, jf. kapitel 107, og efterforsker straffesager mod politipersonale, jf. kapitel 108. Politiklagemyndigheden udøver sine funktioner i fuld uafhængighed.',\n",
       " 'Personer, der ikke har fået beskikkelse som advokat, og personer, der er udelukket fra at udøve advokatvirksomhed, eller hvis ret hertil er ophørt i medfør af denne lov, må ikke betegne sig som advokat eller benytte en anden betegnelse, der er egnet til forveksling hermed. Overtrædelse af bestemmelserne i stk. 1 straffes med bøde, medmindre højere straf er forskyldt efter anden lovgivning.',\n",
       " 'En advokat skal i mindst 1 år enten have været i virksomhed som autoriseret fuldmægtig hos en advokat, der udøver advokatvirksomhed, eller som advokat have været ansat hos en anden advokat, der udøver advokatvirksomhed, for at kunne udøve advokatvirksomhed i fællesskab med en anden advokat, udøve enkeltmandsvirksomhed som advokat eller eje aktier eller anparter i et advokatselskab. Justitsministeren kan i særlige tilfælde gøre undtagelse fra bestemmelsen i stk. 1.',\n",
       " 'Finanstilsynet kan påbyde et fondsmæglerselskab eller en fondsmæglerholdingvirksomhed at afsætte et medlem af direktionen inden for en frist, der er fastsat af Finanstilsynet, hvis medlemmet af direktionen efter § 75, stk. 1, eller § 76 ikke kan bestride stillingen. Finanstilsynet kan påbyde et medlem af bestyrelsen i et fondsmæglerselskab eller en fondsmæglerholdingvirksomhed at nedlægge sit hverv inden for en frist, der er fastsat af Finanstilsynet, hvis bestyrelsesmedlemmet efter § 75, stk. 1, eller § 76 ikke kan bestride hvervet. Finanstilsynet kan påbyde et fondsmæglerselskab at afsætte en direktør, når der er rejst tiltale mod den pågældende i en straffesag om overtrædelse af straffeloven, den finansielle lovgivning eller anden relevant lovgivning, indtil straffesagen er afgjort, hvis domfældelse vil indebære, at direktøren ikke opfylder kravene i § 75, stk. 1, nr. 3. Varigheden af påbud meddelt efter stk. 2 på baggrund af § 75, stk. 1, nr. 2 og 4-6, skal fremgå af påbuddet. Påbud meddelt i henhold til stk. 1-3 kan af fondsmæglerselskabet eller fondsmæglerholdingvirksomheden og af den person, som påbuddet vedrører, forlanges indbragt for domstolene. Finanstilsynet kan af egen drift eller efter ansøgning tilbagekalde et påbud meddelt efter stk. 2 og stk. 3, 3. pkt. Afslår Finanstilsynet en ansøgning om at tilbagekalde påbuddet, kan ansøgeren forlange afslaget indbragt for domstolene. Har fondsmæglerselskabet eller fondsmæglerholdingvirksomheden ikke afsat direktøren inden for den fastsatte frist, kan Finanstilsynet inddrage fondsmæglerselskabets eller fondsmæglerholdingvirksomhedens tilladelse.',\n",
       " 'I virksomheder med 10 ansatte eller derover, som gør tjeneste som besætningsmedlemmer på luftfartøj, oprettes en arbejdsmiljøorganisation. Arbejdsmiljøorganisationen udgøres af højst 4 arbejdsmiljørepræsentanter og et tilsvarende antal repræsentanter for arbejdsgiveren. Arbejdsmiljøorganisationen skal inden for virksomheden være rådgivende med hensyn til planlægning og gennemførelse af foranstaltninger af betydning for arbejdsmiljøet for tjeneste på luftfartøjer. Arbejdsmiljøorganisationen skal mødes mindst 1 gang årligt.',\n",
       " 'Er en lønmodtager syg, når ferien begynder, har lønmodtageren ikke pligt til at begynde ferien. En lønmodtager, som bliver syg under ferien, har mod lægelig dokumentation ret til erstatningsferie efter i alt 5 sygedage under ferie i samme ferieår. Lønmodtageren betaler for den lægelige dokumentation, jf. stk. 2. Ved opgørelsen af erstatningsferie efter stk. 1 og 2 ses bort fra sygedage forud for den dag, hvor lønmodtageren giver arbejdsgiveren meddelelse om sygdommen, medmindre manglende meddelelse ikke kan bebrejdes lønmodtageren. En lønmodtager omfattet af stk. 1 eller 2, som bliver rask, før den planlagte ferieperiode er ovre, har ret til i forlængelse af sin raskmelding at holde den resterende del af den planlagte ferieperiode, såfremt lønmodtageren ved sin raskmelding giver besked herom.',\n",
       " 'Bopælskommunen afholder udgifter forbundet med tandpleje efter §§ 131, 133, 134 a og 135. Tilbyder en anden kommune end bopælskommunen tandpleje til borgere med særlige sociale problemer, jf. § 134 a, stk. 1, har denne kommune ret til mellemkommunal refusion for udgifter til tandpleje efter § 134 a, stk. 1, fra bopælskommunen.',\n",
       " 'Statens tilskud til den enkelte kommunes små storbyteatre fastsættes under et i en 4-årig aftale mellem staten og kommunen. Tilskud til husleje kan kun udgøre indtil 15 pct. af det tilskudsberettigede kommunale driftstilskud til det enkelte lille storbyteater. Statstilskuddet ydes kun, såfremt kommunen har indgået minimum 3-årige aftaler om driftstilskud med de enkelte teatre. Kulturministeren fastsætter efter forhandling med Kommunernes Landsforening nærmere regler om ordningen for små storbyteatre. Kulturministeren kan i forbindelse med kulturaftaler med kommuner m.v. fravige bestemmelserne i stk. 1-4 og i § 16 a.',\n",
       " 'Er det ultimative moderselskab hjemmehørende i en jurisdiktion med en selskabsskattesats på 20 pct. eller højere, nedsættes ekstraskatten efter reglerne i afsnit III om underbeskattet overskud til nul for hvert regnskabsår af højst 12 måneders varighed, der påbegyndes den 31. december 2025 eller før, og som slutter senest den 30. december 2026.',\n",
       " 'Børne- og undervisningsministeren fastsætter regler om, at kursister, der modtager efterløn eller en aldersbetinget pension, og som ikke eller kun i mindre omfang har arbejdsmarkedstilknytning, og som deltager i almen voksenuddannelse eller hf-enkeltfag, og som ikke er omfattet af § 30, stk. 4, skal betale en deltagerbetaling, der er højere end den, andre kursister skal betale efter regler fastsat i henhold til § 47, stk. 1, eller efter § 48, stk. 1. Børne- og undervisningsministeren skal for kursister omfattet af regler fastsat i henhold til stk. 1 nedsætte en eller flere takster pr. årselev, som er fastsat på de årlige finanslove, for de taxametertilskud, der ydes efter § 30, stk. 1-3, med det beløb, hvormed deltagerbetalingen er forhøjet for de pågældende kursister. Regler fastsat efter stk. 1 og takstnedsættelse efter stk. 2 kan tidligst have virkning for undervisningsforløb, der påbegyndes 1 måned efter bekendtgørelsens offentliggørelse i Lovtidende.',\n",
       " 'Rådet og personer, som rådet har bemyndiget hertil, har til enhver tid uden retskendelse mod behørig legitimation adgang til forsøgslokaler og andre lokaler, hvor forsøgsdyr anbringes, med henblik på at tilvejebringe oplysninger til brug for tilsynet. Den, der leder forsøgene, og personer, der er beskæftiget med forsøgene eller med dyrenes pasning, skal yde tilsynsmyndigheden vejledning og hjælp under tilsyn efter stk. 1.',\n",
       " 'Beskæftigelsesministeren fastsætter regler om, hvordan jobcenteret skal foretage vurderingen af de lediges uddannelses- eller beskæftigelsespotentiale. Beskæftigelsesministeren fastsætter regler om et landsdækkende digitalt afklarings- og dialogværktøj, som kan benyttes af jobcentre og arbejdsløshedskasser.',\n",
       " 'Tages administrationsboet under konkursbehandling, behandles boet i overensstemmelse med konkurslovens regler, jf. dog stk. 2. Aktiverne i administrationsboet, herunder finansielle instrumenter, opgjort efter fradrag af udgifter til administrator anvendes i lige forhold til betaling af krav fra indehaverne af de særligt dækkede obligationer, modparter på de finansielle instrumenter, som de registrerede aktiver og aftaler ligger til grund for, indehavere af eventuelle refinansieringsobligationer udstedt af administrator i medfør af § 247 h, stk. 1, og dækning af lån, som administrationsboet har optaget i medfør af § 247 h, stk. 2.',\n",
       " 'Styrelsen for Patientsikkerhed kan efter ansøgning give en person, der har fået frataget sin autorisation efter § 7 b eller indskrænket sit virksomhedsområde efter § 8 a, tilladelse til at generhverve autorisationen eller få ophævet indskrænkningen af virksomhedsområdet. En person kan forlange Styrelsen for Patientsikkerheds afslag på generhvervelse af autorisationen eller ophævelse af indskrænkningen af virksomhedsområde efter stk. 1 indbragt for domstolene. Begæring om domstolsprøvelse efter stk. 2 skal fremsættes over for Styrelsen for Patientsikkerhed, senest 3 uger efter at afgørelsen efter stk. 1 er meddelt den pågældende.',\n",
       " 'Ved forurenet jord forstås jord, der på grund af menneskelig påvirkning kan have skadelig virkning på grundvand, menneskers sundhed og miljøet i øvrigt.',\n",
       " 'Virksomheder, der yder lån mod registreret pant i fast ejendom på grundlag af udstedelse af realkreditobligationer, skal have tilladelse som realkreditinstitut og tilladelse til at udstede realkreditobligationer. Realkreditinstitutter, der har tilladelse efter stk. 1, kan udøve de aktiviteter, som er nævnt i bilag 1, afsnit A, nr. 1 og 2, i lov om fondsmæglerselskaber og investeringsservice og –aktiviteter, for så vidt angår realkreditobligationer, særligt dækkede obligationer, særligt dækkede realkreditobligationer og heraf afledte instrumenter, og de aktiviteter, som er nævnt i bilagets afsnit A, nr. 3, samt de aktiviteter, som er nævnt i bilagets afsnit A, nr. 5, når investeringsrådgivningen sker i tilknytning til og som forudsætning for udførelse af kunders optagelse, indfrielse, refinansiering eller omlægning af et lån med pant i fast ejendom. Realkreditinstitutter og udenlandske kreditinstitutter, der opfylder betingelserne herfor i lov om realkreditlån og realkreditobligationer m.v., har eneret til at udstede realkreditobligationer. Andre finansielle instrumenter end realkreditobligationer må ikke bære denne betegnelse eller betegnelser, der er egnet til at fremkalde det indtryk, at de er realkreditobligationer. Realkreditinstitutter har eneret til at benytte betegnelser som »realkreditinstitut«, »realkreditaktieselskab«, »kreditforening« eller »realkreditfond« i deres navn. Realkreditinstitutter, der er omdannet til aktieselskaber, og som hidtil har benyttet betegnelser som »kreditforening«, »realkreditfond« eller »reallånefond« i deres navn, skal tilføje ordet »aktieselskab« eller deraf dannede forkortelser efter navnet. En virksomhed, der søger om tilladelse efter stk. 1, skal have en aktiekapital, der mindst udgør et beløb svarende til 5 mio. euro.',\n",
       " 'Afgiftspligtige personer, der har et andet EU-land end Danmark som identifikationsmedlemsland, kan få tilbagebetalt moms efter reglerne i § 45, stk. 1.',\n",
       " 'Erklæres en deltager i et værdipapirafviklingssystem eller i et registreret betalingssystem eller i tilsvarende virksomhed udøvet af Danmarks Nationalbank konkurs eller tages under rekonstruktionsbehandling eller anden form for insolvensbehandling som defineret i artikel 2, litra j, i Europa-Parlamentets og Rådets direktiv 98/26/EF af 19. maj 1998 om endelig afregning i betalingssystemer og værdipapirafviklingssystemer, skal de rettigheder og forpligtelser, der følger af eller har forbindelse med den pågældendes deltagelse i systemet, fastlægges efter den lovgivning, som systemet er undergivet. Erklæres en dansk deltager i et udenlandsk værdipapirafviklingssystem eller i et betalingssystem, der er anmeldt til Den Europæiske Værdipapir- og Markedstilsynsmyndighed (ESMA) i medfør af artikel 10, stk. 1, i Europa-Parlamentets og Rådets direktiv 98/26/EF af 19. maj 1998 om endelig afregning i betalingssystemer og værdipapirafviklingssystemer, konkurs eller tages under rekonstruktionsbehandling eller anden form for insolvensbehandling som defineret i artikel 2, litra j, i Europa-Parlamentets og Rådets direktiv 98/26/EF af 19. maj 1998 om endelig afregning i betalingssystemer og værdipapirafviklingssystemer, skal de rettigheder og forpligtelser, der følger af eller har forbindelse med den pågældendes deltagelse i systemet, fastlægges efter den lovgivning, som systemet er undergivet, jf. § 164, stk. 1, og § 169, stk. 1. Erklæres en dansk deltager i et udenlandsk værdipapirafviklingssystem eller i et betalingssystem, der ikke er omfattet af stk. 2, og som er hjemmehørende i et land uden for Den Europæiske Union, som Unionen ikke har indgået aftale med på det finansielle område, konkurs eller tages under rekonstruktionsbehandling eller anden form for insolvensbehandling, skal de rettigheder og forpligtelser, der følger af eller har forbindelse med den pågældendes deltagelse i systemet, og som ikke er omfattet af en godkendelse i henhold til § 164, stk. 2, eller § 169, stk. 2, fastlægges efter den lovgivning, som systemet er undergivet, hvis Finanstilsynet har godkendt aftalen mellem deltageren og systemet.',\n",
       " 'Klima-, energi- og forsyningsministeren kan fastsætte regler med henblik på at gennemføre eller anvende internationale konventioner og EU-regler om forhold, der er omfattet af denne lov, herunder forordninger, direktiver og beslutninger om naturbeskyttelse på dansk kontinentalsokkel, i dansk eksklusiv økonomisk zone og på dansk søterritorium.',\n",
       " 'Kommunalbestyrelsen fører generelt driftsorienteret tilsyn med egne tilbud efter § 83 og § 84, stk. 1, og med private tilbud efter § 83 og § 84, stk. 1. Tilsynet efter stk. 1 omfatter dog ikke tilbud, hvor en anden kommunalbestyrelse eller et regionsråd har indgået aftale om anvendelse af samtlige pladser i tilbuddet og om tilsyn. Kommunalbestyrelsen kan delegere sin kompetence efter stk. 1 til socialtilsynet, jf. § 3, stk. 1, nr. 2, i lov om socialtilsyn.',\n",
       " 'Indenrigs- og sundhedsministeren kan fastsætte regler om, at et regionsråd mod betaling kan tilbyde sygehusbehandling til personer, som ikke har ret til sygehusbehandling efter denne lov. Indenrigs- og sundhedsministeren kan fastsætte regler om, at et regionsråd mod betaling kan tilbyde behandlinger og ydelser på regionens sygehuse, herunder udlejning af lokaler og udstyr til offentlige myndigheder og private virksomheder. Et regionsråd kan samarbejde med offentlige myndigheder og private virksomheder, herunder i selskabsform, om løsningen af fælles opgaver efter afsnit VI, XI, XII og XIV-XVI og opgaver, der har tilknytning hertil, og som regionsrådet lovligt kan varetage efter anden lovgivning, samt påtage sig dermed forbundne udgifter, jf. dog stk. 4. Indenrigs- og sundhedsministeren kan fastsætte regler om, at samarbejder som nævnt i stk. 3, der medfører indskrænkninger i regionsrådets beføjelser, skal godkendes af ministeren, herunder om, at kravet om godkendelse alene gælder nærmere former for samarbejde. Et samarbejde, som efter regler fastsat i medfør af stk. 4 kræver godkendelse, anses for godkendt, medmindre regionsrådet modtager afslag på godkendelse, inden 1 måned efter at indenrigs- og sundhedsministeren har modtaget orientering fra regionsrådet om samarbejdet. Indenrigs- og sundhedsministeren kan fastsætte regler om proceduren for godkendelse i medfør af regler udstedt efter stk. 4, herunder om orientering af ministeren, om, hvilke oplysninger orienteringen skal indeholde, og om udsættelse af fristen, såfremt de nødvendige oplysninger ikke foreligger ved orienteringen. En kommunalbestyrelse kan deltage i samarbejder efter stk. 3, når samarbejdet tillige varetager opgaver, som kommunerne lovligt kan varetage. Et regionsråd kan efter indenrigs- og sundhedsministerens godkendelse påtage sig opgaver og dermed forbundne udgifter, som ikke er omfattet af denne lov, såfremt det har væsentlig betydning for varetagelsen af regionsrådets opgaver efter afsnit VI, XI, XII og XIV-XVI.',\n",
       " 'Hvis et vejudlæg efter § 26, stk. 2, bevirker, at ejeren af et areal afskæres fra at udnytte arealet på en måde, der er økonomisk rimelig og forsvarlig under hensyn til ejendommens beliggenhed og øvrige beskaffenhed, og som svarer til den udnyttelse, der finder sted af andre tilgrænsende eller omliggende arealer, kan ejeren anmode kommunen om helt eller delvis at overtage arealet mod erstatning. En anmodning om overtagelse skal fremsættes, inden 6 måneder efter at ejeren har fået underretning om vejudlægget, eller, hvis dette er påklaget, inden 6 måneder efter at ejeren har modtaget afgørelse i klagesagen. Afslår kommunalbestyrelsen ejerens anmodning, eller opnås der ikke enighed om erstatningens størrelse, skal kommunalbestyrelsen indbringe sagen for de taksationsmyndigheder, der er nævnt i § 91.',\n",
       " 'Ved brevforkyndelse anses meddelelsen for forkyndt, hvis genparten eller modtagelsesbeviset er underskrevet af den pågældende personligt.',\n",
       " 'I de tilfælde, der er nævnt i § 179, iværksættes retslægeligt ligsyn. Retslægeligt ligsyn kan dog undlades: ved dødsfald efter ulykkestilfælde, såfremt døden først er indtrådt nogen tid efter ulykken og politiet efter de tilvejebragte oplysninger finder det åbenbart, at dødsfaldet er uden politimæssig interesse, ved dødsfald efter ulykkestilfælde, såfremt døden først er indtrådt nogen tid efter ulykken og politiet efter de tilvejebragte oplysninger finder det åbenbart, at dødsfaldet er uden politimæssig interesse, ved de dødsfald, der er nævnt i § 179, stk. 1, nr. 2, 3, 5 og 6, såfremt der mellem politiet og Styrelsen for Patientsikkerhed er enighed om, at de tilvejebragte oplysninger gør det åbenbart, at der foreligger naturlig død, ved de dødsfald, der er nævnt i § 179, stk. 1, nr. 4, såfremt Styrelsen for Patientsikkerhed finder, at de tilvejebragte oplysninger med tilstrækkelig sikkerhed har klarlagt dødsårsagen, og ved andre dødsfald, der er kommet til politiets kundskab og er antaget at kunne have politimæssig interesse, såfremt politiet efter en undersøgelse finder det åbenbart, at der er tale om naturlig død.',\n",
       " 'Børne- og undervisningsministeren kan videregive oplysninger om uddannelsesdeltageres deltagelse i uddannelse efter denne lov til arbejdsløshedskasser til brug for rådgivning af deres medlemmer i forhold til kompetenceudvikling. Børne- og undervisningsministeren fastsætter nærmere regler om, hvilke oplysninger der kan videregives efter stk. 1.',\n",
       " 'Ved hver skole ansættes en leder, jf. dog § 24, stk. 3, § 24 a, stk. 1, og § 24 b, stk. 1. Skolelederen leder og fordeler arbejdet mellem skolens ansatte og træffer alle konkrete beslutninger vedrørende skolens elever. Skolens leder udarbejder forslag til skolebestyrelsen om skolens læseplaner, jf. § 44, stk. 8, forslag vedrørende principper for skolens virksomhed m.v., jf. § 44, stk. 2, og forslag til skolens budget, jf. § 44, stk. 3, inden for de af kommunalbestyrelsen fastsatte økonomiske rammer, jf. § 40, stk. 2, nr. 1. I forbindelse med planlægningen af det kommende skoleår forelægger skolens leder det kommende skoleårs skemaer for undervisningen og rammerne for skiftende skemaer for skolebestyrelsen, med henblik på at skolebestyrelsen kan afgive en udtalelse herom. Skolens leder udøver sin virksomhed i samarbejde med de ansatte. Skolens leder inddrager skolens elever i spørgsmål vedrørende elevernes sikkerhed og sundhed.',\n",
       " 'Tiden for anbringelsen i anstalt, som ikke kan overstige 10 år, fastsættes i dommen. Begår den dømte ny lovovertrædelse under ophold i anstalt, fastsætter retten en samlet foranstaltning for dette forhold og for den tidligere pådømte lovovertrædelse, medmindre den anser den tidligere foranstaltning for tilstrækkelig. Stk. 2 finder tilsvarende anvendelse, hvis den dømte begår ny lovovertrædelse efter at være dømt til anbringelse i anstalt, men inden anbringelse i anstalt er iværksat.',\n",
       " 'Jobcenteret kan give tilbud om følgende: Virksomhedspraktik, jf. kapitel 11. Virksomhedspraktik, jf. kapitel 11. Ansættelse med løntilskud, jf. kapitel 12. Nytteindsats, jf. kapitel 13. Vejledning og opkvalificering, jf. kapitel 14. Tilbud kan gives hver for sig eller i kombination.',\n",
       " 'Finanstilsynets ansatte må ikke videregive oplysninger om en person, når vedkommende har indberettet en forvalter af alternative investeringsfonde eller en person til Finanstilsynet for overtrædelse eller potentiel overtrædelse af denne lov, regler udstedt i medfør heraf og bestemmelser indeholdt i Den Europæiske Unions forordninger for de områder af loven, som Finanstilsynet fører tilsyn med, jf. dog stk. 2. Bestemmelsen i stk. 1 er ikke til hinder for, at personoplysninger videregives i medfør af § 170, stk. 7. Alle, der i henhold til stk. 2 modtager personoplysninger, er med hensyn til disse oplysninger undergivet den i stk. 1 omhandlede tavshedspligt.',\n",
       " 'For krav, som er tillagt udpantningsret, er fuldbyrdelsesfristen 7 dage efter dagen for meddelelse om forretningen, jf. § 493, stk. 3.',\n",
       " 'Hvis en indeholdelsespligtig udbetaler rejse- eller befordringsgodtgørelser efter reglerne i ligningslovens § 9 A eller § 9 B og det efterfølgende konstateres, at betingelserne for skattefrihed i disse bestemmelser ikke er opfyldt, kan told- og skatteforvaltningen efter anmodning fra den indeholdelsespligtige tillade, at den indeholdelsespligtige betaler et beløb svarende til 56 pct. af de pågældende godtgørelser. Told- og skatteforvaltningen træffer efter anmodning afgørelse om, hvorvidt udbetalte godtgørelser som nævnt i stk. 1 er skattepligtige. Betaling efter stk. 1 skal ske inden for fristen for betaling af indeholdt A-skat for den måned, der følger efter den måned, hvori tilladelsen efter stk. 1 er givet. Uanset skatteforvaltningslovens § 17 kan told- og skatteforvaltningen oplyse den indeholdelsespligtige om godtgørelser som omhandlet i stk. 1 udbetalt af den pågældende indeholdelsespligtige, som told- og skatteforvaltningen anser for skattepligtige, herunder om modtagerne af sådanne godtgørelser, og om der er udsendt agterskrivelser eller årsopgørelser til modtagerne, hvori godtgørelserne er medregnet.',\n",
       " 'Lov om kommunernes styrelse kapitel VI og VII finder i øvrigt tilsvarende anvendelse på de i § 33, stk. 2, anførte statsamtmænds tilsyn med sammenlægningsudvalgene.',\n",
       " 'Kandidatlisterne anføres på stemmesedlen i særskilte felter.',\n",
       " 'Politiet iværksætter beslaglæggelse. Politiet foranlediger ved henvendelse til den, som indgrebet retter sig imod, at et pålæg om edition opfyldes. Beslaglægges materiale hos personer, der er omfattet af § 172, kan den pågældende kræve, at det første gennemsyn af materialet skal foretages af retten. Har retten afsagt kendelse om beslaglæggelse af en formue eller en del af en formue, jf. § 802, stk. 3, skal politiet sørge for, at der beskikkes en værge til at bestyre den beslaglagte formue. Genstande, som kommer i politiets besiddelse som følge af beslaglæggelse eller pålæg om udlevering, skal snarest muligt optegnes og mærkes.',\n",
       " 'En forvalter af alternative investeringsfonde skal ved indretningen af sin virksomhed organisatorisk såvel som administrativt træffe alle rimelige foranstaltninger med henblik på at identificere, forhindre, styre og overvåge interessekonflikter for at forhindre, at de skader de forvaltede alternative investeringsfondes eller deres investorers interesser. En forvalter skal kunne identificere interessekonflikter, der vil kunne opstå i forbindelse med forvaltningen af alternative investeringsfonde imellem følgende: Forvalteren, herunder dens ledelse, ansatte eller enhver anden person, der direkte eller indirekte er forbundet med forvalteren ved et kontrolforhold, og de forvaltede alternative investeringsfonde eller investorer i sådanne alternative investeringsfonde. Forvalteren, herunder dens ledelse, ansatte eller enhver anden person, der direkte eller indirekte er forbundet med forvalteren ved et kontrolforhold, og de forvaltede alternative investeringsfonde eller investorer i sådanne alternative investeringsfonde. Forskellige forvaltede alternative investeringsfonde eller UCITS indbyrdes eller imellem investorer i sådanne fonde eller UCITS. Forvaltede alternative investeringsfonde eller investorer i sådanne fonde og en eller flere af forvalterens andre kunder. To af forvalterens kunder. Hvis kravene i stk. 1 og 2 ikke med rimelig sikkerhed kan sikre, at risikoen for at skade investorernes interesser vil blive undgået, skal forvalteren klart oplyse investorerne om interessekonflikternes generelle karakter eller kilderne hertil, inden forvalteren påtager sig opgaver på investorernes vegne. Forvalteren skal udarbejde passende politikker og procedurer for håndteringen af interessekonflikter, som skal anvendes, når de organisatoriske ordninger og foranstaltninger efter stk. 1 ikke er tilstrækkelige. Hvis forvalteren anvender prime broker-ydelser på vegne af en alternativ investeringsfond, skal betingelserne for sådanne ydelser være fastsat i en skriftlig aftale. Finanstilsynet kan fastsætte nærmere regler om de foranstaltninger, som forvalteren efter stk. 1 og 3-5 med rimelighed kan forventes at træffe, om de forskellige typer af interessekonflikter, som er omhandlet i stk. 2, og om forebyggelse af interessekonflikter.',\n",
       " 'Afstemningen begynder kl. Inden stemmeafgivningens begyndelse skal valgstyrere eller tilforordnede vælgere vise de tilstedeværende, at stemmekasserne er tomme.',\n",
       " 'Justitsministeren kan fastsætte bestemmelser, hvorefter afgørelser af udenlandske domstole og myndigheder om borgerlige krav og udenlandske offentlige forlig om sådanne krav skal have bindende virkning her i riget, når anerkendelsen ikke vil være åbenbart uforenelig med landets retsorden.']"
      ]
     },
     "execution_count": 29,
     "metadata": {},
     "output_type": "execute_result"
    }
   ],
   "source": [
    "corpus"
   ]
  },
  {
   "cell_type": "markdown",
   "metadata": {},
   "source": [
    "**Run the model**"
   ]
  },
  {
   "cell_type": "code",
   "execution_count": 28,
   "metadata": {},
   "outputs": [
    {
     "data": {
      "text/plain": [
       "['Hvornår kan Nævnet for Videnskabelig Uredelighed kan behandle sager af egen drift?',\n",
       " ['Finanstilsynet kan påbyde et fondsmæglerselskab eller en fondsmæglerholdingvirksomhed at afsætte et medlem af direktionen inden for en frist, der er fastsat af Finanstilsynet, hvis medlemmet af direktionen efter § 75, stk. 1, eller § 76 ikke kan bestride stillingen. Finanstilsynet kan påbyde et medlem af bestyrelsen i et fondsmæglerselskab eller en fondsmæglerholdingvirksomhed at nedlægge sit hverv inden for en frist, der er fastsat af Finanstilsynet, hvis bestyrelsesmedlemmet efter § 75, stk. 1, eller § 76 ikke kan bestride hvervet. Finanstilsynet kan påbyde et fondsmæglerselskab at afsætte en direktør, når der er rejst tiltale mod den pågældende i en straffesag om overtrædelse af straffeloven, den finansielle lovgivning eller anden relevant lovgivning, indtil straffesagen er afgjort, hvis domfældelse vil indebære, at direktøren ikke opfylder kravene i § 75, stk. 1, nr. 3. Varigheden af påbud meddelt efter stk. 2 på baggrund af § 75, stk. 1, nr. 2 og 4-6, skal fremgå af påbuddet. Påbud meddelt i henhold til stk. 1-3 kan af fondsmæglerselskabet eller fondsmæglerholdingvirksomheden og af den person, som påbuddet vedrører, forlanges indbragt for domstolene. Finanstilsynet kan af egen drift eller efter ansøgning tilbagekalde et påbud meddelt efter stk. 2 og stk. 3, 3. pkt. Afslår Finanstilsynet en ansøgning om at tilbagekalde påbuddet, kan ansøgeren forlange afslaget indbragt for domstolene. Har fondsmæglerselskabet eller fondsmæglerholdingvirksomheden ikke afsat direktøren inden for den fastsatte frist, kan Finanstilsynet inddrage fondsmæglerselskabets eller fondsmæglerholdingvirksomhedens tilladelse.',\n",
       "  'Den Uafhængige Politiklagemyndighed undersøger og træffer afgørelse vedrørende klager over politipersonalets adfærd i tjenesten (adfærdsklager). Rigspolitichefen yder efter anmodning fra Politi-klagemyndigheden bistand til undersøgelsen. Politiet kan på egen hånd foretage uopsættelige undersøgelsesskridt. Med henblik på at sikre et tilstrækkeligt kendskab til de grønlandske forhold i Politiklagemyndighedens sagsbehandling afgiver Rådet for Politiklagesager i Grønland en vejledende udtalelse til brug for sagens oplysning, jf. § 64.',\n",
       "  \"'DSB kan optage lån, herunder driftskreditter, med sikkerhed i egen formue. Investeringer, som DSB eller datterselskaber heraf påtænker at foretage, og som overstiger en beløbsmæssig grænse på 100 mio. kr., skal forelægges Folketingets Finansudvalg til godkendelse. For investeringer i rullende materiel, der er omfattet af stk. 2, skal transport-, bygnings- og boligministeren godkende virksomhedens beslutninger om udbud og indgåelse af kontrakt herom. DSB fremsender en investerings- og finansieringsplan til transport-, bygnings- og boligministeren én gang årligt. Transport-, bygnings- og boligministeren kan efter godkendelse af Folketingets Finansudvalg garantere for DSB’s og DSB’s datterselskabers forpligtelser.'\",\n",
       "  \"'Anti Doping Danmarks virksomhed omfatter dopingkontrol, dopingkontrol, anmeldelse og indbringelse af dopingsager, oplysningsvirksomhed, forsknings- og udviklingsvirksomhed vedrørende bekæmpelse af doping, deltagelse i internationalt samarbejde om bekæmpelse af doping og rådgivning og bistand til offentlige myndigheder i sager inden for Anti Doping Danmarks virkeområde.'\",\n",
       "  \"Tilsidesætter selskabet nævnt i § 10, stk. 1, groft eller gentagne gange sine forpligtelser efter denne lov eller regler udstedt i medfør heraf, kan beskæftigelsesministeren efter forhandling med KL overtage etablering og drift af Ydelsesrefusion eller henlægge etableringen eller driften til en anden offentlig myndighed eller et andet privat selskab. Anvender beskæftigelsesministeren sin ret efter stk. 1, betaler kommunerne bidrag efter § 20 til Beskæftigelsesministeriet, som heraf betaler selskabets eventuelle udækkede etableringsudgifter og driftsunderskud.'\"]]"
      ]
     },
     "execution_count": 28,
     "metadata": {},
     "output_type": "execute_result"
    }
   ],
   "source": [
    "# Create the BM25 model\n",
    "bm25_model = bm25.init_bm25_corpus(tokenized_corpus)\n",
    "\n",
    "# Define a list that will store the top 3 paragraphs for each question\n",
    "bm25_top3 = []\n",
    "\n",
    "# Get the scores for each question and store them in the list\n",
    "for i, (question, q) in enumerate(zip(tokenized_questions, questions)):\n",
    "    _top_3 = bm25_model.get_top_n(question, corpus, n=5) #n is the number of paragraphs to return\n",
    "    bm25_top3.append([q,_top_3])\n",
    "\n",
    "bm25_top3[22]"
   ]
  },
  {
   "cell_type": "markdown",
   "metadata": {},
   "source": [
    "### Create embedding corpus"
   ]
  },
  {
   "cell_type": "code",
   "execution_count": null,
   "metadata": {},
   "outputs": [],
   "source": [
    "\n",
    "def create_embedding_matrix(pooling, save=False, save_folder=None):\n",
    "    # initialise model\n",
    "    bert_tokenizer = AutoTokenizer.from_pretrained(\"KennethTM/bert-base-uncased-danish\")\n",
    "    bert_model = AutoModel.from_pretrained(\"KennethTM/bert-base-uncased-danish\")\n",
    "\n",
    "    # define device\n",
    "    device = torch.device(\"mps\") if torch.backends.mps.is_available() else \"cpu\"\n",
    "\n",
    "    # move model to device\n",
    "    bert_model.to(device)\n",
    "\n",
    "    # create list of embedding vectors to concatenate into a torch tensor\n",
    "    embeddings = []\n",
    "\n",
    "    # index to track number of mistakes\n",
    "    idx = 0\n",
    "\n",
    "    for item in tqdm(rag_list):\n",
    "        # doing a try and except as some paragraphs may exceed the context window of the BERT (I believe)\n",
    "        try:\n",
    "            # tokenize texts\n",
    "            input_ids = bert_tokenizer.encode(item['text'], return_tensors='pt').to(device)\n",
    "            # run through BERT\n",
    "            with torch.no_grad():  # disable gradient computation for inference\n",
    "                outputs = bert_model(input_ids)\n",
    "            \n",
    "            # different kinds of pooling\n",
    "            if pooling == 'cls':\n",
    "                embedding_vector = outputs.last_hidden_state[:, 0, :]\n",
    "            elif pooling == 'max':\n",
    "                embedding_vector = torch.max(outputs, dim=1)[0]\n",
    "            elif pooling == 'mean':\n",
    "                embedding_vector = torch.mean(outputs, dim=1)\n",
    "            else:\n",
    "                raise ValueError(f\"Unknown pooling method: {pooling}\")\n",
    "            \n",
    "            # add cls-vector to list of embeddings\n",
    "            embeddings.append(embedding_vector)\n",
    "        except:\n",
    "            # if error then count errors with this\n",
    "            embeddings.append(torch.zeros(1, 768))\n",
    "            idx += 1\n",
    "\n",
    "    print(f'{idx} no. of errors')\n",
    "\n",
    "    # concatenate list into torch tensor\n",
    "    embeddings_tensor = torch.cat(embeddings, dim=0)\n",
    "\n",
    "    if save == True:\n",
    "        # make sure that folder exists\n",
    "        os.makedirs(save_folder, exist_ok=True)\n",
    "\n",
    "        # save tensor \n",
    "        torch.save(embeddings_tensor, f'{save_folder}/{pooling}_embeddings_tensor.pt')\n",
    "\n",
    "    return embeddings_tensor\n",
    "\n"
   ]
  },
  {
   "cell_type": "code",
   "execution_count": 9,
   "metadata": {},
   "outputs": [],
   "source": [
    "#create_embedding_matrix(pooling='cls')"
   ]
  },
  {
   "cell_type": "markdown",
   "metadata": {},
   "source": [
    "### Dense retrieval pipeline"
   ]
  },
  {
   "cell_type": "code",
   "execution_count": 10,
   "metadata": {},
   "outputs": [
    {
     "name": "stderr",
     "output_type": "stream",
     "text": [
      "/Users/adamwagnerhoegh/miniconda3/lib/python3.12/site-packages/transformers/tokenization_utils_base.py:1601: FutureWarning: `clean_up_tokenization_spaces` was not set. It will be set to `True` by default. This behavior will be depracted in transformers v4.45, and will be then set to `False` by default. For more details check this issue: https://github.com/huggingface/transformers/issues/31884\n",
      "  warnings.warn(\n",
      "Some weights of XLMRobertaModel were not initialized from the model checkpoint at vesteinn/DanskBERT and are newly initialized: ['roberta.pooler.dense.bias', 'roberta.pooler.dense.weight']\n",
      "You should probably TRAIN this model on a down-stream task to be able to use it for predictions and inference.\n"
     ]
    }
   ],
   "source": [
    "bert_tokenizer = AutoTokenizer.from_pretrained(\"vesteinn/DanskBERT\")\n",
    "bert_model = AutoModel.from_pretrained(\"vesteinn/DanskBERT\")"
   ]
  },
  {
   "cell_type": "code",
   "execution_count": 22,
   "metadata": {},
   "outputs": [],
   "source": [
    "# you can load cls or max respectively, mean still needs to be created\n",
    "embeddings_matrix = torch.load('/Users/adamwagnerhoegh/Documents/SODAS/sem3/nlp_itu/mean_embeddings_DanskBERT.pt')"
   ]
  },
  {
   "cell_type": "code",
   "execution_count": 87,
   "metadata": {},
   "outputs": [
    {
     "name": "stdout",
     "output_type": "stream",
     "text": [
      "Hvor mange procent må kapitalandele i og lån ydet til en virksomhed eller gruppe af indbyrdes forbundne virksomheder højst udgøre? \n",
      "\n",
      "Et pengeinstituts kapitalandele erhvervet for puljemidler, hvor kunderne bærer risikoen, indgår ikke i opgørelsen af fradrag i kapitalgrundlaget.\n",
      "Priser for ydelser fra en netvirksomhed må ikke stige som følge af det vederlag, der erlægges ved overdragelse af virksomheder.\n",
      "Værdien af aktier, der i henhold til § 215 i lov om finansiel virksomhed overdrages til en forening, medregnes ikke ved opgørelse af foreningens skattepligtige indkomst.\n"
     ]
    }
   ],
   "source": [
    "def dense_retrieval(question, pooling='cls', k=3):\n",
    "    \"\"\"\n",
    "    Function that takes a question and returns a list of paragraphs that are most relevant to the question\n",
    "    pooling = 'cls', 'max' or 'mean'\n",
    "    \"\"\"\n",
    "    \n",
    "    # Encode the input sentence\n",
    "    input_ids = bert_tokenizer.encode(question, return_tensors=\"pt\")  # Encode and add batch dimension\n",
    "    # Pass the input through the model\n",
    "    \n",
    "    with torch.no_grad():  # disable gradient computation for inference\n",
    "        outputs = bert_model(input_ids)\n",
    "    \n",
    "    if pooling == 'cls':\n",
    "        # Extract the CLS token representation\n",
    "        embedding_vector = outputs.last_hidden_state[:, 0, :]\n",
    "    \n",
    "    elif pooling == 'max':\n",
    "        embedding_vector = torch.max(outputs.last_hidden_state, dim=1)[0]\n",
    "\n",
    "    elif pooling == 'mean':\n",
    "        embedding_vector = torch.mean(outputs.last_hidden_state, dim=1)\n",
    "    \n",
    "    # normalise the cls-embedding and the embedding matrix so that the dot product\n",
    "    # below is now cosine similarity\n",
    "    embedding_vector_normalised = embedding_vector / torch.norm(embedding_vector, dim=-1, keepdim=True)\n",
    "    embeddings_matrix_normalised = embeddings_matrix / torch.norm(embeddings_matrix, dim=-1, keepdim=True)\n",
    "\n",
    "    # finding most similar vectors with dot product\n",
    "    dense_retrieval = embeddings_matrix_normalised @ torch.transpose(embedding_vector_normalised, 0, 1)\n",
    "    \n",
    "    # sorting retrieved embeddings. this leaves a bunch of nan-values at the top\n",
    "    sorted_retrieval = torch.sort(dense_retrieval, descending=True, stable=True, dim=0)\n",
    "\n",
    "    # recreating list, sorting out nan-values\n",
    "    fixed_retrieval_list = [(item, idx) for (item, idx) in zip(sorted_retrieval[0], sorted_retrieval[1]) if torch.isnan(item) == False]\n",
    "\n",
    "    # get top k paragraphs\n",
    "    top_k_indices = [item[1] for item in fixed_retrieval_list[:k]]\n",
    "\n",
    "    # assemble document \n",
    "    document = '\\n'.join([rag_list[i]['text'] for i in top_k_indices])\n",
    "\n",
    "    return document\n",
    "\n",
    "# check if it works using a random question from the dev set\n",
    "random_question = dev_set.iloc[np.random.randint(0, len(dev_set))]['question, str']\n",
    "print(random_question, '\\n') \n",
    "print(dense_retrieval(random_question, pooling='cls', k=3))\n"
   ]
  },
  {
   "cell_type": "markdown",
   "metadata": {},
   "source": [
    "### Evaluation"
   ]
  },
  {
   "cell_type": "markdown",
   "metadata": {},
   "source": [
    "### Create columns for retrieved documents"
   ]
  },
  {
   "cell_type": "code",
   "execution_count": 40,
   "metadata": {},
   "outputs": [
    {
     "name": "stderr",
     "output_type": "stream",
     "text": [
      "TF-IDF, k=1: 100%|██████████| 104/104 [00:00<00:00, 138.19it/s]\n",
      "TF-IDF, k=2: 100%|██████████| 104/104 [00:00<00:00, 148.26it/s]\n",
      "TF-IDF, k=3: 100%|██████████| 104/104 [00:00<00:00, 147.91it/s]\n"
     ]
    }
   ],
   "source": [
    "# looks like the dense retrievers are generally retrieving shorter paragraphs\n",
    "\n",
    "tf_idf_k1 = []\n",
    "for question in tqdm(dev_set['question, str'], desc='TF-IDF, k=1'):\n",
    "    tf_idf_k1.append(sparse_retrieval(question, X, k=1))\n",
    "\n",
    "tf_idf_k2 = []\n",
    "for question in tqdm(dev_set['question, str'], desc='TF-IDF, k=2'):\n",
    "    tf_idf_k2.append(sparse_retrieval(question, X, k=2))\n",
    "\n",
    "tf_idf_k3 = []\n",
    "for question in tqdm(dev_set['question, str'], desc='TF-IDF, k=3'):\n",
    "    tf_idf_k3.append(sparse_retrieval(question, X, k=3))\n",
    "\n",
    "# insert BM25\n",
    "\n",
    "bm25_k1 = [top_1 for parapgraph in bm25_top5 if (top_1:=parapgraph[0])]\n",
    "bm25_k2 = [top_2 for parapgraph in bm25_top5 if (top_2:=parapgraph[:2])]\n",
    "bm25_k3 = [top_3 for parapgraph in bm25_top5 if (top_3:=parapgraph[:-1])]\n"
   ]
  },
  {
   "cell_type": "code",
   "execution_count": 42,
   "metadata": {},
   "outputs": [
    {
     "data": {
      "text/plain": [
       "[\"'Uden ugrundet ophold efter repræsentantskabets godkendelse af årsrapporten i henhold til § 22, stk. 1, dog senest 4 måneder efter regnskabsårets udløb, indsendes den reviderede og godkendte årsrapport samt udskrift af revisionsprotokollen vedrørende årsrapportens revision til Beskæftigelsesministeriet og Finanstilsynet. Den indsendte årsrapport skal i det mindste indeholde de obligatoriske bestanddele samt den fulde revisionspåtegning. Sammen med indsendelse af årsrapporten efter stk. 1 indsendes et eksemplar af årsrapporten fra samtlige dattervirksomheder af Arbejdsmarkedets Tillægspension.'\",\n",
       " 'Vedtægterne for et kapitalselskab skal indeholde oplysning om: Kapitalselskabets navn og eventuelle binavne, Kapitalselskabets navn og eventuelle binavne, kapitalselskabets formål, selskabskapitalens størrelse og antallet af kapitalandele eller kapitalandelenes pålydende værdi, kapitalandelenes rettigheder, kapitalselskabets ledelsesorganer, herunder oplysning om den valgte ledelsesstruktur, jf. § 111, og i aktieselskaber oplysning om antallet eller mindste og højeste antal medlemmer af de forskellige ledelsesorganer og eventuelle suppleanter samt valgperioden for medlemmerne af det øverste ledelsesorgan, indkaldelse til generalforsamling og kapitalselskabets regnskabsår.']"
      ]
     },
     "execution_count": 42,
     "metadata": {},
     "output_type": "execute_result"
    }
   ],
   "source": [
    "bm25_k3[2]"
   ]
  },
  {
   "cell_type": "code",
   "execution_count": 88,
   "metadata": {},
   "outputs": [
    {
     "name": "stderr",
     "output_type": "stream",
     "text": [
      "Dense CLS, k=1: 100%|██████████| 106/106 [00:28<00:00,  3.74it/s]\n",
      "Dense CLS, k=2: 100%|██████████| 106/106 [00:28<00:00,  3.67it/s]\n",
      "Dense CLS, k=3: 100%|██████████| 106/106 [00:28<00:00,  3.72it/s]\n"
     ]
    }
   ],
   "source": [
    "# loading the embeddings matrix in different cells to save ram\n",
    "embeddings_matrix = torch.load('/Users/adamwagnerhoegh/Documents/SODAS/sem3/nlp_itu/cls_embeddings_DanskBERT.pt')\n",
    "\n",
    "dense_cls_k1 = []\n",
    "for question in tqdm(dev_set['question, str'], desc='Dense CLS, k=1'):\n",
    "    dense_cls_k1.append(dense_retrieval(question, pooling='cls', k=1))\n",
    "\n",
    "dense_cls_k2 = []\n",
    "for question in tqdm(dev_set['question, str'], desc='Dense CLS, k=2'):\n",
    "    dense_cls_k2.append(dense_retrieval(question, pooling='cls', k=2))\n",
    "\n",
    "dense_cls_k3 = []\n",
    "for question in tqdm(dev_set['question, str'], desc='Dense CLS, k=3'):\n",
    "    dense_cls_k3.append(dense_retrieval(question, pooling='cls', k=3))"
   ]
  },
  {
   "cell_type": "code",
   "execution_count": 92,
   "metadata": {},
   "outputs": [
    {
     "name": "stderr",
     "output_type": "stream",
     "text": [
      "Dense max, k=1: 100%|██████████| 106/106 [00:28<00:00,  3.77it/s]\n",
      "Dense max, k=2: 100%|██████████| 106/106 [00:29<00:00,  3.65it/s]\n",
      "Dense max, k=3: 100%|██████████| 106/106 [00:29<00:00,  3.64it/s]\n"
     ]
    }
   ],
   "source": [
    "embeddings_matrix = torch.load('/Users/adamwagnerhoegh/Documents/SODAS/sem3/nlp_itu/max_embeddings_DanskBERT.pt')\n",
    "\n",
    "dense_max_k1 = []\n",
    "for question in tqdm(dev_set['question, str'], desc='Dense max, k=1'):\n",
    "    dense_max_k1.append(dense_retrieval(question, pooling='max', k=1))\n",
    "\n",
    "dense_max_k2 = []\n",
    "for question in tqdm(dev_set['question, str'], desc='Dense max, k=2'):\n",
    "    dense_max_k2.append(dense_retrieval(question, pooling='max', k=2))\n",
    "\n",
    "dense_max_k3 = []\n",
    "for question in tqdm(dev_set['question, str'], desc='Dense max, k=3'):\n",
    "    dense_max_k3.append(dense_retrieval(question, pooling='max', k=3))\n"
   ]
  },
  {
   "cell_type": "code",
   "execution_count": 93,
   "metadata": {},
   "outputs": [
    {
     "name": "stderr",
     "output_type": "stream",
     "text": [
      "Dense mean, k=1: 100%|██████████| 106/106 [00:28<00:00,  3.77it/s]\n",
      "Dense mean, k=2: 100%|██████████| 106/106 [00:28<00:00,  3.77it/s]\n",
      "Dense mean, k=3: 100%|██████████| 106/106 [00:28<00:00,  3.73it/s]\n"
     ]
    }
   ],
   "source": [
    "embeddings_matrix = torch.load('/Users/adamwagnerhoegh/Documents/SODAS/sem3/nlp_itu/mean_embeddings_DanskBERT.pt')\n",
    "\n",
    "dense_mean_k1 = []\n",
    "for question in tqdm(dev_set['question, str'], desc='Dense mean, k=1'):\n",
    "    dense_mean_k1.append(dense_retrieval(question, pooling='mean', k=1))\n",
    "\n",
    "dense_mean_k2 = []\n",
    "for question in tqdm(dev_set['question, str'], desc='Dense mean, k=2'):\n",
    "    dense_mean_k2.append(dense_retrieval(question, pooling='mean', k=2))\n",
    "\n",
    "dense_mean_k3 = []\n",
    "for question in tqdm(dev_set['question, str'], desc='Dense mean, k=3'):\n",
    "    dense_mean_k3.append(dense_retrieval(question, pooling='mean', k=3))"
   ]
  },
  {
   "cell_type": "code",
   "execution_count": 96,
   "metadata": {},
   "outputs": [],
   "source": [
    "# adding to dev set and saving locally\n",
    "dev_set['tf_idf_k1'] = tf_idf_k1\n",
    "dev_set['tf_idf_k2'] = tf_idf_k2\n",
    "dev_set['tf_idf_k3'] = tf_idf_k3\n",
    "dev_set['dense_cls_k1'] = dense_cls_k1\n",
    "dev_set['dense_cls_k2'] = dense_cls_k2\n",
    "dev_set['dense_cls_k3'] = dense_cls_k3\n",
    "dev_set['dense_max_k1'] = dense_max_k1\n",
    "dev_set['dense_max_k2'] = dense_max_k2\n",
    "dev_set['dense_max_k3'] = dense_max_k3\n",
    "dev_set['dense_mean_k1'] = dense_mean_k1\n",
    "dev_set['dense_mean_k2'] = dense_mean_k2\n",
    "dev_set['dense_mean_k3'] = dense_mean_k3\n",
    "\n",
    "dev_set.to_csv(\"devset/dev_set.csv\", index=False)"
   ]
  },
  {
   "cell_type": "markdown",
   "metadata": {},
   "source": [
    "### Evaluating neo"
   ]
  },
  {
   "cell_type": "code",
   "execution_count": 60,
   "metadata": {},
   "outputs": [
    {
     "data": {
      "text/plain": [
       "GPTNeoForCausalLM(\n",
       "  (transformer): GPTNeoModel(\n",
       "    (wte): Embedding(50257, 2048)\n",
       "    (wpe): Embedding(2048, 2048)\n",
       "    (drop): Dropout(p=0.0, inplace=False)\n",
       "    (h): ModuleList(\n",
       "      (0-23): 24 x GPTNeoBlock(\n",
       "        (ln_1): LayerNorm((2048,), eps=1e-05, elementwise_affine=True)\n",
       "        (attn): GPTNeoAttention(\n",
       "          (attention): GPTNeoSelfAttention(\n",
       "            (attn_dropout): Dropout(p=0.0, inplace=False)\n",
       "            (resid_dropout): Dropout(p=0.0, inplace=False)\n",
       "            (k_proj): Linear(in_features=2048, out_features=2048, bias=False)\n",
       "            (v_proj): Linear(in_features=2048, out_features=2048, bias=False)\n",
       "            (q_proj): Linear(in_features=2048, out_features=2048, bias=False)\n",
       "            (out_proj): Linear(in_features=2048, out_features=2048, bias=True)\n",
       "          )\n",
       "        )\n",
       "        (ln_2): LayerNorm((2048,), eps=1e-05, elementwise_affine=True)\n",
       "        (mlp): GPTNeoMLP(\n",
       "          (c_fc): Linear(in_features=2048, out_features=8192, bias=True)\n",
       "          (c_proj): Linear(in_features=8192, out_features=2048, bias=True)\n",
       "          (act): NewGELUActivation()\n",
       "          (dropout): Dropout(p=0.0, inplace=False)\n",
       "        )\n",
       "      )\n",
       "    )\n",
       "    (ln_f): LayerNorm((2048,), eps=1e-05, elementwise_affine=True)\n",
       "  )\n",
       "  (lm_head): Linear(in_features=2048, out_features=50257, bias=False)\n",
       ")"
      ]
     },
     "execution_count": 60,
     "metadata": {},
     "output_type": "execute_result"
    }
   ],
   "source": [
    "import torch\n",
    "from transformers import AutoModelForCausalLM, AutoTokenizer\n",
    "\n",
    "# Load the model and tokenizer\n",
    "MODEL_NAME = \"KennethTM/gpt-neo-1.3B-danish\"\n",
    "tokenizer = AutoTokenizer.from_pretrained(MODEL_NAME)\n",
    "model = AutoModelForCausalLM.from_pretrained(MODEL_NAME)\n",
    "\n",
    "# Set the device\n",
    "DEVICE = \"mps\" if torch.backends.mps.is_available() else \"cpu\"\n",
    "model.to(DEVICE)\n"
   ]
  },
  {
   "cell_type": "code",
   "execution_count": null,
   "metadata": {},
   "outputs": [
    {
     "name": "stderr",
     "output_type": "stream",
     "text": [
      "Answering questions: 1it [00:24, 24.59s/it]\n"
     ]
    },
    {
     "ename": "KeyboardInterrupt",
     "evalue": "",
     "output_type": "error",
     "traceback": [
      "\u001b[0;31m---------------------------------------------------------------------------\u001b[0m",
      "\u001b[0;31mKeyboardInterrupt\u001b[0m                         Traceback (most recent call last)",
      "Cell \u001b[0;32mIn[82], line 15\u001b[0m\n\u001b[1;32m     13\u001b[0m \u001b[38;5;66;03m# generate an answer within torch.no_grad() to save compute\u001b[39;00m\n\u001b[1;32m     14\u001b[0m \u001b[38;5;28;01mwith\u001b[39;00m torch\u001b[38;5;241m.\u001b[39mno_grad():\n\u001b[0;32m---> 15\u001b[0m     outputs \u001b[38;5;241m=\u001b[39m \u001b[43mmodel\u001b[49m\u001b[38;5;241;43m.\u001b[39;49m\u001b[43mgenerate\u001b[49m\u001b[43m(\u001b[49m\n\u001b[1;32m     16\u001b[0m \u001b[43m        \u001b[49m\u001b[43minput_ids\u001b[49m\u001b[43m,\u001b[49m\n\u001b[1;32m     17\u001b[0m \u001b[43m        \u001b[49m\u001b[43mmax_length\u001b[49m\u001b[38;5;241;43m=\u001b[39;49m\u001b[43mmax_length\u001b[49m\u001b[43m,\u001b[49m\n\u001b[1;32m     18\u001b[0m \u001b[43m        \u001b[49m\u001b[43mpad_token_id\u001b[49m\u001b[38;5;241;43m=\u001b[39;49m\u001b[43mtokenizer\u001b[49m\u001b[38;5;241;43m.\u001b[39;49m\u001b[43meos_token_id\u001b[49m\u001b[43m,\u001b[49m\n\u001b[1;32m     19\u001b[0m \u001b[43m        \u001b[49m\u001b[38;5;66;43;03m# generation set to stop at '.' as it otherwise just repeats itself (think it's because we don't sample)\u001b[39;49;00m\n\u001b[1;32m     20\u001b[0m \u001b[43m        \u001b[49m\u001b[43meos_token_id\u001b[49m\u001b[38;5;241;43m=\u001b[39;49m\u001b[43mtokenizer\u001b[49m\u001b[38;5;241;43m.\u001b[39;49m\u001b[43mconvert_tokens_to_ids\u001b[49m\u001b[43m(\u001b[49m\u001b[38;5;124;43m\"\u001b[39;49m\u001b[38;5;130;43;01m\\n\u001b[39;49;00m\u001b[38;5;124;43m\"\u001b[39;49m\u001b[43m)\u001b[49m\n\u001b[1;32m     21\u001b[0m \u001b[43m    \u001b[49m\u001b[43m)\u001b[49m\n\u001b[1;32m     23\u001b[0m \u001b[38;5;66;03m# decode generated answer\u001b[39;00m\n\u001b[1;32m     24\u001b[0m answer \u001b[38;5;241m=\u001b[39m tokenizer\u001b[38;5;241m.\u001b[39mdecode(outputs[\u001b[38;5;241m0\u001b[39m])\u001b[38;5;66;03m#, skip_special_tokens=True)\u001b[39;00m\n",
      "File \u001b[0;32m~/miniconda3/lib/python3.12/site-packages/torch/utils/_contextlib.py:116\u001b[0m, in \u001b[0;36mcontext_decorator.<locals>.decorate_context\u001b[0;34m(*args, **kwargs)\u001b[0m\n\u001b[1;32m    113\u001b[0m \u001b[38;5;129m@functools\u001b[39m\u001b[38;5;241m.\u001b[39mwraps(func)\n\u001b[1;32m    114\u001b[0m \u001b[38;5;28;01mdef\u001b[39;00m \u001b[38;5;21mdecorate_context\u001b[39m(\u001b[38;5;241m*\u001b[39margs, \u001b[38;5;241m*\u001b[39m\u001b[38;5;241m*\u001b[39mkwargs):\n\u001b[1;32m    115\u001b[0m     \u001b[38;5;28;01mwith\u001b[39;00m ctx_factory():\n\u001b[0;32m--> 116\u001b[0m         \u001b[38;5;28;01mreturn\u001b[39;00m \u001b[43mfunc\u001b[49m\u001b[43m(\u001b[49m\u001b[38;5;241;43m*\u001b[39;49m\u001b[43margs\u001b[49m\u001b[43m,\u001b[49m\u001b[43m \u001b[49m\u001b[38;5;241;43m*\u001b[39;49m\u001b[38;5;241;43m*\u001b[39;49m\u001b[43mkwargs\u001b[49m\u001b[43m)\u001b[49m\n",
      "File \u001b[0;32m~/miniconda3/lib/python3.12/site-packages/transformers/generation/utils.py:2024\u001b[0m, in \u001b[0;36mGenerationMixin.generate\u001b[0;34m(self, inputs, generation_config, logits_processor, stopping_criteria, prefix_allowed_tokens_fn, synced_gpus, assistant_model, streamer, negative_prompt_ids, negative_prompt_attention_mask, **kwargs)\u001b[0m\n\u001b[1;32m   2016\u001b[0m     input_ids, model_kwargs \u001b[38;5;241m=\u001b[39m \u001b[38;5;28mself\u001b[39m\u001b[38;5;241m.\u001b[39m_expand_inputs_for_generation(\n\u001b[1;32m   2017\u001b[0m         input_ids\u001b[38;5;241m=\u001b[39minput_ids,\n\u001b[1;32m   2018\u001b[0m         expand_size\u001b[38;5;241m=\u001b[39mgeneration_config\u001b[38;5;241m.\u001b[39mnum_return_sequences,\n\u001b[1;32m   2019\u001b[0m         is_encoder_decoder\u001b[38;5;241m=\u001b[39m\u001b[38;5;28mself\u001b[39m\u001b[38;5;241m.\u001b[39mconfig\u001b[38;5;241m.\u001b[39mis_encoder_decoder,\n\u001b[1;32m   2020\u001b[0m         \u001b[38;5;241m*\u001b[39m\u001b[38;5;241m*\u001b[39mmodel_kwargs,\n\u001b[1;32m   2021\u001b[0m     )\n\u001b[1;32m   2023\u001b[0m     \u001b[38;5;66;03m# 13. run sample (it degenerates to greedy search when `generation_config.do_sample=False`)\u001b[39;00m\n\u001b[0;32m-> 2024\u001b[0m     result \u001b[38;5;241m=\u001b[39m \u001b[38;5;28;43mself\u001b[39;49m\u001b[38;5;241;43m.\u001b[39;49m\u001b[43m_sample\u001b[49m\u001b[43m(\u001b[49m\n\u001b[1;32m   2025\u001b[0m \u001b[43m        \u001b[49m\u001b[43minput_ids\u001b[49m\u001b[43m,\u001b[49m\n\u001b[1;32m   2026\u001b[0m \u001b[43m        \u001b[49m\u001b[43mlogits_processor\u001b[49m\u001b[38;5;241;43m=\u001b[39;49m\u001b[43mprepared_logits_processor\u001b[49m\u001b[43m,\u001b[49m\n\u001b[1;32m   2027\u001b[0m \u001b[43m        \u001b[49m\u001b[43mlogits_warper\u001b[49m\u001b[38;5;241;43m=\u001b[39;49m\u001b[43mprepared_logits_warper\u001b[49m\u001b[43m,\u001b[49m\n\u001b[1;32m   2028\u001b[0m \u001b[43m        \u001b[49m\u001b[43mstopping_criteria\u001b[49m\u001b[38;5;241;43m=\u001b[39;49m\u001b[43mprepared_stopping_criteria\u001b[49m\u001b[43m,\u001b[49m\n\u001b[1;32m   2029\u001b[0m \u001b[43m        \u001b[49m\u001b[43mgeneration_config\u001b[49m\u001b[38;5;241;43m=\u001b[39;49m\u001b[43mgeneration_config\u001b[49m\u001b[43m,\u001b[49m\n\u001b[1;32m   2030\u001b[0m \u001b[43m        \u001b[49m\u001b[43msynced_gpus\u001b[49m\u001b[38;5;241;43m=\u001b[39;49m\u001b[43msynced_gpus\u001b[49m\u001b[43m,\u001b[49m\n\u001b[1;32m   2031\u001b[0m \u001b[43m        \u001b[49m\u001b[43mstreamer\u001b[49m\u001b[38;5;241;43m=\u001b[39;49m\u001b[43mstreamer\u001b[49m\u001b[43m,\u001b[49m\n\u001b[1;32m   2032\u001b[0m \u001b[43m        \u001b[49m\u001b[38;5;241;43m*\u001b[39;49m\u001b[38;5;241;43m*\u001b[39;49m\u001b[43mmodel_kwargs\u001b[49m\u001b[43m,\u001b[49m\n\u001b[1;32m   2033\u001b[0m \u001b[43m    \u001b[49m\u001b[43m)\u001b[49m\n\u001b[1;32m   2035\u001b[0m \u001b[38;5;28;01melif\u001b[39;00m generation_mode \u001b[38;5;129;01min\u001b[39;00m (GenerationMode\u001b[38;5;241m.\u001b[39mBEAM_SAMPLE, GenerationMode\u001b[38;5;241m.\u001b[39mBEAM_SEARCH):\n\u001b[1;32m   2036\u001b[0m     \u001b[38;5;66;03m# 11. prepare logits warper\u001b[39;00m\n\u001b[1;32m   2037\u001b[0m     prepared_logits_warper \u001b[38;5;241m=\u001b[39m (\n\u001b[1;32m   2038\u001b[0m         \u001b[38;5;28mself\u001b[39m\u001b[38;5;241m.\u001b[39m_get_logits_warper(generation_config, device\u001b[38;5;241m=\u001b[39minput_ids\u001b[38;5;241m.\u001b[39mdevice)\n\u001b[1;32m   2039\u001b[0m         \u001b[38;5;28;01mif\u001b[39;00m generation_config\u001b[38;5;241m.\u001b[39mdo_sample\n\u001b[1;32m   2040\u001b[0m         \u001b[38;5;28;01melse\u001b[39;00m \u001b[38;5;28;01mNone\u001b[39;00m\n\u001b[1;32m   2041\u001b[0m     )\n",
      "File \u001b[0;32m~/miniconda3/lib/python3.12/site-packages/transformers/generation/utils.py:2982\u001b[0m, in \u001b[0;36mGenerationMixin._sample\u001b[0;34m(self, input_ids, logits_processor, stopping_criteria, generation_config, synced_gpus, streamer, logits_warper, **model_kwargs)\u001b[0m\n\u001b[1;32m   2979\u001b[0m model_inputs\u001b[38;5;241m.\u001b[39mupdate({\u001b[38;5;124m\"\u001b[39m\u001b[38;5;124moutput_hidden_states\u001b[39m\u001b[38;5;124m\"\u001b[39m: output_hidden_states} \u001b[38;5;28;01mif\u001b[39;00m output_hidden_states \u001b[38;5;28;01melse\u001b[39;00m {})\n\u001b[1;32m   2981\u001b[0m \u001b[38;5;66;03m# forward pass to get next token\u001b[39;00m\n\u001b[0;32m-> 2982\u001b[0m outputs \u001b[38;5;241m=\u001b[39m \u001b[38;5;28;43mself\u001b[39;49m\u001b[43m(\u001b[49m\u001b[38;5;241;43m*\u001b[39;49m\u001b[38;5;241;43m*\u001b[39;49m\u001b[43mmodel_inputs\u001b[49m\u001b[43m,\u001b[49m\u001b[43m \u001b[49m\u001b[43mreturn_dict\u001b[49m\u001b[38;5;241;43m=\u001b[39;49m\u001b[38;5;28;43;01mTrue\u001b[39;49;00m\u001b[43m)\u001b[49m\n\u001b[1;32m   2984\u001b[0m \u001b[38;5;28;01mif\u001b[39;00m synced_gpus \u001b[38;5;129;01mand\u001b[39;00m this_peer_finished:\n\u001b[1;32m   2985\u001b[0m     \u001b[38;5;28;01mcontinue\u001b[39;00m  \u001b[38;5;66;03m# don't waste resources running the code we don't need\u001b[39;00m\n",
      "File \u001b[0;32m~/miniconda3/lib/python3.12/site-packages/torch/nn/modules/module.py:1740\u001b[0m, in \u001b[0;36mModule._wrapped_call_impl\u001b[0;34m(self, *args, **kwargs)\u001b[0m\n\u001b[1;32m   1738\u001b[0m     \u001b[38;5;28;01mreturn\u001b[39;00m \u001b[38;5;28mself\u001b[39m\u001b[38;5;241m.\u001b[39m_compiled_call_impl(\u001b[38;5;241m*\u001b[39margs, \u001b[38;5;241m*\u001b[39m\u001b[38;5;241m*\u001b[39mkwargs)  \u001b[38;5;66;03m# type: ignore[misc]\u001b[39;00m\n\u001b[1;32m   1739\u001b[0m \u001b[38;5;28;01melse\u001b[39;00m:\n\u001b[0;32m-> 1740\u001b[0m     \u001b[38;5;28;01mreturn\u001b[39;00m \u001b[38;5;28;43mself\u001b[39;49m\u001b[38;5;241;43m.\u001b[39;49m\u001b[43m_call_impl\u001b[49m\u001b[43m(\u001b[49m\u001b[38;5;241;43m*\u001b[39;49m\u001b[43margs\u001b[49m\u001b[43m,\u001b[49m\u001b[43m \u001b[49m\u001b[38;5;241;43m*\u001b[39;49m\u001b[38;5;241;43m*\u001b[39;49m\u001b[43mkwargs\u001b[49m\u001b[43m)\u001b[49m\n",
      "File \u001b[0;32m~/miniconda3/lib/python3.12/site-packages/torch/nn/modules/module.py:1751\u001b[0m, in \u001b[0;36mModule._call_impl\u001b[0;34m(self, *args, **kwargs)\u001b[0m\n\u001b[1;32m   1746\u001b[0m \u001b[38;5;66;03m# If we don't have any hooks, we want to skip the rest of the logic in\u001b[39;00m\n\u001b[1;32m   1747\u001b[0m \u001b[38;5;66;03m# this function, and just call forward.\u001b[39;00m\n\u001b[1;32m   1748\u001b[0m \u001b[38;5;28;01mif\u001b[39;00m \u001b[38;5;129;01mnot\u001b[39;00m (\u001b[38;5;28mself\u001b[39m\u001b[38;5;241m.\u001b[39m_backward_hooks \u001b[38;5;129;01mor\u001b[39;00m \u001b[38;5;28mself\u001b[39m\u001b[38;5;241m.\u001b[39m_backward_pre_hooks \u001b[38;5;129;01mor\u001b[39;00m \u001b[38;5;28mself\u001b[39m\u001b[38;5;241m.\u001b[39m_forward_hooks \u001b[38;5;129;01mor\u001b[39;00m \u001b[38;5;28mself\u001b[39m\u001b[38;5;241m.\u001b[39m_forward_pre_hooks\n\u001b[1;32m   1749\u001b[0m         \u001b[38;5;129;01mor\u001b[39;00m _global_backward_pre_hooks \u001b[38;5;129;01mor\u001b[39;00m _global_backward_hooks\n\u001b[1;32m   1750\u001b[0m         \u001b[38;5;129;01mor\u001b[39;00m _global_forward_hooks \u001b[38;5;129;01mor\u001b[39;00m _global_forward_pre_hooks):\n\u001b[0;32m-> 1751\u001b[0m     \u001b[38;5;28;01mreturn\u001b[39;00m \u001b[43mforward_call\u001b[49m\u001b[43m(\u001b[49m\u001b[38;5;241;43m*\u001b[39;49m\u001b[43margs\u001b[49m\u001b[43m,\u001b[49m\u001b[43m \u001b[49m\u001b[38;5;241;43m*\u001b[39;49m\u001b[38;5;241;43m*\u001b[39;49m\u001b[43mkwargs\u001b[49m\u001b[43m)\u001b[49m\n\u001b[1;32m   1753\u001b[0m result \u001b[38;5;241m=\u001b[39m \u001b[38;5;28;01mNone\u001b[39;00m\n\u001b[1;32m   1754\u001b[0m called_always_called_hooks \u001b[38;5;241m=\u001b[39m \u001b[38;5;28mset\u001b[39m()\n",
      "File \u001b[0;32m~/miniconda3/lib/python3.12/site-packages/transformers/models/gpt_neo/modeling_gpt_neo.py:865\u001b[0m, in \u001b[0;36mGPTNeoForCausalLM.forward\u001b[0;34m(self, input_ids, past_key_values, attention_mask, token_type_ids, position_ids, head_mask, inputs_embeds, labels, use_cache, output_attentions, output_hidden_states, return_dict)\u001b[0m\n\u001b[1;32m    857\u001b[0m \u001b[38;5;250m\u001b[39m\u001b[38;5;124mr\u001b[39m\u001b[38;5;124;03m\"\"\"\u001b[39;00m\n\u001b[1;32m    858\u001b[0m \u001b[38;5;124;03mlabels (`torch.LongTensor` of shape `(batch_size, sequence_length)`, *optional*):\u001b[39;00m\n\u001b[1;32m    859\u001b[0m \u001b[38;5;124;03m    Labels for language modeling. Note that the labels **are shifted** inside the model, i.e. you can set\u001b[39;00m\n\u001b[1;32m    860\u001b[0m \u001b[38;5;124;03m    `labels = input_ids` Indices are selected in `[-100, 0, ..., config.vocab_size]` All labels set to `-100`\u001b[39;00m\n\u001b[1;32m    861\u001b[0m \u001b[38;5;124;03m    are ignored (masked), the loss is only computed for labels in `[0, ..., config.vocab_size]`\u001b[39;00m\n\u001b[1;32m    862\u001b[0m \u001b[38;5;124;03m\"\"\"\u001b[39;00m\n\u001b[1;32m    863\u001b[0m return_dict \u001b[38;5;241m=\u001b[39m return_dict \u001b[38;5;28;01mif\u001b[39;00m return_dict \u001b[38;5;129;01mis\u001b[39;00m \u001b[38;5;129;01mnot\u001b[39;00m \u001b[38;5;28;01mNone\u001b[39;00m \u001b[38;5;28;01melse\u001b[39;00m \u001b[38;5;28mself\u001b[39m\u001b[38;5;241m.\u001b[39mconfig\u001b[38;5;241m.\u001b[39muse_return_dict\n\u001b[0;32m--> 865\u001b[0m transformer_outputs \u001b[38;5;241m=\u001b[39m \u001b[38;5;28;43mself\u001b[39;49m\u001b[38;5;241;43m.\u001b[39;49m\u001b[43mtransformer\u001b[49m\u001b[43m(\u001b[49m\n\u001b[1;32m    866\u001b[0m \u001b[43m    \u001b[49m\u001b[43minput_ids\u001b[49m\u001b[43m,\u001b[49m\n\u001b[1;32m    867\u001b[0m \u001b[43m    \u001b[49m\u001b[43mpast_key_values\u001b[49m\u001b[38;5;241;43m=\u001b[39;49m\u001b[43mpast_key_values\u001b[49m\u001b[43m,\u001b[49m\n\u001b[1;32m    868\u001b[0m \u001b[43m    \u001b[49m\u001b[43mattention_mask\u001b[49m\u001b[38;5;241;43m=\u001b[39;49m\u001b[43mattention_mask\u001b[49m\u001b[43m,\u001b[49m\n\u001b[1;32m    869\u001b[0m \u001b[43m    \u001b[49m\u001b[43mtoken_type_ids\u001b[49m\u001b[38;5;241;43m=\u001b[39;49m\u001b[43mtoken_type_ids\u001b[49m\u001b[43m,\u001b[49m\n\u001b[1;32m    870\u001b[0m \u001b[43m    \u001b[49m\u001b[43mposition_ids\u001b[49m\u001b[38;5;241;43m=\u001b[39;49m\u001b[43mposition_ids\u001b[49m\u001b[43m,\u001b[49m\n\u001b[1;32m    871\u001b[0m \u001b[43m    \u001b[49m\u001b[43mhead_mask\u001b[49m\u001b[38;5;241;43m=\u001b[39;49m\u001b[43mhead_mask\u001b[49m\u001b[43m,\u001b[49m\n\u001b[1;32m    872\u001b[0m \u001b[43m    \u001b[49m\u001b[43minputs_embeds\u001b[49m\u001b[38;5;241;43m=\u001b[39;49m\u001b[43minputs_embeds\u001b[49m\u001b[43m,\u001b[49m\n\u001b[1;32m    873\u001b[0m \u001b[43m    \u001b[49m\u001b[43muse_cache\u001b[49m\u001b[38;5;241;43m=\u001b[39;49m\u001b[43muse_cache\u001b[49m\u001b[43m,\u001b[49m\n\u001b[1;32m    874\u001b[0m \u001b[43m    \u001b[49m\u001b[43moutput_attentions\u001b[49m\u001b[38;5;241;43m=\u001b[39;49m\u001b[43moutput_attentions\u001b[49m\u001b[43m,\u001b[49m\n\u001b[1;32m    875\u001b[0m \u001b[43m    \u001b[49m\u001b[43moutput_hidden_states\u001b[49m\u001b[38;5;241;43m=\u001b[39;49m\u001b[43moutput_hidden_states\u001b[49m\u001b[43m,\u001b[49m\n\u001b[1;32m    876\u001b[0m \u001b[43m    \u001b[49m\u001b[43mreturn_dict\u001b[49m\u001b[38;5;241;43m=\u001b[39;49m\u001b[43mreturn_dict\u001b[49m\u001b[43m,\u001b[49m\n\u001b[1;32m    877\u001b[0m \u001b[43m\u001b[49m\u001b[43m)\u001b[49m\n\u001b[1;32m    878\u001b[0m hidden_states \u001b[38;5;241m=\u001b[39m transformer_outputs[\u001b[38;5;241m0\u001b[39m]\n\u001b[1;32m    880\u001b[0m lm_logits \u001b[38;5;241m=\u001b[39m \u001b[38;5;28mself\u001b[39m\u001b[38;5;241m.\u001b[39mlm_head(hidden_states)\n",
      "File \u001b[0;32m~/miniconda3/lib/python3.12/site-packages/torch/nn/modules/module.py:1740\u001b[0m, in \u001b[0;36mModule._wrapped_call_impl\u001b[0;34m(self, *args, **kwargs)\u001b[0m\n\u001b[1;32m   1738\u001b[0m     \u001b[38;5;28;01mreturn\u001b[39;00m \u001b[38;5;28mself\u001b[39m\u001b[38;5;241m.\u001b[39m_compiled_call_impl(\u001b[38;5;241m*\u001b[39margs, \u001b[38;5;241m*\u001b[39m\u001b[38;5;241m*\u001b[39mkwargs)  \u001b[38;5;66;03m# type: ignore[misc]\u001b[39;00m\n\u001b[1;32m   1739\u001b[0m \u001b[38;5;28;01melse\u001b[39;00m:\n\u001b[0;32m-> 1740\u001b[0m     \u001b[38;5;28;01mreturn\u001b[39;00m \u001b[38;5;28;43mself\u001b[39;49m\u001b[38;5;241;43m.\u001b[39;49m\u001b[43m_call_impl\u001b[49m\u001b[43m(\u001b[49m\u001b[38;5;241;43m*\u001b[39;49m\u001b[43margs\u001b[49m\u001b[43m,\u001b[49m\u001b[43m \u001b[49m\u001b[38;5;241;43m*\u001b[39;49m\u001b[38;5;241;43m*\u001b[39;49m\u001b[43mkwargs\u001b[49m\u001b[43m)\u001b[49m\n",
      "File \u001b[0;32m~/miniconda3/lib/python3.12/site-packages/torch/nn/modules/module.py:1751\u001b[0m, in \u001b[0;36mModule._call_impl\u001b[0;34m(self, *args, **kwargs)\u001b[0m\n\u001b[1;32m   1746\u001b[0m \u001b[38;5;66;03m# If we don't have any hooks, we want to skip the rest of the logic in\u001b[39;00m\n\u001b[1;32m   1747\u001b[0m \u001b[38;5;66;03m# this function, and just call forward.\u001b[39;00m\n\u001b[1;32m   1748\u001b[0m \u001b[38;5;28;01mif\u001b[39;00m \u001b[38;5;129;01mnot\u001b[39;00m (\u001b[38;5;28mself\u001b[39m\u001b[38;5;241m.\u001b[39m_backward_hooks \u001b[38;5;129;01mor\u001b[39;00m \u001b[38;5;28mself\u001b[39m\u001b[38;5;241m.\u001b[39m_backward_pre_hooks \u001b[38;5;129;01mor\u001b[39;00m \u001b[38;5;28mself\u001b[39m\u001b[38;5;241m.\u001b[39m_forward_hooks \u001b[38;5;129;01mor\u001b[39;00m \u001b[38;5;28mself\u001b[39m\u001b[38;5;241m.\u001b[39m_forward_pre_hooks\n\u001b[1;32m   1749\u001b[0m         \u001b[38;5;129;01mor\u001b[39;00m _global_backward_pre_hooks \u001b[38;5;129;01mor\u001b[39;00m _global_backward_hooks\n\u001b[1;32m   1750\u001b[0m         \u001b[38;5;129;01mor\u001b[39;00m _global_forward_hooks \u001b[38;5;129;01mor\u001b[39;00m _global_forward_pre_hooks):\n\u001b[0;32m-> 1751\u001b[0m     \u001b[38;5;28;01mreturn\u001b[39;00m \u001b[43mforward_call\u001b[49m\u001b[43m(\u001b[49m\u001b[38;5;241;43m*\u001b[39;49m\u001b[43margs\u001b[49m\u001b[43m,\u001b[49m\u001b[43m \u001b[49m\u001b[38;5;241;43m*\u001b[39;49m\u001b[38;5;241;43m*\u001b[39;49m\u001b[43mkwargs\u001b[49m\u001b[43m)\u001b[49m\n\u001b[1;32m   1753\u001b[0m result \u001b[38;5;241m=\u001b[39m \u001b[38;5;28;01mNone\u001b[39;00m\n\u001b[1;32m   1754\u001b[0m called_always_called_hooks \u001b[38;5;241m=\u001b[39m \u001b[38;5;28mset\u001b[39m()\n",
      "File \u001b[0;32m~/miniconda3/lib/python3.12/site-packages/transformers/models/gpt_neo/modeling_gpt_neo.py:732\u001b[0m, in \u001b[0;36mGPTNeoModel.forward\u001b[0;34m(self, input_ids, past_key_values, attention_mask, token_type_ids, position_ids, head_mask, inputs_embeds, use_cache, output_attentions, output_hidden_states, return_dict)\u001b[0m\n\u001b[1;32m    722\u001b[0m     outputs \u001b[38;5;241m=\u001b[39m \u001b[38;5;28mself\u001b[39m\u001b[38;5;241m.\u001b[39m_gradient_checkpointing_func(\n\u001b[1;32m    723\u001b[0m         block\u001b[38;5;241m.\u001b[39m\u001b[38;5;21m__call__\u001b[39m,\n\u001b[1;32m    724\u001b[0m         hidden_states,\n\u001b[0;32m   (...)\u001b[0m\n\u001b[1;32m    729\u001b[0m         output_attentions,\n\u001b[1;32m    730\u001b[0m     )\n\u001b[1;32m    731\u001b[0m \u001b[38;5;28;01melse\u001b[39;00m:\n\u001b[0;32m--> 732\u001b[0m     outputs \u001b[38;5;241m=\u001b[39m \u001b[43mblock\u001b[49m\u001b[43m(\u001b[49m\n\u001b[1;32m    733\u001b[0m \u001b[43m        \u001b[49m\u001b[43mhidden_states\u001b[49m\u001b[43m,\u001b[49m\n\u001b[1;32m    734\u001b[0m \u001b[43m        \u001b[49m\u001b[43mlayer_past\u001b[49m\u001b[38;5;241;43m=\u001b[39;49m\u001b[43mlayer_past\u001b[49m\u001b[43m,\u001b[49m\n\u001b[1;32m    735\u001b[0m \u001b[43m        \u001b[49m\u001b[43mattention_mask\u001b[49m\u001b[38;5;241;43m=\u001b[39;49m\u001b[43mattention_mask\u001b[49m\u001b[43m,\u001b[49m\n\u001b[1;32m    736\u001b[0m \u001b[43m        \u001b[49m\u001b[43mhead_mask\u001b[49m\u001b[38;5;241;43m=\u001b[39;49m\u001b[43mhead_mask\u001b[49m\u001b[43m[\u001b[49m\u001b[43mi\u001b[49m\u001b[43m]\u001b[49m\u001b[43m,\u001b[49m\n\u001b[1;32m    737\u001b[0m \u001b[43m        \u001b[49m\u001b[43muse_cache\u001b[49m\u001b[38;5;241;43m=\u001b[39;49m\u001b[43muse_cache\u001b[49m\u001b[43m,\u001b[49m\n\u001b[1;32m    738\u001b[0m \u001b[43m        \u001b[49m\u001b[43moutput_attentions\u001b[49m\u001b[38;5;241;43m=\u001b[39;49m\u001b[43moutput_attentions\u001b[49m\u001b[43m,\u001b[49m\n\u001b[1;32m    739\u001b[0m \u001b[43m    \u001b[49m\u001b[43m)\u001b[49m\n\u001b[1;32m    741\u001b[0m hidden_states \u001b[38;5;241m=\u001b[39m outputs[\u001b[38;5;241m0\u001b[39m]\n\u001b[1;32m    742\u001b[0m \u001b[38;5;28;01mif\u001b[39;00m use_cache \u001b[38;5;129;01mis\u001b[39;00m \u001b[38;5;28;01mTrue\u001b[39;00m:\n",
      "File \u001b[0;32m~/miniconda3/lib/python3.12/site-packages/torch/nn/modules/module.py:1740\u001b[0m, in \u001b[0;36mModule._wrapped_call_impl\u001b[0;34m(self, *args, **kwargs)\u001b[0m\n\u001b[1;32m   1738\u001b[0m     \u001b[38;5;28;01mreturn\u001b[39;00m \u001b[38;5;28mself\u001b[39m\u001b[38;5;241m.\u001b[39m_compiled_call_impl(\u001b[38;5;241m*\u001b[39margs, \u001b[38;5;241m*\u001b[39m\u001b[38;5;241m*\u001b[39mkwargs)  \u001b[38;5;66;03m# type: ignore[misc]\u001b[39;00m\n\u001b[1;32m   1739\u001b[0m \u001b[38;5;28;01melse\u001b[39;00m:\n\u001b[0;32m-> 1740\u001b[0m     \u001b[38;5;28;01mreturn\u001b[39;00m \u001b[38;5;28;43mself\u001b[39;49m\u001b[38;5;241;43m.\u001b[39;49m\u001b[43m_call_impl\u001b[49m\u001b[43m(\u001b[49m\u001b[38;5;241;43m*\u001b[39;49m\u001b[43margs\u001b[49m\u001b[43m,\u001b[49m\u001b[43m \u001b[49m\u001b[38;5;241;43m*\u001b[39;49m\u001b[38;5;241;43m*\u001b[39;49m\u001b[43mkwargs\u001b[49m\u001b[43m)\u001b[49m\n",
      "File \u001b[0;32m~/miniconda3/lib/python3.12/site-packages/torch/nn/modules/module.py:1751\u001b[0m, in \u001b[0;36mModule._call_impl\u001b[0;34m(self, *args, **kwargs)\u001b[0m\n\u001b[1;32m   1746\u001b[0m \u001b[38;5;66;03m# If we don't have any hooks, we want to skip the rest of the logic in\u001b[39;00m\n\u001b[1;32m   1747\u001b[0m \u001b[38;5;66;03m# this function, and just call forward.\u001b[39;00m\n\u001b[1;32m   1748\u001b[0m \u001b[38;5;28;01mif\u001b[39;00m \u001b[38;5;129;01mnot\u001b[39;00m (\u001b[38;5;28mself\u001b[39m\u001b[38;5;241m.\u001b[39m_backward_hooks \u001b[38;5;129;01mor\u001b[39;00m \u001b[38;5;28mself\u001b[39m\u001b[38;5;241m.\u001b[39m_backward_pre_hooks \u001b[38;5;129;01mor\u001b[39;00m \u001b[38;5;28mself\u001b[39m\u001b[38;5;241m.\u001b[39m_forward_hooks \u001b[38;5;129;01mor\u001b[39;00m \u001b[38;5;28mself\u001b[39m\u001b[38;5;241m.\u001b[39m_forward_pre_hooks\n\u001b[1;32m   1749\u001b[0m         \u001b[38;5;129;01mor\u001b[39;00m _global_backward_pre_hooks \u001b[38;5;129;01mor\u001b[39;00m _global_backward_hooks\n\u001b[1;32m   1750\u001b[0m         \u001b[38;5;129;01mor\u001b[39;00m _global_forward_hooks \u001b[38;5;129;01mor\u001b[39;00m _global_forward_pre_hooks):\n\u001b[0;32m-> 1751\u001b[0m     \u001b[38;5;28;01mreturn\u001b[39;00m \u001b[43mforward_call\u001b[49m\u001b[43m(\u001b[49m\u001b[38;5;241;43m*\u001b[39;49m\u001b[43margs\u001b[49m\u001b[43m,\u001b[49m\u001b[43m \u001b[49m\u001b[38;5;241;43m*\u001b[39;49m\u001b[38;5;241;43m*\u001b[39;49m\u001b[43mkwargs\u001b[49m\u001b[43m)\u001b[49m\n\u001b[1;32m   1753\u001b[0m result \u001b[38;5;241m=\u001b[39m \u001b[38;5;28;01mNone\u001b[39;00m\n\u001b[1;32m   1754\u001b[0m called_always_called_hooks \u001b[38;5;241m=\u001b[39m \u001b[38;5;28mset\u001b[39m()\n",
      "File \u001b[0;32m~/miniconda3/lib/python3.12/site-packages/transformers/models/gpt_neo/modeling_gpt_neo.py:459\u001b[0m, in \u001b[0;36mGPTNeoBlock.forward\u001b[0;34m(self, hidden_states, layer_past, attention_mask, head_mask, use_cache, output_attentions)\u001b[0m\n\u001b[1;32m    457\u001b[0m residual \u001b[38;5;241m=\u001b[39m hidden_states\n\u001b[1;32m    458\u001b[0m hidden_states \u001b[38;5;241m=\u001b[39m \u001b[38;5;28mself\u001b[39m\u001b[38;5;241m.\u001b[39mln_1(hidden_states)\n\u001b[0;32m--> 459\u001b[0m attn_outputs \u001b[38;5;241m=\u001b[39m \u001b[38;5;28;43mself\u001b[39;49m\u001b[38;5;241;43m.\u001b[39;49m\u001b[43mattn\u001b[49m\u001b[43m(\u001b[49m\n\u001b[1;32m    460\u001b[0m \u001b[43m    \u001b[49m\u001b[43mhidden_states\u001b[49m\u001b[43m,\u001b[49m\n\u001b[1;32m    461\u001b[0m \u001b[43m    \u001b[49m\u001b[43mlayer_past\u001b[49m\u001b[38;5;241;43m=\u001b[39;49m\u001b[43mlayer_past\u001b[49m\u001b[43m,\u001b[49m\n\u001b[1;32m    462\u001b[0m \u001b[43m    \u001b[49m\u001b[43mattention_mask\u001b[49m\u001b[38;5;241;43m=\u001b[39;49m\u001b[43mattention_mask\u001b[49m\u001b[43m,\u001b[49m\n\u001b[1;32m    463\u001b[0m \u001b[43m    \u001b[49m\u001b[43mhead_mask\u001b[49m\u001b[38;5;241;43m=\u001b[39;49m\u001b[43mhead_mask\u001b[49m\u001b[43m,\u001b[49m\n\u001b[1;32m    464\u001b[0m \u001b[43m    \u001b[49m\u001b[43muse_cache\u001b[49m\u001b[38;5;241;43m=\u001b[39;49m\u001b[43muse_cache\u001b[49m\u001b[43m,\u001b[49m\n\u001b[1;32m    465\u001b[0m \u001b[43m    \u001b[49m\u001b[43moutput_attentions\u001b[49m\u001b[38;5;241;43m=\u001b[39;49m\u001b[43moutput_attentions\u001b[49m\u001b[43m,\u001b[49m\n\u001b[1;32m    466\u001b[0m \u001b[43m\u001b[49m\u001b[43m)\u001b[49m\n\u001b[1;32m    467\u001b[0m attn_output \u001b[38;5;241m=\u001b[39m attn_outputs[\u001b[38;5;241m0\u001b[39m]  \u001b[38;5;66;03m# output_attn: a, present, (attentions)\u001b[39;00m\n\u001b[1;32m    468\u001b[0m outputs \u001b[38;5;241m=\u001b[39m attn_outputs[\u001b[38;5;241m1\u001b[39m:]\n",
      "File \u001b[0;32m~/miniconda3/lib/python3.12/site-packages/torch/nn/modules/module.py:1740\u001b[0m, in \u001b[0;36mModule._wrapped_call_impl\u001b[0;34m(self, *args, **kwargs)\u001b[0m\n\u001b[1;32m   1738\u001b[0m     \u001b[38;5;28;01mreturn\u001b[39;00m \u001b[38;5;28mself\u001b[39m\u001b[38;5;241m.\u001b[39m_compiled_call_impl(\u001b[38;5;241m*\u001b[39margs, \u001b[38;5;241m*\u001b[39m\u001b[38;5;241m*\u001b[39mkwargs)  \u001b[38;5;66;03m# type: ignore[misc]\u001b[39;00m\n\u001b[1;32m   1739\u001b[0m \u001b[38;5;28;01melse\u001b[39;00m:\n\u001b[0;32m-> 1740\u001b[0m     \u001b[38;5;28;01mreturn\u001b[39;00m \u001b[38;5;28;43mself\u001b[39;49m\u001b[38;5;241;43m.\u001b[39;49m\u001b[43m_call_impl\u001b[49m\u001b[43m(\u001b[49m\u001b[38;5;241;43m*\u001b[39;49m\u001b[43margs\u001b[49m\u001b[43m,\u001b[49m\u001b[43m \u001b[49m\u001b[38;5;241;43m*\u001b[39;49m\u001b[38;5;241;43m*\u001b[39;49m\u001b[43mkwargs\u001b[49m\u001b[43m)\u001b[49m\n",
      "File \u001b[0;32m~/miniconda3/lib/python3.12/site-packages/torch/nn/modules/module.py:1751\u001b[0m, in \u001b[0;36mModule._call_impl\u001b[0;34m(self, *args, **kwargs)\u001b[0m\n\u001b[1;32m   1746\u001b[0m \u001b[38;5;66;03m# If we don't have any hooks, we want to skip the rest of the logic in\u001b[39;00m\n\u001b[1;32m   1747\u001b[0m \u001b[38;5;66;03m# this function, and just call forward.\u001b[39;00m\n\u001b[1;32m   1748\u001b[0m \u001b[38;5;28;01mif\u001b[39;00m \u001b[38;5;129;01mnot\u001b[39;00m (\u001b[38;5;28mself\u001b[39m\u001b[38;5;241m.\u001b[39m_backward_hooks \u001b[38;5;129;01mor\u001b[39;00m \u001b[38;5;28mself\u001b[39m\u001b[38;5;241m.\u001b[39m_backward_pre_hooks \u001b[38;5;129;01mor\u001b[39;00m \u001b[38;5;28mself\u001b[39m\u001b[38;5;241m.\u001b[39m_forward_hooks \u001b[38;5;129;01mor\u001b[39;00m \u001b[38;5;28mself\u001b[39m\u001b[38;5;241m.\u001b[39m_forward_pre_hooks\n\u001b[1;32m   1749\u001b[0m         \u001b[38;5;129;01mor\u001b[39;00m _global_backward_pre_hooks \u001b[38;5;129;01mor\u001b[39;00m _global_backward_hooks\n\u001b[1;32m   1750\u001b[0m         \u001b[38;5;129;01mor\u001b[39;00m _global_forward_hooks \u001b[38;5;129;01mor\u001b[39;00m _global_forward_pre_hooks):\n\u001b[0;32m-> 1751\u001b[0m     \u001b[38;5;28;01mreturn\u001b[39;00m \u001b[43mforward_call\u001b[49m\u001b[43m(\u001b[49m\u001b[38;5;241;43m*\u001b[39;49m\u001b[43margs\u001b[49m\u001b[43m,\u001b[49m\u001b[43m \u001b[49m\u001b[38;5;241;43m*\u001b[39;49m\u001b[38;5;241;43m*\u001b[39;49m\u001b[43mkwargs\u001b[49m\u001b[43m)\u001b[49m\n\u001b[1;32m   1753\u001b[0m result \u001b[38;5;241m=\u001b[39m \u001b[38;5;28;01mNone\u001b[39;00m\n\u001b[1;32m   1754\u001b[0m called_always_called_hooks \u001b[38;5;241m=\u001b[39m \u001b[38;5;28mset\u001b[39m()\n",
      "File \u001b[0;32m~/miniconda3/lib/python3.12/site-packages/transformers/models/gpt_neo/modeling_gpt_neo.py:411\u001b[0m, in \u001b[0;36mGPTNeoAttention.forward\u001b[0;34m(self, hidden_states, layer_past, attention_mask, head_mask, use_cache, output_attentions)\u001b[0m\n\u001b[1;32m    402\u001b[0m \u001b[38;5;28;01mdef\u001b[39;00m \u001b[38;5;21mforward\u001b[39m(\n\u001b[1;32m    403\u001b[0m     \u001b[38;5;28mself\u001b[39m,\n\u001b[1;32m    404\u001b[0m     hidden_states,\n\u001b[0;32m   (...)\u001b[0m\n\u001b[1;32m    409\u001b[0m     output_attentions\u001b[38;5;241m=\u001b[39m\u001b[38;5;28;01mFalse\u001b[39;00m,\n\u001b[1;32m    410\u001b[0m ):\n\u001b[0;32m--> 411\u001b[0m     \u001b[38;5;28;01mreturn\u001b[39;00m \u001b[38;5;28;43mself\u001b[39;49m\u001b[38;5;241;43m.\u001b[39;49m\u001b[43mattention\u001b[49m\u001b[43m(\u001b[49m\n\u001b[1;32m    412\u001b[0m \u001b[43m        \u001b[49m\u001b[43mhidden_states\u001b[49m\u001b[43m,\u001b[49m\n\u001b[1;32m    413\u001b[0m \u001b[43m        \u001b[49m\u001b[43mattention_mask\u001b[49m\u001b[38;5;241;43m=\u001b[39;49m\u001b[43mattention_mask\u001b[49m\u001b[43m,\u001b[49m\n\u001b[1;32m    414\u001b[0m \u001b[43m        \u001b[49m\u001b[43mlayer_past\u001b[49m\u001b[38;5;241;43m=\u001b[39;49m\u001b[43mlayer_past\u001b[49m\u001b[43m,\u001b[49m\n\u001b[1;32m    415\u001b[0m \u001b[43m        \u001b[49m\u001b[43mhead_mask\u001b[49m\u001b[38;5;241;43m=\u001b[39;49m\u001b[43mhead_mask\u001b[49m\u001b[43m,\u001b[49m\n\u001b[1;32m    416\u001b[0m \u001b[43m        \u001b[49m\u001b[43muse_cache\u001b[49m\u001b[38;5;241;43m=\u001b[39;49m\u001b[43muse_cache\u001b[49m\u001b[43m,\u001b[49m\n\u001b[1;32m    417\u001b[0m \u001b[43m        \u001b[49m\u001b[43moutput_attentions\u001b[49m\u001b[38;5;241;43m=\u001b[39;49m\u001b[43moutput_attentions\u001b[49m\u001b[43m,\u001b[49m\n\u001b[1;32m    418\u001b[0m \u001b[43m    \u001b[49m\u001b[43m)\u001b[49m\n",
      "File \u001b[0;32m~/miniconda3/lib/python3.12/site-packages/torch/nn/modules/module.py:1740\u001b[0m, in \u001b[0;36mModule._wrapped_call_impl\u001b[0;34m(self, *args, **kwargs)\u001b[0m\n\u001b[1;32m   1738\u001b[0m     \u001b[38;5;28;01mreturn\u001b[39;00m \u001b[38;5;28mself\u001b[39m\u001b[38;5;241m.\u001b[39m_compiled_call_impl(\u001b[38;5;241m*\u001b[39margs, \u001b[38;5;241m*\u001b[39m\u001b[38;5;241m*\u001b[39mkwargs)  \u001b[38;5;66;03m# type: ignore[misc]\u001b[39;00m\n\u001b[1;32m   1739\u001b[0m \u001b[38;5;28;01melse\u001b[39;00m:\n\u001b[0;32m-> 1740\u001b[0m     \u001b[38;5;28;01mreturn\u001b[39;00m \u001b[38;5;28;43mself\u001b[39;49m\u001b[38;5;241;43m.\u001b[39;49m\u001b[43m_call_impl\u001b[49m\u001b[43m(\u001b[49m\u001b[38;5;241;43m*\u001b[39;49m\u001b[43margs\u001b[49m\u001b[43m,\u001b[49m\u001b[43m \u001b[49m\u001b[38;5;241;43m*\u001b[39;49m\u001b[38;5;241;43m*\u001b[39;49m\u001b[43mkwargs\u001b[49m\u001b[43m)\u001b[49m\n",
      "File \u001b[0;32m~/miniconda3/lib/python3.12/site-packages/torch/nn/modules/module.py:1751\u001b[0m, in \u001b[0;36mModule._call_impl\u001b[0;34m(self, *args, **kwargs)\u001b[0m\n\u001b[1;32m   1746\u001b[0m \u001b[38;5;66;03m# If we don't have any hooks, we want to skip the rest of the logic in\u001b[39;00m\n\u001b[1;32m   1747\u001b[0m \u001b[38;5;66;03m# this function, and just call forward.\u001b[39;00m\n\u001b[1;32m   1748\u001b[0m \u001b[38;5;28;01mif\u001b[39;00m \u001b[38;5;129;01mnot\u001b[39;00m (\u001b[38;5;28mself\u001b[39m\u001b[38;5;241m.\u001b[39m_backward_hooks \u001b[38;5;129;01mor\u001b[39;00m \u001b[38;5;28mself\u001b[39m\u001b[38;5;241m.\u001b[39m_backward_pre_hooks \u001b[38;5;129;01mor\u001b[39;00m \u001b[38;5;28mself\u001b[39m\u001b[38;5;241m.\u001b[39m_forward_hooks \u001b[38;5;129;01mor\u001b[39;00m \u001b[38;5;28mself\u001b[39m\u001b[38;5;241m.\u001b[39m_forward_pre_hooks\n\u001b[1;32m   1749\u001b[0m         \u001b[38;5;129;01mor\u001b[39;00m _global_backward_pre_hooks \u001b[38;5;129;01mor\u001b[39;00m _global_backward_hooks\n\u001b[1;32m   1750\u001b[0m         \u001b[38;5;129;01mor\u001b[39;00m _global_forward_hooks \u001b[38;5;129;01mor\u001b[39;00m _global_forward_pre_hooks):\n\u001b[0;32m-> 1751\u001b[0m     \u001b[38;5;28;01mreturn\u001b[39;00m \u001b[43mforward_call\u001b[49m\u001b[43m(\u001b[49m\u001b[38;5;241;43m*\u001b[39;49m\u001b[43margs\u001b[49m\u001b[43m,\u001b[49m\u001b[43m \u001b[49m\u001b[38;5;241;43m*\u001b[39;49m\u001b[38;5;241;43m*\u001b[39;49m\u001b[43mkwargs\u001b[49m\u001b[43m)\u001b[49m\n\u001b[1;32m   1753\u001b[0m result \u001b[38;5;241m=\u001b[39m \u001b[38;5;28;01mNone\u001b[39;00m\n\u001b[1;32m   1754\u001b[0m called_always_called_hooks \u001b[38;5;241m=\u001b[39m \u001b[38;5;28mset\u001b[39m()\n",
      "File \u001b[0;32m~/miniconda3/lib/python3.12/site-packages/transformers/models/gpt_neo/modeling_gpt_neo.py:263\u001b[0m, in \u001b[0;36mGPTNeoSelfAttention.forward\u001b[0;34m(self, hidden_states, attention_mask, layer_past, head_mask, use_cache, output_attentions)\u001b[0m\n\u001b[1;32m    260\u001b[0m \u001b[38;5;28;01melse\u001b[39;00m:\n\u001b[1;32m    261\u001b[0m     present \u001b[38;5;241m=\u001b[39m \u001b[38;5;28;01mNone\u001b[39;00m\n\u001b[0;32m--> 263\u001b[0m attn_output, attn_weights \u001b[38;5;241m=\u001b[39m \u001b[38;5;28;43mself\u001b[39;49m\u001b[38;5;241;43m.\u001b[39;49m\u001b[43m_attn\u001b[49m\u001b[43m(\u001b[49m\u001b[43mquery\u001b[49m\u001b[43m,\u001b[49m\u001b[43m \u001b[49m\u001b[43mkey\u001b[49m\u001b[43m,\u001b[49m\u001b[43m \u001b[49m\u001b[43mvalue\u001b[49m\u001b[43m,\u001b[49m\u001b[43m \u001b[49m\u001b[43mattention_mask\u001b[49m\u001b[43m,\u001b[49m\u001b[43m \u001b[49m\u001b[43mhead_mask\u001b[49m\u001b[43m)\u001b[49m\n\u001b[1;32m    265\u001b[0m attn_output \u001b[38;5;241m=\u001b[39m \u001b[38;5;28mself\u001b[39m\u001b[38;5;241m.\u001b[39m_merge_heads(attn_output, \u001b[38;5;28mself\u001b[39m\u001b[38;5;241m.\u001b[39mnum_heads, \u001b[38;5;28mself\u001b[39m\u001b[38;5;241m.\u001b[39mhead_dim)\n\u001b[1;32m    266\u001b[0m attn_output \u001b[38;5;241m=\u001b[39m \u001b[38;5;28mself\u001b[39m\u001b[38;5;241m.\u001b[39mout_proj(attn_output)\n",
      "File \u001b[0;32m~/miniconda3/lib/python3.12/site-packages/transformers/models/gpt_neo/modeling_gpt_neo.py:216\u001b[0m, in \u001b[0;36mGPTNeoSelfAttention._attn\u001b[0;34m(self, query, key, value, attention_mask, head_mask)\u001b[0m\n\u001b[1;32m    213\u001b[0m mask_value \u001b[38;5;241m=\u001b[39m torch\u001b[38;5;241m.\u001b[39mfinfo(attn_weights\u001b[38;5;241m.\u001b[39mdtype)\u001b[38;5;241m.\u001b[39mmin\n\u001b[1;32m    214\u001b[0m \u001b[38;5;66;03m# Need to be a tensor, otherwise we get error: `RuntimeError: expected scalar type float but found double`.\u001b[39;00m\n\u001b[1;32m    215\u001b[0m \u001b[38;5;66;03m# Need to be on the same device, otherwise `RuntimeError: ..., x and y to be on the same device`\u001b[39;00m\n\u001b[0;32m--> 216\u001b[0m mask_value \u001b[38;5;241m=\u001b[39m \u001b[43mtorch\u001b[49m\u001b[38;5;241;43m.\u001b[39;49m\u001b[43mtensor\u001b[49m\u001b[43m(\u001b[49m\u001b[43mmask_value\u001b[49m\u001b[43m,\u001b[49m\u001b[43m \u001b[49m\u001b[43mdtype\u001b[49m\u001b[38;5;241;43m=\u001b[39;49m\u001b[43mattn_weights\u001b[49m\u001b[38;5;241;43m.\u001b[39;49m\u001b[43mdtype\u001b[49m\u001b[43m)\u001b[49m\u001b[38;5;241;43m.\u001b[39;49m\u001b[43mto\u001b[49m\u001b[43m(\u001b[49m\u001b[43mattn_weights\u001b[49m\u001b[38;5;241;43m.\u001b[39;49m\u001b[43mdevice\u001b[49m\u001b[43m)\u001b[49m\n\u001b[1;32m    217\u001b[0m attn_weights \u001b[38;5;241m=\u001b[39m torch\u001b[38;5;241m.\u001b[39mwhere(causal_mask, attn_weights, mask_value)\n\u001b[1;32m    219\u001b[0m \u001b[38;5;28;01mif\u001b[39;00m attention_mask \u001b[38;5;129;01mis\u001b[39;00m \u001b[38;5;129;01mnot\u001b[39;00m \u001b[38;5;28;01mNone\u001b[39;00m:\n\u001b[1;32m    220\u001b[0m     \u001b[38;5;66;03m# Apply the attention mask\u001b[39;00m\n",
      "\u001b[0;31mKeyboardInterrupt\u001b[0m: "
     ]
    }
   ],
   "source": [
    "neo_answers_tf_idf_k1 = []\n",
    "# evaluating tf-idf\n",
    "for question, documents in tqdm(zip(dev_set['question, str'], dev_set['tf_idf_k1']), desc='Answering questions'):\n",
    "\n",
    "    # assemble a prompt from the documents, question and prompting an answer\n",
    "    prompt = f\"Relevante paragraffer: {documents} Spørgsmål: {question} \\nIndsæt svar her baseret på de relevante paragraffer:\"\n",
    "\n",
    "    # tokenize\n",
    "    input_ids = tokenizer(prompt, return_tensors=\"pt\").input_ids.to(DEVICE)\n",
    "\n",
    "    max_length = len(input_ids[0]) + 100\n",
    "\n",
    "    # generate an answer within torch.no_grad() to save compute\n",
    "    with torch.no_grad():\n",
    "        outputs = model.generate(\n",
    "            input_ids,\n",
    "            max_length=max_length,\n",
    "            pad_token_id=tokenizer.eos_token_id,\n",
    "            # generation set to stop at '.' as it otherwise just repeats itself (think it's because we don't sample)\n",
    "            eos_token_id=tokenizer.encode(' Spørgsmål')[0]\n",
    "        )\n",
    "\n",
    "    # decode generated answer\n",
    "    answer = tokenizer.decode(outputs[0], skip_special_tokens=True).strip(' Spørgsmål')\n",
    "\n",
    "    # append answer to list\n",
    "    neo_answers_tf_idf_k1.append(answer[len(prompt):].strip())  # strip the prompt to leave just the answer"
   ]
  },
  {
   "cell_type": "code",
   "execution_count": 117,
   "metadata": {},
   "outputs": [
    {
     "name": "stdout",
     "output_type": "stream",
     "text": [
      "Hvad har ejeren af en ejerlejlighed, sammen med andre ejere af lejligheder, ejendoms ret til?\n",
      "0\n"
     ]
    }
   ],
   "source": [
    "print(dev_set['question, str'].iloc[i])\n",
    "print(i)\n",
    "i += 1"
   ]
  },
  {
   "cell_type": "code",
   "execution_count": 116,
   "metadata": {},
   "outputs": [],
   "source": [
    "i = 0"
   ]
  },
  {
   "cell_type": "code",
   "execution_count": 114,
   "metadata": {},
   "outputs": [
    {
     "data": {
      "text/plain": [
       "\"'Ejeren af en ejerlejlighed har sammen med andre ejere af lejligheder ejendomsret til grunden, fælles bestanddele og tilbehør m.v. efter et fordelingstal, der fastsættes som en brøkdel. Til lejligheden hører i samme forhold rettigheder og forpligtelser for ejeren som medlem af ejerforeningen. De i stk. 1 og 2 omhandlede rettigheder og forpligtelser kan ikke adskilles fra ejendomsretten til lejligheden.'\""
      ]
     },
     "execution_count": 114,
     "metadata": {},
     "output_type": "execute_result"
    }
   ],
   "source": [
    "dev_set['text, str'].iloc[0]"
   ]
  },
  {
   "cell_type": "code",
   "execution_count": null,
   "metadata": {},
   "outputs": [],
   "source": [
    "# All the changes to be made\n",
    "\n",
    "dev_set['question, str'].iloc[0] == 'Hvad har ejeren af en ejerlejlighed, sammen med andre ejere af lejligheder, ejendomsret til?'\n",
    "\n"
   ]
  }
 ],
 "metadata": {
  "kernelspec": {
   "display_name": "deep",
   "language": "python",
   "name": "python3"
  },
  "language_info": {
   "codemirror_mode": {
    "name": "ipython",
    "version": 3
   },
   "file_extension": ".py",
   "mimetype": "text/x-python",
   "name": "python",
   "nbconvert_exporter": "python",
   "pygments_lexer": "ipython3",
   "version": "3.12.4"
  }
 },
 "nbformat": 4,
 "nbformat_minor": 2
}
