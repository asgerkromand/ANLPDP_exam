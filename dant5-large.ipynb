{
 "cells": [
  {
   "cell_type": "code",
   "execution_count": 1,
   "metadata": {},
   "outputs": [
    {
     "name": "stderr",
     "output_type": "stream",
     "text": [
      "/Users/adamwagnerhoegh/miniconda3/lib/python3.12/site-packages/tqdm/auto.py:21: TqdmWarning: IProgress not found. Please update jupyter and ipywidgets. See https://ipywidgets.readthedocs.io/en/stable/user_install.html\n",
      "  from .autonotebook import tqdm as notebook_tqdm\n",
      "/Users/adamwagnerhoegh/miniconda3/lib/python3.12/site-packages/transformers/tokenization_utils_base.py:1601: FutureWarning: `clean_up_tokenization_spaces` was not set. It will be set to `True` by default. This behavior will be depracted in transformers v4.45, and will be then set to `False` by default. For more details check this issue: https://github.com/huggingface/transformers/issues/31884\n",
      "  warnings.warn(\n"
     ]
    }
   ],
   "source": [
    "from transformers import AutoTokenizer, T5ForConditionalGeneration\n",
    "\n",
    "# Load the pretrained T5 model and tokenizer\n",
    "model_name = \"strombergnlp/dant5-large\"  # Replace with a Danish-specific T5 model, e.g., \"danT5-large\", if available\n",
    "tokenizer = AutoTokenizer.from_pretrained(model_name)\n",
    "model = T5ForConditionalGeneration.from_pretrained(model_name)\n"
   ]
  },
  {
   "cell_type": "code",
   "execution_count": 8,
   "metadata": {},
   "outputs": [
    {
     "name": "stdout",
     "output_type": "stream",
     "text": [
      "Svar: . § 3. Retten til barselsdagpenge er betinget af, at personen ved fraværsperiodens begyndelse har lovligt ophold her i landet eller efter en international aftale om social sikring, jf. § 28, stk. 2, har ret til barselsdagpenge. Stk. 2. Barselsdagpenge kan ikke udbetales til en person, der ved fraværsperiodens begyndelse har lovligt ophold her i landet.\n"
     ]
    }
   ],
   "source": [
    "DEVICE = \"mps\" if torch.backends.mps.is_available() else \"cpu\"\n",
    "model.to(DEVICE)\n",
    "\n",
    "# Example question and context\n",
    "question = \"Hvad er retten til barselsdagpenge betinget af?\"\n",
    "context = \"§ 3. Retten til barselsdagpenge er betinget af, at personen ved fraværsperiodens begyndelse har lovligt ophold her i landet eller efter EF-forordninger om koordinering af de sociale sikringsordninger, er omfattet af dansk lovgivning om social sikring. Stk. 2. Barselsdagpenge kan dog udbetales under ophold i udlandet til en person, der er udsendt af en arbejdsgiver med hjemsted her i landet til beskæftigelse i højst 1 år i udlandet, når den udsendtes indkomst kan beskattes i Danmark. Stk. 3. Barselsdagpenge kan endvidere udbetales til en person, der ved fraværsperiodens begyndelse opholder sig i udlandet i en periode, som der efter § 27, stk. 3, eller § 28, stk. 2, ses bort fra ved vurderingen af, om beskæftigelseskravet er opfyldt. Stk. 4. Personer, der efter en international aftale om social sikring er omfattet af dansk lovgivning om social sikring, har ret til barselsdagpenge, selv om de ikke har ophold her i landet. Stk. 5. En person, der ved starten af en fraværsperiode er berettiget til barselsdagpenge i overensstemmelse med stk. 1-4, bevarer retten til barselsdagpenge for den resterende del af denne periode, uanset hvor personen opholder sig.\"\n",
    "\n",
    "# Format the input for T5\n",
    "input_text = f\"Spørgsmål: {question} Kontekst: {context}\"\n",
    "\n",
    "# Tokenize the input and generate an answer\n",
    "input_ids = tokenizer(input_text, return_tensors=\"pt\").input_ids.to(DEVICE)\n",
    "outputs = model.generate(input_ids, max_length=100)\n",
    "\n",
    "# Decode and print the generated answer\n",
    "answer = tokenizer.decode(outputs[0], skip_special_tokens=True)\n",
    "print(\"Svar:\", answer)"
   ]
  },
  {
   "cell_type": "code",
   "execution_count": 9,
   "metadata": {},
   "outputs": [
    {
     "name": "stdout",
     "output_type": "stream",
     "text": [
      "Svar: . Stk. 8. Barnet anses for modtaget, når de formelle betingelser for at rejse hjem med barnet er opfyldt. Retten til fravær efter stk. 1 kan ikke overdrages til den anden adoptant. Stk. 9. Barnet anses for modtaget, når\n"
     ]
    }
   ],
   "source": [
    "# Example question and context\n",
    "question = \"Hvad er en betingelse for ret til fravær?\"\n",
    "context = \"§ 8. Kommende adoptanter, der opholder sig i udlandet for at modtage et barn, har hver ret til fravær fra arbejdet i op til 4 uger før modtagelse af barnet. Retten til fravær forlænges i op til 4 uger, hvis opholdet i udlandet før modtagelsen af barnet bliver længere end 4 uger af årsager, som ikke kan tilregnes de kommende adoptanter. Stk. 2. Barnet anses for modtaget, når de formelle betingelser for at rejse hjem med barnet er opfyldt. Stk. 3. Det er en betingelse for ret til fravær efter stk. 1, at der er tale om en adoption, der er formidlet af en organisation, der er godkendt efter adoptionsloven, eller en privat fremmedadoption gennemført efter tilladelse fra Ankestyrelsen. Stk. 4. Til kommende adoptanter, der skal modtage et adoptivbarn i Danmark, er der ret til fravær i op til 1 uge før modtagelse af barnet, hvis barnet ikke allerede har ophold i adoptanternes hjem. Det er en forudsætning, at adoptanterne af hensyn til barnet opholder sig på det sted, hvor barnet befinder sig, inden modtagelsen. Retten til fravær forlænges i op til 1 uge, hvis opholdet bliver længere end 1 uge af årsager, som ikke kan tilregnes de kommende adoptanter. Stk. 5. Når de adoptionsundersøgende myndigheder har bestemt, at adoptanten eller den ene af de adopterende ægtefæller i en periode skal være i hjemmet, har forældrene ret til fravær efter stk. 6 og 7. Stk. 6. I de første 10 uger efter modtagelsen af barnet har hver af adoptanterne ret til fravær i 6 uger, som bortset fra 2 sammenhængende uger ikke kan afholdes samtidig. De 2 uger, hvor begge forældre har ret til fravær, kan lønmodtagere og selvstændigt erhvervsdrivende afholde som ikkesammenhængende perioder. For lønmodtagere forudsætter ikkesammenhængende fravær en aftale med arbejdsgiveren. Retten til fravær efter stk. 7 kan påbegyndes inden for de første 10 uger efter modtagelse af barnet. Hver adoptant har ret til at overdrage op til 4 uger af fraværsretten efter 1. pkt. til den anden adoptant. Stk. 7. Efter den 10. uge efter modtagelse af barnet har adoptanter ret til fravær fra arbejdet under fravær efter §§ 9 og 10\"\n",
    "\n",
    "# Format the input for T5\n",
    "input_text = f\"Spørgsmål: {question} Kontekst: {context}\"\n",
    "\n",
    "# Tokenize the input and generate an answer\n",
    "input_ids = tokenizer(input_text, return_tensors=\"pt\").input_ids.to(DEVICE)\n",
    "outputs = model.generate(input_ids, max_length=50)\n",
    "\n",
    "# Decode and print the generated answer\n",
    "answer = tokenizer.decode(outputs[0], skip_special_tokens=True)\n",
    "print(\"Svar:\", answer)"
   ]
  },
  {
   "cell_type": "code",
   "execution_count": null,
   "metadata": {},
   "outputs": [],
   "source": []
  }
 ],
 "metadata": {
  "kernelspec": {
   "display_name": "base",
   "language": "python",
   "name": "python3"
  },
  "language_info": {
   "codemirror_mode": {
    "name": "ipython",
    "version": 3
   },
   "file_extension": ".py",
   "mimetype": "text/x-python",
   "name": "python",
   "nbconvert_exporter": "python",
   "pygments_lexer": "ipython3",
   "version": "3.12.2"
  }
 },
 "nbformat": 4,
 "nbformat_minor": 2
}
