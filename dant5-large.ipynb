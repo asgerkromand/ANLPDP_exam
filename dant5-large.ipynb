{
 "cells": [
  {
   "cell_type": "code",
   "execution_count": 17,
   "metadata": {},
   "outputs": [],
   "source": [
    "from transformers import AutoTokenizer, T5ForConditionalGeneration\n",
    "import pandas as pd\n",
    "import torch\n",
    "from tqdm import tqdm\n",
    "import nltk"
   ]
  },
  {
   "cell_type": "code",
   "execution_count": 2,
   "metadata": {},
   "outputs": [
    {
     "name": "stderr",
     "output_type": "stream",
     "text": [
      "/Users/adamwagnerhoegh/miniconda3/lib/python3.12/site-packages/transformers/tokenization_utils_base.py:1601: FutureWarning: `clean_up_tokenization_spaces` was not set. It will be set to `True` by default. This behavior will be depracted in transformers v4.45, and will be then set to `False` by default. For more details check this issue: https://github.com/huggingface/transformers/issues/31884\n",
      "  warnings.warn(\n"
     ]
    }
   ],
   "source": [
    "# Load the pretrained T5 model and tokenizer\n",
    "model_name = \"strombergnlp/dant5-large\"  \n",
    "tokenizer = AutoTokenizer.from_pretrained(model_name)\n",
    "model = T5ForConditionalGeneration.from_pretrained(model_name)\n"
   ]
  },
  {
   "cell_type": "code",
   "execution_count": 3,
   "metadata": {},
   "outputs": [
    {
     "name": "stdout",
     "output_type": "stream",
     "text": [
      "Svar: . § 3. Retten til barselsdagpenge er betinget af, at personen ved fraværsperiodens begyndelse har lovligt ophold her i landet eller efter en international aftale om social sikring, jf. § 28, stk. 2, har ret til barselsdagpenge. Stk. 2. Bar\n"
     ]
    }
   ],
   "source": [
    "import torch\n",
    "DEVICE = \"mps\" if torch.backends.mps.is_available() else \"cpu\"\n",
    "model.to(DEVICE)\n",
    "\n",
    "# Example question and context\n",
    "question = \"Hvad er retten til barselsdagpenge betinget af?\"\n",
    "context = \"§ 3. Retten til barselsdagpenge er betinget af, at personen ved fraværsperiodens begyndelse har lovligt ophold her i landet eller efter EF-forordninger om koordinering af de sociale sikringsordninger, er omfattet af dansk lovgivning om social sikring. Stk. 2. Barselsdagpenge kan dog udbetales under ophold i udlandet til en person, der er udsendt af en arbejdsgiver med hjemsted her i landet til beskæftigelse i højst 1 år i udlandet, når den udsendtes indkomst kan beskattes i Danmark. Stk. 3. Barselsdagpenge kan endvidere udbetales til en person, der ved fraværsperiodens begyndelse opholder sig i udlandet i en periode, som der efter § 27, stk. 3, eller § 28, stk. 2, ses bort fra ved vurderingen af, om beskæftigelseskravet er opfyldt. Stk. 4. Personer, der efter en international aftale om social sikring er omfattet af dansk lovgivning om social sikring, har ret til barselsdagpenge, selv om de ikke har ophold her i landet. Stk. 5. En person, der ved starten af en fraværsperiode er berettiget til barselsdagpenge i overensstemmelse med stk. 1-4, bevarer retten til barselsdagpenge for den resterende del af denne periode, uanset hvor personen opholder sig.\"\n",
    "\n",
    "# Format the input for T5\n",
    "input_text = f\"Spørgsmål: {question} Kontekst: {context}\"\n",
    "\n",
    "# Tokenize the input and generate an answer\n",
    "input_ids = tokenizer(input_text, return_tensors=\"pt\").input_ids.to(DEVICE)\n",
    "outputs = model.generate(input_ids, max_length=50)\n",
    "\n",
    "# Decode and print the generated answer\n",
    "answer = tokenizer.decode(outputs[0], skip_special_tokens=True)\n",
    "print(\"Svar:\", answer)"
   ]
  },
  {
   "cell_type": "code",
   "execution_count": null,
   "metadata": {},
   "outputs": [],
   "source": [
    "import torch\n",
    "DEVICE = \"mps\" if torch.backends.mps.is_available() else \"cpu\"\n",
    "model.to(DEVICE)\n",
    "\n"
   ]
  },
  {
   "cell_type": "code",
   "execution_count": null,
   "metadata": {},
   "outputs": [
    {
     "name": "stdout",
     "output_type": "stream",
     "text": [
      "Svar: . Stk. 6. I de første 10 uger efter modtagelse af barnet har hver adoptant ret til fravær efter stk. 6 og 7. Stk. 6. I de første 10 uger efter modtagelse af barnet har hver adoptant ret til fravær efter\n"
     ]
    }
   ],
   "source": [
    "# Example question and context\n",
    "question = \"Hvad er en betingelse for ret til fravær?\"\n",
    "context = \"§ 8. Kommende adoptanter, der opholder sig i udlandet for at modtage et barn, har hver ret til fravær fra arbejdet i op til 4 uger før modtagelse af barnet. Retten til fravær forlænges i op til 4 uger, hvis opholdet i udlandet før modtagelsen af barnet bliver længere end 4 uger af årsager, som ikke kan tilregnes de kommende adoptanter. Stk. 2. Barnet anses for modtaget, når de formelle betingelser for at rejse hjem med barnet er opfyldt. Stk. 3. Det er en betingelse for ret til fravær efter stk. 1, at der er tale om en adoption, der er formidlet af en organisation, der er godkendt efter adoptionsloven, eller en privat fremmedadoption gennemført efter tilladelse fra Ankestyrelsen. Stk. 4. Til kommende adoptanter, der skal modtage et adoptivbarn i Danmark, er der ret til fravær i op til 1 uge før modtagelse af barnet, hvis barnet ikke allerede har ophold i adoptanternes hjem. Det er en forudsætning, at adoptanterne af hensyn til barnet opholder sig på det sted, hvor barnet befinder sig, inden modtagelsen. Retten til fravær forlænges i op til 1 uge, hvis opholdet bliver længere end 1 uge af årsager, som ikke kan tilregnes de kommende adoptanter. Stk. 5. Når de adoptionsundersøgende myndigheder har bestemt, at adoptanten eller den ene af de adopterende ægtefæller i en periode skal være i hjemmet, har forældrene ret til fravær efter stk. 6 og 7. Stk. 6. I de første 10 uger efter modtagelsen af barnet har hver af adoptanterne ret til fravær i 6 uger, som bortset fra 2 sammenhængende uger ikke kan afholdes samtidig. De 2 uger, hvor begge forældre har ret til fravær, kan lønmodtagere og selvstændigt erhvervsdrivende afholde som ikkesammenhængende perioder. For lønmodtagere forudsætter ikkesammenhængende fravær en aftale med arbejdsgiveren. Retten til fravær efter stk. 7 kan påbegyndes inden for de første 10 uger efter modtagelse af barnet. Hver adoptant har ret til at overdrage op til 4 uger af fraværsretten efter 1. pkt. til den anden adoptant. Stk. 7. Efter den 10. uge efter modtagelse af barnet har adoptanter ret til fravær fra arbejdet under fravær efter §§ 9 og 10\"\n",
    "\n",
    "# Format the input for T5\n",
    "input_text = f\"Spørgsmål: {question} Kontekst: {context}\"\n",
    "\n",
    "# Tokenize the input and generate an answer\n",
    "input_ids = tokenizer(input_text, return_tensors=\"pt\").input_ids.to(DEVICE)\n",
    "outputs = model.generate(input_ids, max_length=50)\n",
    "\n",
    "# Decode and print the generated answer\n",
    "answer = tokenizer.decode(outputs[0], skip_special_tokens=True)\n",
    "print(\"Svar:\", answer)"
   ]
  },
  {
   "cell_type": "code",
   "execution_count": 6,
   "metadata": {},
   "outputs": [
    {
     "data": {
      "text/html": [
       "<div>\n",
       "<style scoped>\n",
       "    .dataframe tbody tr th:only-of-type {\n",
       "        vertical-align: middle;\n",
       "    }\n",
       "\n",
       "    .dataframe tbody tr th {\n",
       "        vertical-align: top;\n",
       "    }\n",
       "\n",
       "    .dataframe thead th {\n",
       "        text-align: right;\n",
       "    }\n",
       "</style>\n",
       "<table border=\"1\" class=\"dataframe\">\n",
       "  <thead>\n",
       "    <tr style=\"text-align: right;\">\n",
       "      <th></th>\n",
       "      <th>question, str</th>\n",
       "      <th>answer, str</th>\n",
       "      <th>text, str</th>\n",
       "      <th>pnumber, str</th>\n",
       "      <th>law number, str</th>\n",
       "    </tr>\n",
       "  </thead>\n",
       "  <tbody>\n",
       "    <tr>\n",
       "      <th>0</th>\n",
       "      <td>Hvad har ejeren af en ejerlejlighed, sammen me...</td>\n",
       "      <td>Grunden, fælles bestanddele og tilbehør</td>\n",
       "      <td>'Ejeren af en ejerlejlighed har sammen med and...</td>\n",
       "      <td>3</td>\n",
       "      <td>LOV nr 908 af 18/06/2020</td>\n",
       "    </tr>\n",
       "    <tr>\n",
       "      <th>1</th>\n",
       "      <td>Hvem fastsætter eller aftaler bestemmelser om ...</td>\n",
       "      <td>Finansministeren fastsætter eller aftaler best...</td>\n",
       "      <td>'Højskolen skal følge de af finansministeren f...</td>\n",
       "      <td>30</td>\n",
       "      <td>LBK nr 780 af 08/08/2019</td>\n",
       "    </tr>\n",
       "    <tr>\n",
       "      <th>2</th>\n",
       "      <td>Hvad skal Beskæftigelsesministeriet og Finanst...</td>\n",
       "      <td>Den indsendte årsrapport skal i det mindste in...</td>\n",
       "      <td>'Uden ugrundet ophold efter repræsentantskabet...</td>\n",
       "      <td>25 l</td>\n",
       "      <td>LBK nr 1110 af 10/10/2014</td>\n",
       "    </tr>\n",
       "    <tr>\n",
       "      <th>3</th>\n",
       "      <td>Hvor mange procent må kapitalandele i og lån y...</td>\n",
       "      <td>Kapitalandele i og lån ydet til en virksomhed ...</td>\n",
       "      <td>'Følgende grænser for Arbejdsmarkedets Tillægs...</td>\n",
       "      <td>26 e</td>\n",
       "      <td>LBK nr 1110 af 10/10/2014</td>\n",
       "    </tr>\n",
       "    <tr>\n",
       "      <th>4</th>\n",
       "      <td>Hvad er en betingelse for retten til jobpræmie?</td>\n",
       "      <td>Det er en betingelse for retten til jobpræmie ...</td>\n",
       "      <td>'Det er en betingelse for retten til jobpræmie...</td>\n",
       "      <td>9</td>\n",
       "      <td>LOV nr 287 af 29/03/2017</td>\n",
       "    </tr>\n",
       "  </tbody>\n",
       "</table>\n",
       "</div>"
      ],
      "text/plain": [
       "                                       question, str  \\\n",
       "0  Hvad har ejeren af en ejerlejlighed, sammen me...   \n",
       "1  Hvem fastsætter eller aftaler bestemmelser om ...   \n",
       "2  Hvad skal Beskæftigelsesministeriet og Finanst...   \n",
       "3  Hvor mange procent må kapitalandele i og lån y...   \n",
       "4    Hvad er en betingelse for retten til jobpræmie?   \n",
       "\n",
       "                                         answer, str  \\\n",
       "0            Grunden, fælles bestanddele og tilbehør   \n",
       "1  Finansministeren fastsætter eller aftaler best...   \n",
       "2  Den indsendte årsrapport skal i det mindste in...   \n",
       "3  Kapitalandele i og lån ydet til en virksomhed ...   \n",
       "4  Det er en betingelse for retten til jobpræmie ...   \n",
       "\n",
       "                                           text, str pnumber, str  \\\n",
       "0  'Ejeren af en ejerlejlighed har sammen med and...            3   \n",
       "1  'Højskolen skal følge de af finansministeren f...           30   \n",
       "2  'Uden ugrundet ophold efter repræsentantskabet...         25 l   \n",
       "3  'Følgende grænser for Arbejdsmarkedets Tillægs...         26 e   \n",
       "4  'Det er en betingelse for retten til jobpræmie...            9   \n",
       "\n",
       "             law number, str  \n",
       "0   LOV nr 908 af 18/06/2020  \n",
       "1   LBK nr 780 af 08/08/2019  \n",
       "2  LBK nr 1110 af 10/10/2014  \n",
       "3  LBK nr 1110 af 10/10/2014  \n",
       "4   LOV nr 287 af 29/03/2017  "
      ]
     },
     "execution_count": 6,
     "metadata": {},
     "output_type": "execute_result"
    }
   ],
   "source": [
    "qa = pd.read_excel('/Users/adamwagnerhoegh/Documents/SODAS/sem3/nlp_itu/Legal questions Adam.xlsx')\n",
    "qa.head()\n"
   ]
  },
  {
   "cell_type": "code",
   "execution_count": null,
   "metadata": {},
   "outputs": [
    {
     "name": "stderr",
     "output_type": "stream",
     "text": [
      "Answering questions: 100%|██████████| 39/39 [00:17<00:00,  2.28it/s]\n"
     ]
    }
   ],
   "source": [
    "DEVICE = \"mps\" if torch.backends.mps.is_available() else \"cpu\"\n",
    "model.to(DEVICE)\n",
    "\n",
    "questions = [item for item in qa['question, str']]\n",
    "answers = []\n",
    "\n",
    "for item in tqdm(questions, desc='Answering questions'):\n",
    "    # format the input for T5\n",
    "    input_text = f\"Spørgsmål: {item}\"\n",
    "\n",
    "    # tokenize the input and generate an answer\n",
    "    input_ids = tokenizer(input_text, return_tensors=\"pt\").input_ids.to(DEVICE)\n",
    "    outputs = model.generate(input_ids, max_length=50)\n",
    "    \n",
    "    # append the answer to list of answers\n",
    "    answer = tokenizer.decode(outputs[0], skip_special_tokens=True)\n",
    "    answers.append(answer)\n"
   ]
  },
  {
   "cell_type": "code",
   "execution_count": 11,
   "metadata": {},
   "outputs": [
    {
     "data": {
      "text/plain": [
       "['Hvad har ejeren af en ejerlejlighed, sammen med andre ejere af lejligheder, ejendoms ret til?',\n",
       " 'Hvem fastsætter eller aftaler bestemmelser om løn- og ansættelsesvilkår, herunder pensionsforhold for højskolens ansatte?',\n",
       " 'Hvad skal Beskæftigelsesministeriet og Finanstilsynets indsendte årsrapport i det mindste indeholde?',\n",
       " 'Hvor mange procent må kapitalandele i og lån ydet til en virksomhed eller gruppe af indbyrdes forbundne virksomheder højst udgøre?',\n",
       " 'Hvad er en betingelse for retten til jobpræmie?']"
      ]
     },
     "execution_count": 11,
     "metadata": {},
     "output_type": "execute_result"
    }
   ],
   "source": [
    "questions[:5]"
   ]
  },
  {
   "cell_type": "code",
   "execution_count": 14,
   "metadata": {},
   "outputs": [
    {
     "data": {
      "text/plain": [
       "['#twitterhjerne #dkpol',\n",
       " 'Svar: Ingen',\n",
       " '#dkpol',\n",
       " '#twitterhjerne #dkpol',\n",
       " '#twitterhjerne']"
      ]
     },
     "execution_count": 14,
     "metadata": {},
     "output_type": "execute_result"
    }
   ],
   "source": [
    "answers[:5]"
   ]
  },
  {
   "cell_type": "code",
   "execution_count": 20,
   "metadata": {},
   "outputs": [
    {
     "data": {
      "text/plain": [
       "2.704826975037625e-155"
      ]
     },
     "execution_count": 20,
     "metadata": {},
     "output_type": "execute_result"
    }
   ],
   "source": [
    "nltk.translate.bleu_score.sentence_bleu([list(qa['answer, str'])[0]], answers[0])"
   ]
  },
  {
   "cell_type": "code",
   "execution_count": 37,
   "metadata": {},
   "outputs": [
    {
     "name": "stdout",
     "output_type": "stream",
     "text": [
      "patient har behov for...\n",
      "nan\n"
     ]
    }
   ],
   "source": [
    "print(answers[35])\n",
    "print(qa['answer, str'][35])\n"
   ]
  },
  {
   "cell_type": "code",
   "execution_count": 38,
   "metadata": {},
   "outputs": [
    {
     "name": "stdout",
     "output_type": "stream",
     "text": [
      "Error at index 35\n"
     ]
    },
    {
     "name": "stderr",
     "output_type": "stream",
     "text": [
      "/Users/adamwagnerhoegh/miniconda3/lib/python3.12/site-packages/nltk/translate/bleu_score.py:577: UserWarning: \n",
      "The hypothesis contains 0 counts of 3-gram overlaps.\n",
      "Therefore the BLEU score evaluates to 0, independently of\n",
      "how many N-gram overlaps of lower order it contains.\n",
      "Consider using lower n-gram order or use SmoothingFunction()\n",
      "  warnings.warn(_msg)\n",
      "/Users/adamwagnerhoegh/miniconda3/lib/python3.12/site-packages/nltk/translate/bleu_score.py:577: UserWarning: \n",
      "The hypothesis contains 0 counts of 4-gram overlaps.\n",
      "Therefore the BLEU score evaluates to 0, independently of\n",
      "how many N-gram overlaps of lower order it contains.\n",
      "Consider using lower n-gram order or use SmoothingFunction()\n",
      "  warnings.warn(_msg)\n",
      "/Users/adamwagnerhoegh/miniconda3/lib/python3.12/site-packages/nltk/translate/bleu_score.py:577: UserWarning: \n",
      "The hypothesis contains 0 counts of 2-gram overlaps.\n",
      "Therefore the BLEU score evaluates to 0, independently of\n",
      "how many N-gram overlaps of lower order it contains.\n",
      "Consider using lower n-gram order or use SmoothingFunction()\n",
      "  warnings.warn(_msg)\n"
     ]
    }
   ],
   "source": [
    "# calculate BLEU-scores for this:\n",
    "\n",
    "bleu_scores = []\n",
    "idx = 0\n",
    "\n",
    "for pred_answer, true_answer in zip(answers, list(qa['answer, str'])):\n",
    "    try:\n",
    "        bleu_scores.append(nltk.translate.bleu_score.sentence_bleu([true_answer], pred_answer))\n",
    "    except:\n",
    "        print(f'Error at index {idx}')\n",
    "    idx += 1"
   ]
  },
  {
   "cell_type": "code",
   "execution_count": 28,
   "metadata": {},
   "outputs": [
    {
     "data": {
      "text/plain": [
       "0.00558318331876422"
      ]
     },
     "execution_count": 28,
     "metadata": {},
     "output_type": "execute_result"
    }
   ],
   "source": [
    "import numpy as np\n",
    "np.mean(bleu_scores)"
   ]
  },
  {
   "cell_type": "code",
   "execution_count": 29,
   "metadata": {},
   "outputs": [
    {
     "data": {
      "text/plain": [
       "38"
      ]
     },
     "execution_count": 29,
     "metadata": {},
     "output_type": "execute_result"
    }
   ],
   "source": [
    "len(bleu_scores)"
   ]
  },
  {
   "cell_type": "code",
   "execution_count": null,
   "metadata": {},
   "outputs": [],
   "source": []
  }
 ],
 "metadata": {
  "kernelspec": {
   "display_name": "base",
   "language": "python",
   "name": "python3"
  },
  "language_info": {
   "codemirror_mode": {
    "name": "ipython",
    "version": 3
   },
   "file_extension": ".py",
   "mimetype": "text/x-python",
   "name": "python",
   "nbconvert_exporter": "python",
   "pygments_lexer": "ipython3",
   "version": "3.12.2"
  }
 },
 "nbformat": 4,
 "nbformat_minor": 2
}
