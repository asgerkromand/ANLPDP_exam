{
 "cells": [
  {
   "cell_type": "code",
   "execution_count": 325,
   "metadata": {},
   "outputs": [],
   "source": [
    "import numpy as np\n",
    "import pandas as pd\n",
    "from transformers import AutoTokenizer, T5ForConditionalGeneration\n",
    "import torch\n",
    "import json\n",
    "from tqdm import tqdm\n",
    "import numpy as np\n",
    "import matplotlib.pyplot as plt\n",
    "from nltk.translate.bleu_score import sentence_bleu\n",
    "from nltk.translate.meteor_score import meteor_score\n",
    "from rouge_score import rouge_scorer\n",
    "from nltk.translate.bleu_score import SmoothingFunction\n",
    "import nltk\n",
    "import os\n",
    "import seaborn as sns\n",
    "import re"
   ]
  },
  {
   "cell_type": "code",
   "execution_count": 2,
   "metadata": {},
   "outputs": [],
   "source": [
    "# reading the dev set\n",
    "file_path = \"output/devset/devset_with_contexts.parquet.gzip\"\n",
    "with open(file_path, \"rb\") as f:\n",
    "    dev_set = pd.read_parquet(f)"
   ]
  },
  {
   "cell_type": "markdown",
   "metadata": {},
   "source": [
    "#### Data reading functions"
   ]
  },
  {
   "cell_type": "code",
   "execution_count": null,
   "metadata": {},
   "outputs": [],
   "source": [
    "# pasting functions from the data_functions.py file\n",
    "def replace_nbsp(obj):\n",
    "    \"\"\"\n",
    "    Recursively replaces non-breaking space characters (\\xa0) with regular spaces\n",
    "    in strings within nested data structures.\n",
    "    \n",
    "    Args:\n",
    "        obj: Input object which can be a dictionary, list, string or other type\n",
    "        \n",
    "    Returns:\n",
    "        Object of same structure as input but with \\xa0 replaced with spaces in all strings\n",
    "    \"\"\"\n",
    "    if isinstance(obj, dict):\n",
    "        return {k: replace_nbsp(v) for k, v in obj.items()}\n",
    "    elif isinstance(obj, list):\n",
    "        return [replace_nbsp(i) for i in obj]\n",
    "    elif isinstance(obj, str):\n",
    "        return obj.replace('\\xa0', ' ')\n",
    "    else:\n",
    "        return obj\n",
    "\n",
    "def generate_paragraphs(input_file):\n",
    "    \"\"\"\n",
    "    Generates a list of dictionaries containing paragraph information from legal documents.\n",
    "    \n",
    "    Args:\n",
    "        input_file: Path to input JSON file containing legal document data\n",
    "        output_file: Path to output file to write the processed data\n",
    "        \n",
    "    Returns:\n",
    "        rag_list: List of dictionaries, where each dictionary contains:\n",
    "            - paragraf_nr: Paragraph number\n",
    "            - lovnavn: Name of the law\n",
    "            - text: Combined text of all subsections in the paragraph\n",
    "    \"\"\"\n",
    "    with open(input_file) as f:\n",
    "        retsinfo = json.load(f)\n",
    "\n",
    "    paragraphs = []\n",
    "    idx = 0\n",
    "    for lov in retsinfo:\n",
    "        for kapitel in lov['kapitler']:\n",
    "            lov_navn = lov['shortName']\n",
    "            for paragraffer in kapitel['paragraffer']:\n",
    "                temp_paragraf_dict = {}\n",
    "                temp_paragraf_dict['paragraf_nr'] = paragraffer['nummer']\n",
    "                temp_paragraf_dict['lovnavn'] = lov_navn\n",
    "                temp_paragraf_list = []\n",
    "                for styk in paragraffer['stk']:\n",
    "                    temp_paragraf_list.append(styk['tekst'])\n",
    "                temp_paragraf_dict['text'] = ' '.join(temp_paragraf_list)\n",
    "                paragraphs.append(temp_paragraf_dict)\n",
    "\n",
    "    paragraphs = replace_nbsp(paragraphs)\n",
    "    return paragraphs"
   ]
  },
  {
   "cell_type": "markdown",
   "metadata": {},
   "source": [
    "#### Measure mean token length of output"
   ]
  },
  {
   "cell_type": "code",
   "execution_count": null,
   "metadata": {},
   "outputs": [
    {
     "name": "stdout",
     "output_type": "stream",
     "text": [
      "Loaded answers from model: neo_gen_bert_max_k2\n",
      "Loaded answers from model: t5_gen_bert_mean_k1\n",
      "Loaded answers from model: t5_gen_random_context\n",
      "Loaded answers from model: neo_gen_bert_max_k3\n",
      "Loaded answers from model: neo_gen_bert_max_k1\n",
      "Loaded answers from model: t5_gen_bert_mean_k3\n",
      "Loaded answers from model: t5_gen_bert_mean_k2\n",
      "Loaded answers from model: t5_gen_bert_cls_k3\n",
      "Loaded answers from model: t5_gen_bert_cls_k2\n",
      "Loaded answers from model: t5_gen_bert_cls_k1\n",
      "Loaded answers from model: neo_gen_random_context\n",
      "Loaded answers from model: neo_gen_upper_bound\n",
      "Loaded answers from model: t5_gen_tfidf_k2\n",
      "Loaded answers from model: t5_gen_tfidf_k3\n",
      "Loaded answers from model: neo_gen_baseline\n",
      "Loaded answers from model: t5_gen_tfidf_k1\n",
      "Loaded answers from model: t5_gen_bert_max_k1\n",
      "Loaded answers from model: t5_gen_bm25_k2\n",
      "Loaded answers from model: t5_gen_bm25_k3\n",
      "Loaded answers from model: t5_gen_bert_max_k2\n",
      "Loaded answers from model: t5_gen_bm25_k1\n",
      "Loaded answers from model: t5_gen_bert_max_k3\n",
      "Loaded answers from model: neo_gen_bert_mean_k1\n",
      "Loaded answers from model: neo_gen_tfidf_k3\n",
      "Loaded answers from model: neo_gen_tfidf_k2\n",
      "Loaded answers from model: neo_gen_bm25_k1\n",
      "Loaded answers from model: neo_gen_bert_mean_k2\n",
      "Loaded answers from model: neo_gen_bm25_k3\n",
      "Loaded answers from model: t5_gen_baseline\n",
      "Loaded answers from model: neo_gen_tfidf_k1\n",
      "Loaded answers from model: neo_gen_bert_mean_k3\n",
      "Loaded answers from model: neo_gen_bm25_k2\n",
      "Loaded answers from model: neo_gen_bert_cls_k1\n",
      "Loaded answers from model: neo_gen_bert_cls_k3\n",
      "Loaded answers from model: neo_gen_bert_cls_k2\n",
      "Loaded answers from model: t5_gen_upper_bound\n"
     ]
    }
   ],
   "source": [
    "# creating a dict\n",
    "model_answers = {}\n",
    "for file in os.listdir('output/inference'):\n",
    "        # iterating through and creating model names\n",
    "        if file.endswith('.txt'):\n",
    "            model_name = file.replace(\".txt\", \"\")\n",
    "            with open(f\"output/inference/{file}\", \"r\") as f:\n",
    "                model_answers[model_name] = f.read().splitlines()\n",
    "                print(f\"Loaded answers from model: {model_name}\")"
   ]
  },
  {
   "cell_type": "code",
   "execution_count": null,
   "metadata": {},
   "outputs": [
    {
     "name": "stderr",
     "output_type": "stream",
     "text": [
      "/Users/adamwagnerhoegh/miniconda3/lib/python3.12/site-packages/transformers/tokenization_utils_base.py:1601: FutureWarning: `clean_up_tokenization_spaces` was not set. It will be set to `True` by default. This behavior will be depracted in transformers v4.45, and will be then set to `False` by default. For more details check this issue: https://github.com/huggingface/transformers/issues/31884\n",
      "  warnings.warn(\n",
      "100%|██████████| 36/36 [00:00<00:00, 83.84it/s] \n"
     ]
    }
   ],
   "source": [
    "neo_tokenizer = AutoTokenizer.from_pretrained('KennethTM/gpt-neo-1.3B-danish')\n",
    "t5_tokenizer = AutoTokenizer.from_pretrained('strombergnlp/dant5-large')\n",
    "\n",
    "# creating a dictionary with mean output lengths for all the models\n",
    "mean_len_dict = {}\n",
    "for key in tqdm(model_answers):\n",
    "    # passing for bert_mean due to a data error\n",
    "    if re.search('mean', key) != None:\n",
    "        pass\n",
    "    elif str(key)[:3] == 'neo':\n",
    "        temp_list = []\n",
    "        for answer in model_answers[key]:\n",
    "            temp_list.append(len(neo_tokenizer.tokenize(answer)))\n",
    "        mean_len_dict[key] = np.mean(temp_list)\n",
    "    elif str(key[:2]) == 't5':\n",
    "        temp_list = []\n",
    "        for answer in model_answers[key]:\n",
    "            temp_list.append(len(t5_tokenizer.tokenize(answer)))\n",
    "        mean_len_dict[key] = np.mean(temp_list)\n",
    "    else:\n",
    "        print('fail')\n",
    "\n",
    "# sorting keys \n",
    "myKeys = list(mean_len_dict.keys())\n",
    "myKeys.sort()\n",
    "\n",
    "# sorted Dictionary\n",
    "mean_len_dict = {i: mean_len_dict[i] for i in myKeys}"
   ]
  },
  {
   "cell_type": "code",
   "execution_count": null,
   "metadata": {},
   "outputs": [
    {
     "data": {
      "image/png": "[encoded data removed]",
      "text/plain": [
       "<Figure size 1200x500 with 2 Axes>"
      ]
     },
     "metadata": {},
     "output_type": "display_data"
    }
   ],
   "source": [
    "import matplotlib.pyplot as plt\n",
    "import numpy as np\n",
    "\n",
    "# creating function to plot the mean token length of answers in subplots\n",
    "\n",
    "def plot_token_lengths_subplots(results):\n",
    "    \"\"\"\n",
    "    Plots the mean token lengths for T5 and Neo models across different retrievers in two subplots.\n",
    "\n",
    "    Parameters:\n",
    "        results (dict): A dictionary where keys are model names and values are mean token lengths.\n",
    "    \"\"\"\n",
    "    # define retrievers and separate results by model type\n",
    "    retrievers = ['tfidf', 'bm25', 'bert_cls', 'bert_max']\n",
    "    t5_data = {k: v for k, v in results.items() if k.startswith('t5')}\n",
    "    neo_data = {k: v for k, v in results.items() if k.startswith('neo')}\n",
    "\n",
    "    # aggregate results by retriever for k1, k2, and k3\n",
    "    retriever_means_t5 = {retriever: [t5_data.get(f't5_gen_{retriever}_k{k}', 0) for k in range(1, 4)] for retriever in retrievers}\n",
    "    retriever_means_neo = {retriever: [neo_data.get(f'neo_gen_{retriever}_k{k}', 0) for k in range(1, 4)] for retriever in retrievers}\n",
    "\n",
    "    # create positions for the bars\n",
    "    x = np.arange(len(retrievers))\n",
    "    width = 0.25  # Width of the bar groups\n",
    "\n",
    "     # define color shades for bars\n",
    "    t5_colors = ['#08306b', '#2171b5', '#4292c6', '#6baed6', '#9ecae1']  # Different blue shades from dark to light\n",
    "    neo_colors = ['#08306b', '#2171b5', '#4292c6', '#6baed6', '#9ecae1']  # Same blue shades\n",
    "\n",
    "    # set up the subplots\n",
    "    fig, (ax_t5, ax_neo) = plt.subplots(1, 2, figsize=(12, 5), sharey=True)\n",
    "\n",
    "    fig.suptitle('Mean token length of answers')\n",
    "\n",
    "    # plot T5 data\n",
    "    for i, p in enumerate(range(1, 4)):  # k1, k2, k3\n",
    "        t5_means = [retriever_means_t5[retriever][i] for retriever in retrievers]\n",
    "        ax_t5.bar(x + i * width - width, t5_means, width, label=f'p={p}', color=t5_colors[i], alpha=0.7)\n",
    "\n",
    "    ax_t5.set_title('T5 Models')\n",
    "    ax_t5.set_ylabel('Mean Token Length')\n",
    "    ax_t5.set_xticks(x + width / 2)\n",
    "    ax_t5.set_xticklabels(retrievers)\n",
    "    ax_t5.legend()\n",
    "    ax_t5.grid(axis='y', linestyle='--', alpha=0.7)\n",
    "\n",
    "    # plot Neo data\n",
    "    for i, p in enumerate(range(1, 4)):  # k1, k2, k3\n",
    "        neo_means = [retriever_means_neo[retriever][i] for retriever in retrievers]\n",
    "        ax_neo.bar(x + i * width - width, neo_means, width, label=f'p={p}', color=neo_colors[i], alpha=0.7)\n",
    "\n",
    "    ax_neo.set_title('Neo Models')\n",
    "    ax_neo.set_xticks(x + width / 2)\n",
    "    ax_neo.set_xticklabels(retrievers)\n",
    "    ax_neo.legend()\n",
    "    ax_neo.grid(axis='y', linestyle='--', alpha=0.7)\n",
    "\n",
    "    plt.tight_layout()\n",
    "    plt.savefig('mean_output_len.pdf', format='pdf')\n",
    "    plt.show()\n",
    "\n",
    "plot_token_lengths_subplots(mean_len_dict)\n"
   ]
  },
  {
   "cell_type": "markdown",
   "metadata": {},
   "source": [
    "#### Count mean token length of retrieved documents"
   ]
  },
  {
   "cell_type": "code",
   "execution_count": 337,
   "metadata": {},
   "outputs": [
    {
     "name": "stderr",
     "output_type": "stream",
     "text": [
      "Token indices sequence length is longer than the specified maximum sequence length for this model (1230 > 1024). Running this sequence through the model will result in indexing errors\n"
     ]
    }
   ],
   "source": [
    "# creating a dict to store retrievals by retriever\n",
    "retrievals = {}\n",
    "\n",
    "# subsetting \n",
    "columns = ['tfidf_context', 'bm25_context', 'bert_cls_context', 'bert_max_context']\n",
    "\n",
    "for column in columns:\n",
    "    temp_list = []\n",
    "    for retrieval_list in dev_set[column]:\n",
    "        temp_list.append(len(neo_tokenizer.tokenize(' '.join([item for item in retrieval_list[:1]]))))\n",
    "    retrievals[str(column+'_k1')] = np.mean(temp_list)\n",
    "\n",
    "for column in columns:\n",
    "    temp_list = []\n",
    "    for retrieval_list in dev_set[column]:\n",
    "        temp_list.append(len(neo_tokenizer.tokenize(' '.join([item for item in retrieval_list[:2]]))))\n",
    "    retrievals[str(column+'_k2')] = np.mean(temp_list)\n",
    "\n",
    "for column in columns:\n",
    "    temp_list = []\n",
    "    for retrieval_list in dev_set[column]:\n",
    "        temp_list.append(len(neo_tokenizer.tokenize(' '.join([item for item in retrieval_list[:3]]))))\n",
    "    retrievals[str(column+'_k3')] = np.mean(temp_list)\n",
    "\n",
    "# Sorting keys \n",
    "myKeys = list(retrievals.keys())\n",
    "myKeys.sort()\n",
    "\n",
    "# Sorted Dictionary\n",
    "retrievals = {i: retrievals[i] for i in myKeys}"
   ]
  },
  {
   "cell_type": "code",
   "execution_count": 339,
   "metadata": {},
   "outputs": [],
   "source": [
    "def plot_context_token_lengths(results):\n",
    "    \"\"\"\n",
    "    Plots the mean token lengths for retrieved documents by different retrievers in a single plot.\n",
    "\n",
    "    Parameters:\n",
    "        results (dict): A dictionary where keys are retrievers and configurations, and values are mean token lengths.\n",
    "    \"\"\"\n",
    "    # define retrievers and separate results by retriever type\n",
    "    retrievers = ['tfidf', 'bm25', 'bert_cls', 'bert_max']\n",
    "    retriever_means = {retriever: [results.get(f'{retriever}_context_k{k}', 0) for k in range(1, 4)] for retriever in retrievers}\n",
    "\n",
    "    # create positions for the bars\n",
    "    x = np.arange(len(retrievers))\n",
    "    width = 0.25  # Width of the bar groups\n",
    "\n",
    "    # define color shades for bars\n",
    "    retriever_colors = ['#08306b', '#2171b5', '#4292c6']  # Different shades for k1, k2, k3\n",
    "\n",
    "    # set up the plot\n",
    "    fig, ax = plt.subplots(figsize=(12, 5))\n",
    "\n",
    "    # plot data\n",
    "    for i, p in enumerate(range(1, 4)):  # k1, k2, k3\n",
    "        means = [retriever_means[retriever][i] for retriever in retrievers]\n",
    "        ax.bar(x + i * width - width, means, width, label=f'p={p}', color=retriever_colors[i], alpha=0.7)\n",
    "\n",
    "    ax.set_title('Mean token length of retrievals')\n",
    "    ax.set_ylabel('Mean Token Length')\n",
    "    ax.set_xticks(x + width / 2)\n",
    "    ax.set_xticklabels(retrievers)\n",
    "    ax.legend()\n",
    "    ax.grid(axis='y', linestyle='--', alpha=0.7)\n",
    "\n",
    "    plt.tight_layout()\n",
    "    plt.savefig('retrieval_lengths.pdf', format='pdf')\n",
    "    plt.show()\n",
    "\n"
   ]
  },
  {
   "cell_type": "code",
   "execution_count": 340,
   "metadata": {},
   "outputs": [
    {
     "data": {
      "image/png": "[encoded data removed]",
      "text/plain": [
       "<Figure size 1200x500 with 1 Axes>"
      ]
     },
     "metadata": {},
     "output_type": "display_data"
    }
   ],
   "source": [
    "plot_context_token_lengths(retrievals)\n"
   ]
  },
  {
   "cell_type": "markdown",
   "metadata": {},
   "source": [
    "#### Count tokens in corpus"
   ]
  },
  {
   "cell_type": "code",
   "execution_count": 12,
   "metadata": {},
   "outputs": [],
   "source": [
    "# reading paragraphs with the created function\n",
    "paragraphs = generate_paragraphs('/Users/adamwagnerhoegh/ANLPDP_exam/data/domsdatabasen.retsinformation_newer.json')"
   ]
  },
  {
   "cell_type": "code",
   "execution_count": null,
   "metadata": {},
   "outputs": [
    {
     "name": "stderr",
     "output_type": "stream",
     "text": [
      "/Users/adamwagnerhoegh/miniconda3/lib/python3.12/site-packages/transformers/tokenization_utils_base.py:1601: FutureWarning: `clean_up_tokenization_spaces` was not set. It will be set to `True` by default. This behavior will be depracted in transformers v4.45, and will be then set to `False` by default. For more details check this issue: https://github.com/huggingface/transformers/issues/31884\n",
      "  warnings.warn(\n",
      "  0%|          | 0/42593 [00:00<?, ?it/s]huggingface/tokenizers: The current process just got forked, after parallelism has already been used. Disabling parallelism to avoid deadlocks...\n",
      "To disable this warning, you can either:\n",
      "\t- Avoid using `tokenizers` before the fork if possible\n",
      "\t- Explicitly set the environment variable TOKENIZERS_PARALLELISM=(true | false)\n",
      "Token indices sequence length is longer than the specified maximum sequence length for this model (1178 > 1024). Running this sequence through the model will result in indexing errors\n",
      "100%|██████████| 42593/42593 [00:23<00:00, 1850.27it/s]\n"
     ]
    }
   ],
   "source": [
    "# load model and tokenizer and set device\n",
    "neo_tokenizer = AutoTokenizer.from_pretrained('KennethTM/gpt-neo-1.3B-danish')\n",
    "t5_tokenizer = AutoTokenizer.from_pretrained('strombergnlp/dant5-large')\n",
    "\n",
    "# creating empty lists to store token counts\n",
    "neo_p_lens = []\n",
    "t5_p_lens = []\n",
    "\n",
    "# iterate through appending the token length of each paragraph\n",
    "for item in tqdm(paragraphs):\n",
    "    neo_p_lens.append(len(neo_tokenizer.tokenize(item['text'])))\n",
    "    t5_p_lens.append(len(t5_tokenizer.tokenize(item['text'])))"
   ]
  },
  {
   "cell_type": "code",
   "execution_count": 26,
   "metadata": {},
   "outputs": [
    {
     "name": "stdout",
     "output_type": "stream",
     "text": [
      "Mean token length of paragraph (neo): 132.69074730589534\n",
      "Mean token length of paragraph (t5): 128.02904233089944\n"
     ]
    }
   ],
   "source": [
    "# printing mean token length of paragraphs\n",
    "print(f'Mean token length of paragraph (neo): {np.mean(neo_p_lens)}')\n",
    "print(f'Mean token length of paragraph (t5): {np.mean(t5_p_lens)}')\n"
   ]
  },
  {
   "cell_type": "code",
   "execution_count": 28,
   "metadata": {},
   "outputs": [
    {
     "name": "stdout",
     "output_type": "stream",
     "text": [
      "Token length of corpus (neo): 5651697\n",
      "Token length of corpus (t5): 5453141\n"
     ]
    }
   ],
   "source": [
    "# printing total token length of corpus (by each tokenizer)\n",
    "print(f'Token length of corpus (neo): {sum(neo_p_lens)}')\n",
    "print(f'Token length of corpus (t5): {sum(t5_p_lens)}')"
   ]
  },
  {
   "cell_type": "markdown",
   "metadata": {},
   "source": [
    "#### Testing dense cls-retrieval against random retrieval"
   ]
  },
  {
   "cell_type": "code",
   "execution_count": 6,
   "metadata": {},
   "outputs": [],
   "source": [
    "# loading cls-embeddings\n",
    "cls_embeddings = torch.load('/Users/adamwagnerhoegh/ANLPDP_exam/output/embeddings/cls_embeddings_DanskBERT.pt')"
   ]
  },
  {
   "cell_type": "code",
   "execution_count": 10,
   "metadata": {},
   "outputs": [],
   "source": [
    "# loading paragraphs\n",
    "paragraphs = generate_paragraphs('/Users/adamwagnerhoegh/ANLPDP_exam/data/domsdatabasen.retsinformation_newer.json')"
   ]
  },
  {
   "cell_type": "code",
   "execution_count": 11,
   "metadata": {},
   "outputs": [],
   "source": [
    "# tweaking dense retrieval function from info_retrieval.py to create a random retrieval vector to retrieve for\n",
    "def random_dense_retrieval(embeddings, corpus, pooling='cls', k=3):\n",
    "    \n",
    "    embedding_vector = torch.rand(1, 768)\n",
    "\n",
    "    # normalise embeddings (to get cosine similarity from dot product)\n",
    "    embedding_vector_normalised = embedding_vector / torch.norm(embedding_vector, dim=-1, keepdim=True)\n",
    "    embeddings_matrix_normalised = embeddings / torch.norm(embeddings, dim=-1, keepdim=True)\n",
    "\n",
    "    # get paragraphs with highest similarity scores\n",
    "    dense_retrieval = embeddings_matrix_normalised @ torch.transpose(embedding_vector_normalised, 0, 1)\n",
    "    sorted_retrieval = torch.sort(dense_retrieval, descending=True, stable=True, dim=0)\n",
    "    fixed_retrieval_list = [(item, idx) for (item, idx) in zip(sorted_retrieval[0], sorted_retrieval[1]) if torch.isnan(item) == False]\n",
    "    top_k_indices = [item[1] for item in fixed_retrieval_list[:k]]\n",
    "    document = [corpus[i]['text'] for i in top_k_indices]\n",
    "\n",
    "    return document"
   ]
  },
  {
   "cell_type": "code",
   "execution_count": 30,
   "metadata": {},
   "outputs": [
    {
     "name": "stderr",
     "output_type": "stream",
     "text": [
      "100%|██████████| 103/103 [00:19<00:00,  5.23it/s]\n"
     ]
    }
   ],
   "source": [
    "# empty list to store retrievals\n",
    "random_context = []\n",
    "\n",
    "# looping through\n",
    "for _ in tqdm(dev_set['question']):\n",
    "    random_context.append(random_dense_retrieval(cls_embeddings, paragraphs))"
   ]
  },
  {
   "cell_type": "code",
   "execution_count": 32,
   "metadata": {},
   "outputs": [],
   "source": [
    "# saving random retrievals\n",
    "\n",
    "with open(\"random_context.json\", \"w\") as save:\n",
    "\tjson.dump(random_context, save)"
   ]
  },
  {
   "cell_type": "code",
   "execution_count": 24,
   "metadata": {},
   "outputs": [],
   "source": [
    "# reading answers generated by neo with random (k=1) contexts\n",
    "with open('output/inference/neo_gen_random_context.txt', 'r') as file:\n",
    "    # Read all lines into a list\n",
    "    random_answers = file.readlines()"
   ]
  },
  {
   "cell_type": "code",
   "execution_count": 32,
   "metadata": {},
   "outputs": [],
   "source": [
    "# reading answers generated by neo with cls-retrieved contexts (k=1)\n",
    "with open('output/inference/neo_gen_bert_cls_k1.txt', 'r') as file:\n",
    "    # Read all lines into a list\n",
    "    neo_k1_answer = file.readlines()"
   ]
  },
  {
   "cell_type": "code",
   "execution_count": 177,
   "metadata": {},
   "outputs": [],
   "source": [
    "# pasting functions to calculate scores from eval_functions.py\n",
    "def calculate_bleu(answers, gold_answers):\n",
    "    scores = []\n",
    "    for answer, gold_answer in zip(answers, gold_answers):\n",
    "        score = sentence_bleu([gold_answer], answer, smoothing_function=SmoothingFunction().method1)\n",
    "        scores.append(score)\n",
    "    return scores\n",
    "\n",
    "def calculate_rouge(answers, gold_answers):\n",
    "    rouge1_scores = []\n",
    "    rouge2_scores = []\n",
    "    rougeL_scores = []\n",
    "    scorer = rouge_scorer.RougeScorer(['rouge1', 'rouge2', 'rougeL'], use_stemmer=True)\n",
    "    \n",
    "    for answer, gold_answer in zip(answers, gold_answers):\n",
    "        scores = scorer.score(answer, gold_answer)\n",
    "        rouge1_scores.append(scores['rouge1'].fmeasure)\n",
    "        rouge2_scores.append(scores['rouge2'].fmeasure)\n",
    "        rougeL_scores.append(scores['rougeL'].fmeasure)\n",
    "        \n",
    "    return rouge1_scores, rouge2_scores, rougeL_scores\n",
    "\n",
    "def calculate_meteor(answers, gold_answers):\n",
    "    scores = []\n",
    "    for answer, gold_answer in zip(answers, gold_answers):\n",
    "        answer_tokens = answer.split()\n",
    "        gold_answer_tokens = gold_answer.split()\n",
    "        score = meteor_score([gold_answer_tokens], answer_tokens, gamma=0.0) # set gamma (word order penalty) to 0 to avoid bug where two identical sentences are not scored 1\n",
    "        scores.append(score)\n",
    "    return scores\n"
   ]
  },
  {
   "cell_type": "code",
   "execution_count": 30,
   "metadata": {},
   "outputs": [
    {
     "name": "stdout",
     "output_type": "stream",
     "text": [
      "BLEU: 0.06535894659682062\n",
      "ROUGE-L: 0.044419446900313526\n",
      "METEOR: 0.07943291113182534\n"
     ]
    }
   ],
   "source": [
    "# printing metrics for random retrieval answer\n",
    "print(f\"BLEU: {np.mean(calculate_bleu(random_answers, dev_set['answer']))}\")\n",
    "print(f\"ROUGE-L: {np.mean(calculate_rouge(random_answers, dev_set['answer'])[2])}\")\n",
    "print(f\"METEOR: {np.mean(calculate_meteor(random_answers, dev_set['answer']))}\")\n"
   ]
  },
  {
   "cell_type": "code",
   "execution_count": 33,
   "metadata": {},
   "outputs": [
    {
     "name": "stdout",
     "output_type": "stream",
     "text": [
      "BLEU: 0.1122419548289757\n",
      "ROUGE-L: 0.10222230224439338\n",
      "METEOR: 0.14409572606976204\n"
     ]
    }
   ],
   "source": [
    "# printing metrics for cls-retrieved answer\n",
    "print(f\"BLEU: {np.mean(calculate_bleu(neo_k1_answer, dev_set['answer']))}\")\n",
    "print(f\"ROUGE-L: {np.mean(calculate_rouge(neo_k1_answer, dev_set['answer'])[2])}\")\n",
    "print(f\"METEOR: {np.mean(calculate_meteor(neo_k1_answer, dev_set['answer']))}\")"
   ]
  },
  {
   "cell_type": "markdown",
   "metadata": {},
   "source": [
    "#### Qualitative check of BM25 answers"
   ]
  },
  {
   "cell_type": "code",
   "execution_count": 164,
   "metadata": {},
   "outputs": [],
   "source": [
    "with open('output/inference/neo_gen_bm25_k1.txt', 'r') as file:\n",
    "    # Read all lines into a list\n",
    "    neo_bm25_k1 = file.readlines()\n",
    "\n",
    "with open('output/inference/t5_gen_bm25_k1.txt', 'r') as file:\n",
    "    # Read all lines into a list\n",
    "    t5_bm25_k1 = file.readlines()"
   ]
  },
  {
   "cell_type": "code",
   "execution_count": 234,
   "metadata": {},
   "outputs": [],
   "source": [
    "# set index to zero to reset iteration below\n",
    "i = 0"
   ]
  },
  {
   "cell_type": "code",
   "execution_count": 313,
   "metadata": {},
   "outputs": [
    {
     "name": "stdout",
     "output_type": "stream",
     "text": [
      "Index: 80\n",
      "Question: Hvad skal jord have en skadelig virkning på, hvis det skal forstås som forurenet jord?\n",
      "\n",
      "\n",
      "neo: Ved forurenet jord forstås jord, der på grund af menneskelig påvirkning kan have skadelig virkning på grundvand, menneskers sundhed og miljøet i øvrigt.\n",
      "\n",
      "\n",
      "t5: . Relevante paragraffer: Ved forurenet jord forstås jord, der på grund af menneskelig påvirkning kan have en skadelig virkning på menneskers sundhed og miljøet i øvrigt.. Svar:? Svar:? Svar: Ja. Svar: Ja. Svar: Ja. Svar: Ja. Beskrivelse af de relevante paragraffer: Svar: Ja. Beskrivelse af de relevante paragraffer: Svar: Ja. Beskrivelse af de relevante paragraffer: Svar: Ja. Beskrivelse af de relevante paragraffer: Svar: Ja. Beskrivelse af de relevante paragraffer: Svar: Ja. Svar: Ja. Svar: Ja. Sva\n",
      "\n",
      "\n",
      "answer: Grundvand, menneskers sundhed og miljøet i øvrigt.\n",
      "\n",
      "NEO-SCORES\n",
      "BLEU: 0.007113117640155692\n",
      "ROUGE-L: 0.02\n",
      "METEOR: 0.02\n",
      "\n",
      "\n",
      "T5-SCORES\n",
      "BLEU: 0.007113117640155692\n",
      "ROUGE-L: 0.04\n",
      "METEOR: 0.04\n"
     ]
    }
   ],
   "source": [
    "#i = np.random.randint(104)\n",
    "\n",
    "i = 80\n",
    "\n",
    "\n",
    "print(f'Index: {i}')\n",
    "\n",
    "print(f'Question: {dev_set.loc[i, 'question']}')\n",
    "\n",
    "print('\\n')\n",
    "\n",
    "print(f'neo: {neo_bm25_k1[i]}\\n')\n",
    "print(f't5: {t5_bm25_k1[i]}\\n')\n",
    "#print(f'retrieved text: {dev_set.loc[i, 'bm25_context'][0]}\\n')\n",
    "print(f'answer: {dev_set.loc[i, 'answer']}\\n')\n",
    "#print(f'paragraph: {dev_set.loc[i, 'text']}\\n')\n",
    "\n",
    "# print('\\n')\n",
    "\n",
    "print('NEO-SCORES')\n",
    "print(f\"BLEU: {np.mean(calculate_bleu(neo_bm25_k1[i], dev_set.loc[i, 'answer']))}\")\n",
    "print(f\"ROUGE-L: {np.mean(calculate_rouge(neo_bm25_k1[i], dev_set.loc[i, 'answer'])[2])}\")\n",
    "print(f\"METEOR: {np.mean(calculate_meteor(neo_bm25_k1[i], dev_set.loc[i, 'answer']))}\")\n",
    "\n",
    "print('\\n')\n",
    "\n",
    "print('T5-SCORES')\n",
    "print(f\"BLEU: {np.mean(calculate_bleu(t5_bm25_k1[i], dev_set.loc[i, 'answer']))}\")\n",
    "print(f\"ROUGE-L: {np.mean(calculate_rouge(t5_bm25_k1[i], dev_set.loc[i, 'answer'])[2])}\")\n",
    "print(f\"METEOR: {np.mean(calculate_meteor(t5_bm25_k1[i], dev_set.loc[i, 'answer']))}\")\n",
    "\n",
    "i += 1\n"
   ]
  }
 ],
 "metadata": {
  "kernelspec": {
   "display_name": "base",
   "language": "python",
   "name": "python3"
  },
  "language_info": {
   "codemirror_mode": {
    "name": "ipython",
    "version": 3
   },
   "file_extension": ".py",
   "mimetype": "text/x-python",
   "name": "python",
   "nbconvert_exporter": "python",
   "pygments_lexer": "ipython3",
   "version": "3.12.2"
  }
 },
 "nbformat": 4,
 "nbformat_minor": 2
}
