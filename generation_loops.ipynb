{
 "cells": [
  {
   "cell_type": "code",
   "execution_count": null,
   "metadata": {},
   "outputs": [],
   "source": [
    "# For modules loading\n",
    "%load_ext autoreload\n",
    "%autoreload 2\n",
    "\n",
    "import pandas as pd\n",
    "import numpy as np\n",
    "import matplotlib.pyplot as plt\n",
    "import torch\n",
    "import json\n",
    "from tqdm import tqdm\n",
    "import regex as re\n",
    "from nltk.corpus import stopwords\n",
    "import nltk\n",
    "from sklearn.feature_extraction.text import TfidfVectorizer\n",
    "#from transformers import AutoTokenizer, T5ForConditionalGeneration\n",
    "from transformers import AutoTokenizer, AutoModel, AutoModelForCausalLM, T5ForConditionalGeneration\n",
    "import torch\n",
    "from itertools import cycle\n",
    "import os \n",
    "from transformers import pipeline\n",
    "\n",
    "from rouge_score import rouge_scorer\n",
    "import ast\n",
    "\n",
    "# For BM25\n",
    "import src.bm25_IR"
   ]
  },
  {
   "cell_type": "markdown",
   "metadata": {},
   "source": [
    "### Loading devset"
   ]
  },
  {
   "cell_type": "code",
   "execution_count": 54,
   "metadata": {},
   "outputs": [],
   "source": [
    "dev_set = pd.read_csv('output/devset/dev_set_w_IR.csv')\n",
    "\n",
    "import ast\n",
    "columns_to_convert = ['tf_idf', 'bm25', 'dense_cls', 'dense_max', 'dense_mean']\n",
    "\n",
    "for col in columns_to_convert:\n",
    "    dev_set[col] = dev_set[col].apply(ast.literal_eval)"
   ]
  },
  {
   "cell_type": "code",
   "execution_count": 64,
   "metadata": {},
   "outputs": [
    {
     "data": {
      "text/plain": [
       "['Ejeren af en ejerlejlighed har sammen med andre ejere af lejligheder ejendomsret til grunden, fælles bestanddele og tilbehør m.v. efter et fordelingstal, der fastsættes som en brøkdel. Til lejligheden hører i samme forhold rettigheder og forpligtelser for ejeren som medlem af ejerforeningen. De i stk. 1 og 2 omhandlede rettigheder og forpligtelser kan ikke adskilles fra ejendomsretten til lejligheden.',\n",
       " 'Hver ejerlejlighed anses som en selvstændig fast ejendom. Hver ejerlejlighed er identificeret ved eget identifikationsnummer.',\n",
       " 'I denne lov forstås ved: Ejerlejlighed: En lejlighed samt andre særskilt afgrænsede husrum, der er registreret som en ejerlejlighed efter reglerne i denne lov eller tidligere gældende lovgivning. Ejerlejlighed: En lejlighed samt andre særskilt afgrænsede husrum, der er registreret som en ejerlejlighed efter reglerne i denne lov eller tidligere gældende lovgivning. Ejerforening: Et obligatorisk fællesskab bestående af samtlige ejere af ejerlejligheder på en ejendom. Ejendom: En bestemt fast ejendom i tinglysningslovens forstand. Bygning: En fast konstruktion med vægge og tag beregnet til beboelse, erhverv eller opbevaring. Opdeling: Oprettelse af ejerlejligheder i bygninger på en ejendom. Videreopdeling: Oprettelse af flere ejerlejligheder i en eksisterende ejerlejlighed. Ændring: Anden ændring af en ejerlejligheds registrering end en videreopdeling.']"
      ]
     },
     "execution_count": 64,
     "metadata": {},
     "output_type": "execute_result"
    }
   ],
   "source": [
    "dev_set.loc[0, 'tf_idf'][:3]"
   ]
  },
  {
   "cell_type": "markdown",
   "metadata": {},
   "source": [
    "### KennethTM/gpt-neo-1.3B-danish"
   ]
  },
  {
   "cell_type": "code",
   "execution_count": 1,
   "metadata": {},
   "outputs": [
    {
     "name": "stderr",
     "output_type": "stream",
     "text": [
      "/Users/adamwagnerhoegh/miniconda3/lib/python3.12/site-packages/tqdm/auto.py:21: TqdmWarning: IProgress not found. Please update jupyter and ipywidgets. See https://ipywidgets.readthedocs.io/en/stable/user_install.html\n",
      "  from .autonotebook import tqdm as notebook_tqdm\n"
     ]
    },
    {
     "data": {
      "text/plain": [
       "GPTNeoForCausalLM(\n",
       "  (transformer): GPTNeoModel(\n",
       "    (wte): Embedding(50257, 2048)\n",
       "    (wpe): Embedding(2048, 2048)\n",
       "    (drop): Dropout(p=0.0, inplace=False)\n",
       "    (h): ModuleList(\n",
       "      (0-23): 24 x GPTNeoBlock(\n",
       "        (ln_1): LayerNorm((2048,), eps=1e-05, elementwise_affine=True)\n",
       "        (attn): GPTNeoAttention(\n",
       "          (attention): GPTNeoSelfAttention(\n",
       "            (attn_dropout): Dropout(p=0.0, inplace=False)\n",
       "            (resid_dropout): Dropout(p=0.0, inplace=False)\n",
       "            (k_proj): Linear(in_features=2048, out_features=2048, bias=False)\n",
       "            (v_proj): Linear(in_features=2048, out_features=2048, bias=False)\n",
       "            (q_proj): Linear(in_features=2048, out_features=2048, bias=False)\n",
       "            (out_proj): Linear(in_features=2048, out_features=2048, bias=True)\n",
       "          )\n",
       "        )\n",
       "        (ln_2): LayerNorm((2048,), eps=1e-05, elementwise_affine=True)\n",
       "        (mlp): GPTNeoMLP(\n",
       "          (c_fc): Linear(in_features=2048, out_features=8192, bias=True)\n",
       "          (c_proj): Linear(in_features=8192, out_features=2048, bias=True)\n",
       "          (act): NewGELUActivation()\n",
       "          (dropout): Dropout(p=0.0, inplace=False)\n",
       "        )\n",
       "      )\n",
       "    )\n",
       "    (ln_f): LayerNorm((2048,), eps=1e-05, elementwise_affine=True)\n",
       "  )\n",
       "  (lm_head): Linear(in_features=2048, out_features=50257, bias=False)\n",
       ")"
      ]
     },
     "execution_count": 1,
     "metadata": {},
     "output_type": "execute_result"
    }
   ],
   "source": [
    "import torch\n",
    "from transformers import AutoModelForCausalLM, AutoTokenizer\n",
    "\n",
    "# Load the model and tokenizer\n",
    "MODEL_NAME = \"KennethTM/gpt-neo-1.3B-danish\"\n",
    "tokenizer = AutoTokenizer.from_pretrained(MODEL_NAME)\n",
    "model = AutoModelForCausalLM.from_pretrained(MODEL_NAME)\n",
    "\n",
    "# Set the device\n",
    "DEVICE = \"mps\" if torch.backends.mps.is_available() else \"cpu\" # set up for mac here, change to cuda if needed\n",
    "model.to(DEVICE)"
   ]
  },
  {
   "cell_type": "code",
   "execution_count": 38,
   "metadata": {},
   "outputs": [
    {
     "data": {
      "text/html": [
       "<div>\n",
       "<style scoped>\n",
       "    .dataframe tbody tr th:only-of-type {\n",
       "        vertical-align: middle;\n",
       "    }\n",
       "\n",
       "    .dataframe tbody tr th {\n",
       "        vertical-align: top;\n",
       "    }\n",
       "\n",
       "    .dataframe thead th {\n",
       "        text-align: right;\n",
       "    }\n",
       "</style>\n",
       "<table border=\"1\" class=\"dataframe\">\n",
       "  <thead>\n",
       "    <tr style=\"text-align: right;\">\n",
       "      <th></th>\n",
       "      <th>question</th>\n",
       "      <th>answer</th>\n",
       "      <th>text</th>\n",
       "      <th>pnumber</th>\n",
       "      <th>law number</th>\n",
       "      <th>tf_idf</th>\n",
       "      <th>bm25</th>\n",
       "      <th>dense_cls</th>\n",
       "      <th>dense_max</th>\n",
       "      <th>dense_mean</th>\n",
       "    </tr>\n",
       "  </thead>\n",
       "  <tbody>\n",
       "    <tr>\n",
       "      <th>20</th>\n",
       "      <td>Hvad skal sikringsmæssige foranstaltninger for...</td>\n",
       "      <td>En sikringsplan, som skal indsendes til og god...</td>\n",
       "      <td>Sikringsmæssige foranstaltninger for nukleart ...</td>\n",
       "      <td>37 b</td>\n",
       "      <td>LBK nr 314 af 03/04/2017</td>\n",
       "      <td>['Beredskabsstyrelsen fører tilsyn med overhol...</td>\n",
       "      <td>['Sikringsmæssige foranstaltninger for nuklear...</td>\n",
       "      <td>['Tilsyn med tilladelse efter § 2, stk. 1, 1. ...</td>\n",
       "      <td>['Ved gennemførelsen af anlægsprojektet nævnt ...</td>\n",
       "      <td>['(Ophævet)', 'Distributøren skal sikre, at et...</td>\n",
       "    </tr>\n",
       "    <tr>\n",
       "      <th>21</th>\n",
       "      <td>Hvornår kan Nævnet for Videnskabelig Uredeligh...</td>\n",
       "      <td>Hvis der foreligger en begrundet formodning om...</td>\n",
       "      <td>'Nævnet for Videnskabelig Uredelighed kan beha...</td>\n",
       "      <td>12</td>\n",
       "      <td>LOV nr 383 af 26/04/2017</td>\n",
       "      <td>['Nævnet for Videnskabelig Uredelighed kan beh...</td>\n",
       "      <td>['Nævnet for Videnskabelig Uredelighed kan beh...</td>\n",
       "      <td>['Nævnet for Videnskabelig Uredelighed kan som...</td>\n",
       "      <td>['Nævnet for Videnskabelig Uredelighed udarbej...</td>\n",
       "      <td>['Med bøde eller fængsel indtil 2 år straffes ...</td>\n",
       "    </tr>\n",
       "    <tr>\n",
       "      <th>22</th>\n",
       "      <td>Hvornår kommer de i loven for livs-, ulykkes- ...</td>\n",
       "      <td>I alle tilfælde, hvor den begunstigede er inds...</td>\n",
       "      <td>'De i loven for livs-, ulykkes- og sygeforsikr...</td>\n",
       "      <td>NaN</td>\n",
       "      <td>LBK nr 1237 af 09/11/2015</td>\n",
       "      <td>['De i loven for livs-, ulykkes- og sygeforsik...</td>\n",
       "      <td>['De i loven for livs-, ulykkes- og sygeforsik...</td>\n",
       "      <td>['De i loven for livs-, ulykkes- og sygeforsik...</td>\n",
       "      <td>['De i loven for livs-, ulykkes- og sygeforsik...</td>\n",
       "      <td>['Det udvalg, der er nævnt i § 17 i lov om men...</td>\n",
       "    </tr>\n",
       "    <tr>\n",
       "      <th>23</th>\n",
       "      <td>Hvad sker der hvis to eller flere dataansvarli...</td>\n",
       "      <td>Så betragtes de som fælles dataansvarlige.</td>\n",
       "      <td>Fastsætter to eller flere dataansvarlige i fæl...</td>\n",
       "      <td>21</td>\n",
       "      <td>LOV nr 410 af 27/04/2017</td>\n",
       "      <td>['Fastsætter to eller flere dataansvarlige i f...</td>\n",
       "      <td>['Fastsætter to eller flere dataansvarlige i f...</td>\n",
       "      <td>['Fastsætter to eller flere dataansvarlige i f...</td>\n",
       "      <td>['Fastsætter to eller flere dataansvarlige i f...</td>\n",
       "      <td>['Friplejeboliger etableret ved nybyggeri elle...</td>\n",
       "    </tr>\n",
       "    <tr>\n",
       "      <th>24</th>\n",
       "      <td>Bedriftværn, der er etableret i henhold til de...</td>\n",
       "      <td>Medmindre kommunalbestyrelsen efter ansøgning ...</td>\n",
       "      <td>Sikringsmæssige foranstaltninger for nukleart ...</td>\n",
       "      <td>81</td>\n",
       "      <td>LBK nr 314 af 03/04/2017</td>\n",
       "      <td>['Bedriftværn, der er etableret i henhold til ...</td>\n",
       "      <td>['Bedriftværn, der er etableret i henhold til ...</td>\n",
       "      <td>['Bedriftværn, der er etableret i henhold til ...</td>\n",
       "      <td>['Bedriftværn, der er etableret i henhold til ...</td>\n",
       "      <td>['Når to tredjedele af anstaltstiden, dog mind...</td>\n",
       "    </tr>\n",
       "  </tbody>\n",
       "</table>\n",
       "</div>"
      ],
      "text/plain": [
       "                                             question  \\\n",
       "20  Hvad skal sikringsmæssige foranstaltninger for...   \n",
       "21  Hvornår kan Nævnet for Videnskabelig Uredeligh...   \n",
       "22  Hvornår kommer de i loven for livs-, ulykkes- ...   \n",
       "23  Hvad sker der hvis to eller flere dataansvarli...   \n",
       "24  Bedriftværn, der er etableret i henhold til de...   \n",
       "\n",
       "                                               answer  \\\n",
       "20  En sikringsplan, som skal indsendes til og god...   \n",
       "21  Hvis der foreligger en begrundet formodning om...   \n",
       "22  I alle tilfælde, hvor den begunstigede er inds...   \n",
       "23         Så betragtes de som fælles dataansvarlige.   \n",
       "24  Medmindre kommunalbestyrelsen efter ansøgning ...   \n",
       "\n",
       "                                                 text pnumber  \\\n",
       "20  Sikringsmæssige foranstaltninger for nukleart ...    37 b   \n",
       "21  'Nævnet for Videnskabelig Uredelighed kan beha...      12   \n",
       "22  'De i loven for livs-, ulykkes- og sygeforsikr...     NaN   \n",
       "23  Fastsætter to eller flere dataansvarlige i fæl...      21   \n",
       "24  Sikringsmæssige foranstaltninger for nukleart ...      81   \n",
       "\n",
       "                   law number  \\\n",
       "20   LBK nr 314 af 03/04/2017   \n",
       "21   LOV nr 383 af 26/04/2017   \n",
       "22  LBK nr 1237 af 09/11/2015   \n",
       "23   LOV nr 410 af 27/04/2017   \n",
       "24   LBK nr 314 af 03/04/2017   \n",
       "\n",
       "                                               tf_idf  \\\n",
       "20  ['Beredskabsstyrelsen fører tilsyn med overhol...   \n",
       "21  ['Nævnet for Videnskabelig Uredelighed kan beh...   \n",
       "22  ['De i loven for livs-, ulykkes- og sygeforsik...   \n",
       "23  ['Fastsætter to eller flere dataansvarlige i f...   \n",
       "24  ['Bedriftværn, der er etableret i henhold til ...   \n",
       "\n",
       "                                                 bm25  \\\n",
       "20  ['Sikringsmæssige foranstaltninger for nuklear...   \n",
       "21  ['Nævnet for Videnskabelig Uredelighed kan beh...   \n",
       "22  ['De i loven for livs-, ulykkes- og sygeforsik...   \n",
       "23  ['Fastsætter to eller flere dataansvarlige i f...   \n",
       "24  ['Bedriftværn, der er etableret i henhold til ...   \n",
       "\n",
       "                                            dense_cls  \\\n",
       "20  ['Tilsyn med tilladelse efter § 2, stk. 1, 1. ...   \n",
       "21  ['Nævnet for Videnskabelig Uredelighed kan som...   \n",
       "22  ['De i loven for livs-, ulykkes- og sygeforsik...   \n",
       "23  ['Fastsætter to eller flere dataansvarlige i f...   \n",
       "24  ['Bedriftværn, der er etableret i henhold til ...   \n",
       "\n",
       "                                            dense_max  \\\n",
       "20  ['Ved gennemførelsen af anlægsprojektet nævnt ...   \n",
       "21  ['Nævnet for Videnskabelig Uredelighed udarbej...   \n",
       "22  ['De i loven for livs-, ulykkes- og sygeforsik...   \n",
       "23  ['Fastsætter to eller flere dataansvarlige i f...   \n",
       "24  ['Bedriftværn, der er etableret i henhold til ...   \n",
       "\n",
       "                                           dense_mean  \n",
       "20  ['(Ophævet)', 'Distributøren skal sikre, at et...  \n",
       "21  ['Med bøde eller fængsel indtil 2 år straffes ...  \n",
       "22  ['Det udvalg, der er nævnt i § 17 i lov om men...  \n",
       "23  ['Friplejeboliger etableret ved nybyggeri elle...  \n",
       "24  ['Når to tredjedele af anstaltstiden, dog mind...  "
      ]
     },
     "execution_count": 38,
     "metadata": {},
     "output_type": "execute_result"
    }
   ],
   "source": [
    "dev_set_subset = dev_set[20:25]\n",
    "\n",
    "dev_set_subset"
   ]
  },
  {
   "cell_type": "code",
   "execution_count": null,
   "metadata": {},
   "outputs": [
    {
     "name": "stderr",
     "output_type": "stream",
     "text": [
      "Answering questions: 5it [01:35, 19.01s/it]\n"
     ]
    }
   ],
   "source": [
    "neo_answers_tf_idf_k1 = []\n",
    "# evaluating tf-idf\n",
    "for question, documents in tqdm(zip(dev_set['question'], dev_set_subset['tf_idf_k1']), desc='Answering questions'):\n",
    "\n",
    "    # assemble a prompt from the documents, question and prompting an answer\n",
    "    prompt = f\"Relevante paragraffer: {documents} Spørgsmål: {question} Indsæt svar her baseret på de relevante paragraffer:\"\n",
    "\n",
    "    # tokenize\n",
    "    input_ids = tokenizer(prompt, return_tensors=\"pt\").input_ids.to(DEVICE)\n",
    "\n",
    "    max_length = len(input_ids[0]) + 100\n",
    "\n",
    "    # generate an answer within torch.no_grad() to save compute\n",
    "    with torch.no_grad():\n",
    "        outputs = model.generate(\n",
    "            input_ids,\n",
    "            max_length=max_length,\n",
    "            pad_token_id=tokenizer.eos_token_id,\n",
    "            no_repeat_ngram_size=7,\n",
    "            # generation set to stop at '.' as it otherwise just repeats itself (think it's because we don't sample)\n",
    "            eos_token_id=tokenizer.encode(' Spørgsmål')[0]\n",
    "        )\n",
    "\n",
    "    # decode generated answer\n",
    "    answer = tokenizer.decode(outputs[0], skip_special_tokens=True).strip(' Spørgsmål')\n",
    "\n",
    "    # append answer to list\n",
    "    neo_answers_tf_idf_k1.append(answer[len(prompt):].strip())  # strip the prompt to leave just the answer"
   ]
  },
  {
   "cell_type": "code",
   "execution_count": 45,
   "metadata": {},
   "outputs": [
    {
     "data": {
      "text/plain": [
       "\"['Ethvert skib, der modtager isbryderhjælp fra en statskontrolleret isbryder, er undergivet dennes myndighed, så længe hjælpen ydes.', 'Ved statskontrolleret isbryder forstås i nærværende lov såvel det af staten chartrede isbrydningsmateriel som andre af istjenesten til isbrydning benyttede skibe. Ved chartring af isbrydningsmateriel, jf. stk. 1, er det en betingelse, at operatøren sikrer besætningen på de pågældende fartøjer løn og arbejdstid og andre arbejdsvilkår, som ikke er mindre gunstige, end hvad der fremgår af gældende danske kollektive overenskomster.', 'Denne lov træder i kraft den 15. april 1957. Samtidig ophæves lov nr. 251 af 13. juni 1922 om en isbryder og indførelse af isafgift samt lov nr. 131 af 18. april 1925 om tillæg til nævnte lov.']\""
      ]
     },
     "execution_count": 45,
     "metadata": {},
     "output_type": "execute_result"
    }
   ],
   "source": [
    "dev_set.loc[15, 'tf_idf']"
   ]
  },
  {
   "cell_type": "markdown",
   "metadata": {},
   "source": [
    "### strombergnlp/dant5-large"
   ]
  },
  {
   "cell_type": "code",
   "execution_count": 82,
   "metadata": {},
   "outputs": [
    {
     "name": "stderr",
     "output_type": "stream",
     "text": [
      "/Users/adamwagnerhoegh/miniconda3/lib/python3.12/site-packages/transformers/tokenization_utils_base.py:1601: FutureWarning: `clean_up_tokenization_spaces` was not set. It will be set to `True` by default. This behavior will be depracted in transformers v4.45, and will be then set to `False` by default. For more details check this issue: https://github.com/huggingface/transformers/issues/31884\n",
      "  warnings.warn(\n"
     ]
    },
    {
     "data": {
      "text/plain": [
       "T5ForConditionalGeneration(\n",
       "  (shared): Embedding(32128, 1024)\n",
       "  (encoder): T5Stack(\n",
       "    (embed_tokens): Embedding(32128, 1024)\n",
       "    (block): ModuleList(\n",
       "      (0): T5Block(\n",
       "        (layer): ModuleList(\n",
       "          (0): T5LayerSelfAttention(\n",
       "            (SelfAttention): T5Attention(\n",
       "              (q): Linear(in_features=1024, out_features=1024, bias=False)\n",
       "              (k): Linear(in_features=1024, out_features=1024, bias=False)\n",
       "              (v): Linear(in_features=1024, out_features=1024, bias=False)\n",
       "              (o): Linear(in_features=1024, out_features=1024, bias=False)\n",
       "              (relative_attention_bias): Embedding(32, 16)\n",
       "            )\n",
       "            (layer_norm): T5LayerNorm()\n",
       "            (dropout): Dropout(p=0.1, inplace=False)\n",
       "          )\n",
       "          (1): T5LayerFF(\n",
       "            (DenseReluDense): T5DenseActDense(\n",
       "              (wi): Linear(in_features=1024, out_features=4096, bias=False)\n",
       "              (wo): Linear(in_features=4096, out_features=1024, bias=False)\n",
       "              (dropout): Dropout(p=0.1, inplace=False)\n",
       "              (act): ReLU()\n",
       "            )\n",
       "            (layer_norm): T5LayerNorm()\n",
       "            (dropout): Dropout(p=0.1, inplace=False)\n",
       "          )\n",
       "        )\n",
       "      )\n",
       "      (1-23): 23 x T5Block(\n",
       "        (layer): ModuleList(\n",
       "          (0): T5LayerSelfAttention(\n",
       "            (SelfAttention): T5Attention(\n",
       "              (q): Linear(in_features=1024, out_features=1024, bias=False)\n",
       "              (k): Linear(in_features=1024, out_features=1024, bias=False)\n",
       "              (v): Linear(in_features=1024, out_features=1024, bias=False)\n",
       "              (o): Linear(in_features=1024, out_features=1024, bias=False)\n",
       "            )\n",
       "            (layer_norm): T5LayerNorm()\n",
       "            (dropout): Dropout(p=0.1, inplace=False)\n",
       "          )\n",
       "          (1): T5LayerFF(\n",
       "            (DenseReluDense): T5DenseActDense(\n",
       "              (wi): Linear(in_features=1024, out_features=4096, bias=False)\n",
       "              (wo): Linear(in_features=4096, out_features=1024, bias=False)\n",
       "              (dropout): Dropout(p=0.1, inplace=False)\n",
       "              (act): ReLU()\n",
       "            )\n",
       "            (layer_norm): T5LayerNorm()\n",
       "            (dropout): Dropout(p=0.1, inplace=False)\n",
       "          )\n",
       "        )\n",
       "      )\n",
       "    )\n",
       "    (final_layer_norm): T5LayerNorm()\n",
       "    (dropout): Dropout(p=0.1, inplace=False)\n",
       "  )\n",
       "  (decoder): T5Stack(\n",
       "    (embed_tokens): Embedding(32128, 1024)\n",
       "    (block): ModuleList(\n",
       "      (0): T5Block(\n",
       "        (layer): ModuleList(\n",
       "          (0): T5LayerSelfAttention(\n",
       "            (SelfAttention): T5Attention(\n",
       "              (q): Linear(in_features=1024, out_features=1024, bias=False)\n",
       "              (k): Linear(in_features=1024, out_features=1024, bias=False)\n",
       "              (v): Linear(in_features=1024, out_features=1024, bias=False)\n",
       "              (o): Linear(in_features=1024, out_features=1024, bias=False)\n",
       "              (relative_attention_bias): Embedding(32, 16)\n",
       "            )\n",
       "            (layer_norm): T5LayerNorm()\n",
       "            (dropout): Dropout(p=0.1, inplace=False)\n",
       "          )\n",
       "          (1): T5LayerCrossAttention(\n",
       "            (EncDecAttention): T5Attention(\n",
       "              (q): Linear(in_features=1024, out_features=1024, bias=False)\n",
       "              (k): Linear(in_features=1024, out_features=1024, bias=False)\n",
       "              (v): Linear(in_features=1024, out_features=1024, bias=False)\n",
       "              (o): Linear(in_features=1024, out_features=1024, bias=False)\n",
       "            )\n",
       "            (layer_norm): T5LayerNorm()\n",
       "            (dropout): Dropout(p=0.1, inplace=False)\n",
       "          )\n",
       "          (2): T5LayerFF(\n",
       "            (DenseReluDense): T5DenseActDense(\n",
       "              (wi): Linear(in_features=1024, out_features=4096, bias=False)\n",
       "              (wo): Linear(in_features=4096, out_features=1024, bias=False)\n",
       "              (dropout): Dropout(p=0.1, inplace=False)\n",
       "              (act): ReLU()\n",
       "            )\n",
       "            (layer_norm): T5LayerNorm()\n",
       "            (dropout): Dropout(p=0.1, inplace=False)\n",
       "          )\n",
       "        )\n",
       "      )\n",
       "      (1-23): 23 x T5Block(\n",
       "        (layer): ModuleList(\n",
       "          (0): T5LayerSelfAttention(\n",
       "            (SelfAttention): T5Attention(\n",
       "              (q): Linear(in_features=1024, out_features=1024, bias=False)\n",
       "              (k): Linear(in_features=1024, out_features=1024, bias=False)\n",
       "              (v): Linear(in_features=1024, out_features=1024, bias=False)\n",
       "              (o): Linear(in_features=1024, out_features=1024, bias=False)\n",
       "            )\n",
       "            (layer_norm): T5LayerNorm()\n",
       "            (dropout): Dropout(p=0.1, inplace=False)\n",
       "          )\n",
       "          (1): T5LayerCrossAttention(\n",
       "            (EncDecAttention): T5Attention(\n",
       "              (q): Linear(in_features=1024, out_features=1024, bias=False)\n",
       "              (k): Linear(in_features=1024, out_features=1024, bias=False)\n",
       "              (v): Linear(in_features=1024, out_features=1024, bias=False)\n",
       "              (o): Linear(in_features=1024, out_features=1024, bias=False)\n",
       "            )\n",
       "            (layer_norm): T5LayerNorm()\n",
       "            (dropout): Dropout(p=0.1, inplace=False)\n",
       "          )\n",
       "          (2): T5LayerFF(\n",
       "            (DenseReluDense): T5DenseActDense(\n",
       "              (wi): Linear(in_features=1024, out_features=4096, bias=False)\n",
       "              (wo): Linear(in_features=4096, out_features=1024, bias=False)\n",
       "              (dropout): Dropout(p=0.1, inplace=False)\n",
       "              (act): ReLU()\n",
       "            )\n",
       "            (layer_norm): T5LayerNorm()\n",
       "            (dropout): Dropout(p=0.1, inplace=False)\n",
       "          )\n",
       "        )\n",
       "      )\n",
       "    )\n",
       "    (final_layer_norm): T5LayerNorm()\n",
       "    (dropout): Dropout(p=0.1, inplace=False)\n",
       "  )\n",
       "  (lm_head): Linear(in_features=1024, out_features=32128, bias=False)\n",
       ")"
      ]
     },
     "execution_count": 82,
     "metadata": {},
     "output_type": "execute_result"
    }
   ],
   "source": [
    "# Load the pretrained T5 model and tokenizer\n",
    "model_name = \"strombergnlp/dant5-large\"  \n",
    "tokenizer = AutoTokenizer.from_pretrained(model_name)\n",
    "model = T5ForConditionalGeneration.from_pretrained(model_name)\n",
    "DEVICE = \"mps\" if torch.backends.mps.is_available() else \"cpu\" # set up for mac here, change to cuda if needed\n",
    "model.to(DEVICE)\n"
   ]
  },
  {
   "cell_type": "code",
   "execution_count": null,
   "metadata": {},
   "outputs": [
    {
     "name": "stderr",
     "output_type": "stream",
     "text": [
      "Answering questions: 5it [00:32,  6.51s/it]\n"
     ]
    }
   ],
   "source": [
    "#for question, documents in tqdm(zip(dev_set['question, str'], dev_set['tf_idf_k1']), desc='Answering questions'):\n",
    "\n",
    "t5_answers_tf_idf_k1 = []\n",
    "\n",
    "# Example question and context\n",
    "\n",
    "for question, documents in tqdm(zip(dev_set_subset['question'], dev_set_subset['tf_idf_k1']), desc='Answering questions'):\n",
    "    \n",
    "    # Format the input for T5\n",
    "    input_text = f\"Relevante paragraffer: {documents}\\nSpørgsmål: {question}\\nIndsæt svar her baseret på de relevante paragraffer:\"\n",
    "\n",
    "    # Tokenize the input and generate an answer\n",
    "    input_ids = tokenizer(input_text, return_tensors=\"pt\").input_ids.to(DEVICE)\n",
    "\n",
    "    max_length = len(input_ids[0]) + 100\n",
    "\n",
    "    with torch.no_grad():\n",
    "        outputs = model.generate(\n",
    "            input_ids,\n",
    "            max_length=max_length,\n",
    "            pad_token_id=tokenizer.eos_token_id,\n",
    "            # generation set to stop at ' Spørgsmål' as it otherwise just repeats itself (think it's because we don't sample)\n",
    "            eos_token_id=tokenizer.encode(' Spørgsmål')[0]\n",
    "        )\n",
    "\n",
    "    # Decode and print the generated answer\n",
    "    answer = tokenizer.decode(outputs[0], skip_special_tokens=True).strip(' Spørgsmål')\n",
    "    t5_answers_tf_idf_k1.append(answer)"
   ]
  },
  {
   "cell_type": "code",
   "execution_count": 25,
   "metadata": {},
   "outputs": [],
   "source": [
    "idx = 0"
   ]
  },
  {
   "cell_type": "code",
   "execution_count": null,
   "metadata": {},
   "outputs": [
    {
     "name": "stdout",
     "output_type": "stream",
     "text": [
      "Question: Har en person, der er blevet videoafhørt pligt til at afgive forklaring som vidne under hovedforhandlingen?\n",
      "Retrieved_doc: En person, der er blevet videoafhørt efter § 340 a eller § 155, stk. 3, har ikke pligt til at afgive forklaring som vidne under hovedforhandlingen. Retten kan helt undtagelsesvis pålægge en person, der er omfattet af stk. 1, at afgive forklaring som vidne under hovedforhandlingen, hvis dette er af afgørende betydning for sagens afgørelse og det ikke er tilstrækkeligt, at personen genafhøres til video.\n",
      "Answer: En person, der er blevet videoafhørt efter, har ikke pligt til at afgive forklaring som vidne under hovedforhandlingen.\n",
      "\n",
      "\n"
     ]
    },
    {
     "ename": "NameError",
     "evalue": "name 't5_answers_tf_idf_k1' is not defined",
     "output_type": "error",
     "traceback": [
      "\u001b[0;31m---------------------------------------------------------------------------\u001b[0m",
      "\u001b[0;31mNameError\u001b[0m                                 Traceback (most recent call last)",
      "Cell \u001b[0;32mIn[26], line 5\u001b[0m\n\u001b[1;32m      3\u001b[0m \u001b[38;5;28mprint\u001b[39m(\u001b[38;5;124m'\u001b[39m\u001b[38;5;124mAnswer:\u001b[39m\u001b[38;5;124m'\u001b[39m, dev_set_subset\u001b[38;5;241m.\u001b[39mloc[idx\u001b[38;5;241m+\u001b[39m\u001b[38;5;241m10\u001b[39m, \u001b[38;5;124m'\u001b[39m\u001b[38;5;124manswer\u001b[39m\u001b[38;5;124m'\u001b[39m])\n\u001b[1;32m      4\u001b[0m \u001b[38;5;28mprint\u001b[39m(\u001b[38;5;124m'\u001b[39m\u001b[38;5;130;01m\\n\u001b[39;00m\u001b[38;5;124m'\u001b[39m)\n\u001b[0;32m----> 5\u001b[0m \u001b[38;5;28mprint\u001b[39m(\u001b[38;5;124m'\u001b[39m\u001b[38;5;124mT5:\u001b[39m\u001b[38;5;124m'\u001b[39m, \u001b[43mt5_answers_tf_idf_k1\u001b[49m[idx])\n\u001b[1;32m      6\u001b[0m idx \u001b[38;5;241m+\u001b[39m\u001b[38;5;241m=\u001b[39m \u001b[38;5;241m1\u001b[39m\n",
      "\u001b[0;31mNameError\u001b[0m: name 't5_answers_tf_idf_k1' is not defined"
     ]
    }
   ],
   "source": [
    "print('Question:', dev_set_subset.loc[idx+5, 'question'])\n",
    "print('Retrieved_doc:', dev_set.loc[idx+5, 'tf_idf_k1'])\n",
    "print('Answer:', dev_set_subset.loc[idx+5, 'answer'])\n",
    "print('\\n')\n",
    "print('T5:', t5_answers_tf_idf_k1[idx])\n",
    "idx += 1"
   ]
  }
 ],
 "metadata": {
  "kernelspec": {
   "display_name": "base",
   "language": "python",
   "name": "python3"
  },
  "language_info": {
   "codemirror_mode": {
    "name": "ipython",
    "version": 3
   },
   "file_extension": ".py",
   "mimetype": "text/x-python",
   "name": "python",
   "nbconvert_exporter": "python",
   "pygments_lexer": "ipython3",
   "version": "3.12.2"
  }
 },
 "nbformat": 4,
 "nbformat_minor": 2
}
