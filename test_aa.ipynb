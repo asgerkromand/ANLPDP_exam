{
 "cells": [
  {
   "cell_type": "code",
   "execution_count": 4,
   "metadata": {},
   "outputs": [],
   "source": [
    "import pandas as pd\n",
    "\n",
    "\n",
    "# load the devset\n",
    "devset = pd.read_csv(\"data/dev_set.csv\").astype(str)\n",
    "\n",
    "\n",
    "# rename the 5 columns\n",
    "devset.columns = [\"tfidf\", \"bm25\", \"bert_cls\", \"bert_max\", \"bert_mean\"]"
   ]
  },
  {
   "cell_type": "code",
   "execution_count": 5,
   "metadata": {},
   "outputs": [],
   "source": [
    "# create 3 versions of txt files for each column separated by newlines\n",
    "for column in devset.columns:\n",
    "    for k in range(1, 4):\n",
    "        # Create t5 version\n",
    "        with open(f\"output/t5_gen_{column}_k{k}.txt\", \"w\") as f:\n",
    "            for item in devset[column].tolist():\n",
    "                f.write(item + \"\\n\")\n",
    "        \n",
    "        # Create neo version\n",
    "        with open(f\"output/neo_gen_{column}_k{k}.txt\", \"w\") as f:\n",
    "            for item in devset[column].tolist():\n",
    "                f.write(item + \"\\n\")"
   ]
  },
  {
   "cell_type": "code",
   "execution_count": 7,
   "metadata": {},
   "outputs": [],
   "source": [
    "# also make two files called t5_gen_baseline.txt and neo_gen_baseline.txt\n",
    "# doesn't matter which column we use to get the baseline\n",
    "with open(f\"output/t5_gen_baseline.txt\", \"w\") as f:\n",
    "    for item in devset[\"tfidf\"].tolist():\n",
    "        f.write(item + \"\\n\")\n",
    "\n",
    "with open(f\"output/neo_gen_baseline.txt\", \"w\") as f:\n",
    "    for item in devset[\"tfidf\"].tolist():\n",
    "        f.write(item + \"\\n\")\n"
   ]
  }
 ],
 "metadata": {
  "kernelspec": {
   "display_name": "Python 3",
   "language": "python",
   "name": "python3"
  },
  "language_info": {
   "codemirror_mode": {
    "name": "ipython",
    "version": 3
   },
   "file_extension": ".py",
   "mimetype": "text/x-python",
   "name": "python",
   "nbconvert_exporter": "python",
   "pygments_lexer": "ipython3",
   "version": "3.12.3"
  }
 },
 "nbformat": 4,
 "nbformat_minor": 2
}
