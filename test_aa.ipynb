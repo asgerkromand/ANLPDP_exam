{
 "cells": [
  {
   "cell_type": "code",
   "execution_count": 1,
   "metadata": {},
   "outputs": [],
   "source": [
    "import pandas as pd\n",
    "\n",
    "\n",
    "# load the devset\n",
    "devset = pd.read_csv(\"data/dev_set.csv\").astype(str)\n",
    "\n",
    "\n",
    "# create a txt file for each column seperated by newlines\n",
    "for column in devset.columns:\n",
    "    with open(f\"output/{column}.txt\", \"w\") as f:\n",
    "        for item in devset[column].tolist():\n",
    "            f.write(item + \"\\n\")"
   ]
  }
 ],
 "metadata": {
  "kernelspec": {
   "display_name": "Python 3",
   "language": "python",
   "name": "python3"
  },
  "language_info": {
   "codemirror_mode": {
    "name": "ipython",
    "version": 3
   },
   "file_extension": ".py",
   "mimetype": "text/x-python",
   "name": "python",
   "nbconvert_exporter": "python",
   "pygments_lexer": "ipython3",
   "version": "3.12.3"
  }
 },
 "nbformat": 4,
 "nbformat_minor": 2
}
