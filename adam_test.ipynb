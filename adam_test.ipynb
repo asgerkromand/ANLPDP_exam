{
 "cells": [
  {
   "cell_type": "code",
   "execution_count": 81,
   "metadata": {},
   "outputs": [
    {
     "name": "stderr",
     "output_type": "stream",
     "text": [
      "huggingface/tokenizers: The current process just got forked, after parallelism has already been used. Disabling parallelism to avoid deadlocks...\n",
      "To disable this warning, you can either:\n",
      "\t- Avoid using `tokenizers` before the fork if possible\n",
      "\t- Explicitly set the environment variable TOKENIZERS_PARALLELISM=(true | false)\n"
     ]
    }
   ],
   "source": [
    "import numpy as np\n",
    "import pandas as pd\n",
    "from transformers import AutoTokenizer, T5ForConditionalGeneration\n",
    "import torch\n",
    "import json\n",
    "from tqdm import tqdm\n",
    "import numpy as np\n",
    "import matplotlib.pyplot as plt\n",
    "from nltk.translate.bleu_score import sentence_bleu\n",
    "from nltk.translate.meteor_score import meteor_score\n",
    "from rouge_score import rouge_scorer\n",
    "from nltk.translate.bleu_score import SmoothingFunction\n",
    "import nltk\n",
    "import os\n",
    "import seaborn as sns"
   ]
  },
  {
   "cell_type": "code",
   "execution_count": 2,
   "metadata": {},
   "outputs": [],
   "source": [
    "file_path = \"output/devset/devset_with_contexts.parquet.gzip\"\n",
    "with open(file_path, \"rb\") as f:\n",
    "    dev_set = pd.read_parquet(f)"
   ]
  },
  {
   "cell_type": "code",
   "execution_count": 3,
   "metadata": {},
   "outputs": [
    {
     "data": {
      "text/html": [
       "<div>\n",
       "<style scoped>\n",
       "    .dataframe tbody tr th:only-of-type {\n",
       "        vertical-align: middle;\n",
       "    }\n",
       "\n",
       "    .dataframe tbody tr th {\n",
       "        vertical-align: top;\n",
       "    }\n",
       "\n",
       "    .dataframe thead th {\n",
       "        text-align: right;\n",
       "    }\n",
       "</style>\n",
       "<table border=\"1\" class=\"dataframe\">\n",
       "  <thead>\n",
       "    <tr style=\"text-align: right;\">\n",
       "      <th></th>\n",
       "      <th>question</th>\n",
       "      <th>answer</th>\n",
       "      <th>text</th>\n",
       "      <th>pnumber</th>\n",
       "      <th>law number</th>\n",
       "      <th>tfidf_context</th>\n",
       "      <th>bm25_context</th>\n",
       "      <th>bert_cls_context</th>\n",
       "      <th>bert_max_context</th>\n",
       "      <th>bert_mean_context</th>\n",
       "    </tr>\n",
       "  </thead>\n",
       "  <tbody>\n",
       "    <tr>\n",
       "      <th>0</th>\n",
       "      <td>Hvad har ejeren af en ejerlejlighed, sammen me...</td>\n",
       "      <td>Grunden, fælles bestanddele og tilbehør.</td>\n",
       "      <td>Ejeren af en ejerlejlighed har sammen med andr...</td>\n",
       "      <td>3</td>\n",
       "      <td>LOV nr 908 af 18/06/2020</td>\n",
       "      <td>[Ejeren af en ejerlejlighed har sammen med and...</td>\n",
       "      <td>[Ejeren af en ejerlejlighed har sammen med and...</td>\n",
       "      <td>[Hver ejerlejlighed anses som en selvstændig f...</td>\n",
       "      <td>[Det kan aftales, at lejeren af et blandet lej...</td>\n",
       "      <td>[Ved skriftlig budgivning opfordrer fogeden sk...</td>\n",
       "    </tr>\n",
       "    <tr>\n",
       "      <th>1</th>\n",
       "      <td>Hvem fastsætter eller aftaler bestemmelser om ...</td>\n",
       "      <td>Finansministeren fastsætter eller aftaler best...</td>\n",
       "      <td>Højskolen skal følge de af finansministeren fa...</td>\n",
       "      <td>30</td>\n",
       "      <td>LBK nr 780 af 08/08/2019</td>\n",
       "      <td>[Højskolen skal følge de af finansministeren f...</td>\n",
       "      <td>[Højskolen skal følge de af finansministeren f...</td>\n",
       "      <td>[Professionshøjskolens navn fastsættes i vedtæ...</td>\n",
       "      <td>[Virksomheden kan efter finansministerens nærm...</td>\n",
       "      <td>[Told- og skatteforvaltningen kan fastsætte re...</td>\n",
       "    </tr>\n",
       "    <tr>\n",
       "      <th>2</th>\n",
       "      <td>Hvad skal Beskæftigelsesministeriet og Finanst...</td>\n",
       "      <td>Den indsendte årsrapport skal i det mindste in...</td>\n",
       "      <td>Uden ugrundet ophold efter repræsentantskabets...</td>\n",
       "      <td>25 l</td>\n",
       "      <td>LBK nr 1110 af 10/10/2014</td>\n",
       "      <td>[Uden ugrundet ophold efter bestyrelsens godke...</td>\n",
       "      <td>[Uden ugrundet ophold efter bestyrelsens godke...</td>\n",
       "      <td>[Arbejdsmarkedets Erhvervssikring betaler afgi...</td>\n",
       "      <td>[Den godkendte årsrapport skal indsendes til E...</td>\n",
       "      <td>[§ 10 finder ikke anvendelse for gaver, der er...</td>\n",
       "    </tr>\n",
       "    <tr>\n",
       "      <th>3</th>\n",
       "      <td>Hvor mange procent må kapitalandele i og lån y...</td>\n",
       "      <td>Kapitalandele i og lån ydet til en virksomhed ...</td>\n",
       "      <td>Følgende grænser for Arbejdsmarkedets Tillægsp...</td>\n",
       "      <td>26 e</td>\n",
       "      <td>LBK nr 1110 af 10/10/2014</td>\n",
       "      <td>[Følgende grænser for Lønmodtagernes Dyrtidsfo...</td>\n",
       "      <td>[Følgende grænser for Lønmodtagernes Dyrtidsfo...</td>\n",
       "      <td>[Et pengeinstituts kapitalandele erhvervet for...</td>\n",
       "      <td>[Bestyrelsen i et e-pengeinstitut eller betali...</td>\n",
       "      <td>[Skadesforsikringsselskaberne skal efter hvert...</td>\n",
       "    </tr>\n",
       "    <tr>\n",
       "      <th>4</th>\n",
       "      <td>Hvad er en betingelse for retten til jobpræmie?</td>\n",
       "      <td>Det er en betingelse for retten til jobpræmie ...</td>\n",
       "      <td>Det er en betingelse for retten til jobpræmie,...</td>\n",
       "      <td>9</td>\n",
       "      <td>LOV nr 287 af 29/03/2017</td>\n",
       "      <td>[Det er en betingelse for retten til jobpræmie...</td>\n",
       "      <td>[Det er en betingelse for retten til jobpræmie...</td>\n",
       "      <td>[Det er en betingelse for retten til jobpræmie...</td>\n",
       "      <td>[Beskæftigelsesministeren kan fastsætte budget...</td>\n",
       "      <td>[Det påhviler anklagemyndigheden at påse, at e...</td>\n",
       "    </tr>\n",
       "    <tr>\n",
       "      <th>...</th>\n",
       "      <td>...</td>\n",
       "      <td>...</td>\n",
       "      <td>...</td>\n",
       "      <td>...</td>\n",
       "      <td>...</td>\n",
       "      <td>...</td>\n",
       "      <td>...</td>\n",
       "      <td>...</td>\n",
       "      <td>...</td>\n",
       "      <td>...</td>\n",
       "    </tr>\n",
       "    <tr>\n",
       "      <th>98</th>\n",
       "      <td>Hvordan anføres kandidatlister på stemmesedler?</td>\n",
       "      <td>I særskilte felter.</td>\n",
       "      <td>Kandidatlisterne anføres på stemmesedlen i sær...</td>\n",
       "      <td>46</td>\n",
       "      <td>LBK nr 6 af 08/01/2024</td>\n",
       "      <td>[Valgbestyrelsen udarbejder stemmesedler på gr...</td>\n",
       "      <td>[Valgbestyrelsen udarbejder stemmesedler på gr...</td>\n",
       "      <td>[Kandidatlisterne anføres på stemmesedlen i sæ...</td>\n",
       "      <td>[Kulturministeren kan fastsætte nærmere regler...</td>\n",
       "      <td>[Ministeren for fødevarer, landbrug og fiskeri...</td>\n",
       "    </tr>\n",
       "    <tr>\n",
       "      <th>99</th>\n",
       "      <td>Hvem iværksætter beslaglæggelse?</td>\n",
       "      <td>Politiet.</td>\n",
       "      <td>Politiet iværksætter beslaglæggelse. Politiet ...</td>\n",
       "      <td>807</td>\n",
       "      <td>LBK nr 250 af 04/03/2024</td>\n",
       "      <td>[Beløb, som en person har til gode hos en virk...</td>\n",
       "      <td>[Beløb, som en person har til gode hos en virk...</td>\n",
       "      <td>[Retsformanden leder forhandlingen., Arbejdsti...</td>\n",
       "      <td>[Studievalg Danmark kan drive indtægtsdækket v...</td>\n",
       "      <td>[Regionsrådet og kommunalbestyrelsen koordiner...</td>\n",
       "    </tr>\n",
       "    <tr>\n",
       "      <th>100</th>\n",
       "      <td>Hvis interesser skal foranstaltninger mod inte...</td>\n",
       "      <td>De forvaltede alternative investeringsfondes e...</td>\n",
       "      <td>En forvalter af alternative investeringsfonde ...</td>\n",
       "      <td>23</td>\n",
       "      <td>LBK nr 231 af 01/03/2024</td>\n",
       "      <td>[Delegation eller videredelegation af porteføl...</td>\n",
       "      <td>[Delegation eller videredelegation af porteføl...</td>\n",
       "      <td>[Hvis en afdeling er bevisudstedende, skal den...</td>\n",
       "      <td>[Bestyrelsen i et e-pengeinstitut eller betali...</td>\n",
       "      <td>[Erhvervsstyrelsen kan foretage udgående kontr...</td>\n",
       "    </tr>\n",
       "    <tr>\n",
       "      <th>101</th>\n",
       "      <td>Hvad skal valgstyrere eller tilforordnede vælg...</td>\n",
       "      <td>At stemmekasserne er tomme.</td>\n",
       "      <td>Afstemningen begynder kl. Inden stemmeafgivnin...</td>\n",
       "      <td>38</td>\n",
       "      <td>LBK nr 1432 af 01/12/2023</td>\n",
       "      <td>[Afstemningen begynder kl. Inden stemmeafgivni...</td>\n",
       "      <td>[Afstemningen begynder kl. Inden stemmeafgivni...</td>\n",
       "      <td>[Valgbestyrelsen underretter de valgte om, at ...</td>\n",
       "      <td>[Afstemningen begynder kl. Inden stemmeafgivni...</td>\n",
       "      <td>[Medmindre strengere straf er forskyldt efter ...</td>\n",
       "    </tr>\n",
       "    <tr>\n",
       "      <th>102</th>\n",
       "      <td>Hvem fastsætter om udenlandske afgørelser af b...</td>\n",
       "      <td>Justitsministeren.</td>\n",
       "      <td>Justitsministeren kan fastsætte bestemmelser, ...</td>\n",
       "      <td>223 a</td>\n",
       "      <td>LBK nr 250 af 04/03/2024</td>\n",
       "      <td>[Justitsministeren kan fastsætte bestemmelser,...</td>\n",
       "      <td>[Justitsministeren kan fastsætte bestemmelser,...</td>\n",
       "      <td>[Når sigtede møder, prøver retten ikke af egen...</td>\n",
       "      <td>[Justitsministeren kan fastsætte bestemmelser,...</td>\n",
       "      <td>[Retten træffer afgørelse om dørlukning efter ...</td>\n",
       "    </tr>\n",
       "  </tbody>\n",
       "</table>\n",
       "<p>103 rows × 10 columns</p>\n",
       "</div>"
      ],
      "text/plain": [
       "                                              question  \\\n",
       "0    Hvad har ejeren af en ejerlejlighed, sammen me...   \n",
       "1    Hvem fastsætter eller aftaler bestemmelser om ...   \n",
       "2    Hvad skal Beskæftigelsesministeriet og Finanst...   \n",
       "3    Hvor mange procent må kapitalandele i og lån y...   \n",
       "4      Hvad er en betingelse for retten til jobpræmie?   \n",
       "..                                                 ...   \n",
       "98     Hvordan anføres kandidatlister på stemmesedler?   \n",
       "99                    Hvem iværksætter beslaglæggelse?   \n",
       "100  Hvis interesser skal foranstaltninger mod inte...   \n",
       "101  Hvad skal valgstyrere eller tilforordnede vælg...   \n",
       "102  Hvem fastsætter om udenlandske afgørelser af b...   \n",
       "\n",
       "                                                answer  \\\n",
       "0             Grunden, fælles bestanddele og tilbehør.   \n",
       "1    Finansministeren fastsætter eller aftaler best...   \n",
       "2    Den indsendte årsrapport skal i det mindste in...   \n",
       "3    Kapitalandele i og lån ydet til en virksomhed ...   \n",
       "4    Det er en betingelse for retten til jobpræmie ...   \n",
       "..                                                 ...   \n",
       "98                                 I særskilte felter.   \n",
       "99                                           Politiet.   \n",
       "100  De forvaltede alternative investeringsfondes e...   \n",
       "101                        At stemmekasserne er tomme.   \n",
       "102                                 Justitsministeren.   \n",
       "\n",
       "                                                  text pnumber  \\\n",
       "0    Ejeren af en ejerlejlighed har sammen med andr...       3   \n",
       "1    Højskolen skal følge de af finansministeren fa...      30   \n",
       "2    Uden ugrundet ophold efter repræsentantskabets...    25 l   \n",
       "3    Følgende grænser for Arbejdsmarkedets Tillægsp...    26 e   \n",
       "4    Det er en betingelse for retten til jobpræmie,...       9   \n",
       "..                                                 ...     ...   \n",
       "98   Kandidatlisterne anføres på stemmesedlen i sær...      46   \n",
       "99   Politiet iværksætter beslaglæggelse. Politiet ...     807   \n",
       "100  En forvalter af alternative investeringsfonde ...      23   \n",
       "101  Afstemningen begynder kl. Inden stemmeafgivnin...      38   \n",
       "102  Justitsministeren kan fastsætte bestemmelser, ...   223 a   \n",
       "\n",
       "                    law number  \\\n",
       "0     LOV nr 908 af 18/06/2020   \n",
       "1     LBK nr 780 af 08/08/2019   \n",
       "2    LBK nr 1110 af 10/10/2014   \n",
       "3    LBK nr 1110 af 10/10/2014   \n",
       "4     LOV nr 287 af 29/03/2017   \n",
       "..                         ...   \n",
       "98      LBK nr 6 af 08/01/2024   \n",
       "99    LBK nr 250 af 04/03/2024   \n",
       "100   LBK nr 231 af 01/03/2024   \n",
       "101  LBK nr 1432 af 01/12/2023   \n",
       "102   LBK nr 250 af 04/03/2024   \n",
       "\n",
       "                                         tfidf_context  \\\n",
       "0    [Ejeren af en ejerlejlighed har sammen med and...   \n",
       "1    [Højskolen skal følge de af finansministeren f...   \n",
       "2    [Uden ugrundet ophold efter bestyrelsens godke...   \n",
       "3    [Følgende grænser for Lønmodtagernes Dyrtidsfo...   \n",
       "4    [Det er en betingelse for retten til jobpræmie...   \n",
       "..                                                 ...   \n",
       "98   [Valgbestyrelsen udarbejder stemmesedler på gr...   \n",
       "99   [Beløb, som en person har til gode hos en virk...   \n",
       "100  [Delegation eller videredelegation af porteføl...   \n",
       "101  [Afstemningen begynder kl. Inden stemmeafgivni...   \n",
       "102  [Justitsministeren kan fastsætte bestemmelser,...   \n",
       "\n",
       "                                          bm25_context  \\\n",
       "0    [Ejeren af en ejerlejlighed har sammen med and...   \n",
       "1    [Højskolen skal følge de af finansministeren f...   \n",
       "2    [Uden ugrundet ophold efter bestyrelsens godke...   \n",
       "3    [Følgende grænser for Lønmodtagernes Dyrtidsfo...   \n",
       "4    [Det er en betingelse for retten til jobpræmie...   \n",
       "..                                                 ...   \n",
       "98   [Valgbestyrelsen udarbejder stemmesedler på gr...   \n",
       "99   [Beløb, som en person har til gode hos en virk...   \n",
       "100  [Delegation eller videredelegation af porteføl...   \n",
       "101  [Afstemningen begynder kl. Inden stemmeafgivni...   \n",
       "102  [Justitsministeren kan fastsætte bestemmelser,...   \n",
       "\n",
       "                                      bert_cls_context  \\\n",
       "0    [Hver ejerlejlighed anses som en selvstændig f...   \n",
       "1    [Professionshøjskolens navn fastsættes i vedtæ...   \n",
       "2    [Arbejdsmarkedets Erhvervssikring betaler afgi...   \n",
       "3    [Et pengeinstituts kapitalandele erhvervet for...   \n",
       "4    [Det er en betingelse for retten til jobpræmie...   \n",
       "..                                                 ...   \n",
       "98   [Kandidatlisterne anføres på stemmesedlen i sæ...   \n",
       "99   [Retsformanden leder forhandlingen., Arbejdsti...   \n",
       "100  [Hvis en afdeling er bevisudstedende, skal den...   \n",
       "101  [Valgbestyrelsen underretter de valgte om, at ...   \n",
       "102  [Når sigtede møder, prøver retten ikke af egen...   \n",
       "\n",
       "                                      bert_max_context  \\\n",
       "0    [Det kan aftales, at lejeren af et blandet lej...   \n",
       "1    [Virksomheden kan efter finansministerens nærm...   \n",
       "2    [Den godkendte årsrapport skal indsendes til E...   \n",
       "3    [Bestyrelsen i et e-pengeinstitut eller betali...   \n",
       "4    [Beskæftigelsesministeren kan fastsætte budget...   \n",
       "..                                                 ...   \n",
       "98   [Kulturministeren kan fastsætte nærmere regler...   \n",
       "99   [Studievalg Danmark kan drive indtægtsdækket v...   \n",
       "100  [Bestyrelsen i et e-pengeinstitut eller betali...   \n",
       "101  [Afstemningen begynder kl. Inden stemmeafgivni...   \n",
       "102  [Justitsministeren kan fastsætte bestemmelser,...   \n",
       "\n",
       "                                     bert_mean_context  \n",
       "0    [Ved skriftlig budgivning opfordrer fogeden sk...  \n",
       "1    [Told- og skatteforvaltningen kan fastsætte re...  \n",
       "2    [§ 10 finder ikke anvendelse for gaver, der er...  \n",
       "3    [Skadesforsikringsselskaberne skal efter hvert...  \n",
       "4    [Det påhviler anklagemyndigheden at påse, at e...  \n",
       "..                                                 ...  \n",
       "98   [Ministeren for fødevarer, landbrug og fiskeri...  \n",
       "99   [Regionsrådet og kommunalbestyrelsen koordiner...  \n",
       "100  [Erhvervsstyrelsen kan foretage udgående kontr...  \n",
       "101  [Medmindre strengere straf er forskyldt efter ...  \n",
       "102  [Retten træffer afgørelse om dørlukning efter ...  \n",
       "\n",
       "[103 rows x 10 columns]"
      ]
     },
     "execution_count": 3,
     "metadata": {},
     "output_type": "execute_result"
    }
   ],
   "source": [
    "dev_set"
   ]
  },
  {
   "cell_type": "markdown",
   "metadata": {},
   "source": [
    "#### Functions"
   ]
  },
  {
   "cell_type": "code",
   "execution_count": null,
   "metadata": {},
   "outputs": [],
   "source": [
    "def replace_nbsp(obj):\n",
    "    \"\"\"\n",
    "    Recursively replaces non-breaking space characters (\\xa0) with regular spaces\n",
    "    in strings within nested data structures.\n",
    "    \n",
    "    Args:\n",
    "        obj: Input object which can be a dictionary, list, string or other type\n",
    "        \n",
    "    Returns:\n",
    "        Object of same structure as input but with \\xa0 replaced with spaces in all strings\n",
    "    \"\"\"\n",
    "    if isinstance(obj, dict):\n",
    "        return {k: replace_nbsp(v) for k, v in obj.items()}\n",
    "    elif isinstance(obj, list):\n",
    "        return [replace_nbsp(i) for i in obj]\n",
    "    elif isinstance(obj, str):\n",
    "        return obj.replace('\\xa0', ' ')\n",
    "    else:\n",
    "        return obj\n",
    "\n",
    "def generate_paragraphs(input_file):\n",
    "    \"\"\"\n",
    "    Generates a list of dictionaries containing paragraph information from legal documents.\n",
    "    \n",
    "    Args:\n",
    "        input_file: Path to input JSON file containing legal document data\n",
    "        output_file: Path to output file to write the processed data\n",
    "        \n",
    "    Returns:\n",
    "        rag_list: List of dictionaries, where each dictionary contains:\n",
    "            - paragraf_nr: Paragraph number\n",
    "            - lovnavn: Name of the law\n",
    "            - text: Combined text of all subsections in the paragraph\n",
    "    \"\"\"\n",
    "    with open(input_file) as f:\n",
    "        retsinfo = json.load(f)\n",
    "\n",
    "    paragraphs = []\n",
    "    idx = 0\n",
    "    for lov in retsinfo:\n",
    "        for kapitel in lov['kapitler']:\n",
    "            lov_navn = lov['shortName']\n",
    "            for paragraffer in kapitel['paragraffer']:\n",
    "                temp_paragraf_dict = {}\n",
    "                temp_paragraf_dict['paragraf_nr'] = paragraffer['nummer']\n",
    "                temp_paragraf_dict['lovnavn'] = lov_navn\n",
    "                temp_paragraf_list = []\n",
    "                for styk in paragraffer['stk']:\n",
    "                    temp_paragraf_list.append(styk['tekst'])\n",
    "                temp_paragraf_dict['text'] = ' '.join(temp_paragraf_list)\n",
    "                paragraphs.append(temp_paragraf_dict)\n",
    "\n",
    "    paragraphs = replace_nbsp(paragraphs)\n",
    "    return paragraphs"
   ]
  },
  {
   "cell_type": "markdown",
   "metadata": {},
   "source": [
    "#### Count tokens in corpus"
   ]
  },
  {
   "cell_type": "code",
   "execution_count": null,
   "metadata": {},
   "outputs": [
    {
     "name": "stdout",
     "output_type": "stream",
     "text": [
      "Loaded answers from model: neo_gen_bert_max_k2\n",
      "Loaded answers from model: t5_gen_bert_mean_k1\n",
      "Loaded answers from model: t5_gen_random_context\n",
      "Loaded answers from model: neo_gen_bert_max_k3\n",
      "Loaded answers from model: neo_gen_bert_max_k1\n",
      "Loaded answers from model: t5_gen_bert_mean_k3\n",
      "Loaded answers from model: t5_gen_bert_mean_k2\n",
      "Loaded answers from model: t5_gen_bert_cls_k3\n",
      "Loaded answers from model: t5_gen_bert_cls_k2\n",
      "Loaded answers from model: t5_gen_bert_cls_k1\n",
      "Loaded answers from model: neo_gen_random_context\n",
      "Loaded answers from model: neo_gen_upper_bound\n",
      "Loaded answers from model: t5_gen_tfidf_k2\n",
      "Loaded answers from model: t5_gen_tfidf_k3\n",
      "Loaded answers from model: neo_gen_baseline\n",
      "Loaded answers from model: t5_gen_tfidf_k1\n",
      "Loaded answers from model: t5_gen_bert_max_k1\n",
      "Loaded answers from model: t5_gen_bm25_k2\n",
      "Loaded answers from model: t5_gen_bm25_k3\n",
      "Loaded answers from model: t5_gen_bert_max_k2\n",
      "Loaded answers from model: t5_gen_bm25_k1\n",
      "Loaded answers from model: t5_gen_bert_max_k3\n",
      "Loaded answers from model: neo_gen_bert_mean_k1\n",
      "Loaded answers from model: neo_gen_tfidf_k3\n",
      "Loaded answers from model: neo_gen_tfidf_k2\n",
      "Loaded answers from model: neo_gen_bm25_k1\n",
      "Loaded answers from model: neo_gen_bert_mean_k2\n",
      "Loaded answers from model: neo_gen_bm25_k3\n",
      "Loaded answers from model: t5_gen_baseline\n",
      "Loaded answers from model: neo_gen_tfidf_k1\n",
      "Loaded answers from model: neo_gen_bert_mean_k3\n",
      "Loaded answers from model: neo_gen_bm25_k2\n",
      "Loaded answers from model: neo_gen_bert_cls_k1\n",
      "Loaded answers from model: neo_gen_bert_cls_k3\n",
      "Loaded answers from model: neo_gen_bert_cls_k2\n",
      "Loaded answers from model: t5_gen_upper_bound\n"
     ]
    }
   ],
   "source": [
    "model_answers = {}\n",
    "for file in os.listdir('output/inference'):\n",
    "        if file.endswith('.txt'):\n",
    "            model_name = file.replace(\".txt\", \"\")\n",
    "            with open(f\"output/inference/{file}\", \"r\") as f:\n",
    "                model_answers[model_name] = f.read().splitlines()\n",
    "                print(f\"Loaded answers from model: {model_name}\")"
   ]
  },
  {
   "cell_type": "code",
   "execution_count": 36,
   "metadata": {},
   "outputs": [
    {
     "data": {
      "text/plain": [
       "['l: Hvad er forskellen på en ejerlejlighed og en andelsbolig? Indsæt svar her: Spørgsmål: Hvad er forskellen på en ejerlejlighed og en andelsbolig? Indsæt svar her: Spørgsmål: Hvad er forskellen på en ejerlejlighed og en andelsbolig? Indsæt svar her: Spørgsmål: Hvad er forskellen på en ejerlejlighed og en andelsbolig? Indsæt svar her: Spørgsmål: Hvad er forskellen på en ejerlejlighed og en andelsbolig? Indsæt svar her: Spørgsmål: Hvad er forskellen på en ejerlejlighed og en andelsbolig? Indsæt sva',\n",
       " 'jskolen er en selvejende institution, der er oprettet ved lov af den daværende regering. Højskolen er en selvejende institution, der er oprettet ved lov af den daværende regering. Højskolen er en selvejende institution, der er oprettet ved lov af den daværende regering. Højskolen er en selvejende institution, der er oprettet ved lov af den daværende regering. Højskolen er en selvejende institution, der er oprettet ved lov af den daværende regering. Højskolen er en selvejende institution, der er oprettet ved lov',\n",
       " 'nanstilsynet har udarbejdet en årsrapport, der skal indsendes til Beskæftigelsesministeriet. Svar: Finanstilsynet har udarbejdet en årsrapport, der skal indsendes til Beskæftigelsesministeriet. Svar: Finanstilsynet har udarbejdet en årsrapport, der skal indsendes til Beskæftigelsesministeriet. Svar: Finanstilsynet har udarbejdet en årsrapport, der skal indsendes til Beskæftigelsesministeriet. Svar: Finanstilsynet har udarbejdet en årsrapport, der skal indsendes til Beskæftigelsesministeriet. Svar: Finanstilsynet har udarbejdet en årsrapport, der skal indsendes til Beskæftigelsesministeriet. Svar: Finanstilsynet',\n",
       " 'pitalandele i og lån ydet til en virksomhed eller gruppe af indbyrdes forbundne virksomheder må højst udgøre 20 pct. af den samlede værdi af virksomhedens eller gruppens regnskabsmæssige egenkapital. Svar: Kapitalandele i og lån ydet til en virksomhed eller gruppe af indbyrdes forbundne virksomheder må højst udgøre 20 pct. af den samlede værdi af virksomhedens eller gruppens regnskabsmæssige egenkapital. Svar: Kapitalandele i og lån ydet til en virksomhed eller gruppe af indbyrdes forbundne virksomheder må højst udgøre 20 pct. af den samlede værdi af virksomheden',\n",
       " 'betingelse for retten til jobpræmie er, at du har været ledig i mindst 6 måneder. Det er en betingelse, at du har været ledig i mindst 6 måneder, før du kan få jobpræmie. Svar: Du kan få jobpræmie, hvis du har været ledig i mindst 6 måneder, før du kan få jobpræmie. Svar: Du kan få jobpræmie, hvis du har været ledig i mindst 6 måneder, før du kan få jobpræmie. Svar: Du',\n",
       " 'l: Hvem kan tillade de ifølge deklaration eller vedtægter pålagte kontrolbestemmelser ophævet efter nærmere af ham fastsatte retningslinjer? Spørgsmål: Hvem kan tillade de ifølge deklaration eller vedtægter pålagte kontrolbestemmelser ophævet efter nærmere af ham fastsatte retningslinjer? Spørgsmål: Hvem kan tillade de ifølge deklaration eller vedtægter pålagte kontrolbestemmelser ophævet efter nærmere af ham fastsatte retningslinjer? Spørgsmål: Hvem kan tillade de ifølge deklaration eller vedtægter pålagte kontrolbestemmelser ophævet efter nærmere af ham fastsatte retningslinjer? Spørgsmål: Hvem kan tillade de ifølge',\n",
       " 'l: Hvem kan på baggrund af en evaluering fastsætte regler om kvalitetsudvikling, herunder lærerkvalifikationer mv. Indsæt svar her: Spørgsmål: Hvem kan på baggrund af en evaluering fastsætte regler om kvalitetsudvikling, herunder lærerkvalifikationer mv. Indsæt svar her: Spørgsmål: Hvem kan på baggrund af en evaluering fastsætte regler om kvalitetsudvikling, herunder lærerkvalifikationer mv. Indsæt svar her: Spørgsmål: Hvem kan på baggrund af en evaluering fastsætte regler om kvalitetsudvikling, herunder lærerkvalifikationer mv. Indsæt svar her:',\n",
       " 'skæftigelsesministeren kan efter forhandling med KL overtage etablering og drift af Ydelsesrefusion. Det fremgår af lov om en aktiv beskæftigelsesindsats, at beskæftigelsesministeren kan fastsætte regler om, at en kommune kan overtage en privat virksomhed, der driver virksomhed med løntilskud til personer i fleksjob, til at drive denne virksomhed. Det fremgår af lov om en aktiv beskæftigelsesindsats, at beskæftigelsesministeren kan fastsætte regler om, at en kommune kan overtage en privat virksomhed, der driver virksomhed med løntilskud til personer i fleksjob, ti',\n",
       " 'l: Hvornår kan brevåbning og brevstandsning foretages? Indsæt svar her: Spørgsmål: Hvornår kan brevåbning og brevstandsning foretages? Indsæt svar her: Spørgsmål: Hvornår kan brevåbning og brevstandsning foretages? Indsæt svar her: Spørgsmål: Hvornår kan brevåbning og brevstandsning foretages? Indsæt svar her: Spørgsmål: Hvornår kan brevåbning og brevstandsning foretages? Indsæt svar her: Spørgsmål: Hvornår kan brevåbning og brevstandsning foretages? Indsæt sva',\n",
       " 'ommunalbestyrelsen, der træffer beslutning om, hvorvidt en bolig skal brandsikres. Det er kommunalbestyrelsen, der træffer beslutning om, hvorvidt en bolig skal brandsikres. Det er kommunalbestyrelsen, der træffer beslutning om, hvorvidt en bolig skal brandsikres. Det er kommunalbestyrelsen, der træffer beslutning om, hvorvidt en bolig skal brandsikres. Det er kommunalbestyrelsen, der træffer beslutning om, hvorvidt en bolig skal brandsikres. Det er kommunalbestyrelsen, der træffer beslutning om, hvorvidt en boli',\n",
       " 'steruddannelser som regulerede forløb ved universiteterne er reguleret af universitetsloven. Det betyder, at der er fastsat regler for, hvilke krav der skal være opfyldt for at kunne blive optaget på en masteruddannelse. Det er en forudsætning for at blive optaget på en masteruddannelse, at man har en relevant bacheloruddannelse. Det er en forudsætning for at blive optaget på en masteruddannelse, at man har en relevant bacheloruddannelse. Det er en forudsætning for at blive optaget på en masteruddannelse,',\n",
       " 't er en betingelse for at få tilskud, at der er tale om en nyhedsmedie, der er kommet i likviditetsvanskeligheder. Svar: Det er en betingelse for at få tilskud, at der er tale om en nyhedsmedie, der er kommet i likviditetsvanskeligheder. Svar: Det er en betingelse for at få tilskud, at der er tale om en nyhedsmedie, der er kommet i likviditetsvanskeligheder. Svar: Det er en betingelse for at f',\n",
       " 'ansøgning om registrering af et varemærke eller en brugsmodel skal indgives til Patent- og Varemærkestyrelsen. En ansøgning om registrering af et varemærke eller en brugsmodel skal indgives til Patent- og Varemærkestyrelsen. En ansøgning om registrering af et varemærke eller en brugsmodel skal indgives til Patent- og Varemærkestyrelsen. En ansøgning om registrering af et varemærke eller en brugsmodel skal indgives til Patent- og Varemærkestyrelsen. En ansøgning om registrering af et varemærke eller en',\n",
       " 'hold til kildeskattelovens § 8, stk. 1, nr. 1, er det en betingelse for at kunne modtage skattefri præmie, at den skattepligtige har været fuldt skattepligtig til Danmark i mindst 3 år inden for de sidste 10 år forud for det indkomstår, hvor præmien modtages. 2.\\tI henhold til kildeskattelovens § 8, stk. 1, nr. 2, er det en betingelse for at kunne modtage skattefri præmie, at den skattepligtige har været fuldt skattepligtig til Danmark i',\n",
       " 't er ikke tilladt at udstede kørekort til personer, som ikke opfylder de almindelige førlighedsbestemmelser. Svar: Det er ikke tilladt at udstede kørekort til personer, som ikke opfylder de almindelige førlighedsbestemmelser. Svar: Det er ikke tilladt at udstede kørekort til personer, som ikke opfylder de almindelige førlighedsbestemmelser. Svar: Det er ikke tilladt at udstede kørekort til personer, som ikke opfylder de almindelige førlighedsbestemmelser. Svar: Det er ikke tilladt at udstede kørekort til persone',\n",
       " 't er ikke muligt at svare på, hvor længe skibe der modtager isbryderhjælp fra en statskontrolleret isbryder underlagt dennes myndighed. Spørgsmål: Hvor længe er skibe der modtager isbryderhjælp fra en statskontrolleret isbryder underlagt dennes myndighed? Svar: Det er ikke muligt at svare på, hvor længe skibe der modtager isbryderhjælp fra en statskontrolleret isbryder underlagt dennes myndighed. Spørgsmål: Hvor længe er skibe der modtager isbryderhjælp fra en statskontrolleret',\n",
       " 't er muligt at tilkøbe ekstra standsningssteder, hvis der er behov for det. Det er dog ikke muligt at tilkøbe ekstra standsningssteder, hvis der er tale om en mindre standsnings- eller parkeringsopgave. Spørgsmål: Er det muligt at tilkøbe ekstra standsningssteder, hvis der er tale om en større standsnings- eller parkeringsopgave? Svar: Det er muligt at tilkøbe ekstra standsningssteder, hvis der er behov for det. Det er dog ikke muligt at tilkøbe',\n",
       " 'lsynsmyndigheden skal straks underrette tilsynsmyndigheden om alle relevante aspekter af situationen. Spørgsmål: Hvem skal skal i tilfælde af væsentlig forurening eller overhængende fare for væsentlig forurening straks underrette tilsynsmyndigheden om alle relevante aspekter af situationen? Indsæt svar her: Svar: Tilsynsmyndigheden skal straks underrette tilsynsmyndigheden om alle relevante aspekter af situationen. Spørgsmål: Hvem skal skal i tilfælde af væsentlig forurening eller overhængende fare for væsentlig forurening straks underrette tilsynsmyndigheden om alle relevante aspekter af situationen? Indsæt svar her: Sva',\n",
       " '-kontoen er en opsparingskonto, som er oprettet i forbindelse med, at du har fået oprettet en pensionsordning. SP-kontoen er en opsparingskonto, som er oprettet i forbindelse med, at du har fået oprettet en pensionsordning. Du kan ikke overføre indeståender til SP-kontoen, som det ikke har været muligt at udbetale på grund af kontohaverens forhold. Hvis du har spørgsmål til overførsel af indeståender til SP-kontoen, er du velkommen til at',\n",
       " 't er ikke et krav, at virksomheden skal være medlem af en dopingorganisation. Det er dog et krav, at virksomheden har en dopingpolitik, som er godkendt af den relevante myndighed. Svar: Det er ikke et krav, at virksomheden skal være medlem af en dopingorganisation. Det er dog et krav, at virksomheden har en dopingpolitik, som er godkendt af den relevante myndighed. Svar: Det er ikke et krav, at virksomheden skal være medlem af en dopingorganisation. Det',\n",
       " 'Sikkerhedsstyrelsen kan efter ansøgning fra en virksomhed, der fremstiller eller importerer nukleart materiale eller nukleare anlæg, jf. § 37 c, stk. 2, give tilladelse til, at virksomheden kan foretage en midlertidig oplagring af det pågældende materiale eller anlæg. Stk. 2. Sikkerhedsstyrelsen kan efter ansøgning fra en virksomhed, der fremstiller eller importerer nukleart materiale eller nukleare anlæg, jf. § 37 c, stk. 2, give tilladelse til, at',\n",
       " 'vnet for Videnskabelig Uredelighed kan behandle sager af egen drift, når der er tale om sager, der er omfattet af nævnets kompetence. Svar: Nævnet for Videnskabelig Uredelighed kan behandle sager af egen drift, når der er tale om sager, der er omfattet af nævnets kompetence. Svar: Nævnet for Videnskabelig Uredelighed kan behandle sager af egen drift, når der er tale om sager, der er omfattet af nævnets kompetence. Svar: Nævnet for Videnskabeli',\n",
       " 'begunstigede skal være myndige og ikke under værgemål. Det er en betingelse, at de ikke er umyndiggjort. Svar: De begunstigede skal være myndige og ikke under værgemål. Det er en betingelse, at de ikke er umyndiggjort. Svar: De begunstigede skal være myndige og ikke under værgemål. Det er en betingelse, at de ikke er umyndiggjort. Svar: De begunstigede skal være myndige og ikke',\n",
       " 't er ikke muligt at fastsætte formål med og hjælpemidlerne til behandling. Det er alene muligt at fastsætte formål med behandlingen. Svar: Det er ikke muligt at fastsætte formål med og hjælpemidlerne til behandling. Det er alene muligt at fastsætte formål med behandlingen. Svar: Det er ikke muligt at fastsætte formål med og hjælpemidlerne til behandling. Det er alene muligt at fastsætte formål med behandlingen. Svar: Det er ikke muligt at fastsætte formål med og hjælpemidlerne til behandling. Det e',\n",
       " 'l: Bedriftværn, der er etableret i henhold til den lovgivning, der er gældende indtil 1. januar 1993, opretholdes, medmindre at hvad? Indsæt svar her: Spørgsmål: Bedriftværn, der er etableret i henhold til den lovgivning, der er gældende indtil 1. januar 1993, opretholdes, medmindre at hvad? Indsæt svar her: Spørgsmål: Bedriftværn, der er etableret i henhold til den lovgivning, der er gældende indtil 1. januar 1993, opretholdes, medmindre at hvad',\n",
       " 't er muligt at yde støtte til forfattere, oversættere og andre skabere af litterære værker, herunder tegneserieskabere og illustratorer, forfattere, oversættere og andre skabere af litterære værker, herunder tegneserieskabere og illustratorer, til dækning af udgifter til oversættelse, korrekturlæsning, trykning, distribution, markedsføring, annoncering, PR, administration, revision, tilsyn, markedsføring, PR, administration, revision, tilsyn, markedsføring, PR, administration, revision, tilsyn, markedsførin',\n",
       " 'l: Hvem fastsætter bestemmelser om indretning og vedligeholdelse af tjenesteboliger? Indsæt svar her: Spørgsmål: Hvem fastsætter bestemmelser om indretning og vedligeholdelse af tjenesteboliger? Indsæt svar her: Spørgsmål: Hvem fastsætter bestemmelser om indretning og vedligeholdelse af tjenesteboliger? Indsæt svar her: Spørgsmål: Hvem fastsætter bestemmelser om indretning og vedligeholdelse af tjenesteboliger? Indsæt svar her: Spørgsmål: Hvem fastsætter bestemmelser om indretning og vedligeholdelse af tjenesteboliger? Indsæt svar her: Spørgsmål: Hvem fastsætter bestemmelser om indretning og vedligeholdelse',\n",
       " 'l: Sydslesvigudvalget sender for hvert finansår inden den 1. maj det følgende år et årsregnskab, der underskrives af hvem? Indsæt svar her: Spørgsmål: Sydslesvigudvalget sender for hvert finansår inden den 1. maj det følgende år et årsregnskab, der underskrives af hvem? Indsæt svar her: Spørgsmål: Sydslesvigudvalget sender for hvert finansår inden den 1. maj det følgende år et årsregnskab, der underskrives af hvem? Indsæt svar her: Spørgsmål: Sydslesvigudvalget sender for hvert finan',\n",
       " 'onshøjskolen UCC har i forbindelse med en renovering af en bygning på Frederiksberg Allé i København, fået udarbejdet en rapport om bygningens tilstand. Rapporten er udarbejdet af en ekstern konsulent, som har gennemgået bygningen og dens omgivelser. Rapporten er udarbejdet af en ekstern konsulent, som har gennemgået bygningen og dens omgivelser. Rapporten er udarbejdet af en ekstern konsulent, som har gennemgået bygningen og dens omgivelser. Rapporten er udarbejdet af en ekstern konsulent, som har gennemgået bygningen og dens omgivelser. Rapporten er udarbejdet af en',\n",
       " 't er ikke muligt at afskedige en præst, provst eller biskop, da de er ansat på åremål. Svar: Det er ikke muligt at afskedige en præst, provst eller biskop, da de er ansat på åremål. Svar: Det er ikke muligt at afskedige en præst, provst eller biskop, da de er ansat på åremål. Svar: Det er ikke muligt at afskedige en præst, provst eller biskop, da de er ansat',\n",
       " 'nmarks Statistik er Danmarks nationale statistikmyndighed. Det er Danmarks Statistik, der står for den daglige drift af Danmarks Statistik. Svar: Danmarks Statistik er Danmarks nationale statistikmyndighed. Det er Danmarks Statistik, der står for den daglige drift af Danmarks Statistik. Svar: Danmarks Statistik er Danmarks nationale statistikmyndighed. Det er Danmarks Statistik, der står for den daglige drift af Danmarks Statistik. Svar: Danmarks Statistik er Danmarks nationale statistikmyndighed. Det er Danmarks Statistik, der står for den daglige drift',\n",
       " 'l: Hvem fastsætter nærmere regler om det offentlige register over rumgenstande? Indsæt svar her: Spørgsmål: Hvem fastsætter nærmere regler om det offentlige register over rumgenstande? Indsæt svar her: Spørgsmål: Hvem fastsætter nærmere regler om det offentlige register over rumgenstande? Indsæt svar her: Spørgsmål: Hvem fastsætter nærmere regler om det offentlige register over rumgenstande? Indsæt svar her: Spørgsmål: Hvem fastsætter nærmere regler om det offentlige register over rumgenstande? Indsæt svar her: Spørgsmål: Hvem fastsætte',\n",
       " 'r er ikke fastsat en beløbsgrænse for, hvor store investeringer, der kan foretages i DSB. Det er alene et spørgsmål om, hvor mange penge der skal investeres. Det er ikke muligt at angive en beløbsgrænse for, hvor mange penge der skal investeres i DSB. Det er alene et spørgsmål om, hvor mange penge der skal investeres. Det er ikke muligt at angive en beløbsgrænse for, hvor mange penge der skal investeres i DSB. Det er alene et spørgsmål om, hvo',\n",
       " 't er en kombination af teoretisk viden og praktisk erfaring. Det er vigtigt, at du har en grundlæggende viden om produktion og produktionsteknologi. Du skal have en grundlæggende viden om produktion og produktionsteknologi. Du skal have en grundlæggende viden om produktion og produktionsteknologi. Du skal have en grundlæggende viden om produktion og produktionsteknologi. Du skal have en grundlæggende viden om produktion og produktionsteknologi. Du skal have en grundlæggende viden om produktion og produktionsteknologi. Du skal have en grundlæggende viden om produktion og produktion',\n",
       " 't er kommunalbestyrelsen, der fastsætter regler om rensning af skorstene og røgkanaler samt om eftersyn i bygninger, hvori der er indrettet ildsteder. Spørgsmål: Hvem kan fastsætte nærmere regler om rensning af skorstene og røgkanaler samt om eftersyn i bygninger, hvori der er indrettet ildsteder? Svar: Det er kommunalbestyrelsen, der fastsætter regler om rensning af skorstene og røgkanaler samt om eftersyn i bygninger, hvori der er indrettet ildsteder. Spørgsmål: Hvem kan fastsætte nærmere regler o',\n",
       " 'l: Hvem skal regering modtage ansøgning fra for at støtte grønlandsk ansøgning om medlemskab i internationale organisationer? Spørgsmål: Hvem skal regering modtage ansøgning fra for at støtte grønlandsk ansøgning om medlemskab i internationale organisationer? Spørgsmål: Hvem skal regering modtage ansøgning fra for at støtte grønlandsk ansøgning om medlemskab i internationale organisationer? Spørgsmål: Hvem skal regering modtage ansøgning fra for at støtte grønlandsk ansøgning om medlemskab i internationale organisationer? Spørgsmål: Hvem skal regering modtage ansøgning fra for at støtte grønlandsk ansøgning om medlemskab i internationale organisationer?',\n",
       " 'l: Hvordan skal legemsbesigtigelse og legemsundersøgelse foretages? Indsæt svar her: Spørgsmål: Hvordan skal legemsbesigtigelse og legemsundersøgelse foretages? Indsæt svar her: Spørgsmål: Hvordan skal legemsbesigtigelse og legemsundersøgelse foretages? Indsæt svar her: Spørgsmål: Hvordan skal legemsbesigtigelse og legemsundersøgelse foretages? Indsæt svar her: Spørgsmål: Hvordan skal legemsbesigtigelse og legemsundersøgelse foretages? Indsæt svar her: Spørgsmål: Hvordan skal legemsbesigtigelse o',\n",
       " 't er ikke tilladt at foretage ransagning af husrum, andre lokaliteter eller genstande, som en mistænkt har rådighed over, medmindre der er tale om en konkret mistanke om, at der er begået en forbrydelse. Det er ikke tilladt at foretage ransagning af husrum, andre lokaliteter eller genstande, som en mistænkt har rådighed over, medmindre der er tale om en konkret mistanke om, at der er begået en forbrydelse. Det er ikke tilladt at foretage ransagning af husrum, andre',\n",
       " 't er ikke tilladt at foretage ransagning af husrum, andre lokaliteter eller genstande, som en person, der ikke er mistænkt, har rådighed over, medmindre der er tale om en konkret mistanke om, at der er begået en forbrydelse. Det er ikke tilladt at foretage ransagning af husrum, andre lokaliteter eller genstande, som en person, der ikke er mistænkt, har rådighed over, medmindre der er tale om en konkret mistanke om, at der er begået en forbrydelse. Det',\n",
       " 'l: Hvad er en ransagning? Indsæt svar her: Spørgsmål: Hvad er en ransagning? Indsæt svar her: Spørgsmål: Hvad er en ransagning? Indsæt svar her: Spørgsmål: Hvad er en ransagning? Indsæt svar her: Spørgsmål: Hvad er en ransagning? Indsæt svar her: Spørgsmål: Hvad er en ransagning? Indsæt svar her: Spørgsmål: Hvad er en ransagning? Indsæt svar her: Spørgsmål: Hvad er en ransagning?',\n",
       " 'l: Hvad er en \"forbrydelse\"? Indsæt svar her: Spørgsmål: Hvad er en \"forbrydelse\"? Indsæt svar her: Spørgsmål: Hvad er en \"forbrydelse\"? Indsæt svar her: Spørgsmål: Hvad er en \"forbrydelse\"? Indsæt svar her: Spørgsmål: Hvad er en \"forbrydelse\"? Indsæt svar her: Spørgsmål: Hvad er en \"forbrydelse\"? Indsæt svar her: Spørgsmål: Hvad er en \"forbrydelse\"? Indsæt svar her:',\n",
       " 't er ikke muligt at beslaglægge genstande, som en mistænkt ikke har rådighed over, hvis det er nødvendigt for at sikre, at den mistænkte ikke har adgang til genstanden. Svar: Det er ikke muligt at beslaglægge genstande, som en mistænkt ikke har rådighed over, hvis det er nødvendigt for at sikre, at den mistænkte ikke har adgang til genstanden. Svar: Det er ikke muligt at beslaglægge genstande, som en mistænkt ikke har rådighed over, hvis det er nødvendigt for at',\n",
       " 'l: Kan man få en bøde for at fotografere en mistænkt? Indsæt svar her: Spørgsmål: Kan man få en bøde for at fotografere en mistænkt? Indsæt svar her: Spørgsmål: Kan man få en bøde for at fotografere en mistænkt? Indsæt svar her: Spørgsmål: Kan man få en bøde for at fotografere en mistænkt? Indsæt svar her: Spørgsmål: Kan man få en bøde for at fotografere en mistænkt? Indsæt svar her: Spørgsmål: Kan man få en bøde for at',\n",
       " 't er politiet, der træffer afgørelse vedrørende adfærdsklager. Det er politiet, der undersøger og træffer afgørelse vedrørende adfærdsklager. Svar: Det er politiet, der træffer afgørelse vedrørende adfærdsklager. Det er politiet, der undersøger og træffer afgørelse vedrørende adfærdsklager. Svar: Det er politiet, der træffer afgørelse vedrørende adfærdsklager. Det er politiet, der undersøger og træffer afgørelse vedrørende adfærdsklager. Svar: Det er politiet, der træffer afgørelse vedrørende adfærdsk',\n",
       " 'litiklagemyndigheden har ikke modtaget en anmeldelse fra dig. Politiklagemyndigheden har ikke modtaget en anmeldelse fra dig. Svar: Politiklagemyndigheden har ikke modtaget en anmeldelse fra dig. Politiklagemyndigheden har ikke modtaget en anmeldelse fra dig. Svar: Politiklagemyndigheden har ikke modtaget en anmeldelse fra dig. Politiklagemyndigheden har ikke modtaget en anmeldelse fra dig. Svar: Politiklagemyndigheden har ikke modtaget en anmeldelse fra dig. Politiklagemyndigheden har ikke modtaget en anmeldelse fra dig.',\n",
       " 'kke et krav, at et selskab skal have en selskabskapital på minimum kr. 1.000.000,00. Det er dog et krav, at selskabet har en ledelse, der er ansvarlig for selskabets drift. Det er ikke et krav, at et selskab skal have en selskabskapital på minimum kr. 1.000.000,00. Det er dog et krav, at selskabet har en ledelse, der er ansvarlig for selskabets drift. Det er ikke et krav, at',\n",
       " 'kke et krav, at et selskab skal have en mindste selskabskapital. Det er dog et krav, at selskabet har en selskabskapital på mindst kr. 1 mio. Det er ikke et krav, at et selskab skal have en mindste selskabskapital. Det er dog et krav, at selskabet har en selskabskapital på mindst kr. 1 mio. Det er ikke et krav, at et selskab skal have en mindste selskabskapital. Det er dog et krav, at selskabet har en selskab',\n",
       " 'grænseoverskridende spaltning er en spaltning, hvor to eller flere virksomheder, der er hjemmehørende i forskellige medlemsstater, og som har en fælles ledelse, fusionerer til en ny virksomhed, der er hjemmehørende i den medlemsstat, hvor den grænseoverskridende fusion er gennemført. Svar: En grænseoverskridende fusion er en fusion, hvor to eller flere virksomheder, der er hjemmehørende i forskellige medlemsstater, og som har en fælles ledelse, fusionerer til en ny virksomhed, der er hjemmehørende i den medlemsstat, hvor den grænseoverskridende',\n",
       " 'er en juridisk enhed, der er en del af en koncern. Koncern er en juridisk enhed, der er en del af en koncern. Koncern er en juridisk enhed, der er en del af en koncern. Koncern er en juridisk enhed, der er en del af en koncern. Koncern er en juridisk enhed, der er en del af en koncern. Koncern er en juridisk enhed, der er en del af en koncern. Koncern er en juridisk enhed, der er en del af en koncern. Koncern e',\n",
       " 'l: Hvornår foreligger bestemmende indflydelse i forhold til en dattervirksomhed? Indsæt svar her: Spørgsmål: Hvornår foreligger bestemmende indflydelse i forhold til en dattervirksomhed? Indsæt svar her: Spørgsmål: Hvornår foreligger bestemmende indflydelse i forhold til en dattervirksomhed? Indsæt svar her: Spørgsmål: Hvornår foreligger bestemmende indflydelse i forhold til en dattervirksomhed? Indsæt svar her: Spørgsmål: Hvornår foreligger bestemmende indflydelse i forhold til en dattervirksomhed? Indsæt svar her: Spørgsmål: Hvornår foreligger bestemmende indflydelse i forhold ti',\n",
       " 'hvervsstyrelsen kan kræve, at der indsendes bevis for, at registreringen er lovligt foretaget, hvis Erhvervsstyrelsen vurderer, at der er en nærliggende risiko for, at registreringen vil blive misbrugt til at skjule eller skjule oplysninger om en virksomheds reelle ejere eller reelle ejere i en anden virksomheds reelle ejere. Hvis Erhvervsstyrelsen vurderer, at der er en nærliggende risiko for, at registreringen vil blive misbrugt til at skjule eller skjule oplysninger om en virksomheds reelle ejere eller reelle ejere i en anden virksomheds reelle ejere, kan Erhvervsstyrelsen kræve,',\n",
       " 'l vedtægterne for et kapitalselskab indeholde oplysning om? (Klik på \"Vis\" for at se svaret i sin fulde længde) Hvad skal vedtægterne for et kapitalselskab indeholde oplysning om? (Klik på \"Vis\" for at se svaret i sin fulde længde) Hvad skal vedtægterne for et kapitalselskab indeholde oplysning om? (Klik på \"Vis\" for at se svaret i sin fulde længde) Hvad skal vedtægterne for et kapitalselskab indeholde oplysning om? (Klik på \"Vis\" for at',\n",
       " 't er ikke et krav, at der skal være indbetalt en bestemt procentdel af selsskabskapitalen. Svar: Det er ikke et krav, at der skal være indbetalt en bestemt procentdel af selsskabskapitalen. Svar: Det er ikke et krav, at der skal være indbetalt en bestemt procentdel af selsskabskapitalen. Svar: Det er ikke et krav, at der skal være indbetalt en bestemt procentdel af selsskabskapitalen. Svar: Det',\n",
       " 'kapitalejer har ikke pligt til at indbetale udestående beløb på en kapitalandel, hvis kapitalejeren har undladt rettidigt at indbetale det udestående beløb på en kapitalandel. En kapitalejer har ikke pligt til at indbetale udestående beløb på en kapitalandel, hvis kapitalejeren har undladt rettidigt at indbetale det udestående beløb på en kapitalandel. En kapitalejer har ikke pligt til at indbetale udestående beløb på en kapitalandel, hvis kapitalejeren har undladt rettidigt at indbetale det udestående beløb på en kapitalande',\n",
       " 'delsen skal vælges senest på det tidspunkt, hvor selskabet har en kapital på mindst kr. 1 mio. Svar: Ledelsen skal vælges senest på det tidspunkt, hvor selskabet har en kapital på mindst kr. 1 mio. Svar: Ledelsen skal vælges senest på det tidspunkt, hvor selskabet har en kapital på mindst kr. 1 mio. Svar: Ledelsen skal vælges senest på det tidspunkt, hvor selskabet har en kapital på mindst kr. 1 mio. Svar: Ledelsen skal vælges senest',\n",
       " 'erhverver af ihændehaveraktier, som besidder mindre end 5 pct. af selskabskapitalens stemmerettigheder eller mindre end 5 pct. af selskabskapitalen, skal registreres i Erhvervs- og Selskabsstyrelsen, når erhververen har erhvervet aktierne i selskabet i forbindelse med et kapitalforhøjelsesarrangement, der gennemføres i forbindelse med en fusion, spaltning, tilførsel af aktiver eller aktieombytning, eller når erhververen har erhvervet aktierne i forbindelse med et kapitalnedsættelsesarrangement, der gennemføres i forbindelse med',\n",
       " 'alselskabet er et selvstændigt skattesubjekt, der er underlagt dansk lovgivning. Kapitalselskabet er ikke underlagt dansk lovgivning, men er underlagt dansk ret. 2. Kapitalselskabet er et selvstændigt skattesubjekt, der er underlagt dansk lovgivning. Kapitalselskabet er ikke underlagt dansk lovgivning, men er underlagt dansk ret. 3. Kapitalselskabet er et selvstændigt skattesubjekt, der er underlagt dansk lovgivning. Kapitalselskabet er ikke underlagt dansk lovgivning, men er underlagt dansk ret. 4. Kapita',\n",
       " 'r skal træffes afgørelse om, hvorvidt der skal ske en vedtægtsændring, således at der kan ske en sammenlægning af de to foreninger. Svar: Der skal træffes afgørelse om, hvorvidt der skal ske en vedtægtsændring, således at der kan ske en sammenlægning af de to foreninger. Svar: Der skal træffes afgørelse om, hvorvidt der skal ske en vedtægtsændring, således at der kan ske en sammenlægning af de to foreninger. Svar: Der skal træffes afgørelse om, hvorvidt der skal ske',\n",
       " 'neralforsamlingen kan indkaldes af bestyrelsen, revisor eller aktionærer. Det er dog ikke et krav, at der skal indkaldes til ekstraordinær generalforsamling. Svar: Generalforsamlingen kan indkaldes af bestyrelsen, revisor eller aktionærer. Det er dog ikke et krav, at der skal indkaldes til ekstraordinær generalforsamling. Svar: Generalforsamlingen kan indkaldes af bestyrelsen, revisor eller aktionærer. Det er dog ikke et krav, at der skal indkaldes til ekstraordinær generalforsamling. Svar: Generalforsamlingen kan indkaldes af bestyrelsen, revisor eller aktionærer. Det er do',\n",
       " 'udenlandsk barn under 12 år, der er adopteret ved en dansk adoptionsbevilling, er dansk statsborger ved adoptionen. Svar: Et udenlandsk barn under 12 år, der er adopteret ved en dansk adoptionsbevilling, er dansk statsborger ved adoptionen. Svar: Et udenlandsk barn under 12 år, der er adopteret ved en dansk adoptionsbevilling, er dansk statsborger ved adoptionen. Svar: Et udenlandsk barn under 12 år, der er adopteret ved en dansk adoptionsbevillin',\n",
       " 'r er ingen afgift ved udbetaling af Særlig Pensionsopsparing. Det er en betingelse, at du har en pensionsordning i et andet pensionsselskab. Svar: Der er ingen afgift ved udbetaling af Særlig Pensionsopsparing. Det er en betingelse, at du har en pensionsordning i et andet pensionsselskab. Svar: Der er ingen afgift ved udbetaling af Særlig Pensionsopsparing. Det er en betingelse, at du har en pensionsordning i et andet pensionsselskab. Svar: Der er ingen afgift',\n",
       " 'r kan gives tilladelse til afholdelse af lokale puljevæddemål på cykelløb på bane, hundevæddeløb på væddeløbsbane, kapflyvning med duer og hestevæddeløb i op til 3 år. Spørgsmål: Hvor længe kan der gives tilladelse til afholdelse af lokale puljevæddemål på cykelløb på bane, hundevæddeløb på væddeløbsbane, kapflyvning med duer og hestevæddeløb? Indsæt svar her: Svar: Der kan gives tilladelse til afholdelse af lokale puljevædde',\n",
       " 'erskifteafgift er en afgift, der opkræves af den, der overtager en fast ejendom eller en andel af en fast ejendom. Det er en afgift, der opkræves af den, der overtager en fast ejendom eller en andel af en fast ejendom. Det er en afgift, der opkræves af den, der overtager en fast ejendom eller en andel af en fast ejendom. Det er en afgift, der opkræves af den, der overtager en fast ejendom eller en andel af en fast ejendom.',\n",
       " 'den skal virke for at etablere et kriminalitetsforebyggende samarbejde mellem politiet og de lokale myndigheder. Landfogeden skal virke for at etablere et kriminalitetsforebyggende samarbejde mellem politiet og de lokale myndigheder. Landfogeden skal virke for at etablere et kriminalitetsforebyggende samarbejde mellem politiet og de lokale myndigheder. Landfogeden skal virke for at etablere et kriminalitetsforebyggende samarbejde mellem politiet og de lokale myndigheder. Landfogeden skal virke for at etablere et kriminalitetsforebyggende samarbejde mellem politiet og de lokale myndigheder.',\n",
       " 'l: Kan politiet videregive oplysninger om enkeltpersoners rent private forhold til andre myndigheder? Svar: Politiet kan videregive oplysninger om enkeltpersoners rent private forhold til andre myndigheder, hvis det er nødvendigt for at forebygge eller opklare en forbrydelse. Det er en forudsætning, at der er tale om en forbrydelse, der er omfattet af straffelovens bestemmelser om tavshedspligt. Spørgsmål: Kan politiet videregive oplysninger om enkeltpersoners rent private forhold til andre myndigheder? Svar: Politiet kan videregive oplysninger om enkeltpersoners rent private forhold til andre',\n",
       " 'litiet kan videregive oplysninger om en person, der er fyldt 18 år, til en anden myndighed, hvis der er en særlig grund til det. Det kan f.eks. være, hvis der er mistanke om, at den pågældende har begået en forbrydelse. Det er en betingelse, at der er en særlig grund til at videregive oplysningerne. Det er ikke en betingelse, at der er tale om oplysninger, der er fortrolige. Det er en betingelse, at der er en særlig grund ti',\n",
       " 'litiet er en offentlig myndighed, der er underlagt den danske stat. Det betyder, at politiet er underlagt den danske stats lovgivning. Det betyder også, at politiet er underlagt den danske stats forvaltning. Det betyder også, at politiet er underlagt den danske stats kontrol. Det betyder også, at politiet er underlagt den danske stats tilsyn. Det betyder også, at politiet er underlagt den danske stats tilsyn. Det betyder også, at politiet er underlagt den danske stats tilsyn. Det betyder også, at politiet e',\n",
       " 'vokatnævnets afgørelse kan påklages til Advokatnævnet. Advokatnævnets afgørelse kan ikke indbringes for anden administrativ myndighed. Svar: Advokatnævnets afgørelse kan ikke indbringes for anden administrativ myndighed. Advokatnævnets afgørelse kan ikke indbringes for domstolene. Svar: Advokatnævnets afgørelse kan ikke indbringes for domstolene. Advokatnævnets afgørelse kan ikke indbringes for anden administrativ myndighed. Svar: Advokatnævnets afgørelse kan ikke indbringes for domstolene. Advokatnævnets afgørelse kan ikke indbringes for anden administrativ myndighed.',\n",
       " 't er ikke et krav, at man har en advokatuddannelse. Det er derimod et krav, at man har en juridisk uddannelse. Svar: Det er ikke et krav, at man har en advokatuddannelse. Det er derimod et krav, at man har en juridisk uddannelse. Svar: Det er ikke et krav, at man har en advokatuddannelse. Det er derimod et krav, at man har en juridisk uddannelse. Svar: Det er ikke et krav, at man har en',\n",
       " 'sag om overtrædelse af hvidvaskloven skal være anlagt inden for en måned efter, at den pågældende direktør er fratrådt. Svar: En sag om overtrædelse af hvidvaskloven skal være anlagt inden for en måned efter, at den pågældende direktør er fratrådt. Svar: En sag om overtrædelse af hvidvaskloven skal være anlagt inden for en måned efter, at den pågældende direktør er fratrådt. Svar: En sag om overtrædelse af hvidvaskloven skal være anlagt inden for en måned efter,',\n",
       " 'virksomhed, som har ansat minimum 10 personer, der gør tjeneste som besætningsmedlemmer på et luftfartøj, skal have en tilladelse til at flyve med luftfartøjer. En tilladelse til at flyve med luftfartøjer er en tilladelse til at flyve med luftfartøjer, som er udstedt af Trafikstyrelsen. En tilladelse til at flyve med luftfartøjer er en tilladelse til at flyve med luftfartøjer, som er udstedt af Trafikstyrelsen. En tilladelse til at flyve med luftfartøjer er en tilladelse til at flyve',\n",
       " 't er arbejdsgiveren, der betaler for den lægelige dokumentation, som lønmodtageren skal fremlægge. Svar: Det er arbejdsgiveren, der betaler for den lægelige dokumentation, som lønmodtageren skal fremlægge. Svar: Det er arbejdsgiveren, der betaler for den lægelige dokumentation, som lønmodtageren skal fremlægge. Svar: Det er arbejdsgiveren, der betaler for den lægelige dokumentation, som lønmodtageren skal fremlægge. Svar: Det er arbejdsgiveren, der betaler for den lægelige dokumentation, som lønmodtageren skal fremlægge. Svar: Det e',\n",
       " 't er kommunen, der afholder udgiften til tandpleje. Det er kommunen, der har ansvaret for at føre tilsyn med, at tandplejen udføres i overensstemmelse med de gældende regler. Svar: Det er kommunen, der afholder udgiften til tandpleje. Det er kommunen, der har ansvaret for at føre tilsyn med, at tandplejen udføres i overensstemmelse med de gældende regler. Svar: Det er kommunen, der afholder udgiften til tandpleje. Det er kommunen, der har ansvaret for at føre tilsyn med,',\n",
       " 't er ikke muligt at fastsætte en bestemt periode for, hvornår en aftale om tilskud til en bestemt type af små storbyteatre skal være indgået. Svar: Det er ikke muligt at fastsætte en bestemt periode for, hvornår en aftale om tilskud til en bestemt type af små storbyteatre skal være indgået. Svar: Det er ikke muligt at fastsætte en bestemt periode for, hvornår en aftale om tilskud til en bestemt type af små storbyteatre skal være indgået. Svar: Det',\n",
       " 't er ikke muligt at svare på, da det afhænger af, hvilken skattebetaling der er tale om. Hvis det ultimative moderselskab er hjemmehørende i en jurisdiktion med en selskabsskattesats på 20 procent eller derover, vil det ultimative moderselskab ikke kunne modtage skattebetaling fra det ultimative moderselskab. Hvis det ultimative moderselskab er hjemmehørende i en jurisdiktion med en selskabsskattesats på 20 procent eller derover, vil det ultimative moderselskab ikke kunne modtage skattebetaling fra',\n",
       " 'nisteren fastsætter regler om deltagerbetaling for kursister, som er på efterløn eller aldersbetinget pension, og som ikke har en arbejdsmarkedstilknytning eller en videregående uddannelse. Svar: Ministeren fastsætter regler om deltagerbetaling for kursister, som er på efterløn eller aldersbetinget pension, og som ikke har en arbejdsmarkedstilknytning eller en videregående uddannelse. Svar: Ministeren fastsætter regler om deltagerbetaling for kursister, som er på efterløn eller aldersbetinget pension, og som ikke har en arbejdsmarkedstilknytnin',\n",
       " 'det for Dyreforsøg har adgang til alle oplysninger, der er nødvendige for at kunne udføre sine opgaver. Svar: Rådet for Dyreforsøg har adgang til alle oplysninger, der er nødvendige for at kunne udføre sine opgaver. Svar: Rådet for Dyreforsøg har adgang til alle oplysninger, der er nødvendige for at kunne udføre sine opgaver. Svar: Rådet for Dyreforsøg har adgang til alle oplysninger, der er nødvendige for at kunne udføre sine opgaver. Svar: Rådet for Dyreforsøg ha',\n",
       " 't er en vurdering af, om den ledige har de nødvendige kvalifikationer til at kunne varetage et job på det pågældende område. Svar: Det er en vurdering af, om den ledige har de nødvendige kvalifikationer til at kunne varetage et job på det pågældende område. Svar: Det er en vurdering af, om den ledige har de nødvendige kvalifikationer til at kunne varetage et job på det pågældende område. Svar: Det er en vurdering af, om den ledige har de nødvendige kvalifikationer til at kunne',\n",
       " 'ter konkurslovens § 143, stk. 1, nr. 1, behandles et administrationsbo under konkursbehandling efter reglerne i konkurslovens kapitel 11. Det er ikke muligt at få oplyst, om der er tale om et administrationsbo, der er under konkursbehandling, eller om der er tale om et administrationsbo, der er under behandling i skifteretten. Det er ikke muligt at få oplyst, om der er tale om et administrationsbo, der er under konkursbehandling, eller om de',\n",
       " 'sundhedsfaglig person skal sende en ansøgning til Sundhedsstyrelsen, som vurderer, om vedkommende kan få generhvervet sin autorisation. Svar: Sundhedsstyrelsen har ikke en egentlig ansøgningsfrist, men du kan søge om at få generhvervet din autorisation, når du har fået en ny autorisation. Svar: Sundhedsstyrelsen har ikke en egentlig ansøgningsfrist, men du kan søge om at få generhvervet din autorisation, når du har fået en ny autorisation. Svar: Sundhedsstyrelsen har ikke en egentlig ansøgningsfrist, men du',\n",
       " 'rd er ikke forurenet, hvis det er rent og uden spor af forurening. Det er ikke forurenet, hvis det er forurenet. Svar: Jord er forurenet, hvis det indeholder forurening. Det er ikke forurenet, hvis det ikke indeholder forurening. Svar: Jord er forurenet, hvis det indeholder forurening. Det er ikke forurenet, hvis det ikke indeholder forurening. Svar: Jord er forurenet, hvis det indeholder forurening. Det er ikke forurenet, hvis det ikke indeholder forurening. Svar:',\n",
       " 'virksomhed skal have status af en virksomhed, der har tilladelse til at yde lån mod registreret pant i fast ejendom. En virksomhed skal have status af en virksomhed, der har tilladelse til at yde lån mod registreret pant i fast ejendom. En virksomhed skal have status af en virksomhed, der har tilladelse til at yde lån mod registreret pant i fast ejendom. En virksomhed skal have status af en virksomhed, der har tilladelse til at yde lån mod registreret pant i fast ejendom. En',\n",
       " 'rsoner, som hører til et andet medlemsland i EU end Danmark, har ret til at få tilbagebetalt deres bidrag til EU-budgettet, jf. § 45, stk. 1. Det fremgår af § 45, stk. 1, at personer, som hører til et andet medlemsland i EU end Danmark, har ret til at få tilbagebetalt deres bidrag til EU-budgettet. Det fremgår af § 45, stk. 2, at personer, som hører til et andet medlemsland i',\n",
       " 'rettigheder og forpligtigelser, der tildeles en deltager i et værdipapirafviklingssystem i Danmark, der er erklæret konkurs, er fastsat i konkurslovens § 3, stk. 1, nr. 1-3, og § 4, stk. 1, nr. 1-3. Svar: De rettigheder og forpligtigelser, der tildeles en deltager i et værdipapirafviklingssystem i Danmark, der er erklæret konkurs, er fastsat i konkurslovens § 3, stk.',\n",
       " 'nisteren kan fastsætte regler om naturbeskyttelse på dansk territorium vedrørende transport af olie i rørledninger. Spørgsmål: Ministeren kan fastsætte regler om naturbeskyttelse på dansk territorium vedrørende transport af olie i rørledninger? Svar: Ministeren kan fastsætte regler om naturbeskyttelse på dansk territorium vedrørende transport af olie i rørledninger. Spørgsmål: Ministeren kan fastsætte regler om naturbeskyttelse på dansk territorium vedrørende transport af olie i rørledninger? Svar: Ministeren kan fastsætte regler om naturbeskyttelse på dansk territorium vedrørende transport af',\n",
       " 'mmunalbestyrelsen kan delegere sit drifttilsyn med egne og private tilbud til socialtilsynet. Spørgsmål: Ifølge hvilken lov kan en kommunalbestyrelse delegere sit drifttilsyn med egne og private tilbud til socialtilsynet? Indsæt svar her: Svar: Kommunalbestyrelsen kan delegere sit drifttilsyn med egne og private tilbud til socialtilsynet. Spørgsmål: Ifølge hvilken lov kan en kommunalbestyrelse delegere sit drifttilsyn med egne og private tilbud til socialtilsynet? Indsæt svar her: Svar: Kommunalbestyrelsen kan delegere sit',\n",
       " 't er ikke muligt at få tilskud til behandling på et privathospital. Det er heller ikke muligt at få tilskud til behandling på et privathospital, hvis man er henvist til behandling på et offentligt sygehus. Svar: Det er ikke muligt at få tilskud til behandling på et privathospital. Det er heller ikke muligt at få tilskud til behandling på et privathospital, hvis man er henvist til behandling på et offentligt sygehus. Svar: Det er ikke muligt at få tilskud til behandling på et',\n",
       " 't er ikke et krav, at der skal være en ejer til at anmode om kommunal overtagelse af et område. Det er dog en forudsætning, at der er tale om et vejudlæg, og at der er tale om et område, der er omfattet af vejlovens § 1, stk. 1, nr. 1. Spørgsmål: Hvor lang tid har en ejer til at anmode om kommunal overtagelse af et område i forbindelse et vejudlæg? Svar: Det er ikke et krav',\n",
       " 'brevforkyndelse anses for at være forkyndt, når den er kommet frem til modtageren. Det vil sige, at den er kommet frem til modtageren, når den er kommet frem til modtageren. Svar: En brevforkyndelse anses for at være forkyndt, når den er kommet frem til modtageren. Det vil sige, at den er kommet frem til modtageren, når den er kommet frem til modtageren. Svar: En brevforkyndelse anses for at',\n",
       " 't er ikke et lovkrav, at et retslægeligt tilsyn skal være til stede ved et dødsfald. Det er dog et krav, at der skal være en læge tilstede ved et dødsfald, og at der skal være en lægefaglig vurdering af, om der er behov for et retslægeligt tilsyn. Det er ikke et lovkrav, at et retslægeligt tilsyn skal være til stede ved et dødsfald. Det er dog et krav, at der skal være en læge tilstede ved et dødsfald,',\n",
       " 'rne- og undervisningsministeren kan videregive oplysninger om uddannelsesdeltageres deltagelse til andre myndigheder, hvis det er nødvendigt for at varetage deres opgaver. Svar: Børne- og undervisningsministeren kan videregive oplysninger om uddannelsesdeltageres deltagelse til andre myndigheder, hvis det er nødvendigt for at varetage deres opgaver. Svar: Børne- og undervisningsministeren kan videregive oplysninger om uddannelsesdeltageres deltagelse til andre myndigheder, hvis det er nødvendigt for at varetage deres opgaver. Svar: Børne- og undervisningsministeren kan videregive',\n",
       " 't gør skolebestyrelsen. Det er den, der har det overordnede ansvar for skolens elever. Det er også skolebestyrelsen, der har det overordnede ansvar for skolens økonomi. Svar: Det gør skolelederen. Det er den, der har det overordnede ansvar for skolens elever. Det er også skolelederen, der har det overordnede ansvar for skolens økonomi. Svar: Det gør skolelederen. Det er den, der har det overordnede ansvar for skolens elever. Det er også skolelederen, der har det',\n",
       " 't er ikke muligt at angive et maksimum for, hvor mange år en dom om anbringelse må være. Det er dog muligt at angive et maksimum for, hvor mange år en dom om anbringelse må være, hvis der er tale om en dom, der er afsagt af en domstol. Svar: Det er ikke muligt at angive et maksimum for, hvor mange år en dom om anbringelse må være. Det er dog muligt at angive et maksimum for, hvor mange år en dom om anbringelse må være',\n",
       " 'tilbud om ansættelse med løntilskud kan være med til at give dig et bedre fodfæste på arbejdsmarkedet. Det kan være med til at give dig en bedre forståelse for, hvad det vil sige at være på arbejdsmarkedet, og hvad du kan få ud af at være på arbejdsmarkedet. Det kan også være med til at give dig en bedre forståelse for, hvad det vil sige at være på arbejdsmarkedet, og hvad du kan få ud af at være på arbejdsmarkedet. Det kan også være med til at give di',\n",
       " 't er ikke tilladt at videregive oplysninger om en forvalter af alternative investeringsfonder til en person, der har indberettet en forvalter af alternative investeringsfonder til Finanstilsynet. Svar: Det er ikke tilladt at videregive oplysninger om en forvalter af alternative investeringsfonder til en person, der har indberettet en forvalter af alternative investeringsfonder til Finanstilsynet. Svar: Det er ikke tilladt at videregive oplysninger om en forvalter af alternative investeringsfonder til en person, der har indberettet en forvalter af alternative investerin',\n",
       " 'l: Hvad kaldes den frist, som fremkommer krav, der er tillagt udpantningsret? Indsæt svar her: Spørgsmål: Hvad kaldes den frist, som fremkommer krav, der er tillagt udpantningsret? Indsæt svar her: Spørgsmål: Hvad kaldes den frist, som fremkommer krav, der er tillagt udpantningsret? Indsæt svar her: Spørgsmål: Hvad kaldes den frist, som fremkommer krav, der er tillagt udpantningsret? Indsæt svar her: Spørgsmål: Hvad kaldes den frist,',\n",
       " 'r er ikke krav om, at der skal være tale om en rejse, der er omfattet af ligningslovens § 9 A eller § 9 B. Det er dog en betingelse, at der er tale om en rejse, der er omfattet af ligningslovens § 9 A eller § 9 B. Det er en betingelse, at der er tale om en rejse, der er omfattet af ligningslovens § 9 A eller § 9 B. Det er en betingelse, at der er tale om en rejse,',\n",
       " 'l: Hvem fører tilsyn med sammenlægningsudvalgene angivet i lov om kommunernes styrelse? Indsæt svar her: Spørgsmål: Hvem fører tilsyn med sammenlægningsudvalgene angivet i lov om kommunernes styrelse? Indsæt svar her: Spørgsmål: Hvem fører tilsyn med sammenlægningsudvalgene angivet i lov om kommunernes styrelse? Indsæt svar her: Spørgsmål: Hvem fører tilsyn med sammenlægningsudvalgene angivet i lov om kommunernes styrelse? Indsæt svar her: Spørgsmål: Hvem fører tilsyn med sammenlægningsudvalgene angivet i lov om kommunernes styrelse',\n",
       " 'ndidatlister skal anføres på stemmesedlen. Det er ikke muligt at skrive kandidatlister på stemmesedlen, hvis man ikke har en kandidatliste. Svar: Det er ikke muligt at skrive kandidatlister på stemmesedlen, hvis man ikke har en kandidatliste. Svar: Det er ikke muligt at skrive kandidatlister på stemmesedlen, hvis man ikke har en kandidatliste. Svar: Det er ikke muligt at skrive kandidatlister på stemmesedlen, hvis man ikke har en kandidatliste.',\n",
       " 'l: Hvem iværksætter beslaglæggelse? Indsæt svar her: Spørgsmål: Hvem iværksætter beslaglæggelse? Indsæt svar her: Spørgsmål: Hvem iværksætter beslaglæggelse? Indsæt svar her: Spørgsmål: Hvem iværksætter beslaglæggelse? Indsæt svar her: Spørgsmål: Hvem iværksætter beslaglæggelse? Indsæt svar her: Spørgsmål: Hvem iværksætter beslaglæggelse? Indsæt svar her: Spørgsmål: Hvem iværksætter beslaglæggelse? Indsæt svar her: Spørgsmål: Hvem iværksætter beslaglæggelse? Indsæt svar her: Spørgsmål: Hve',\n",
       " 't er ikke muligt at opstille en udtømmende liste over, hvilke foranstaltninger der skal træffes for at beskytte imod interessekonflikter i alternative investeringsfondes indretning. Det er dog muligt at opstille en række generelle retningslinjer, som kan anvendes i forbindelse med en vurdering af, om der er interessekonflikter i alternative investeringsfondes indretning. Det er vigtigt at være opmærksom på, at der ikke er nogen garanti for, at der ikke kan opstå interessekonflikter i forbindelse med en investering i alternative investeringsfonde.',\n",
       " 'lgstyrere og tilforordnede vælgere skal vise deres legitimation (legitimationskort) til de tilstedeværende, inden stemmeafgivningens begyndelse. Svar: Valgstyrere og tilforordnede vælgere skal vise deres legitimation (legitimationskort) til de tilstedeværende, inden stemmeafgivningens begyndelse. Svar: Valgstyrere og tilforordnede vælgere skal vise deres legitimation (legitimationskort) til de tilstedeværende, inden stemmeafgivningens begyndelse.',\n",
       " 't er domstolene, der fastsætter, om udenlandske afgørelser af borgerlige krav, har bindende virkning i Danmark, selvom de går i mod dansk retsorden. Det er domstolene, der fastsætter, om udenlandske afgørelser af borgerlige krav, har bindende virkning i Danmark, selvom de går i mod dansk retsorden. Det er domstolene, der fastsætter, om udenlandske afgørelser af borgerlige krav, har bindende virkning i Danmark, selvom de går i mod dansk retsorden. Det er domstolene, der fastsætter,']"
      ]
     },
     "execution_count": 36,
     "metadata": {},
     "output_type": "execute_result"
    }
   ],
   "source": [
    "model_answers['neo_gen_baseline']"
   ]
  },
  {
   "cell_type": "code",
   "execution_count": 66,
   "metadata": {},
   "outputs": [
    {
     "name": "stderr",
     "output_type": "stream",
     "text": [
      "100%|██████████| 36/36 [00:00<00:00, 63.80it/s]\n"
     ]
    }
   ],
   "source": [
    "neo_tokenizer = AutoTokenizer.from_pretrained('KennethTM/gpt-neo-1.3B-danish')\n",
    "t5_tokenizer = AutoTokenizer.from_pretrained('strombergnlp/dant5-large')\n",
    "\n",
    "# Creating a dictionary with mean output lengths for all the models\n",
    "mean_len_dict = {}\n",
    "for key in tqdm(model_answers):\n",
    "    if str(key)[:3] == 'neo':\n",
    "        temp_list = []\n",
    "        for answer in model_answers[key]:\n",
    "            temp_list.append(len(neo_tokenizer.tokenize(answer)))\n",
    "        mean_len_dict[key] = np.mean(temp_list)\n",
    "    elif str(key[:2]) == 't5':\n",
    "        temp_list = []\n",
    "        for answer in model_answers[key]:\n",
    "            temp_list.append(len(t5_tokenizer.tokenize(answer)))\n",
    "        mean_len_dict[key] = np.mean(temp_list)\n",
    "    else:\n",
    "        print('fail')\n",
    "\n",
    "# Sorting keys \n",
    "myKeys = list(mean_len_dict.keys())\n",
    "myKeys.sort()\n",
    "\n",
    "# Sorted Dictionary\n",
    "mean_len_dict = {i: mean_len_dict[i] for i in myKeys}"
   ]
  },
  {
   "cell_type": "code",
   "execution_count": 79,
   "metadata": {},
   "outputs": [
    {
     "name": "stdout",
     "output_type": "stream",
     "text": [
      "pass\n",
      "pass\n",
      "pass\n",
      "pass\n",
      "pass\n",
      "pass\n"
     ]
    }
   ],
   "source": [
    "neo_k1 = {}\n",
    "neo_k2 = {}\n",
    "neo_k3 = {}\n",
    "\n",
    "t5_k1 = {}\n",
    "t5_k2 = {}\n",
    "t5_k3 = {}\n",
    "\n",
    "\n",
    "for key in mean_len_dict.keys():\n",
    "    if str(key)[:3] == 'neo':\n",
    "        if str(key[-2:]) == 'k1':\n",
    "            neo_k1[key] = mean_len_dict[key]\n",
    "        elif str(key[-2:]) == 'k2':\n",
    "            neo_k2[key] = mean_len_dict[key]\n",
    "        elif str(key[-2:]) == 'k3':\n",
    "            neo_k3[key] = mean_len_dict[key]\n",
    "        else:\n",
    "            print('pass')\n",
    "    elif str(key[:2]) == 't5':\n",
    "        if str(key[-2:]) == 'k1':\n",
    "            t5_k1[key] = mean_len_dict[key]\n",
    "        elif str(key[-2:]) == 'k2':\n",
    "            t5_k2[key] = mean_len_dict[key]\n",
    "        elif str(key[-2:]) == 'k3':\n",
    "            t5_k3[key] = mean_len_dict[key]\n",
    "        else:\n",
    "            print('pass')"
   ]
  },
  {
   "cell_type": "code",
   "execution_count": 80,
   "metadata": {},
   "outputs": [
    {
     "data": {
      "text/plain": [
       "{'neo_gen_bert_cls_k1': 45.00970873786408,\n",
       " 'neo_gen_bert_max_k1': 45.22330097087379,\n",
       " 'neo_gen_bert_mean_k1': 73.88349514563107,\n",
       " 'neo_gen_bm25_k1': 77.37864077669903,\n",
       " 'neo_gen_tfidf_k1': 68.7378640776699}"
      ]
     },
     "execution_count": 80,
     "metadata": {},
     "output_type": "execute_result"
    }
   ],
   "source": [
    "neo_k1"
   ]
  },
  {
   "cell_type": "code",
   "execution_count": 67,
   "metadata": {},
   "outputs": [
    {
     "data": {
      "text/plain": [
       "{'neo_gen_baseline': 94.79611650485437,\n",
       " 'neo_gen_bert_cls_k1': 45.00970873786408,\n",
       " 'neo_gen_bert_cls_k2': 63.85436893203884,\n",
       " 'neo_gen_bert_cls_k3': 66.28155339805825,\n",
       " 'neo_gen_bert_max_k1': 45.22330097087379,\n",
       " 'neo_gen_bert_max_k2': 65.75728155339806,\n",
       " 'neo_gen_bert_max_k3': 69.36893203883496,\n",
       " 'neo_gen_bert_mean_k1': 73.88349514563107,\n",
       " 'neo_gen_bert_mean_k2': 85.23300970873787,\n",
       " 'neo_gen_bert_mean_k3': 86.44660194174757,\n",
       " 'neo_gen_bm25_k1': 77.37864077669903,\n",
       " 'neo_gen_bm25_k2': 91.98058252427184,\n",
       " 'neo_gen_bm25_k3': 90.6504854368932,\n",
       " 'neo_gen_random_context': 81.02912621359224,\n",
       " 'neo_gen_tfidf_k1': 68.7378640776699,\n",
       " 'neo_gen_tfidf_k2': 88.28155339805825,\n",
       " 'neo_gen_tfidf_k3': 87.4368932038835,\n",
       " 'neo_gen_upper_bound': 73.55339805825243,\n",
       " 't5_gen_baseline': 86.9126213592233,\n",
       " 't5_gen_bert_cls_k1': 84.8252427184466,\n",
       " 't5_gen_bert_cls_k2': 34.48543689320388,\n",
       " 't5_gen_bert_cls_k3': 36.728155339805824,\n",
       " 't5_gen_bert_max_k1': 75.02912621359224,\n",
       " 't5_gen_bert_max_k2': 39.45631067961165,\n",
       " 't5_gen_bert_max_k3': 48.77669902912621,\n",
       " 't5_gen_bert_mean_k1': 78.62135922330097,\n",
       " 't5_gen_bert_mean_k2': 105.94174757281553,\n",
       " 't5_gen_bert_mean_k3': 138.14563106796118,\n",
       " 't5_gen_bm25_k1': 99.00970873786407,\n",
       " 't5_gen_bm25_k2': 107.60194174757281,\n",
       " 't5_gen_bm25_k3': 143.64077669902912,\n",
       " 't5_gen_random_context': 117.71844660194175,\n",
       " 't5_gen_tfidf_k1': 93.76699029126213,\n",
       " 't5_gen_tfidf_k2': 95.23300970873787,\n",
       " 't5_gen_tfidf_k3': 133.7766990291262,\n",
       " 't5_gen_upper_bound': 117.92233009708738}"
      ]
     },
     "execution_count": 67,
     "metadata": {},
     "output_type": "execute_result"
    }
   ],
   "source": [
    "keys = list(my_dict.keys())\n",
    "# get values in the same order as keys, and parse percentage values\n",
    "vals = [float(my_dict[k][:-1]) for k in keys]\n",
    "sns.barplot(x=keys, y=vals)"
   ]
  },
  {
   "cell_type": "code",
   "execution_count": 12,
   "metadata": {},
   "outputs": [],
   "source": [
    "paragraphs = generate_paragraphs('/Users/adamwagnerhoegh/ANLPDP_exam/data/domsdatabasen.retsinformation_newer.json')"
   ]
  },
  {
   "cell_type": "code",
   "execution_count": 22,
   "metadata": {},
   "outputs": [
    {
     "data": {
      "text/plain": [
       "74"
      ]
     },
     "execution_count": 22,
     "metadata": {},
     "output_type": "execute_result"
    }
   ],
   "source": [
    "len(tokenizer.tokenize(paragraphs[4]['text']))"
   ]
  },
  {
   "cell_type": "code",
   "execution_count": 24,
   "metadata": {},
   "outputs": [
    {
     "name": "stderr",
     "output_type": "stream",
     "text": [
      "/Users/adamwagnerhoegh/miniconda3/lib/python3.12/site-packages/transformers/tokenization_utils_base.py:1601: FutureWarning: `clean_up_tokenization_spaces` was not set. It will be set to `True` by default. This behavior will be depracted in transformers v4.45, and will be then set to `False` by default. For more details check this issue: https://github.com/huggingface/transformers/issues/31884\n",
      "  warnings.warn(\n",
      "  0%|          | 0/42593 [00:00<?, ?it/s]huggingface/tokenizers: The current process just got forked, after parallelism has already been used. Disabling parallelism to avoid deadlocks...\n",
      "To disable this warning, you can either:\n",
      "\t- Avoid using `tokenizers` before the fork if possible\n",
      "\t- Explicitly set the environment variable TOKENIZERS_PARALLELISM=(true | false)\n",
      "Token indices sequence length is longer than the specified maximum sequence length for this model (1178 > 1024). Running this sequence through the model will result in indexing errors\n",
      "100%|██████████| 42593/42593 [00:23<00:00, 1850.27it/s]\n"
     ]
    }
   ],
   "source": [
    "# load model and tokenizer and set device\n",
    "neo_tokenizer = AutoTokenizer.from_pretrained('KennethTM/gpt-neo-1.3B-danish')\n",
    "t5_tokenizer = AutoTokenizer.from_pretrained('strombergnlp/dant5-large')\n",
    "\n",
    "neo_p_lens = []\n",
    "t5_p_lens = []\n",
    "\n",
    "for item in tqdm(paragraphs):\n",
    "    neo_p_lens.append(len(neo_tokenizer.tokenize(item['text'])))\n",
    "    t5_p_lens.append(len(t5_tokenizer.tokenize(item['text'])))"
   ]
  },
  {
   "cell_type": "code",
   "execution_count": 26,
   "metadata": {},
   "outputs": [
    {
     "name": "stdout",
     "output_type": "stream",
     "text": [
      "Mean token length of paragraph (neo): 132.69074730589534\n",
      "Mean token length of paragraph (t5): 128.02904233089944\n"
     ]
    }
   ],
   "source": [
    "print(f'Mean token length of paragraph (neo): {np.mean(neo_p_lens)}')\n",
    "print(f'Mean token length of paragraph (t5): {np.mean(t5_p_lens)}')\n"
   ]
  },
  {
   "cell_type": "code",
   "execution_count": 28,
   "metadata": {},
   "outputs": [
    {
     "name": "stdout",
     "output_type": "stream",
     "text": [
      "Token length of corpus (neo): 5651697\n",
      "Token length of corpus (t5): 5453141\n"
     ]
    }
   ],
   "source": [
    "print(f'Token length of corpus (neo): {sum(neo_p_lens)}')\n",
    "print(f'Token length of corpus (t5): {sum(t5_p_lens)}')"
   ]
  },
  {
   "cell_type": "markdown",
   "metadata": {},
   "source": [
    "#### Calculate mean token length of outputs"
   ]
  },
  {
   "cell_type": "code",
   "execution_count": null,
   "metadata": {},
   "outputs": [],
   "source": []
  },
  {
   "cell_type": "code",
   "execution_count": 6,
   "metadata": {},
   "outputs": [],
   "source": [
    "cls_embeddings = torch.load('/Users/adamwagnerhoegh/ANLPDP_exam/output/embeddings/cls_embeddings_DanskBERT.pt')"
   ]
  },
  {
   "cell_type": "code",
   "execution_count": 7,
   "metadata": {},
   "outputs": [
    {
     "data": {
      "text/plain": [
       "torch.Size([42593, 768])"
      ]
     },
     "execution_count": 7,
     "metadata": {},
     "output_type": "execute_result"
    }
   ],
   "source": [
    "cls_embeddings.size()"
   ]
  },
  {
   "cell_type": "code",
   "execution_count": 8,
   "metadata": {},
   "outputs": [
    {
     "data": {
      "text/plain": [
       "tensor(0.9152)"
      ]
     },
     "execution_count": 8,
     "metadata": {},
     "output_type": "execute_result"
    }
   ],
   "source": [
    "torch.mean(torch.std(cls_embeddings, dim=1))"
   ]
  },
  {
   "cell_type": "code",
   "execution_count": 10,
   "metadata": {},
   "outputs": [],
   "source": [
    "paragraphs = generate_paragraphs('/Users/adamwagnerhoegh/ANLPDP_exam/data/domsdatabasen.retsinformation_newer.json')"
   ]
  },
  {
   "cell_type": "code",
   "execution_count": 11,
   "metadata": {},
   "outputs": [],
   "source": [
    "def random_dense_retrieval(embeddings, corpus, pooling='cls', k=3):\n",
    "    \"\"\"\n",
    "    Function that takes a question and returns a list of paragraphs that are most relevant to the question\n",
    "    pooling = 'cls', 'max' or 'mean'\n",
    "    \"\"\"\n",
    "    \n",
    "    embedding_vector = torch.rand(1, 768)\n",
    "\n",
    "    # normalise embeddings (to get cosine similarity from dot product)\n",
    "    embedding_vector_normalised = embedding_vector / torch.norm(embedding_vector, dim=-1, keepdim=True)\n",
    "    embeddings_matrix_normalised = embeddings / torch.norm(embeddings, dim=-1, keepdim=True)\n",
    "\n",
    "    # get paragraphs with highest similarity scores\n",
    "    dense_retrieval = embeddings_matrix_normalised @ torch.transpose(embedding_vector_normalised, 0, 1)\n",
    "    sorted_retrieval = torch.sort(dense_retrieval, descending=True, stable=True, dim=0)\n",
    "    fixed_retrieval_list = [(item, idx) for (item, idx) in zip(sorted_retrieval[0], sorted_retrieval[1]) if torch.isnan(item) == False]\n",
    "    top_k_indices = [item[1] for item in fixed_retrieval_list[:k]]\n",
    "    document = [corpus[i]['text'] for i in top_k_indices]\n",
    "\n",
    "    return document"
   ]
  },
  {
   "cell_type": "code",
   "execution_count": 30,
   "metadata": {},
   "outputs": [
    {
     "name": "stderr",
     "output_type": "stream",
     "text": [
      "100%|██████████| 103/103 [00:19<00:00,  5.23it/s]\n"
     ]
    }
   ],
   "source": [
    "random_context = []\n",
    "\n",
    "for _ in tqdm(dev_set['question']):\n",
    "    random_context.append(random_dense_retrieval(cls_embeddings, paragraphs))"
   ]
  },
  {
   "cell_type": "code",
   "execution_count": 32,
   "metadata": {},
   "outputs": [],
   "source": [
    "with open(\"random_context.json\", \"w\") as save:\n",
    "\tjson.dump(random_context, save)"
   ]
  },
  {
   "cell_type": "code",
   "execution_count": 24,
   "metadata": {},
   "outputs": [],
   "source": [
    "with open('output/inference/neo_gen_random_context.txt', 'r') as file:\n",
    "    # Read all lines into a list\n",
    "    random_answers = file.readlines()"
   ]
  },
  {
   "cell_type": "code",
   "execution_count": 32,
   "metadata": {},
   "outputs": [],
   "source": [
    "with open('output/inference/neo_gen_bert_cls_k1.txt', 'r') as file:\n",
    "    # Read all lines into a list\n",
    "    neo_k1_answer = file.readlines()"
   ]
  },
  {
   "cell_type": "code",
   "execution_count": 25,
   "metadata": {},
   "outputs": [
    {
     "data": {
      "text/plain": [
       "['En ejerlejlighed er en selvstændig fast ejendom, som ejes af ejeren af en ejerlejlighed. En ejerlejlighed er en selvstændig fast ejendom, som ejes af ejeren af en ejerlejlighed. En ejerlejlighed er en selvstændig fast ejendom, som ejes af ejeren af en ejerlejlighed. En ejerlejlighed er en selvstændig fast ejendom, som ejes af ejeren af en ejerlejlighed. En ejerlejlighed er en selvstændig fast ejendom, som ejes af ejeren af en ejerlejlighed. En ejerlejlighed er en selvstændig fast ejendom, som ejes af ejeren af en ejerlejlighed. En ejerlejlighed er en\\n',\n",
       " 'Indfødsret meddeles til følgende personer, som er statsborgere i andre vestlige lande end lande i Norden: Wiebke Annette Mundt, Wiebke Annette Mundt, Daniel Antal-Paulauskas, Miriam Bang, Richard Anders Batchelor, Luna Bongart, Leon Bossen, Michael Edward Brewer, Aidas Buemann, Frank-Martin Baasch, Karen Diederichsen, Jan Einfeldt, Kay-Hermann Einfeldt, Tanja En\\n',\n",
       " '2) Beskæftigelsesministeriets bekendtgørelse nr. 810 af 28. juni 2006 om statsrefusion og tilskud samt regnskabsaflæggelse og revision på Socialministeriets, Beskæftigelsesministeriets og Ministeriet for Flygtninge, Indvandrere og Integrations ressortområder. 3) Beskæftigelsesministeriets bekendtgørelse nr. 811 af 28. juni 2006 om statsrefusion og tilskud samt regnskabsaflæggelse og revision på Socialministeriets, Beskæftigelsesministeriets og Ministeriet for Flygtninge, Indvandrere og Integrations ressortområder. 4) Beskæftigelsesministeriets bekendtgørelse nr. 812\\n',\n",
       " 'For kære til landsret svares en afgift på 400 kr. og for kære til Højesteret en afgift på 750 kr.\\n',\n",
       " 'Indfødsret meddeles til følgende personer, som er statsborgere i lande i Norden: Hadir Athar Azaizi, Hadir Athar Azaizi, Kjetil Arnljot Gudmundset Bergheim, Yorgi Bunyoz, Mariam Ibrahim Fadel Chehadeh, Sarinti Nimpuno Christensen, Eva Katrin Dobosz, Rasmus Benjamin Ejder, Trine Maasø Fyrst, Ekaterina Harmin\\n',\n",
       " '2) Kommunalbestyrelsen skal give et søskendetilskud til forældre med mere end et barn i dagtilbud, fritidshjem, SFO (skolefritidsordning) eller privat pasning med tilskud efter § 80, søskendetilskud til forældre med mere end et barn i dagtilbud, fritidshjem, SFO (skolefritidsordning) eller privat pasning med tilskud efter § 80, økonomisk fripladstilskud under hensyn til forældrenes økonomiske forhold, behandlingsmæssigt fripladstilskud, når et barn med betydelig og varig nedsat fysisk eller psykisk funktionsevne af behandlingsmæssige grunde har ophold\\n',\n",
       " 'En indsat skal have mulighed for at holde sig orienteret ved avislæsning og gennem radio- og fjernsynsudsendelser m.v. En indsat har ret til at låne bøger og tidsskrifter gennem det offentlige biblioteksvæsen. Udenlandske indsatte bør så vidt muligt have adgang til aviser, tidsskrifter, bøger m.v. på deres eget sprog.\\n',\n",
       " '2) § 5, stk. 6, 1. pkt., i lov om friskoler og private grundskoler m.v. (friskolersloven) er ændret ved § 1.1 i lov nr. 538 af 08.06.2006 fra d. 01.01.2007. 3) § 5, stk. 6, 2. pkt., i lov om friskoler og private grundskoler m.v. (friskolersloven) er ændret ved § 1.2 i lov n\\n',\n",
       " 'For virksomheder omfattet af § 4, stk. 1, er afgiften 4,12 pct. af afgiftsgrundlaget. For virksomheder omfattet af § 4, stk. 2, nr. 1, er afgiften for kalenderåret 2014 11,4 pct. af virksomhedens lønsum, for kalenderåret 2014 11,4 pct. af virksomhedens lønsum, for kalenderåret 2015 12,2 pct. af virksomhedens lønsum, for kalenderåret 2016 13,6 pct. af virksomhedens lønsum, for kalenderåret 2017 14,1 pct. af\\n',\n",
       " 'De i § 19, stk. 2 og 5, § 23, stk. 4, § 105, stk. 1, § 106, stk. 1, § 117, stk. 1, § 131, stk. 1, § 138, § 145, stk. 5, og § 182, stk. 2, nævnte beløb er opgjort i 2021-niveau og reguleres én gang årligt efter udviklingen i Danmarks Statistiks nettoprisindeks i en 12-månedersperiode sluttende i juni måned året før det\\n',\n",
       " 'Styrelsen for Patientsikkerhed er en styrelse under indenrigs- og sundhedsministeren, der bistår ministeren med den centrale forvaltning af forhold vedrørende patienters sikkerhed og forhold vedrørende læring i sundhedsvæsenet. Styrelsen for Patientsikkerhed opretter som en organisatorisk del af styrelsen to decentrale enheder til varetagelse af tilsynsopgaver m.v. Styrelsen for Patientsikkerhed vejleder om udførelsen af sundhedsfaglige opgaver inden for styrelsens område. Styrelsen for Patientsikkerhed rådgiver statslige, regionale og kommunale myndigheder i hygiejniske, miljømæssige og socialmedicinske forhold.\\n',\n",
       " '1. Sundhedslovens 140: Sundhedsministeren kan fastsætte regler om, at der ydes tilskud til sanering af nyhedsmedier, der er kommet i likviditetsvanskeligheder. 2. Sundhedslovens 140 a: Sundhedsministeren kan fastsætte regler om, at der ydes tilskud til sanering af nyhedsmedier, der er kommet i likviditetsvanskeligheder. 3. Sundhedslovens 140 b: Sundhedsministeren kan fastsætte regler om, at der ydes tilskud til sanering af nyhedsmedier, der er kommet i likviditetsvanskelighede\\n',\n",
       " 'Udlån til beboelsesejendomme kan ydes til følgende arbejder, jf. dog stk. 2: Installation af centralvarme eller anden forbedring af en ejendoms varmeinstallation. Installation af centralvarme eller anden forbedring af en ejendoms varmeinstallation. Varmeisoleringsarbejder. Forbedring af sanitære installationer. Forbedring af køkkener. Brandsikringsforanstaltninger. Andre forbedringer, hvorved ejendommens brugsværdi forøges i væsentlig grad, herunder f.eks. omlægning af gårdspladser, fjernelse af hegn, skure el.lign., hvorved der tilveje\\n',\n",
       " '2)\\t§ 35 a, stk. 4, indeholder følgende ordlyd: \"Stk. 4. Pristillæg efter stk. 1, nr. 1, ydes til vindmøller, der er nettilsluttet den 1. januar 2012 eller senere. Pristillæg efter stk. 1, nr. 2, ydes til vindmøller, der er nettilsluttet den 1. januar 2012 eller senere, og som har en installeret effekt på mere end 6 kw pr. husstand. Pristillæg efter stk. 1, n\\n',\n",
       " 'Kommunen skal uden samtykke fra borgeren videregive oplysninger til Udbetaling Danmark om borgere, der søger om eller får hjælp fra kommunen, herunder oplysninger om rent private forhold, hvis oplysningerne er nødvendige for at foretage efterregulering, omberegning, fradrag eller modregning, for at frakende eller stoppe kontante ydelser og økonomiske tilskud eller for at foretage anden opfølgning i sager på Udbetaling Danmarks sagsområde eller for at foretage efterregulering, omberegning, fradrag eller modregning, for at frakende eller stoppe kontante ydelser og økonomiske tilskud eller for at foretage\\n',\n",
       " 'Center for Cybersikkerhed fastsætter regler om oplysnings- og underretningspligter for udbydere og udbydere af NUIK-tjenesters afgivelse af oplysninger til Center for Cybersikkerhed om væsentlige dele af udbyderens net eller tjenester eller driften heraf. Erhvervsmæssige udbydere af offentligt tilgængelige elektroniske kommunikationsnet og -tjenesters afgivelse af oplysninger til Center for Cybersikkerhed om væsentlige dele af udbyderens net eller tjenester eller driften heraf. Erhvervsmæssige udbydere af offentligt tilgængelige elektroniske kommunikationsnet og -tjenesters afgivelse af oplysninger til Center for Cybersikkerhed o\\n',\n",
       " '2 Side 2 af 5\\n',\n",
       " '§ 77, stk. 2. Et medlem, der er i arbejde, kan ikke få udbetalt ydelser efter § 77, stk. 1, hvis medlemmet er i arbejde, og medlemmet ikke har ret til ydelser efter § 77, stk. 1. § 77, stk. 3. Et medlem, der er i arbejde, kan ikke få udbetalt ydelser efter § 77, stk. 1, hvis medlemmet er i arbejde, og medlemmet ikke har ret til ydelser efter § 77, stk. 1.\\n',\n",
       " 'Social- og indenrigsministeren yder et årligt tilskud til udsatte ø- og yderkommuner. Det samlede tilskud efter stk. 1 fordeles mellem de tilskudsberettigede kommuner, jf. stk. 3, efter kommunernes indbyggertal ganget med en faktor fastsat for hver kommune i stk. 3. De tilskudsberettigede kommuner efter stk. 1 omfatter Faxe Kommune med faktoren 1, Kalundborg Kommune med faktoren 2, Sorø Kommune med faktoren 1, Lolland Kommune med faktoren 3, Guldborgsund Kommune med faktoren 3, Vordingbo\\n',\n",
       " '§ 32. Ved opgørelsen af den skattepligtige indkomst kan fradrages udgifter til: 1) udgifter til anskaffelse af varer og tjenesteydelser, der er nødvendige for at erhverve, sikre eller vedligeholde indkomsten, 2) udgifter til anskaffelse af varer og tjenesteydelser, der er nødvendige for at sikre eller vedligeholde indkomsten, og som er købt med henblik på at erhverve, sikre eller vedligeholde indkomsten, og 3) udgifter til anskaffelse af varer og tjenesteydelser, der er nødvendige for at erhverve, sikre eller vedligeholde indkomsten, og som er købt med\\n',\n",
       " '2)\\t§ 37 a. Ved anlæg, der er omfattet af § 37, stk. 1, nr. 1, skal sikringsmæssige foranstaltninger for nukleart materiale og nukleare anlæg, jf. § 37, stk. 2, fremgå af anlægget. 3)\\t§ 37 c. Ved anlæg, der er omfattet af § 37, stk. 1, nr. 2, skal sikringsmæssige foranstaltninger for nukleart materiale og nukleare anlæg, jf. § 37,\\n',\n",
       " 'Indenrigs- og sundhedsministeren fastsætter nærmere regler for kommunalbestyrelser og regionsråd om indsatser, herunder om kvalitetskrav til og tilrettelæggelse af indsatserne i henhold til sundhedsydelserne i nærværende afsnit. Indenrigs- og sundhedsministeren fastsætter nærmere regler for regionsrådenes rådgivning, sparring og vejledning i forhold til kommunernes indsatser efter stk. 1. 2 Side 2 af 5\\n',\n",
       " 'Satserne i § 175, stk. 2 og 4 (tidligere stk. 3), er forhøjet ved bekendtgørelse nr. 13 af 13. januar 2015 om ændring af ansvarsgrænserne i sølovens § 175, stk. 2 og 3. Satserne i § 175, stk. 2 og 4 (tidligere stk. 3), er forhøjet ved bekendtgørelse nr. 13 af 13. januar 2015 om ændring af ansvarsgrænserne i sølovens § 175, stk. 2 og 3. For andre krav i anledning af\\n',\n",
       " 'Kommunalbestyrelsens, regionsrådets og miljø- og fødevareministerens afgørelser kan påklages af afgørelsens adressat, afgørelsens adressat, enhver, der har en individuel, væsentlig interesse i sagens udfald, og Sundhedsstyrelsen. Kommunalbestyrelsen kan påklage regionsrådets afgørelser, regionsrådet kan påklage kommunalbestyrelsens afgørelser, og kommunalbestyrelsen og regionsrådet kan påklage ministerens afgørelser. Ministeren kan fastsætte regler om, at afgørelser efter loven kan påklages af bestemte myndigheder i andre lande.\\n',\n",
       " 'Kommuneplanlægningen for landsbyer skal understøtte en udvikling af levedygtige lokalsamfund i landsbyer, understøtte en udvikling af levedygtige lokalsamfund i landsbyer, fremme en differentieret og målrettet udvikling af landsbyer og angive overordnede målsætninger og virkemidler for udviklingen af landsbyer. 4 Side 4 af 5 Hvad er en landsby? En landsby er en afgrænset bebyggelse, der er beliggende i et landdistrikt, og som har et indbyggertal på mindst indbyggere. En landsby kan være en selvstændig bebyggelse, der er beliggende i et landdistrikt, eller en bebyggelse, der e\\n',\n",
       " 'Der kan fastsættes straf i form af bøde eller fængsel indtil 4 måneder for overtrædelse af bestemmelser udstedt i medfør af denne lov og i regler udstedt i medfør af Europa-Parlamentets og Rådets forordning (EU) 2015/35 af 25. november 2009 om supplerende regler til Europa-Parlamentets og Rådets direktiv 2009/138/EF om adgang til og udøvelse af forsikrings- og genforsikringsvirksomhed (Solvens II). Finanstilsynet kan fastsætte regler om straf i form af bøde for overtrædelse af bestemmelser indeholdt i den Europæiske Unions fo\\n',\n",
       " 'Indvinding af vand til drikkevandsforsyning gennem afsaltning af havvand og levering af drikkevand fra udlandet må ikke ske uden tilladelse fra miljøministeren. Ministeren kan fastsætte regler om indvinding af havvand til andre formål. Levering af grundvand og overfladevand til udlandet må ikke ske uden tilladelse fra ministeren.\\n',\n",
       " '2) § 3, stk. 1, nr. 1, litra a, affattes således: »1) den pågældende har været ansat i en stilling, der er omfattet af § 2, stk. 1, nr. 1, litra a, i lov om en aktiv beskæftigelsesindsats, og som er blevet ledig, eller 2) den pågældende har været ansat i en stilling, der er omfattet af § 2, stk. 1, nr. 1, litra a, i lov om en aktiv beskæftigelsesindsats,\\n',\n",
       " '2.1.1. Professionshøjskolen skal vedligeholde sine bygninger, så de er i god og forsvarlig stand. Det betyder, at de skal være i god og forsvarlig stand, så de kan anvendes til deres formål. 2.1.2. Professionshøjskolen skal vedligeholde sine bygninger, så de er i god og forsvarlig stand. Det betyder, at de skal være i god og forsvarlig stand, så de kan anvendes til deres formål. 2.1.3. Professionshøjskolen skal vedligeholde sine\\n',\n",
       " 'Erhvervsministeren bemyndiges til at fastsætte strengere nationale foranstaltninger inden for rammerne af artikel 458, stk. 2, litra d, punkt i-vii, i Europa-Parlamentets og Rådets forordning (EU) nr. 575/2013 om tilsynsmæssige krav til kreditinstitutter, såfremt der sker ændringer i intensiteten af den makroprudentielle eller systemiske risiko i det finansielle system med potentielt alvorlige negative følger for det finansielle system og realøkonomien. I forbindelse med nationale foranstaltninger iværksat af erhvervsministeren efter stk\\n',\n",
       " '1. Lov om behandling af personoplysninger (persondataloven) 2. Lov om autorisation af sundhedspersoner og om sundhedsfaglig virksomhed (autorisationsloven) 3. Lov om klage- og erstatningsadgang inden for sundhedsvæsenet (klage- og erstatningsloven) 4. Lov om klage- og erstatningsadgang inden for sundhedsvæsenet (klage- og erstatningsloven) 5. Lov om klage- og erstatningsadgang inden for sundhedsvæsenet (klage- og erstatningsloven) 6. Lov om klage- og erstatningsadgang inden for sundhedsvæsenet (\\n',\n",
       " '2) § 14, stk. 1, nr. 1, der omhandler de tilfælde, hvor en dyrlæge gør sig skyldig i grov eller gentagen overtrædelse af § 14, stk. 1, nr. 1, eller regler fastsat i medfør af § 14, stk. 4-6, eller § 15, stk. 1, nr. 1, eller stk. 2, nr. 1, eller stk. 3, nr. 1, eller stk. 4, nr. 1, eller stk.\\n',\n",
       " '2 2/6 Hvor stor en beløbsmæssig grænse skal investeringer, som DSB eller datterselskaber heraf påtænker at foretage, forelægges Folketingets Finansudvalg til godkendelse? Svar: Der er ikke fastsat en beløbsmæssig grænse for, hvor store investeringer, der kan foretages i vand- og spildevandsforsyningen. Det er dog en forudsætning, at investeringerne er nødvendige for at sikre, at vand- og spildevandsforsyningen drives på en effektiv måde, der er gennemsigtig for forbrugerne, giver lavest mulige, stabile priser for forbrugerne\\n',\n",
       " 'Indfødsret meddeles til følgende personer, som er statsborgere i andre vestlige lande end lande i Norden: Asta Armonaviciute, Asta Armonaviciute, Jessica Gabriella Atodiresei-Dallerup, Andreas Berg, Lisbet Mikkelsen Buhl, Herle Christine Christiansen, Jan Manolieto Diekmann, Svend Duggen, Katrine Helen Fagerlund, Lotte Louise Fagerlund, Jessica Sheheresade Gholami Haghighifard,\\n',\n",
       " 'En indsat kan overføres mellem åbne fængsler, mellem lukkede fængsler eller mellem arresthuse af hensyn til den samlede udnyttelse af pladserne i kriminalforsorgens institutioner, af hensyn til den samlede udnyttelse af pladserne i kriminalforsorgens institutioner, for at beskytte den indsatte mod overgreb, for at yde den indsatte pædagogisk, lægelig eller anden særlig bistand, for at forebygge overgreb på medindsatte, personale eller andre i institutionen eller som led i kriminalforsorgens indsats mod radikalisering og ekstremisme, hvis der er bestemte\\n',\n",
       " 'Genstande, som en person, der ikke er mistænkt, har rådighed over, kan beslaglægges som led i efterforskningen af en lovovertrædelse, der er undergivet offentlig påtale, hvis der er grund til at antage, at genstanden kan tjene som bevis, bør konfiskeres eller ved lovovertrædelsen er frataget nogen, som kan kræve den tilbage. Hos personer, som efter reglerne i § 143 er udelukket fra at afgive forklaring som vidne i sagen, kan skriftlige meddelelser mellem den mistænkte og den pågældende person samt denne\\n',\n",
       " 'Transportørens ansvar skal ikke overstige 667 SDR for hvert kollo eller anden enhed af godset eller 2 SDR pr. kilo bruttovægt af det gods, som er tabt, skadet eller forsinket, afhængigt af, hvad der giver det højeste beløb. Transportørens ansvar for forsinkelse med godsets udlevering er begrænset til et beløb svarende til to og en halv gange den fragt, der skal betales for det forsinkede gods. Transportørens samlede ansvar i henhold til stk. 1 og 2 skal ikke overstige den i\\n',\n",
       " 'Ved ransagning af husrum, andre lokaliteter eller genstande, som en mistænkt har rådighed over, må der kun foretages ransagning, hvis det er nødvendigt for at sikre, at den pågældende ikke har til hensigt at begå en lovovertrædelse, der efter loven kan medføre fængsel i 6 år eller derover. 2. maj 2018 kl. 12:00 - 17:00. Tiltrådt af et enigt ansættelsesudvalg. Afskedigelse af en tjenestemand, der har været ansat i en tidsbegrænset stillin\\n',\n",
       " '2) Hvis afdøde var ugift, separeret eller efterlader sig en ægtefælle, der ikke var samlevende med afdøde enten ved udløbet af det seneste indkomstår forud for dødsfaldet eller ved dødsfaldet, foretages der ingen skatteansættelse vedrørende det seneste afsluttede indkomstår forud for dødsfaldet eller vedrørende mellemperioden. Afdødes krav på beløb efter § 1 i lov om skattefri kompensation for forhøjede energi- og miljøafgifter vedrørende det seneste indkomstår forud for dødsfaldet og vedrørende mellemperioden anses for endeligt afgjort med nedsættelsen af den foreløbige skat, jf.\\n',\n",
       " 'Transportministeren kan bemyndige Aarhus Letbane I/S til at udøve ministerens beføjelser i denne lov. Aarhus Letbane I/S kan overlade sine beføjelser i nærmere bestemt omfang til Midtjyske Jernbaner, DSB eller Banedanmark i forbindelse med udførelse af anlægsarbejde på stationer og på Odderbanen og Grenaabanen. Transportministeren kan fastsætte regler om adgangen til at klage over afgørelser, der træffes efter denne lov, for så vidt bestemmelser herom ikke er fastsat i loven, herunder om klagefrister og om, at\\n',\n",
       " '1. Betaler: Betaler: Modtager: Betalingsformidler: Mellembetalingsformidler: Pengeoverførsel: Batchfiloverførsel: Entydig identifikator:\\n',\n",
       " '2 Side 2 af 5\\n',\n",
       " '2.1.1.1.1.1.1.1.1.1.1.1.1.1.1.1.1.1.1.1.1.1.1.1.1.1.1.1.1.1.1.1.1.1.1.1.1.1.1.1.1.1.1.1.1.1.1.1.1.1\\n',\n",
       " 'Ministeren for børn, undervisning og ligestilling afgiver årligt en opfølgningsrapport til Sydslesvigudvalget om de modtagne årsrapporter og rapporter med en vurdering af, om de i det forudgående finansår udbetalte tilskud er anvendt i overensstemmelse med udvalgets afgørelser.\\n',\n",
       " 'Indfødsret meddeles til følgende personer, som er statsborgere i andre vestlige lande end lande i Norden: Asta Armonaviciute, Asta Armonaviciute, Jessica Gabriella Atodiresei-Dallerup, Andreas Berg, Lisbet Mikkelsen Buhl, Herle Christine Christiansen, Jan Manolieto Diekmann, Svend Duggen, Katrine Helen Fagerlund, Lotte Louise Fagerlund, Jessica Sheheresade Gholami Haghighifard,\\n',\n",
       " 'Den dataansvarlige kan afvise at imødekomme\\n',\n",
       " 'Med henblik på at opnå den bedst mulige overensstemmelse mellem slutskatterne og de foreløbige skattebeløb, jf. § 42, kan skatteministeren bestemme, at der skal foretages en procentvis forhøjelse eller nedsættelse af indkomstgrundlaget m.v. efter § 52, stk. 1-3, for alle skattepligtige eller for grupper af skattepligtige.\\n',\n",
       " 'En grænseoverskridende spaltning er en spaltning, hvor en eller flere virksomheder, der er hjemmehørende i Danmark, og som har aktiviteter, der er omfattet af denne lov, eller som er omfattet af en aftale om grænseoverskridende fusion, spaltning eller tilførsel af aktiver, der er indgået med en eller flere virksomheder, der er hjemmehørende i Danmark, og som har aktiviteter, der er omfattet af denne lov, eller som er omfattet af en aftale om grænseoverskridende fusion, spaltning eller tilførsel af aktiver, der er indgået med\\n',\n",
       " 'Familieretshusets Børneenhed yder støtte og rådgivning til børn, der er berørt af familieretlige problemstillinger. Børneenheden varetager bl.a. følgende opgaver: At udpege en børnesagkyndig medarbejder som kontaktperson for et barn, jf. § 17. At udpege en børnesagkyndig medarbejder som kontaktperson for et barn, jf. § 17. At yde støtte til, at et barn får en bisidder, jf. § 18, stk. 1. At tilbyde børnesagkyndig rådgivning til børn efter §\\n',\n",
       " '2) Kommunalbestyrelsens beslutning om at yde støtte til en døgninstitution, jf. § 2, stk. 1, nr. 1, skal træffes af kommunalbestyrelsen. 3) Kommunalbestyrelsens beslutning om at yde støtte til en døgninstitution, jf. § 2, stk. 1, nr. 2, skal træffes af kommunalbestyrelsen. 4) Kommunalbestyrelsens beslutning om at yde støtte til en døgninstitution, jf. § 2, stk. 1, nr. 3, skal træffes af kommunalbestyrelsen.\\n',\n",
       " '2) § 2, stk. 1, nr. 1, litra a, der er ændret ved § 1.1 i lov nr. 538 af 08.06.2006 fra d. 01.01.2007. § 2, stk. 1, nr. 1, litra a, der er ændret ved § 1.1 i lov nr. 538 af 08.06.2006 fra d. 01.01.2007. § 2, stk. 1, nr.\\n',\n",
       " 'Kommunalbestyrelsen skal sørge for, at et jobcenter som en særskilt del af kommunens forvaltning udfører den kommunale beskæftigelsesindsats, jf. §§ 6 og 7. Kommunalbestyrelsen kan beslutte, at jobcenteret også varetager andre opgaver. Spørgsmål: Hvad skal vedtægterne for et kapitalselskab indeholde oplysning om? Svar: Vedtægterne skal indeholde oplysning om, at kapitalselskabet er et kapitalselskab, og at det er et selvstændigt skattesubjekt. Spørgsmål: Hvad skal vedtægterne for et kapitalselskab indeholde oplysning om? Svar: Vedtægterne ska\\n',\n",
       " '3 Side 3 af 5\\n',\n",
       " '2) Hvis kapitalejeren ikke rettidigt har indbetalt det udestående beløb, kan kapitalejeren ikke udøve stemmeret på generalforsamlingen. 3) Hvis kapitalejeren ikke rettidigt har indbetalt det udestående beløb, kan kapitalejeren ikke udøve stemmeret på generalforsamlingen. 4) Hvis kapitalejeren ikke rettidigt har indbetalt det udestående beløb, kan kapitalejeren ikke udøve stemmeret på generalforsamlingen. 5) Hvis kapitalejeren ikke rettidigt har indbetalt det udestående beløb, kan kapitalejeren ikke udøve stemmeret på generalforsamlingen. 6) Hvis kapitalejeren ikke rettidigt\\n',\n",
       " 'Indfødsret meddeles til følgende personer, som er statsløse eller statsborgere i MENAP-lande eller Tyrkiet: Maria Bader Abu - Khaleefa, Maria Bader Abu - Khaleefa, Nishan Ahmad, Jana Belal Al Hajhe, Mariam Raafat Al Yassin, Maya Shadi Al-Asadi, Elin Rahaf Hamad Al-Zuheiri, Omar Ataallah, Jessica Basnet, Jeer Shwan Ah\\n',\n",
       " 'Indfødsret meddeles til følgende personer, som er statsborgere i andre vestlige lande end lande i Norden: Laila Susanne Ahmedi, Laila Susanne Ahmedi, Shamaila Maria Ahmedi, Susanne Anna Ams, Nehle Bastiansen, Henri Parker Bot IV, Monika Brune, Katrien Vibeke Cortebeeck, Annemarie Dunbar, Sabine Ehlert-Pejtersen, Gregory Easdon Glen, Karen Hamilton, Bodil D\\n',\n",
       " 'Kapitalselskabets vedtægter skal indeholde bestemmelser om, at kapitalejerne har ret til at deltage i ledelsen af kapitalselskabet. Kapitalselskabets vedtægter skal indeholde bestemmelser om, at kapitalejerne har ret til at deltage i ledelsen af kapitalselskabet. Kapitalselskabets vedtægter skal indeholde bestemmelser om, at kapitalejerne har ret til at deltage i ledelsen af kapitalselskabet. Kapitalselskabets vedtægter skal indeholde bestemmelser om, at kapitalejerne har ret til at deltage i ledelsen af kapitalselskabet. Kapitalselskabets vedtægter skal indeholde bestemmelser om, at kapitalejerne ha\\n',\n",
       " '2) Lejeforhøjelser, der gennemføres i medfør af §§ 23 og 127-130, skal godkendes af kommunalbestyrelsen. 3) Lejeforhøjelser, der gennemføres i medfør af §§ 23 og 127-130, skal godkendes af kommunalbestyrelsen. 4) Lejeforhøjelser, der gennemføres i medfør af §§ 23 og 127-130, skal godkendes af kommunalbestyrelsen. 5) Lejeforhøjelser, der gennemføres i medfør af §§ 23 og 127-130, skal godkendes af kommunalbestyrelsen. 6) Leje\\n',\n",
       " 'Med fængsel indtil 4 år straffes den, der er ansat ved kriminalforsorgen, og som har samleje med en person, der er optaget i en af kriminalforsorgens institutioner, og som er undergivet den pågældendes myndighed, ansat ved kriminalforsorgen, og som har samleje med en person, der er optaget i en af kriminalforsorgens institutioner, og som er undergivet den pågældendes myndighed, ansat ved politiet, og som har samleje med en person, der er frihedsberøvet og i politiets varetægt, elle\\n',\n",
       " 'Med henblik på at kontrollere at udførte energimærkninger er opsat i overensstemmelse med § 15 a, har klima-, energi- og forsyningsministeren, hvis det skønnes nødvendigt, til enhver tid og mod behørig legitimation uden retskendelse adgang til bygninger med et samlet etageareal på mere end 600\\n',\n",
       " 'Hvad der tilhører tredjemand eller af andre grunde ikke kan inddrages i konkursmassen, udleveres til den berettigede.\\n',\n",
       " '2 Side 2 af 5\\n',\n",
       " '2) § 11, stk. 3, nr. 1, litra a, litra b, og nr. 2, litra a, litra b, og nr. 3, litra a, litra b, og nr. 4, litra a, litra b, og nr. 5, litra a, litra b, og nr. 6, litra a, litra b, og nr. 7, litra a, litra b, og nr. 8, litra a, litra b, og nr.\\n',\n",
       " '2) landfogeden skal virke for, at der etableres et kriminalitetsforebyggende samarbejde mellem politiet og andre myndigheder, herunder andre offentlige myndigheder, og at der i samarbejde med disse myndigheder iværksættes en række forebyggende foranstaltninger, herunder at der etableres et kriminalitetsforebyggende samarbejde mellem politiet og andre myndigheder, herunder andre offentlige myndigheder, og at der i samarbejde med disse myndigheder iværksættes en række forebyggende foranstaltninger, herunder at der etableres et kriminalitetsforebyggende samarbejde mellem politiet og andre myndigheder, herunder andre offentlige myndigheder, og at der i\\n',\n",
       " '2) § 7, stk. 1, nr. 1, i lov om behandling af personoplysninger, der er udstedt i medfør af § 7, stk. 1, i lov om behandling af personoplysninger, jf. lovbekendtgørelse nr. 913 af 13. juli 2010, som ændret ved lov nr. 523 af 12. juni 2009, § 1 i lov nr. 523 af 12. juni 2009, § 1 i lov nr. 523 af 12. juni 2009, § 1 i lov\\n',\n",
       " 'Indenrigs- og sundhedsministeren fastsætter regler om forældremyndighedsindehaveres digitale adgang til en mindreårigs helbredsoplysninger og andre fortrolige oplysninger fra elektroniske systemer, herunder patientjournaler m.v. fra offentlige og private behandlingssteder og offentlige og private dataansvarlige, når den mindreårige som følge af kognitiv funktionsnedsættelse el.lign. har behov for særlig støtte til at varetage sine interesser i forbindelse med behandling. 2 Side 2 af 5 Indenrigs- og sundhedsministeren fastsætter regler om, at forældremyndighedsindehavere kan f\\n',\n",
       " 'Indfødsret meddeles til følgende personer, som er statsløse eller statsborgere i MENAP-lande eller Tyrkiet: Maria Bader Abu - Khaleefa, Maria Bader Abu - Khaleefa, Nishan Ahmad, Jana Belal Al Hajhe, Mariam Raafat Al Yassin, Maya Shadi Al-Asadi, Elin Rahaf Hamad Al-Asadi, Omar Ataallah, Jessica Basnet, Jeer Shwan Ahmed Da\\n',\n",
       " 'En advokat kan kun have beskæftigelse ved siden af sin tjenestemandsstilling, for så vidt og i det omfang det er foreneligt med den samvittighedsfulde udøvelse af de til advokatstillingen knyttede pligter og med den for stillingen nødvendige agtelse og tillid.\\n',\n",
       " '2 Side 2 af 5\\n',\n",
       " 'Indfødsret meddeles til følgende personer, som er statsborgere i andre vestlige lande end lande i Norden: Wiebke Annette Mundt, Wiebke Annette Mundt, Daniel Antal-Paulauskas, Miriam Bang, Richard Anders Batchelor, Luna Bongart, Leon Bossen, Michael Edward Brewer, Aidas Buemann, Frank-Martin Baasch, Karen Diederichsen, Jan Einfeldt, Kay-Hermann Einfeldt, Tanja En\\n',\n",
       " '2) En virksomhed, som har ansat minimum 10 personer, der gør tjeneste som besætningsmedlemmer på et luftfartøj, og som har en samlet årlig omsætning på mindst 50 mio. kr. 3) En virksomhed, som har ansat minimum 10 personer, der gør tjeneste som besætningsmedlemmer på et luftfartøj, og som har en samlet årlig omsætning på mindst 50 mio. kr. 4) En virksomhed, som har ansat minimum 10 personer, der gør tjeneste som besætningsmedlemmer på et luftfartøj,\\n',\n",
       " '§ 13, stk. 1. Sikkerhedsstyrelsen kan uden betaling udtage elektrisk materiel til brug for kontrollen efter § 13, stk. 1. § 13, stk. 1. Sikkerhedsstyrelsen kan uden betaling udtage elektrisk materiel til brug for kontrollen efter § 13, stk. 1. § 13, stk. 1. Sikkerhedsstyrelsen kan uden betaling udtage elektrisk materiel til brug for kontrollen efter § 13, stk. 1. § 13, stk. 1. Sikkerhedsstyrelsen kan uden betalin\\n',\n",
       " 'Et kapitalcenters indtægter består af rente og lignende indtægter af pantebreve, gebyrer, indtægter vedrørende finansielle instrumenter og lignende indtægter samt afkast af kapitalcenterets aktiver og ikkebalanceførte poster. Et kapitalcenters udgifter består af rente og lignende udgifter af udstedte obligationer, udgifter til administration m.v., udgifter vedrørende finansielle instrumenter, udgifter forbundet med optagelse og forrentning af hybrid kernekapital og ansvarlig lånekapital, tab og hensættelser til sandsynliggjorte tab på kapitalcenterets aktiver og ikkebalanceførte poster samt andelen af\\n',\n",
       " 'Told- og skatteforvaltningen afgiver oplysninger til og modtager oplysninger fra de kompetente myndigheder på Færøerne, i Grønland og i fremmede stater og områder i overensstemmelse med bestemmelserne i: Rådets direktiv 2003/48/EF om beskatning af indtægter fra opsparing i form af rentebetalinger eller andre ordninger vedrørende dette direktiv. Rådets direktiv 2003/48/EF om beskatning af indtægter fra opsparing i form af rentebetalinger eller andre ordninger vedrørende dette direktiv. Rådets direktiv 2011/16/EU om administrativt samarbejde på beskatningsområdet og om ophævelse af direktiv\\n',\n",
       " 'En kapitalejer kan på den ordinære generalforsamling eller på en generalforsamling, hvor emnet er sat på dagsordenen, fremsætte forslag om en granskning af selskabets stiftelse eller af nærmere angivne forhold vedrørende selskabets forvaltning eller af visse regnskaber. Vedtages forslaget ikke, men opnår det dog tilslutning fra kapitalejere, som repræsenterer 25 pct. af selskabskapitalen, kan en kapitalejer senest 4 uger efter generalforsamlingens afholdelse anmode skifteretten på selskabets hjemsted om at udnævne granskningsmænd. Bestemmelserne om uafhængighed i revisorlovens § 24 finder tilsvarende anvendelse\\n',\n",
       " '§ 4 finder ikke anvendelse, i det omfang andet følger af særlig lovgivning. Loven er ikke til hinder for, at der i medfør af anden lov, i medfør af bestemmelser med hjemmel i anden lov eller i øvrigt ved offentlig foranstaltning iværksættes foranstaltninger, som har til formål at forbedre beskæftigelsesmulighederne for personer af en bestemt race, hudfarve, religion eller tro, politisk anskuelse, seksuel orientering, kønsidentitet, kønsudtryk eller kønskarakteristika eller national, social eller etnisk oprindelse eller med en bestemt alder elle\\n',\n",
       " 'For hver kandidatliste sammentælles de stemmer, der er tilfaldet kandidatlisten i samtlige opstillingskredse under ét. Det samlede stemmetal for hvert valgforbund samt stemmetallet for hver kandidatliste, der ikke har indgået valgforbund, divideres med 1, 2, 3 osv., indtil der er foretaget et så stort antal divisioner som det antal mandater, der højst kan ventes at tilfalde valgforbundet henholdsvis kandidatlisten. Det antal mandater, der er tilfaldet et valgforbund, fordeles mellem de\\n',\n",
       " 'Kapitel 4.1. Kapitel 4.2. Kapitel 4.3. Kapitel 4.4. Kapitel 4.5. Kapitel 4.6. Kapitel 4.7. Kapitel 4.8. Kapitel 4.9. Kapitel 4.10. Kapitel 4.11. Kapitel 4.12. Kapitel 4.13. Kapitel 4.14. Kapitel 4.15. Kapitel 4.16. Kapitel 4.17. Kapitel 4.18. Kapitel 4.19. Kapitel 4.20.\\n',\n",
       " '4 Side 4 af 5 Efter hvilken lovs regler behandles et administrationsbo under konkursbehandling? Indsæt svar her baseret på de relevante paragraffer: Efter hvilken lovs regler behandles et administrationsbo under konkursbehandling? Indsæt svar her baseret på de relevante paragraffer: Efter hvilken lovs regler behandles et administrationsbo under konkursbehandling? Indsæt svar her baseret på de relevante paragraffer: Efter hvilken lovs regler behandles et administrationsbo under konkursbehandling? Indsæt svar her baseret på de relevante paragraffer: Efter hvilken lovs regler behandles et\\n',\n",
       " 'Indfødsret meddeles til følgende personer, som er statsborgere i andre ikkevestlige lande end MENAP-lande og Tyrkiet: Salwah Lund Africa, Salwah Lund Africa, Elisabeth Jijeisvili Andersen, Hinano Andersen, Yanee Namwong Austeen, Mykhailo Babeshyn, Melissa Birketoft, Suli Huyen Anh Christensen, Tina Viet Ha Christensen, Mattias Moeslund Cortez, Clara Dia\\n',\n",
       " '2 Side 2 af 5\\n',\n",
       " '1. Virksomheden skal have status af: a. Virksomhed b. Anpartsselskab c. Anpartsselskab med begrænset ansvar d. Anpartsselskab med begrænset ansvar med begrænset hæftelse e. Anpartsselskab med begrænset ansvar med begrænset hæftelse med begrænset hæftelse f. Anpartsselskab med begrænset ansvar med begrænset hæftelse med begrænset hæftelse g. Anpartsselskab med begrænset ansvar med begrænset hæftelse med begrænset hæftelse h. Anpartsselskab med begrænset ansvar med begrænset hæftelse med begrænset hæftelse i. Anpartsselskab med begrænset ansvar med\\n',\n",
       " 'Får personer, som hører til et andet medlemsland i EU end Danmark, ret til at få tilbagebetalt jf. § 45, stk. 1? § 781, stk. 1, nr. 3: Hvis en person, der er statsborger i et land, der er medlem af EU, og som har bopæl i Danmark, har begået en lovovertrædelse, der efter loven kan medføre fængsel i 1 år og 6 måneder eller derover, og den pågældende har bopæl i Danmark, kan politiet anvende oplysninge\\n',\n",
       " '2 Side 2 af 5\\n',\n",
       " 'Dagtilbud skal fremme børns trivsel, læring, udvikling og dannelse gennem trygge og pædagogiske læringsmiljøer, hvor legen er grundlæggende, og hvor der tages udgangspunkt i et børneperspektiv. Dagtilbud skal i samarbejde med forældrene give børn omsorg og understøtte det enkelte barns trivsel, læring, udvikling og dannelse og bidrage til, at børn får en god og tryg opvækst. Børn i dagtilbud skal have et fysisk, psykisk og æstetisk børnemiljø, som fremmer deres trivsel, sundhed, udvikling og læring. Dagtilbud skal i samarbejde med forældrene sikre børn en\\n',\n",
       " 'Lov om socialtilsyn. 3 Side 3 af 5\\n',\n",
       " 'Indfødsret meddeles til følgende personer, som er statsborgere i lande i Norden: Hadir Athar Azaizi, Hadir Athar Azaizi, Kjetil Arnljot Gudmundset Bergheim, Yorgi Bunyoz, Mariam Ibrahim Fadel Chehadeh, Sarinti Nimpuno Christensen, Eva Katrin Dobosz, Rasmus Benjamin Ejder, Trine Maasø Fyrst, Ekaterina Harmin\\n',\n",
       " 'Indfødsret meddeles til følgende personer, som er statsborgere i andre ikkevestlige lande end MENAP-lande og Tyrkiet: Max Leif Barchard, Max Leif Barchard, Kannika Bjartalið, Emmarose de Guzman Brandt, Ratchanon Wangsom Bugge, Irma Burnic, Earl Joseph Cariñosa Caasi, Edna Davidsen, Phissinee Paralad Demant, Henry Xleti Ezi, Kingsley\\n',\n",
       " '3 3/7\\n',\n",
       " 'Den, som ved vanrøgt eller nedværdigende behandling krænker sin ægtefælle, sit barn eller nogen hans myndighed eller forsorg undergiven person under 18 år eller en i opstigende linie beslægtet eller besvogret, eller som ved modvillig at unddrage sig en ham over for nogen af de nævnte personer påhvilende forsørgelses- eller bidragspligt udsætter dem for nød, straffes med fængsel indtil 2 år.\\n',\n",
       " 'For krænkelse af offentlig myndighed dømmes den, som med vold eller trussel om vold eller med hån, skældsord eller anden fornærmelig tiltale overfalder nogen, som det påhviler at handle i medfør af offentlig tjeneste eller hverv, under udførelsen af tjenesten eller hvervet eller i anledning af samme.\\n',\n",
       " 'Under domstolene hører: Civile retssager. Civile retssager. Kriminalsager. Skiftesager. Sager om umyndiggørelse og lavværgemål. Faderskabssager. Ægteskabs- og forældremyndighedssager. Sager om prøvelse af administrativt bestemt frihedsberøvelse. Sager om prøvelse af beslutning om adop\\xadtion uden samtykke. Sager om prøvelse af beslutning om adoption uden samtykke. Sager om prøvelse af afgørelser om tilhold, opholdsforbud og bortvisning. Andre sager, som i medfør af lovgivningen er henlagt ti\\n',\n",
       " '2 2. Hvor mange år må en dom om anbringelse ikke overstige? (1) (2) (3) (4) (5) (6) (7) (8) (9) (10) (11) (12) (13) (14) (15) (16) (17) (18) (19) (20) (21) (22) (23) (24) (25) (26) (27) (28) (\\n',\n",
       " '2 Side 2 af 5 En afgørelse truffet af Familieretshuset, der går ud på separation, skilsmisse eller omstødelse af ægteskab, eller hvorved et ægteskab er kendt ikkebestående, har virkning, når 4-ugersfristen efter § 41, stk. 1, er udløbet. Frafalder en part retten efter § 39, stk. 1, til at anmode om, at en afgørelse omfattet af stk. 1 indbringes for familieretten, har afgørelsen virkning fra det tidspunkt, hvor Familieret\\n',\n",
       " '§ 29, stk. 2. Finanstilsynet afgiver i samarbejde med Konkurrence- og Forbrugerstyrelsen årligt til erhvervsministeren en rapport over status for udstedelse af regler om god skik og for erfaringerne med reglernes anvendelse, jf. § 29, stk. 2. § 29, stk. 2. Finanstilsynet afgiver i samarbejde med Konkurrence- og Forbrugerstyrelsen årligt til erhvervsministeren en rapport over status for udstedelse af regler om god skik og for erfaringerne med reglernes anvendelse, jf. § 29, stk. 2. §\\n',\n",
       " 'For forurettedes stilling gælder reglerne i kapitel 33.\\n',\n",
       " '2 2. Skatteministeren kan efter forhandling med Naalakkersuisut fastsætte særlige regler for lystfartøjer ved anvendelse af bemyndigelserne i kapitel 2, 6, 7, 8 og 10.\\n',\n",
       " 'Ved samordning forstås i denne lov, at der oprettes et samordningsudvalg, der har til opgave at samordne de opgaver, der påhviler de kommunale myndigheder, og som har til formål at samordne de opgaver, der påhviler de selvejende institutioner, der er nævnt i lov om kommunernes styrelse, og som er oprettet i medfør af denne lov.\\n',\n",
       " 'Registrerede virksomheder er berettiget til fra udlandet at modtage og fra andre registrerede virksomheder at få tilført varer som nævnt i bilag 1, uden at afgiften er berigtiget.\\n',\n",
       " 'Hvis lensnævnet skønner, at en skov, der hører til et af de nuværende majorater, har en særlig forstlig eller almen interesse, kan det bestemme, at det offentlige skal have forkøbsret til skoven efter følgende regler: Senest 1 måned efter, at der er udnævnt et lensnævn angående et majorats overgang til fri ejendom, skal nævnet offentlig indkalde begæringer om brug af forkøbsret til skove, der hører under majoratet. For de skove, der således er udpegede af nævnet, bestemme\\n',\n",
       " '2)\\tI forbindelse med en investering i et investeringsinstitut, der er omfattet af lov om investeringsforeninger m.v., skal der betales en afgift på 15 pct. af den del af den investerede kapital, der overstiger et grundbeløb på kr. (2010-niveau). 3)\\tI forbindelse med en investering i et investeringsinstitut, der er omfattet af lov om investeringsforeninger m.v., skal der betales en afgift på 15 pct. af den del af den investerede kapital, de\\n',\n",
       " 'Loven træder i kraft dagen efter bekendtgørelsen i Lovtidende. Lovforslaget kan stadfæstes straks efter dets vedtagelse. Lov nr. 1261 af 16. december 2009 om Den Europæiske Politienhed (Europol) ophæves den 1. maj 2017.\\n',\n",
       " 'Ophører forsikringsaftalen, uden at ny forsikring er trådt i kraft, skal forsikreren vedblive at hæfte for nuklear skade, der skyldes ulykke, som indtræffer inden 2 måneder efter, at forsikreren skriftligt har underrettet justitsministeren om aftalens ophør.\\n']"
      ]
     },
     "execution_count": 25,
     "metadata": {},
     "output_type": "execute_result"
    }
   ],
   "source": [
    "random_answers"
   ]
  },
  {
   "cell_type": "code",
   "execution_count": 19,
   "metadata": {},
   "outputs": [],
   "source": [
    "def calculate_bleu(answers, gold_answers):\n",
    "    scores = []\n",
    "    for answer, gold_answer in zip(answers, gold_answers):\n",
    "        score = sentence_bleu([gold_answer], answer, smoothing_function=SmoothingFunction().method1)\n",
    "        scores.append(score)\n",
    "    return scores\n",
    "\n",
    "def calculate_rouge(answers, gold_answers):\n",
    "    rouge1_scores = []\n",
    "    rouge2_scores = []\n",
    "    rougeL_scores = []\n",
    "    scorer = rouge_scorer.RougeScorer(['rouge1', 'rouge2', 'rougeL'], use_stemmer=True)\n",
    "    \n",
    "    for answer, gold_answer in zip(answers, gold_answers):\n",
    "        scores = scorer.score(answer, gold_answer)\n",
    "        rouge1_scores.append(scores['rouge1'].fmeasure)\n",
    "        rouge2_scores.append(scores['rouge2'].fmeasure)\n",
    "        rougeL_scores.append(scores['rougeL'].fmeasure)\n",
    "        \n",
    "    return rouge1_scores, rouge2_scores, rougeL_scores\n",
    "\n",
    "def calculate_meteor(answers, gold_answers):\n",
    "    scores = []\n",
    "    for answer, gold_answer in zip(answers, gold_answers):\n",
    "        answer_tokens = answer.split()\n",
    "        gold_answer_tokens = gold_answer.split()\n",
    "        score = meteor_score([gold_answer_tokens], answer_tokens, gamma=0.0) # set gamma (word order penalty) to 0 to avoid bug where two identical sentences are not scored 1\n",
    "        scores.append(score)\n",
    "    return scores\n"
   ]
  },
  {
   "cell_type": "code",
   "execution_count": 30,
   "metadata": {},
   "outputs": [
    {
     "name": "stdout",
     "output_type": "stream",
     "text": [
      "BLEU: 0.06535894659682062\n",
      "ROUGE-L: 0.044419446900313526\n",
      "METEOR: 0.07943291113182534\n"
     ]
    }
   ],
   "source": [
    "print(f\"BLEU: {np.mean(calculate_bleu(random_answers, dev_set['answer']))}\")\n",
    "print(f\"ROUGE-L: {np.mean(calculate_rouge(random_answers, dev_set['answer'])[2])}\")\n",
    "print(f\"METEOR: {np.mean(calculate_meteor(random_answers, dev_set['answer']))}\")\n"
   ]
  },
  {
   "cell_type": "code",
   "execution_count": 33,
   "metadata": {},
   "outputs": [
    {
     "name": "stdout",
     "output_type": "stream",
     "text": [
      "BLEU: 0.1122419548289757\n",
      "ROUGE-L: 0.10222230224439338\n",
      "METEOR: 0.14409572606976204\n"
     ]
    }
   ],
   "source": [
    "print(f\"BLEU: {np.mean(calculate_bleu(neo_k1_answer, dev_set['answer']))}\")\n",
    "print(f\"ROUGE-L: {np.mean(calculate_rouge(neo_k1_answer, dev_set['answer'])[2])}\")\n",
    "print(f\"METEOR: {np.mean(calculate_meteor(neo_k1_answer, dev_set['answer']))}\")"
   ]
  },
  {
   "cell_type": "code",
   "execution_count": 4,
   "metadata": {},
   "outputs": [],
   "source": [
    "def answer_len(path):\n",
    "    with open(path, 'r') as file:\n",
    "    # Read all lines into a list\n",
    "        answers = file.readlines()\n",
    "\n",
    "    return np.mean([len(item) for item in answers])\n"
   ]
  },
  {
   "cell_type": "code",
   "execution_count": 11,
   "metadata": {},
   "outputs": [
    {
     "name": "stdout",
     "output_type": "stream",
     "text": [
      "Neo CLS\n",
      "216.29126213592232\n",
      "340.15533980582524\n",
      "359.3980582524272\n"
     ]
    }
   ],
   "source": [
    "print('Neo CLS')\n",
    "print(answer_len('output/inference/neo_gen_bert_cls_k1.txt'))\n",
    "print(answer_len('output/inference/neo_gen_bert_cls_k2.txt'))\n",
    "print(answer_len('output/inference/neo_gen_bert_cls_k3.txt'))"
   ]
  },
  {
   "cell_type": "code",
   "execution_count": 12,
   "metadata": {},
   "outputs": [
    {
     "name": "stdout",
     "output_type": "stream",
     "text": [
      "Neo max\n",
      "227.0\n",
      "357.4757281553398\n",
      "381.1456310679612\n"
     ]
    }
   ],
   "source": [
    "print('Neo max')\n",
    "print(answer_len('output/inference/neo_gen_bert_max_k1.txt'))\n",
    "print(answer_len('output/inference/neo_gen_bert_max_k2.txt'))\n",
    "print(answer_len('output/inference/neo_gen_bert_max_k3.txt'))"
   ]
  },
  {
   "cell_type": "code",
   "execution_count": 13,
   "metadata": {},
   "outputs": [
    {
     "name": "stdout",
     "output_type": "stream",
     "text": [
      "Neo mean\n",
      "339.7864077669903\n",
      "386.15533980582524\n",
      "410.873786407767\n"
     ]
    }
   ],
   "source": [
    "print('Neo mean')\n",
    "print(answer_len('output/inference/neo_gen_bert_mean_k1.txt'))\n",
    "print(answer_len('output/inference/neo_gen_bert_mean_k2.txt'))\n",
    "print(answer_len('output/inference/neo_gen_bert_mean_k3.txt'))"
   ]
  },
  {
   "cell_type": "code",
   "execution_count": 16,
   "metadata": {},
   "outputs": [
    {
     "name": "stdout",
     "output_type": "stream",
     "text": [
      "Neo BM25\n",
      "389.0388349514563\n",
      "482.0194174757282\n",
      "481.4466019417476\n"
     ]
    }
   ],
   "source": [
    "print('Neo BM25')\n",
    "print(answer_len('output/inference/neo_gen_bm25_k1.txt'))\n",
    "print(answer_len('output/inference/neo_gen_bm25_k2.txt'))\n",
    "print(answer_len('output/inference/neo_gen_bm25_k3.txt'))"
   ]
  },
  {
   "cell_type": "code",
   "execution_count": 18,
   "metadata": {},
   "outputs": [
    {
     "name": "stdout",
     "output_type": "stream",
     "text": [
      "Neo TF-IDF\n",
      "339.41747572815535\n",
      "447.29126213592235\n",
      "446.8349514563107\n"
     ]
    }
   ],
   "source": [
    "print('Neo TF-IDF')\n",
    "print(answer_len('output/inference/neo_gen_tfidf_k1.txt'))\n",
    "print(answer_len('output/inference/neo_gen_tfidf_k2.txt'))\n",
    "print(answer_len('output/inference/neo_gen_tfidf_k3.txt'))"
   ]
  },
  {
   "cell_type": "code",
   "execution_count": null,
   "metadata": {},
   "outputs": [],
   "source": []
  }
 ],
 "metadata": {
  "kernelspec": {
   "display_name": "base",
   "language": "python",
   "name": "python3"
  },
  "language_info": {
   "codemirror_mode": {
    "name": "ipython",
    "version": 3
   },
   "file_extension": ".py",
   "mimetype": "text/x-python",
   "name": "python",
   "nbconvert_exporter": "python",
   "pygments_lexer": "ipython3",
   "version": "3.12.2"
  }
 },
 "nbformat": 4,
 "nbformat_minor": 2
}
