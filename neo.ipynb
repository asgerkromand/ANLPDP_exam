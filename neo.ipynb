{
 "cells": [
  {
   "cell_type": "code",
   "execution_count": 20,
   "metadata": {},
   "outputs": [],
   "source": [
    "from transformers import pipeline\n",
    "import torch\n",
    "import pandas as pd\n",
    "from tqdm import tqdm\n",
    "import nltk\n",
    "import numpy as np"
   ]
  },
  {
   "cell_type": "code",
   "execution_count": null,
   "metadata": {},
   "outputs": [
    {
     "name": "stdout",
     "output_type": "stream",
     "text": [
      "Using device: mps\n"
     ]
    }
   ],
   "source": [
    "# Set the device to MPS if available\n",
    "\n",
    "device = torch.device(\"mps\") if torch.backends.mps.is_available() else \"cpu\"\n",
    "print(f\"Using device: {device}\")\n",
    "\n",
    "# Load the pipeline and move the model to MPS\n",
    "generator = pipeline(\n",
    "    \"text-generation\",\n",
    "    model=\"KennethTM/gpt-neo-1.3B-danish\",\n",
    "    device= \"mps\" if torch.backends.mps.is_available() else \"cpu\"\n",
    "\n",
    ")"
   ]
  },
  {
   "cell_type": "code",
   "execution_count": 5,
   "metadata": {},
   "outputs": [
    {
     "data": {
      "text/html": [
       "<div>\n",
       "<style scoped>\n",
       "    .dataframe tbody tr th:only-of-type {\n",
       "        vertical-align: middle;\n",
       "    }\n",
       "\n",
       "    .dataframe tbody tr th {\n",
       "        vertical-align: top;\n",
       "    }\n",
       "\n",
       "    .dataframe thead th {\n",
       "        text-align: right;\n",
       "    }\n",
       "</style>\n",
       "<table border=\"1\" class=\"dataframe\">\n",
       "  <thead>\n",
       "    <tr style=\"text-align: right;\">\n",
       "      <th></th>\n",
       "      <th>question, str</th>\n",
       "      <th>answer, str</th>\n",
       "      <th>text, str</th>\n",
       "      <th>pnumber, str</th>\n",
       "      <th>law number, str</th>\n",
       "    </tr>\n",
       "  </thead>\n",
       "  <tbody>\n",
       "    <tr>\n",
       "      <th>0</th>\n",
       "      <td>Hvad har ejeren af en ejerlejlighed, sammen me...</td>\n",
       "      <td>Grunden, fælles bestanddele og tilbehør</td>\n",
       "      <td>'Ejeren af en ejerlejlighed har sammen med and...</td>\n",
       "      <td>3</td>\n",
       "      <td>LOV nr 908 af 18/06/2020</td>\n",
       "    </tr>\n",
       "    <tr>\n",
       "      <th>1</th>\n",
       "      <td>Hvem fastsætter eller aftaler bestemmelser om ...</td>\n",
       "      <td>Finansministeren fastsætter eller aftaler best...</td>\n",
       "      <td>'Højskolen skal følge de af finansministeren f...</td>\n",
       "      <td>30</td>\n",
       "      <td>LBK nr 780 af 08/08/2019</td>\n",
       "    </tr>\n",
       "    <tr>\n",
       "      <th>2</th>\n",
       "      <td>Hvad skal Beskæftigelsesministeriet og Finanst...</td>\n",
       "      <td>Den indsendte årsrapport skal i det mindste in...</td>\n",
       "      <td>'Uden ugrundet ophold efter repræsentantskabet...</td>\n",
       "      <td>25 l</td>\n",
       "      <td>LBK nr 1110 af 10/10/2014</td>\n",
       "    </tr>\n",
       "    <tr>\n",
       "      <th>3</th>\n",
       "      <td>Hvor mange procent må kapitalandele i og lån y...</td>\n",
       "      <td>Kapitalandele i og lån ydet til en virksomhed ...</td>\n",
       "      <td>'Følgende grænser for Arbejdsmarkedets Tillægs...</td>\n",
       "      <td>26 e</td>\n",
       "      <td>LBK nr 1110 af 10/10/2014</td>\n",
       "    </tr>\n",
       "    <tr>\n",
       "      <th>4</th>\n",
       "      <td>Hvad er en betingelse for retten til jobpræmie?</td>\n",
       "      <td>Det er en betingelse for retten til jobpræmie ...</td>\n",
       "      <td>'Det er en betingelse for retten til jobpræmie...</td>\n",
       "      <td>9</td>\n",
       "      <td>LOV nr 287 af 29/03/2017</td>\n",
       "    </tr>\n",
       "  </tbody>\n",
       "</table>\n",
       "</div>"
      ],
      "text/plain": [
       "                                       question, str  \\\n",
       "0  Hvad har ejeren af en ejerlejlighed, sammen me...   \n",
       "1  Hvem fastsætter eller aftaler bestemmelser om ...   \n",
       "2  Hvad skal Beskæftigelsesministeriet og Finanst...   \n",
       "3  Hvor mange procent må kapitalandele i og lån y...   \n",
       "4    Hvad er en betingelse for retten til jobpræmie?   \n",
       "\n",
       "                                         answer, str  \\\n",
       "0            Grunden, fælles bestanddele og tilbehør   \n",
       "1  Finansministeren fastsætter eller aftaler best...   \n",
       "2  Den indsendte årsrapport skal i det mindste in...   \n",
       "3  Kapitalandele i og lån ydet til en virksomhed ...   \n",
       "4  Det er en betingelse for retten til jobpræmie ...   \n",
       "\n",
       "                                           text, str pnumber, str  \\\n",
       "0  'Ejeren af en ejerlejlighed har sammen med and...            3   \n",
       "1  'Højskolen skal følge de af finansministeren f...           30   \n",
       "2  'Uden ugrundet ophold efter repræsentantskabet...         25 l   \n",
       "3  'Følgende grænser for Arbejdsmarkedets Tillægs...         26 e   \n",
       "4  'Det er en betingelse for retten til jobpræmie...            9   \n",
       "\n",
       "             law number, str  \n",
       "0   LOV nr 908 af 18/06/2020  \n",
       "1   LBK nr 780 af 08/08/2019  \n",
       "2  LBK nr 1110 af 10/10/2014  \n",
       "3  LBK nr 1110 af 10/10/2014  \n",
       "4   LOV nr 287 af 29/03/2017  "
      ]
     },
     "execution_count": 5,
     "metadata": {},
     "output_type": "execute_result"
    }
   ],
   "source": [
    "qa = pd.read_excel('/Users/adamwagnerhoegh/Documents/SODAS/sem3/nlp_itu/Legal questions Adam.xlsx')\n",
    "qa.head()"
   ]
  },
  {
   "cell_type": "code",
   "execution_count": 9,
   "metadata": {},
   "outputs": [
    {
     "name": "stderr",
     "output_type": "stream",
     "text": [
      "Answering questions:   0%|          | 0/39 [00:00<?, ?it/s]Setting `pad_token_id` to `eos_token_id`:50256 for open-end generation.\n",
      "Answering questions:   3%|▎         | 1/39 [00:11<07:25, 11.72s/it]Setting `pad_token_id` to `eos_token_id`:50256 for open-end generation.\n",
      "Answering questions:   5%|▌         | 2/39 [00:23<07:04, 11.48s/it]Setting `pad_token_id` to `eos_token_id`:50256 for open-end generation.\n",
      "Answering questions:   8%|▊         | 3/39 [00:34<06:53, 11.47s/it]Setting `pad_token_id` to `eos_token_id`:50256 for open-end generation.\n",
      "Answering questions:  10%|█         | 4/39 [00:44<06:25, 11.01s/it]Setting `pad_token_id` to `eos_token_id`:50256 for open-end generation.\n",
      "Answering questions:  13%|█▎        | 5/39 [00:56<06:18, 11.15s/it]Setting `pad_token_id` to `eos_token_id`:50256 for open-end generation.\n",
      "Answering questions:  15%|█▌        | 6/39 [01:05<05:45, 10.47s/it]Setting `pad_token_id` to `eos_token_id`:50256 for open-end generation.\n",
      "Answering questions:  18%|█▊        | 7/39 [01:14<05:18,  9.96s/it]Setting `pad_token_id` to `eos_token_id`:50256 for open-end generation.\n",
      "Answering questions:  21%|██        | 8/39 [01:21<04:39,  9.01s/it]Setting `pad_token_id` to `eos_token_id`:50256 for open-end generation.\n",
      "Answering questions:  23%|██▎       | 9/39 [01:30<04:35,  9.19s/it]Setting `pad_token_id` to `eos_token_id`:50256 for open-end generation.\n",
      "Answering questions:  26%|██▌       | 10/39 [01:41<04:38,  9.62s/it]Setting `pad_token_id` to `eos_token_id`:50256 for open-end generation.\n",
      "Answering questions:  28%|██▊       | 11/39 [01:51<04:34,  9.80s/it]Setting `pad_token_id` to `eos_token_id`:50256 for open-end generation.\n",
      "Answering questions:  31%|███       | 12/39 [02:00<04:17,  9.55s/it]Setting `pad_token_id` to `eos_token_id`:50256 for open-end generation.\n",
      "Answering questions:  33%|███▎      | 13/39 [02:11<04:16,  9.87s/it]Setting `pad_token_id` to `eos_token_id`:50256 for open-end generation.\n",
      "Answering questions:  36%|███▌      | 14/39 [02:20<04:03,  9.73s/it]Setting `pad_token_id` to `eos_token_id`:50256 for open-end generation.\n",
      "Answering questions:  38%|███▊      | 15/39 [02:28<03:41,  9.25s/it]Setting `pad_token_id` to `eos_token_id`:50256 for open-end generation.\n",
      "Answering questions:  41%|████      | 16/39 [02:39<03:43,  9.73s/it]Setting `pad_token_id` to `eos_token_id`:50256 for open-end generation.\n",
      "Answering questions:  44%|████▎     | 17/39 [02:49<03:33,  9.70s/it]Setting `pad_token_id` to `eos_token_id`:50256 for open-end generation.\n",
      "Answering questions:  46%|████▌     | 18/39 [03:00<03:30, 10.05s/it]Setting `pad_token_id` to `eos_token_id`:50256 for open-end generation.\n",
      "Answering questions:  49%|████▊     | 19/39 [03:10<03:23, 10.17s/it]Setting `pad_token_id` to `eos_token_id`:50256 for open-end generation.\n",
      "Answering questions:  51%|█████▏    | 20/39 [03:19<03:07,  9.89s/it]Setting `pad_token_id` to `eos_token_id`:50256 for open-end generation.\n",
      "Answering questions:  54%|█████▍    | 21/39 [03:27<02:47,  9.30s/it]Setting `pad_token_id` to `eos_token_id`:50256 for open-end generation.\n",
      "Answering questions:  56%|█████▋    | 22/39 [03:34<02:23,  8.43s/it]Setting `pad_token_id` to `eos_token_id`:50256 for open-end generation.\n",
      "Answering questions:  59%|█████▉    | 23/39 [03:42<02:13,  8.33s/it]Setting `pad_token_id` to `eos_token_id`:50256 for open-end generation.\n",
      "Answering questions:  62%|██████▏   | 24/39 [03:53<02:16,  9.09s/it]Setting `pad_token_id` to `eos_token_id`:50256 for open-end generation.\n",
      "Answering questions:  64%|██████▍   | 25/39 [04:02<02:08,  9.15s/it]Setting `pad_token_id` to `eos_token_id`:50256 for open-end generation.\n",
      "Answering questions:  67%|██████▋   | 26/39 [04:11<01:58,  9.14s/it]Setting `pad_token_id` to `eos_token_id`:50256 for open-end generation.\n",
      "Answering questions:  69%|██████▉   | 27/39 [04:19<01:47,  8.92s/it]Setting `pad_token_id` to `eos_token_id`:50256 for open-end generation.\n",
      "Answering questions:  72%|███████▏  | 28/39 [04:27<01:32,  8.40s/it]Setting `pad_token_id` to `eos_token_id`:50256 for open-end generation.\n",
      "Answering questions:  74%|███████▍  | 29/39 [04:37<01:29,  8.96s/it]Setting `pad_token_id` to `eos_token_id`:50256 for open-end generation.\n",
      "Answering questions:  77%|███████▋  | 30/39 [04:46<01:20,  8.96s/it]Setting `pad_token_id` to `eos_token_id`:50256 for open-end generation.\n",
      "Answering questions:  79%|███████▉  | 31/39 [04:56<01:14,  9.31s/it]Setting `pad_token_id` to `eos_token_id`:50256 for open-end generation.\n",
      "Answering questions:  82%|████████▏ | 32/39 [05:06<01:06,  9.50s/it]Setting `pad_token_id` to `eos_token_id`:50256 for open-end generation.\n",
      "Answering questions:  85%|████████▍ | 33/39 [05:19<01:02, 10.48s/it]Setting `pad_token_id` to `eos_token_id`:50256 for open-end generation.\n",
      "Answering questions:  87%|████████▋ | 34/39 [05:29<00:52, 10.52s/it]Setting `pad_token_id` to `eos_token_id`:50256 for open-end generation.\n",
      "Answering questions:  90%|████████▉ | 35/39 [05:38<00:39,  9.99s/it]Setting `pad_token_id` to `eos_token_id`:50256 for open-end generation.\n",
      "Answering questions:  92%|█████████▏| 36/39 [05:47<00:29,  9.80s/it]Setting `pad_token_id` to `eos_token_id`:50256 for open-end generation.\n",
      "Answering questions:  95%|█████████▍| 37/39 [05:58<00:20, 10.11s/it]Setting `pad_token_id` to `eos_token_id`:50256 for open-end generation.\n",
      "Answering questions:  97%|█████████▋| 38/39 [06:07<00:09,  9.68s/it]Setting `pad_token_id` to `eos_token_id`:50256 for open-end generation.\n",
      "Answering questions: 100%|██████████| 39/39 [06:16<00:00,  9.66s/it]\n"
     ]
    }
   ],
   "source": [
    "questions = [item for item in qa['question, str']]\n",
    "\n",
    "answers = []\n",
    "\n",
    "for item in tqdm(questions, desc='Answering questions'):\n",
    "\n",
    "    # Perform text generation\n",
    "    text = generator(\n",
    "        f\"Spørgsmål: {item} Svar: \",\n",
    "        max_length=100,\n",
    "        num_return_sequences=1,  # Generate a single sequence\n",
    "        do_sample=True\n",
    "    )\n",
    "\n",
    "    answers.append(text[0][\"generated_text\"])"
   ]
  },
  {
   "cell_type": "code",
   "execution_count": 14,
   "metadata": {},
   "outputs": [
    {
     "data": {
      "text/plain": [
       "str"
      ]
     },
     "execution_count": 14,
     "metadata": {},
     "output_type": "execute_result"
    }
   ],
   "source": [
    "type(answers[0])"
   ]
  },
  {
   "cell_type": "code",
   "execution_count": 15,
   "metadata": {},
   "outputs": [],
   "source": [
    "answers2 = [item.split('Svar:')[1] for item in answers]"
   ]
  },
  {
   "cell_type": "code",
   "execution_count": 16,
   "metadata": {},
   "outputs": [
    {
     "data": {
      "text/plain": [
       "[' \\x03Det er ejerlejlighedernes ejere, der har ret til at anvende fællesarealer, herunder fælles vaskeri, på egen foranledning. Dette skal ske efter regler for fordeling af beboernes brugsret. Hvad er fordele og ulemper? ',\n",
       " ' ʺStk. 1. Løn- og ansættelsesvilkår fastsættes af bestyrelsen i samarbejde med skolens ansatte i overensstemmelse med den til enhver tid gældende overenskomst mellem finansministeren og en faglig organisation inden for det pågældende område. Stk. 2. Bestyrelsen for skolen har ansvaret for, at løn- og ansættelsesvilkår til skolens ansatte til enhver tid afspejler de krav om løn- og ansættelsesvilkår, der er beskrevet i aftalen',\n",
       " ' ʺFor at en redegørelse (rapportering, redegørelse for den finansielle stilling, redegørelse for virksomhedsledelse eller ledelsesberetning) kan betragtes som fyldestgørende og dermed afgives til tilsynsmyndigheden, skal ledelsesberetning for det seneste regnskabsår være suppleret med redegørelse for den finansielle stilling og ledelsesberetning samt redegørelse for virksomhedens økonomiske stilling i balancen.«\\n5 5 3. Finanstilsynets vurdering I Finanstilsynets rapport nr. 203/1999 om tilsynet med erhvervsdrivende',\n",
       " ' ƒ 0% af selskabskapitalen\\nVedtaget på selskabets generalforsamling den 3. maj 2018 og godkendt af generalforsamlingen den 15. maj 2018.På grund af vores meget omfattende internationale netværk er det lykkedes os at skabe et udvalg af stærke og nøje udvalgte kvalitetsvarer, som fås i en bred vifte af farver og finishes til enhver smag samt til ethvert behov.\\nVores omfattende',\n",
       " ' ʺAnsat, der har været beskæftiget i mindst 8 timer pr. uge i de seneste 28 kalendermåneder forud for ansøgningens indgivelse. Ansat, der har været beskæftiget i mindst 8 timer pr. uge i de seneste 12 kalendermåneder, men ikke mere, kan dog få udbetalt jobpræmie, hvis de har en indtægt på kr. eller derover i hver af de seneste tolv måneder.... (kilde: BABA)',\n",
       " ' ............................................ 22\\n22 Spørgsmål: Skal foreningen være berettiget til at modsætte sig, at en ny bestyrelse vælges før den først valgte? ',\n",
       " ' ʼTil grund for lovændringen lå overvejelser om, at det er ønskeligt at udvide lovgivers ansvar til også at omfatte skolernes tilrettelæggelse af undervisningen. Dette behov er i overensstemmelse med det almindelige princip, at ansvaret for undervisningens kvalitet ligger hos ministeren og ikke hos skolerne. Hvis skolerne ikke selv kan tilrettelægge undervisningen, må skolens ledelse sikre et grundlag for disse ændringer. Det er desuden naturligt, at',\n",
       " ' ʺIAEA konventionen blev ikke inkorporeret i lov om sikkerhed m.v. i forbindelse med vedtagelse af lov nr. 923 af 23. december 1986 om oprettelse af en ordning for international bistand til forebyggelse af nukleare forbrydelser. Da konventionen ikke havde været under udarbejdelse i over et år,',\n",
       " ' \\x01\\nDen kommunale medfinansiering af forsikrede ledige afhænger af ledighedens størrelse. For at sikre, at en øget andel af de forsikrede ledige ikke får forringet service, er der en række forhold, der skal tages hensyn til. Som det fremgår af spørgsmål og svar i bilag 1, så omfatter det statslige refusionsgrundlag ikke kommunernes udgifter til kommunal medfinansiering af løntilskud efter lov om en aktiv beskæftigelsesindsats.\\nDet',\n",
       " ' ............. den 6. december 2009 kl. 19.30. Der er ingen, der har svaret.\\nSpørgsmål: Kan politiet tillade ransagning med hjemmel i persondatalovens § 8, stk. 3, at \"Den fysiske person er ikke ansvarlig for indholdet af det, som kommer ind i hans/hendes besiddelse, eller for indgreb i det selv.\\nSpørgsmål: Hvornår kan brevåbning og brevstandsning foretages? ',\n",
       " ' .......og det gælder også ved renovering.........den brandtekniske byggesag er den samlede vurdering af, hvordan vi kan komme til at leve med et evt. brand i din bolig.........men en samlet vurdering har stor betydning for, om vi skal arbejde videre med brandsikring af boliger, eller om vi skal gå i gang med en brandteknisk byggesag....... Det gælder både ved renovering og nybygning.........vi',\n",
       " ' ʺ... hvis det er en person, der har været i politiets søgelys, og hvis der er sket fejl som politiet har begået, har vedkommende pligt til at forklare, hvad der er sket. Det kan f.eks. være i straffesager eller i andre typer af sager, hvor en person er mistænkt, eller hvor politiet mener at have noget, der er',\n",
       " ' ʺMan må gerne være bachelor og kandidat i samme forløb uanset om det er på et universitet eller på en professionshøjskole. Man skal bare være optaget på et universitet ved studiestart, og man skal bestå optagelsesprøven. ʺ2. maj Har de overhovedet ikke forstået, hvad det helt går ud på? Der er jo kun en vej at gå: At blive bedre til at finde de rigtige kompetencer til. En',\n",
       " ' \\x07Det er alene for at styrke konkurrenceevnen \\x07at give tilskud til nyhedsmedier, som har likviditetsvanskeligheder. \\x07Det vil sige, at vi i stedet for at give tilskud, skal kræve merbidrag til dækning af underskuddet. \\x07Det er kun et spørgsmål om at skabe vækst og gode vilkår for erhvervslivet. \\x07Det samme vil gælde de virksomheder, som',\n",
       " ' \\x07En ansøger kan indgive en anmodning til Patent- og Varemærkestyrelsen til en dansk registreringsmyndighed om at dele en dansk varemærkeregistrering i to eller flere særskilte registreringer. En ansøger kan også indgive en anmodning til Patent- og Varemærkestyrelsen til en udenlandsk registreringsmyndighed om at dele en dansk varemærkeregistrering i to eller flere særskilte registreringer. Begge',\n",
       " ' ƒ§ 1. (I. A. 337) I praksis anvendes begrebet \"udbytte\" mest generelt, og hvad der er omfattet af begrebet, er i praksis ikke altid klart. Det er derfor almindeligt, at beskatningen efter SL §§ 1 og 2 vil være forskellig for forskellige slags udbytter, f.eks. aktier (i A-indkomst) og andelsbeviser (i B-indkomst). (I. A. 337',\n",
       " ' \\x07Gebyr for fornyelse af kørekort skal være klart adskilt fra et eventuelt gebyr for erhvervelse af licens efter regning. Der henvises til justitsministeriets bekendtgørelse nr. 716 af 18. juni 2011 af færdselsloven.\\n',\n",
       " ' _______ er en statskontrolleret isbryder underlagt _______ dens egen myndighed. ___________ er ikke underlagt dens egen myndighed _______ En havn på Bahamas, kunne nægte at modtage skibe i isbrydertilknytning på grund af dets myndighedsbeføjelse. ___________ er heller ikke underlagt dens egen myndighed, men den er underlagt Bahamas',\n",
       " ' !!!!!!!!! Den enkelte skole har mulighed for at have specielle aftaler med deres egne brugere, men det er ikke nødvendigvis de samme brugere, som har behov for særlige standsningssteder. Når en bruger har brugt sit standsningssted, kan brugeren frit gå et andet sted hen. Men for de brugere, som fx har brug for mere plads, kan det være praktisk at købe ekstra pladser. Hvorfor findes der ikke en samlet oversigt',\n",
       " ' ..... Der er ikke nogen \"væsentlig\" risiko for forurening, men der er en overhængende fare for væsentlig forurening (forurening fra olie eller kemikalier), der skal rapporteres straks til tilsynsmyndigheden..............\\n\"Påbud om, at der skal ske en undersøgelse af en olietank for indhold af oliespild, såfremt olietanken har været anvendt',\n",
       " ' \\u202f”Spørg efter en forklaring, hvis svaret er uklart”.\\nEn pensionsordning i PFA Pension er tilknyttet en opsparing i en investeringsforening, som forvalter formuen. Når du fylder 67 år, og du bliver berettiget til folkepension, har du mulighed for at indbetale op til kr. 40.000 til en særlig pension.\\nDin',\n",
       " ' \\u202fI henhold til Kommissionens forordning (EF) nr. 714/2009 af 16. juni 2009, som indeholder en ikke-udtømmende liste over, hvilke aktiviteter der klassificeres som dopingkontrol, dopingkontrol, anmeldelse og indbringelse af',\n",
       " ' \\x03I det følgende gennemgås de nærmere regler for, hvorledes sikkerheden for atomaffald, som er relevant for denne bekendtgørelse, sikres.\\n§ 37 a. Den, der driver et nukleart anlæg eller en nukleare anlæg, kan i stedet for de i stk. 2 nævnte certifikater vælge mellem et officielt',\n",
       " ' ʺDer kan alene behandles sager, hvor Sundhedsstyrelsen har fået klager vedrørende en bestemt type vaccine. I andre sager med klager er den kompetente myndighed i Danmark det sted, hvor der er klager vedrørende et bestemt produkt. Men Sundhedsstyrelsen har pligt til at behandle klager fra Sundhedsstyrelsen selv.ʺ (s. 301). Det er Sundhedsstyrelsens pligt til at svare nævnet uanset om sagen behandles af egen drift. Man',\n",
       " ' .....\\n1.1. En begunstigets rettigheder indtræder i en anden begunstigets retsstilling, medmindre der er tale om en begunstigende\\ntestamente, jf. vedtægten for tjenestemænd og ansatte efter aftale om ansættelsesvilkår med videre,\\nBegunstigede, der er indtrådt i en begunstigelsesindsattes retsstilling over boets',\n",
       " ' قبل الــــثـــثــــــــــــــــــــــــــ',\n",
       " ' \\x07Denne forskrift omfatter ikke virksomheder, der allerede har indarbejdet drifts- eller sikkerhedsbestemmelser i en tidligere anordning eller bekendtgørelse. Disse virksomheder skal i henhold til den tidligere lovgivning stadig overholde deres drifts- eller sikkerhedsbestemmelser, før de kan fortsætte med disse beskyttelsesforanstaltninger, som denne forskrift omfatter.\\nSpørgsmål: Hvad er omfattet af denne forskrift? ',\n",
       " ' \\x07»Offentlige myndigheder«under det nuværende navn: http://www.dk.google.com/glocal?hl=da&q=category%3Dlitteratur&sa=t&ie=UTF8&ie',\n",
       " ' ʹTjenesteboligʹ defineres i det følgende som bolig, der udelukkende er beregnet til at modtage og indkvartere tjenestegørende tjenestemænd og personer i tjeneste under deres ansættelse hos arbejdsgiveren eller en af denne anvist tjenestebolig. Tjenesteboligers indretning, vedligeholdelse og de faktiske arbejdsforhold må ikke medføre, at de offentlige tjenestetidsbestemmelser vil blive i strid med bestemmelser om tjenesteboligers indretning, vedligeholdelse og de faktiske arbejdsforhold for',\n",
       " ' \\x07Enkeltmedlemmer i Sydslesvigudvalget, som ikke er medlemmer af bestyrelsen Bestyrelsen (formand, næstformand og kasserer)\\nSylt-Slesvig: Dansk-Tysk Forbund og Schleswiger-Institutt samt det tyske mindretal i Flensborg er blevet enige om at etablere et fælles sekretariat i Slesvig. Sekretariatet skal varetage en række opgaver, bl.a.',\n",
       " ' ʺEn bygning, som både bruges til uddannelsesformål, har en funktion og bruges til noget. Den er et sted, som er beregnet til at kunne bruges til at udføre forskellige funktioner. Det er derfor vigtigt, der sker en løbende vedligeholdelse, så bygningen fortsat kan brugesʺ. I samme forbindelse svarer Jens Peter Kjær på et spørgsmål om, hvordan Professionshøjskolen i højere grad skal være med til at støtte og påvirke lokalsamfundet',\n",
       " ' \\x07Jeg har ikke kendskab til afskedigelser af kirkelige medarbejder, provster og biskopper.\\nPastor Kaj Sørensen, Tjørring, er for tiden i gang med et menighedsrådsbehandlingsforløb i Tjørring sogn, hvor han skal have løst et internt problem i menighedsrådet. Det drejer sig om at flytte et orgel fra Tjørring kirke til Aagård kirke.\\nSpørgsmål: Skal der i forbindelse med flytning af',\n",
       " ' \\x02 Statstællingen \\x02: http://www.stat.dk/data/Statstælling/1.5.1.1.5.1 (understattet for 2015)\\nEr det muligt at se en liste over alle danske partier og kandidater? På den enkelte kandidat er der i højre hjørne øverst i feltet på stemmesedlen skrevet en \"X\" så det er muligt at se, hvem der er opstillet til valget.',\n",
       " ' ʺDen, der som led i det daglige arbejde eller på anden måde kommer i berøring med de pågældende genstande, skal være vidende om, at sådanne genstande findes på arbejdspladsen.ʺ\\nEr der her tale om en systematisk fremgangsmåde efter en anerkendt metode? ',\n",
       " ' ￼ Det er ikke umiddelbart muligt at angive en konkret grænse, men Folketinget har i forbindelse med den tidligere togfond besluttet, at der skal skabes grundlag for, at anlæg over en beløbsgrænse på op til 2 mia. kr. kan medtages i den statslige investeringsoversigt for de kommende år ( ). Vi skal derfor drøfte, hvorledes vi bedst kan realisere',\n",
       " ' .....at kvinden ikke er blevet informeret om at den pågældende behandling er et assisteret reproduktions - indgreb?? ',\n",
       " ' ʺProduktionsgrunduddannelsen er i det hele taget præget at en række gode uddannelser, der er tilrettelagt med fokus på, at de studerende også skal kunne varetage en karrieremæssig funktion på et arbejdsmarked der er stærkt forandret efter de nye regler om beskæftigelse. Når man som studerende har været i praktik i en virksomhed eller fået en viden om et fagområde, så er det vigtigt at kunne kombinere teori med praksis. For at opnå kompetence,',\n",
       " ' ʺ§ 6, stk. 1 fastslår, at kommunalbestyrelsen kan fastsætte nærmere regler om rensning af skorstene og røgkanaler i bygninger. ʺStk. 2 indeholder en opregning af de bestemmelser, der kan fastsætte nærmere regler om eftersyn i bygninger. Bestemmelserne skal indeholde regler, som sikrer, at skorstene og røgkanaler af ejeren sikres i',\n",
       " ' \\x07 Det er Naalakkersuisut, og de enkelte departementer/forvaltninger kan ansøge om at blive udpeget af Naalakkersuisut som sekretariat for en eller flere internationale organisationer. Grønlands Selvstyre giver hvert år til de internationale organisationer, så de kan orientere sig om, hvilke internationale organisationer, der gør brug af det i år. \\x07 I 2011 har Nuuk, Sisimiut og Ilulissat ansøgt om at blive']"
      ]
     },
     "execution_count": 16,
     "metadata": {},
     "output_type": "execute_result"
    }
   ],
   "source": [
    "answers2"
   ]
  },
  {
   "cell_type": "code",
   "execution_count": 18,
   "metadata": {},
   "outputs": [
    {
     "name": "stdout",
     "output_type": "stream",
     "text": [
      "Error at index 35\n"
     ]
    },
    {
     "name": "stderr",
     "output_type": "stream",
     "text": [
      "/Users/adamwagnerhoegh/miniconda3/lib/python3.12/site-packages/nltk/translate/bleu_score.py:577: UserWarning: \n",
      "The hypothesis contains 0 counts of 4-gram overlaps.\n",
      "Therefore the BLEU score evaluates to 0, independently of\n",
      "how many N-gram overlaps of lower order it contains.\n",
      "Consider using lower n-gram order or use SmoothingFunction()\n",
      "  warnings.warn(_msg)\n"
     ]
    }
   ],
   "source": [
    "# calculate BLEU-scores for this:\n",
    "\n",
    "bleu_scores = []\n",
    "idx = 0\n",
    "\n",
    "for pred_answer, true_answer in zip(answers, list(qa['answer, str'])):\n",
    "    try:\n",
    "        bleu_scores.append(nltk.translate.bleu_score.sentence_bleu([true_answer], pred_answer))\n",
    "    except:\n",
    "        print(f'Error at index {idx}')\n",
    "    idx += 1"
   ]
  },
  {
   "cell_type": "code",
   "execution_count": 21,
   "metadata": {},
   "outputs": [
    {
     "data": {
      "text/plain": [
       "0.10743160673601584"
      ]
     },
     "execution_count": 21,
     "metadata": {},
     "output_type": "execute_result"
    }
   ],
   "source": [
    "np.mean(bleu_scores)"
   ]
  },
  {
   "cell_type": "code",
   "execution_count": null,
   "metadata": {},
   "outputs": [],
   "source": []
  }
 ],
 "metadata": {
  "kernelspec": {
   "display_name": "base",
   "language": "python",
   "name": "python3"
  },
  "language_info": {
   "codemirror_mode": {
    "name": "ipython",
    "version": 3
   },
   "file_extension": ".py",
   "mimetype": "text/x-python",
   "name": "python",
   "nbconvert_exporter": "python",
   "pygments_lexer": "ipython3",
   "version": "3.12.2"
  }
 },
 "nbformat": 4,
 "nbformat_minor": 2
}
