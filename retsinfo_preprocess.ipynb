{
 "cells": [
  {
   "cell_type": "code",
   "execution_count": 447,
   "metadata": {},
   "outputs": [],
   "source": [
    "import json\n",
    "from tqdm import tqdm\n",
    "import seaborn as sns\n",
    "import matplotlib.pyplot as plt\n",
    "from sklearn.feature_extraction.text import TfidfVectorizer\n",
    "import regex as re\n",
    "from nltk.corpus import stopwords\n",
    "import pandas as pd"
   ]
  },
  {
   "cell_type": "code",
   "execution_count": null,
   "metadata": {},
   "outputs": [],
   "source": [
    "# Import data from json file with uft-8 encoding so that \\xa0 is not a problem. \n",
    "with open('/Users/adamwagnerhoegh/Documents/Legal data/domsdatabasen.retsinformation_newer.json', encoding = 'utf-8') as f:\n",
    "    retsinfo = json.load(f)\n",
    "# Replace \\xa0 with a space in the loaded data\n",
    "def replace_nbsp(obj):\n",
    "    if isinstance(obj, dict):\n",
    "        return {k: replace_nbsp(v) for k, v in obj.items()}\n",
    "    elif isinstance(obj, list):\n",
    "        return [replace_nbsp(i) for i in obj]\n",
    "    elif isinstance(obj, str):\n",
    "        return obj.replace('\\xa0', ' ')\n",
    "    else:\n",
    "        return obj\n",
    "\n",
    "retsinfo = replace_nbsp(retsinfo)"
   ]
  },
  {
   "cell_type": "code",
   "execution_count": null,
   "metadata": {},
   "outputs": [
    {
     "name": "stdout",
     "output_type": "stream",
     "text": [
      "Chapter: 13\n",
      "Paragraph: 6\n"
     ]
    },
    {
     "data": {
      "text/plain": [
       "{'nummer': '§ 45 d.',\n",
       " 'index': 6,\n",
       " 'stk': [{'tekst': 'Se note 2. Se note 2. virksomheder, der indsamler affald, virksomheder, der indsamler affald, affaldstransportører, anlæg, der behandler genanvendeligt erhvervsaffald, forhandlere og mæglere af affald og personer, der har bevis for at kunne forestå indberetning af data og miljømæssig forsvarlig håndtering af affaldet, jf. § 7, stk. 3, nr. 4.',\n",
       "   'index': 0},\n",
       "  {'tekst': 'Klima-, energi- og forsyningsministeren kan endvidere fastsætte regler om virksomheders, anlægs, transportørers, forhandleres og mægleres og personers pligt til at tilmelde sig registrene og om deres pligt til at indberette oplysninger hertil.',\n",
       "   'index': 1}]}"
      ]
     },
     "metadata": {},
     "output_type": "display_data"
    }
   ],
   "source": [
    "# A key is called \"shortName\" and contains the law number.\n",
    "def inspect_a_law(law_number_shortname):\n",
    "    for law in retsinfo:\n",
    "        if law['shortName'] == law_number_shortname:\n",
    "            return law\n",
    "        \n",
    "def get_paragraph(law, paragraph_number):\n",
    "    for chapter in law['kapitler']:\n",
    "        for paragraph in chapter['paragraffer']:\n",
    "            if paragraph['nummer'] == f'§ {paragraph_number}.':\n",
    "                # Print index for chapter and paragraph\n",
    "                print(f'Chapter: {law[\"kapitler\"].index(chapter)}')\n",
    "                print(f'Paragraph: {chapter[\"paragraffer\"].index(paragraph)}')\n",
    "                return paragraph\n",
    "\n",
    "law = inspect_a_law('LBK nr 928 af 28/06/2024')\n",
    "paragraph = get_paragraph(law, '45 d')\n",
    "paragraph"
   ]
  },
  {
   "cell_type": "code",
   "execution_count": 369,
   "metadata": {},
   "outputs": [
    {
     "data": {
      "text/plain": [
       "[{'nummer': '§ 1.',\n",
       "  'index': 0,\n",
       "  'stk': [{'tekst': 'Formålet med denne lov er at sikre forældre ret til fravær i forbindelse med graviditet, fødsel, adoption, herunder midlertidig placering, og sorgorlov m.v. og at sikre forældre ret til fravær i forbindelse med graviditet, fødsel, adoption, herunder midlertidig placering, og sorgorlov m.v. og at sikre forældre med tilknytning til arbejdsmarkedet ret til barselsdagpenge under fravær i forbindelse med graviditet, fødsel, adoption, herunder midlertidig placering, og sorgorlov og at sikre ret til dagpenge ved pasning af alvorligt syge børn m.v.',\n",
       "    'index': 0}]}]"
      ]
     },
     "execution_count": 369,
     "metadata": {},
     "output_type": "execute_result"
    }
   ],
   "source": [
    "# Inspecting the structure\n",
    "retsinfo[0]['kapitler'][0]['paragraffer']"
   ]
  },
  {
   "cell_type": "code",
   "execution_count": 370,
   "metadata": {},
   "outputs": [
    {
     "data": {
      "text/plain": [
       "{'nummer': 'Kapitel 1',\n",
       " 'titel': 'Formål',\n",
       " 'paragraffer': [{'nummer': '§ 1.',\n",
       "   'index': 0,\n",
       "   'stk': [{'tekst': 'Formålet med denne lov er at sikre forældre ret til fravær i forbindelse med graviditet, fødsel, adoption, herunder midlertidig placering, og sorgorlov m.v. og at sikre forældre ret til fravær i forbindelse med graviditet, fødsel, adoption, herunder midlertidig placering, og sorgorlov m.v. og at sikre forældre med tilknytning til arbejdsmarkedet ret til barselsdagpenge under fravær i forbindelse med graviditet, fødsel, adoption, herunder midlertidig placering, og sorgorlov og at sikre ret til dagpenge ved pasning af alvorligt syge børn m.v.',\n",
       "     'index': 0}]}]}"
      ]
     },
     "execution_count": 370,
     "metadata": {},
     "output_type": "execute_result"
    }
   ],
   "source": [
    "# Inspecting the structure\n",
    "retsinfo[0]['kapitler'][0]"
   ]
  },
  {
   "cell_type": "code",
   "execution_count": 371,
   "metadata": {},
   "outputs": [
    {
     "data": {
      "text/plain": [
       "'Formålet med denne lov er at sikre forældre ret til fravær i forbindelse med graviditet, fødsel, adoption, herunder midlertidig placering, og sorgorlov m.v. og at sikre forældre ret til fravær i forbindelse med graviditet, fødsel, adoption, herunder midlertidig placering, og sorgorlov m.v. og at sikre forældre med tilknytning til arbejdsmarkedet ret til barselsdagpenge under fravær i forbindelse med graviditet, fødsel, adoption, herunder midlertidig placering, og sorgorlov og at sikre ret til dagpenge ved pasning af alvorligt syge børn m.v.'"
      ]
     },
     "execution_count": 371,
     "metadata": {},
     "output_type": "execute_result"
    }
   ],
   "source": [
    "# Inspecting the structure\n",
    "retsinfo[0]['kapitler'][0]['paragraffer'][0]['stk'][0]['tekst']"
   ]
  },
  {
   "cell_type": "code",
   "execution_count": 372,
   "metadata": {},
   "outputs": [
    {
     "data": {
      "text/plain": [
       "{'nummer': '§ 2.',\n",
       " 'index': 0,\n",
       " 'stk': [{'tekst': 'Ret til fravær efter denne lov omfatter alle forældre.',\n",
       "   'index': 0},\n",
       "  {'tekst': 'Dagpenge efter denne lov ydes i form af barselsdagpenge til lønmodtagere og selvstændige erhvervsdrivende.',\n",
       "   'index': 1},\n",
       "  {'tekst': 'Det er en betingelse for retten til barselsdagpenge for de personer, som er nævnt i stk. 2, at personen opfylder beskæftigelseskravet efter § 27 for lønmodtagere eller § 28 for selvstændige erhvervsdrivende.',\n",
       "   'index': 2},\n",
       "  {'tekst': 'Barselsdagpenge, som lønmodtagere har ret til efter stk. 2 og 3, kan udbetales til arbejdsgivere, der har udbetalt løn under fraværet, jf. § 39, stk. 1.',\n",
       "   'index': 3},\n",
       "  {'tekst': 'Beskæftigelsesministeren fastsætter særlige regler om barselsdagpenge til søfarende.',\n",
       "   'index': 4}]}"
      ]
     },
     "execution_count": 372,
     "metadata": {},
     "output_type": "execute_result"
    }
   ],
   "source": [
    "# Inspecting\n",
    "retsinfo[0]['kapitler'][1]['paragraffer'][0]"
   ]
  },
  {
   "cell_type": "code",
   "execution_count": 373,
   "metadata": {},
   "outputs": [
    {
     "data": {
      "text/plain": [
       "dict_keys(['_id', 'AccessionNumber', 'DocumentTitle', 'Year', 'DiesSigni', 'Status', 'PopularTitle', 'Number', 'Ministry', 'UniqueDocumentId', 'changes', 'kapitler', 'Dato', 'url', 'dokumentType', 'shortName'])"
      ]
     },
     "execution_count": 373,
     "metadata": {},
     "output_type": "execute_result"
    }
   ],
   "source": [
    "retsinfo[0].keys()"
   ]
  },
  {
   "cell_type": "code",
   "execution_count": 374,
   "metadata": {},
   "outputs": [
    {
     "data": {
      "text/plain": [
       "'LBK nr 1069 af 25/09/2024'"
      ]
     },
     "execution_count": 374,
     "metadata": {},
     "output_type": "execute_result"
    }
   ],
   "source": [
    "retsinfo[0]['shortName']"
   ]
  },
  {
   "cell_type": "code",
   "execution_count": 375,
   "metadata": {},
   "outputs": [
    {
     "name": "stderr",
     "output_type": "stream",
     "text": [
      "100%|██████████| 1637/1637 [00:00<00:00, 26463.05it/s]\n"
     ]
    }
   ],
   "source": [
    "# Ide: tjek længder af paragraffer. Hvis de er omkring 450 tokens kan det være at det kun er en af gangen der skal retrieves.\n",
    "# Hvis det er tilfældet kan du måske frasortere alle paragraffer der er længere end 512 minus 50 tokens (context window minus maks længde genereret tekst)\n",
    "\n",
    "rag_list = []\n",
    "\n",
    "idx = 0\n",
    "\n",
    "for lov in tqdm(retsinfo):\n",
    "    for kapitel in lov['kapitler']:\n",
    "        lov_navn = lov['shortName']\n",
    "        for paragraffer in kapitel['paragraffer']:\n",
    "            temp_paragraf_dict = {}\n",
    "            temp_paragraf_dict['paragraf_nr'] = paragraffer['nummer']\n",
    "            temp_paragraf_dict['lovnavn'] = lov_navn\n",
    "            temp_paragraf_list = []\n",
    "            for styk in paragraffer['stk']:\n",
    "                temp_paragraf_list.append(styk['tekst'])\n",
    "            temp_paragraf_dict['text'] = ' '.join(temp_paragraf_list)\n",
    "            rag_list.append(temp_paragraf_dict)"
   ]
  },
  {
   "cell_type": "code",
   "execution_count": 376,
   "metadata": {},
   "outputs": [
    {
     "data": {
      "text/plain": [
       "{'paragraf_nr': '§ 34.',\n",
       " 'lovnavn': 'LBK nr 807 af 21/06/2024',\n",
       " 'text': 'Finanstilsynet kan fastsætte regler om foranstaltninger i forhold til lande og territorier med henblik på at opfylde krav eller anbefalinger fra Financial Action Task Force.'}"
      ]
     },
     "execution_count": 376,
     "metadata": {},
     "output_type": "execute_result"
    }
   ],
   "source": [
    "rag_list[5000]"
   ]
  },
  {
   "cell_type": "code",
   "execution_count": 377,
   "metadata": {},
   "outputs": [
    {
     "name": "stderr",
     "output_type": "stream",
     "text": [
      "/Users/adamwagnerhoegh/miniconda3/lib/python3.12/site-packages/transformers/tokenization_utils_base.py:1601: FutureWarning: `clean_up_tokenization_spaces` was not set. It will be set to `True` by default. This behavior will be depracted in transformers v4.45, and will be then set to `False` by default. For more details check this issue: https://github.com/huggingface/transformers/issues/31884\n",
      "  warnings.warn(\n"
     ]
    }
   ],
   "source": [
    "# Tokenizing all the paragraffer to see how long they generally are\n",
    "\n",
    "from transformers import AutoTokenizer, T5ForConditionalGeneration\n",
    "\n",
    "# Load the pretrained T5 model and tokenizer\n",
    "model_name = \"strombergnlp/dant5-large\"  \n",
    "tokenizer = AutoTokenizer.from_pretrained(model_name)\n",
    "model = T5ForConditionalGeneration.from_pretrained(model_name)\n"
   ]
  },
  {
   "cell_type": "code",
   "execution_count": 378,
   "metadata": {},
   "outputs": [],
   "source": [
    "# Creating a function to tokenize\n",
    "\n",
    "#max_length = 512-50\n",
    "\n",
    "def count_tokens(list):\n",
    "    temp_list = []\n",
    "    for item in tqdm(list):\n",
    "        temp_list.append(len(tokenizer(item, return_tensors=\"pt\", padding=True, truncation=True)['input_ids'][0]))\n",
    "    return temp_list\n"
   ]
  },
  {
   "cell_type": "code",
   "execution_count": 379,
   "metadata": {},
   "outputs": [
    {
     "data": {
      "text/plain": [
       "104"
      ]
     },
     "execution_count": 379,
     "metadata": {},
     "output_type": "execute_result"
    }
   ],
   "source": [
    "# Creating the skeleton for the function with an example\n",
    "\n",
    "len(tokenizer(rag_list[0]['text'], return_tensors=\"pt\")['input_ids'][0])"
   ]
  },
  {
   "cell_type": "code",
   "execution_count": 380,
   "metadata": {},
   "outputs": [
    {
     "name": "stderr",
     "output_type": "stream",
     "text": [
      "  0%|          | 0/42593 [00:00<?, ?it/s]Asking to truncate to max_length but no maximum length is provided and the model has no predefined maximum length. Default to no truncation.\n",
      "100%|██████████| 42593/42593 [00:13<00:00, 3105.74it/s]\n"
     ]
    }
   ],
   "source": [
    "# Creating a list of the token_lengths\n",
    "\n",
    "test_list = [item['text'] for item in rag_list]\n",
    "\n",
    "len_tokens = count_tokens(test_list)"
   ]
  },
  {
   "cell_type": "code",
   "execution_count": 381,
   "metadata": {},
   "outputs": [
    {
     "data": {
      "text/plain": [
       "42593"
      ]
     },
     "execution_count": 381,
     "metadata": {},
     "output_type": "execute_result"
    }
   ],
   "source": [
    "len(rag_list)"
   ]
  },
  {
   "cell_type": "code",
   "execution_count": 382,
   "metadata": {},
   "outputs": [
    {
     "data": {
      "image/png": "[encoded data removed]",
      "text/plain": [
       "<Figure size 640x480 with 1 Axes>"
      ]
     },
     "metadata": {},
     "output_type": "display_data"
    }
   ],
   "source": [
    "# Plotting the distribution of the text token lengths. This is important for RAG, as the documents being retrieved there will be on paragraf-level\n",
    "\n",
    "fig, ax = plt.subplots()\n",
    "sns.histplot(len_tokens, ax=ax)\n",
    "ax.set_xlim(1, 300)\n",
    "plt.show()"
   ]
  },
  {
   "cell_type": "code",
   "execution_count": 383,
   "metadata": {},
   "outputs": [],
   "source": [
    "# Saving lists as txt-files\n",
    "\n",
    "with open(\"rag_list.txt\", \"w\") as file:\n",
    "    for item in rag_list:\n",
    "        file.write(f\"{item}\\n\")"
   ]
  },
  {
   "cell_type": "code",
   "execution_count": 384,
   "metadata": {},
   "outputs": [],
   "source": [
    "subset = rag_list[28395:]"
   ]
  },
  {
   "cell_type": "code",
   "execution_count": 385,
   "metadata": {},
   "outputs": [],
   "source": [
    "# Sampling paragraphs to pick for question-answer pairs\n",
    "import random\n",
    "subset2 = random.sample(subset, 150)"
   ]
  },
  {
   "cell_type": "code",
   "execution_count": 386,
   "metadata": {},
   "outputs": [
    {
     "data": {
      "text/plain": [
       "{'paragraf_nr': '§ 91.',\n",
       " 'lovnavn': 'LBK nr 984 af 20/09/2019',\n",
       " 'text': 'En erhvervsdrivende fond kan efter bestemmelserne i dette kapitel opløses uden likvidation ved overdragelse af fondens aktiver og forpligtelser som helhed til en anden erhvervsdrivende fond. En erhvervsdrivende fond kan ophøre ved fusion efter stk. 1, hvis den fortsættende fonds formål er beslægtet med den ophørende fonds formål og den ophørende fonds formål vil blive væsentlig bedre varetaget ved fusionen eller vil blive væsentlig bedre varetaget ved fusionen eller ikke længere eller kun vanskeligt kan opfyldes eller er blevet uhensigtsmæssigt. En erhvervsdrivende fond kan deltage i en fusion efter stk. 1 som den fortsættende fond, når fusionen ikke strider mod fondens vedtægt og fusionen ikke strider mod fondens vedtægt og fusionen må antages at være i fondens interesse. Bestyrelsen i hver af de fusionerende fonde træffer beslutning om fusion med forbehold for fondsmyndighedens tilladelse i henhold til § 96. Hvis en ophørende fond har afsluttet et regnskabsår inden tidspunktet, hvor den ophørende fonds rettigheder og forpligtelser regnskabsmæssigt skal anses for overgået til den fortsættende fond, og bestyrelsen endnu ikke har godkendt årsrapporten for denne regnskabsperiode, skal bestyrelsen godkende årsrapporten for denne regnskabsperiode senest samtidig med beslutningen om fusion. Likvidator kan med fondsmyndighedens tilladelse beslutte eller tiltræde, at en erhvervsdrivende fond i likvidation hæver likvidationen for at deltage i en fusion som ophørende eller fortsættende fond, hvis uddeling af likvidationsprovenuet endnu ikke er påbegyndt. Skifteretten eller en af skifteretten udnævnt likvidator kan med fondsmyndighedens tilladelse beslutte eller tiltræde, at en erhvervsdrivende fond under tvangsopløsning kan deltage i en fusion som ophørende eller fortsættende fond. Kurator kan beslutte eller tiltræde, at en erhvervsdrivende fond under konkurs kan deltage i en fusion som den ophørende fond.'}"
      ]
     },
     "execution_count": 386,
     "metadata": {},
     "output_type": "execute_result"
    }
   ],
   "source": [
    "subset2[149]"
   ]
  },
  {
   "cell_type": "code",
   "execution_count": 387,
   "metadata": {},
   "outputs": [
    {
     "data": {
      "text/plain": [
       "'Ved grove eller gentagne overtrædelser af denne lov kan der ske konfiskation af det ved overtrædelsen anvendte motordrevne køretøj, hvortil der kræves kørekort, hvis det må anses for påkrævet for at forebygge yderligere overtrædelser af loven. Konfiskation skal ske, hvis ejeren af køretøjet har gjort sig skyldig i spirituskørsel med en promille over 1,20, der medfører ubetinget frakendelse af førerretten, og den pågældende to gange tidligere, inden for de seneste 3 år før det nye forhold er begået, har gjort sig skyldig i spirituskørsel med en promille over 1,20, der har medført ubetinget frakendelse af førerretten. Konfiskation efter stk. 2 skal ske, selv om køretøjet ikke er anvendt ved den aktuelle overtrædelse. Bestemmelsen i stk. 2 kan fraviges, når særlige grunde undtagelsesvis taler herfor. I øvrigt gælder reglerne om konfiskation i kriminalloven for Grønland.'"
      ]
     },
     "execution_count": 387,
     "metadata": {},
     "output_type": "execute_result"
    }
   ],
   "source": [
    "subset2[141]['text']"
   ]
  },
  {
   "cell_type": "code",
   "execution_count": null,
   "metadata": {},
   "outputs": [],
   "source": [
    "# Vectorising paragraphs\n",
    "\n",
    "rag_list2 = rag_list\n",
    "\n",
    "vectorizer = TfidfVectorizer()\n",
    "\n",
    "corpus = [item['text'] for item in rag_list]\n",
    "\n",
    "# Stem or lemmatize here?\n",
    "\n",
    "# lowercase\n",
    "corpus = [item.lower() for item in corpus]\n",
    "\n",
    "# remove special signs\n",
    "corpus = [re.sub('\\\\W|[0-9]|§', ' ', item) for item in corpus]\n",
    "\n",
    "# remove double (or more) whitespaces\n",
    "corpus = [re.sub('\\\\s{2,}', ' ', item) for item in corpus]\n",
    "\n",
    "# the step below removes very few words from the final document-feature matrix,\n",
    "# and TF-IDF might solve the stop word problem indirectly. So perhaps\n",
    "# we should just omit it, couldn't get the nltk word_tokenize to work anyway, \n",
    "# so I just used .split() (with whitespaces)\n",
    "\n",
    "# # tokenize and remove stop words (is this necessary when using TF-IDF?)\n",
    "# nltk.download('punkt')\n",
    "# stop_words = set(stopwords.words('danish'))\n",
    "# corpus = [' '.join([word for word in item.split() if word not in stop_words]) for item in tqdm(corpus)]\n",
    "\n",
    "\n",
    "X = vectorizer.fit_transform(corpus)\n"
   ]
  },
  {
   "cell_type": "code",
   "execution_count": null,
   "metadata": {},
   "outputs": [],
   "source": []
  }
 ],
 "metadata": {
  "kernelspec": {
   "display_name": "deep",
   "language": "python",
   "name": "python3"
  },
  "language_info": {
   "codemirror_mode": {
    "name": "ipython",
    "version": 3
   },
   "file_extension": ".py",
   "mimetype": "text/x-python",
   "name": "python",
   "nbconvert_exporter": "python",
   "pygments_lexer": "ipython3",
   "version": "3.12.4"
  }
 },
 "nbformat": 4,
 "nbformat_minor": 2
}
